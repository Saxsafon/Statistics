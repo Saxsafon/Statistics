{
 "cells": [
  {
   "cell_type": "code",
   "execution_count": 27,
   "id": "ec9724ec",
   "metadata": {},
   "outputs": [],
   "source": [
    "from statsmodels.stats.power import TTestIndPower\n",
    "\n",
    "import numpy as np\n",
    "import pandas as pd"
   ]
  },
  {
   "cell_type": "code",
   "execution_count": 3,
   "id": "4bbac1c4",
   "metadata": {},
   "outputs": [
    {
     "data": {
      "text/html": [
       "<style>.container { width:100% !important; }</style>"
      ],
      "text/plain": [
       "<IPython.core.display.HTML object>"
      ]
     },
     "metadata": {},
     "output_type": "display_data"
    }
   ],
   "source": [
    "from IPython.display import display, HTML\n",
    "display(HTML(\"<style>.container { width:100% !important; }</style>\"))"
   ]
  },
  {
   "cell_type": "markdown",
   "id": "2d51c311",
   "metadata": {},
   "source": [
    "# Randomized Controlled Trials (aka. A/B tests)\n",
    "\n",
    "## Ресурсы\n",
    "**Medium:**\n",
    "\n",
    "[Medium: A Practical Guide To A/B Tests in Python](https://towardsdatascience.com/a-practical-guide-to-a-b-tests-in-python-66666f5c3b02)\n",
    "\n",
    "[Medium: Implementing A/B Tests in Python](https://bondicrypto.medium.com/implementing-a-b-tests-in-python-514e9eb5b3a1)\n",
    "\n",
    "**Академия Яндекса:**\n",
    "\n",
    "[Яндекс: Как провести A/B-тестирование: 6 простых шагов](https://academy.yandex.ru/posts/kak-provesti-a-b-testirovanie-6-prostykh-shagov)\n",
    "\n",
    "## Описание ситуации\n",
    "\n",
    "Допустим мы занимаемся разработкой приложения TikTok. Мы разрабатываем новую функцию по фильтрации животных и хотим оценить эффект от ее внедрения. Нас интересуют две основные метрики:\n",
    "\n",
    "1. Как фильтры влияют на активность пользователей (engagement - время проведенное в приложении)?\n",
    "2. Как фильтры влияют на удержание пользователей (retention - количество пользователей, которые возвращаются в наше приложение спустя X временных периодов)?"
   ]
  },
  {
   "cell_type": "markdown",
   "id": "5fe49621",
   "metadata": {},
   "source": [
    "## Подготовка теста"
   ]
  },
  {
   "cell_type": "markdown",
   "id": "0d7064ca",
   "metadata": {},
   "source": [
    "### В чем состоит цель тестирования?\n",
    "\n"
   ]
  },
  {
   "cell_type": "markdown",
   "id": "3bd3addf",
   "metadata": {},
   "source": [
    "### Как измерить результат? \n",
    "Определить набор метрик изменение которых будет отслеживаться в процессе теста."
   ]
  },
  {
   "cell_type": "markdown",
   "id": "9aa60839",
   "metadata": {},
   "source": [
    "### Какой размер выборки будет достаточным для тестирования?\n",
    "Обычная практика завершать тест после получения статистически значимых результатов (небольшое p-value). Однако подобный p-hacking - плохая практика, которая может привести к предвзятым ложно-положительным результатам.\n",
    "\n",
    "Вместо этого, лучше определить минимальный размер выборки используя три параметра:\n",
    "\n",
    "1. **The significance Level - Уровень значимости (α)** - вероятность отвергнуть правдивую нуливую гипотезу.\n",
    "2. **Statistical Power - Статистическая мощность** - вероятность отклонения основной гипотезы в случае, когда конкурирующая гипотеза верна\n",
    "Power = 1 — Type II Error\n",
    "3. **The Minimum Detectable Effect, MDE - Минимально обнаруживаемый эффект** - минимальное различие между двумя группами, измеренное в количестве стандартных отклонений, при котором внесение изменений в продукт будет целесообразно.\n",
    "\n",
    "Зависимоть между изменением этих параметров и размером выборки:\n",
    "\n",
    "Уменьшение уровня значимости → Увеличение выборки\n",
    "Увеличение статистической мощьности → Увеличение выборки\n",
    "Уменьшение MDE → Увеличение выборки\n",
    "\n",
    "\n",
    "Обычно ставится уровень значимости 5% (α=0.05) и стандартное отклонение в 80%. Тогда размер выборки вычисляется по формуле:\n",
    "![plot](data/img/sample_size.png)\n",
    "\n",
    "где\n",
    "\n",
    "σ² - дисперсия выборки\n",
    "\n",
    "𝛿 - разница между двумя группами (в процентах)\n",
    "\n",
    "Чтобы измерить дисперсию выборки, можно провести A/A-тест. Тоесть провести тест, где в обе группы внесено изменение. "
   ]
  },
  {
   "cell_type": "code",
   "execution_count": 6,
   "id": "d68c4ecc",
   "metadata": {},
   "outputs": [
    {
     "name": "stdout",
     "output_type": "stream",
     "text": [
      "Sample Size: 1571.000\n"
     ]
    }
   ],
   "source": [
    "# parameters for power analysis \n",
    "# effect_size has to be positive\n",
    "effect = 0.1\n",
    "alpha = 0.05\n",
    "power = 0.8\n",
    "\n",
    "# perform power analysis \n",
    "analysis = TTestIndPower()\n",
    "result = analysis.solve_power(\n",
    "    effect_size=effect, \n",
    "    power = power,\n",
    "    nobs1= None, \n",
    "    ratio = 1.0, \n",
    "    alpha = alpha)\n",
    "print('Sample Size: %.3f' % round(result))"
   ]
  },
  {
   "cell_type": "markdown",
   "id": "96b8311d",
   "metadata": {},
   "source": [
    "## Генерация данных для теста\n",
    "\n",
    "**Data Generation Process (DGP) - процесс генерации данных** - создание переменных с известным распределением. По ним мы можем отследить влияние, котороу вносит изменение. Сможем оценить эффективность A/B тестов и проверить, в какой степени они приводят к объективным результатам."
   ]
  },
  {
   "cell_type": "markdown",
   "id": "a922461e",
   "metadata": {},
   "source": [
    "### Генерация переменных"
   ]
  },
  {
   "cell_type": "markdown",
   "id": "a1f62db9",
   "metadata": {},
   "source": [
    "#### variable 1: user id"
   ]
  },
  {
   "cell_type": "code",
   "execution_count": 23,
   "id": "a8a229b6",
   "metadata": {},
   "outputs": [],
   "source": [
    "user_id_control = list(range(1,1601)) # 1600 control\n",
    "user_id_treatment = list(range(1601,3350)) # 1749 treated"
   ]
  },
  {
   "cell_type": "markdown",
   "id": "0b4b5137",
   "metadata": {},
   "source": [
    "#### variable 2: version"
   ]
  },
  {
   "cell_type": "code",
   "execution_count": 24,
   "id": "002bab10",
   "metadata": {},
   "outputs": [],
   "source": [
    "control_status = ['control']*1600\n",
    "treatment_status = ['treatment']*1749"
   ]
  },
  {
   "cell_type": "markdown",
   "id": "1b65ba60",
   "metadata": {},
   "source": [
    "#### variable 3: minutes of plays"
   ]
  },
  {
   "cell_type": "code",
   "execution_count": 25,
   "id": "3c8deecf",
   "metadata": {},
   "outputs": [],
   "source": [
    "# for control group\n",
    "np.random.seed(123)\n",
    "\n",
    "μ_1 = 30\n",
    "σ_squared_1 = 10\n",
    "minutes_control = np.random.normal(loc = μ_1, scale = σ_squared_1, size = 1600)\n",
    "\n",
    "# for treatment group, which increases the user engagement by \n",
    "# according to the formula (μ_1 — μ_2)/σ_squared = 0.1, we obtain μ_2 = 31\n",
    "np.random.seed(123)\n",
    "\n",
    "μ_2 = 31\n",
    "σ_squared_2 = 10\n",
    "minutes_treat = np.random.normal(loc = μ_2, scale = σ_squared_2, size = 1749)"
   ]
  },
  {
   "cell_type": "markdown",
   "id": "785ec466",
   "metadata": {},
   "source": [
    "#### variable 4: user engagement after 1 day, metric_1\n",
    "\n",
    "По логике нашей симуляции, контрольная группа (control group) содержит 30% активных (True) и 70% неактивных (False) пользователей после 1 дня. \n",
    "\n",
    "В то время как экспериментальная группа (treatment group) содержит 35% активных и 65% неактивных пользоватлей, соответственно."
   ]
  },
  {
   "cell_type": "code",
   "execution_count": 26,
   "id": "ed8b3e2b",
   "metadata": {},
   "outputs": [],
   "source": [
    "Active_status = [True,False]\n",
    "\n",
    "# control \n",
    "day_1_control = np.random.choice(Active_status, 1600, p=[0.3,0.7])\n",
    "\n",
    "# treatment\n",
    "day_1_treatment = np.random.choice(Active_status, 1749, p=[0.35,0.65])"
   ]
  },
  {
   "cell_type": "markdown",
   "id": "e95e8c22",
   "metadata": {},
   "source": [
    "#### variable 5: user engagement after 7 day metric_1\n",
    "\n",
    "По логике симуляции, спустя 7 дней,\n",
    "\n",
    "Контрольная группа содержит 35% активных пользователей.\n",
    "\n",
    "В то время как экспериментальная группа содержит 25% активных пользователей"
   ]
  },
  {
   "cell_type": "code",
   "execution_count": 21,
   "id": "1551c5d8",
   "metadata": {},
   "outputs": [],
   "source": [
    "# control \n",
    "day_7_control = np.random.choice(Active_status, 1600, p=[0.35,0.65])\n",
    "# treatment\n",
    "day_7_treatment = np.random.choice(Active_status, 1749, p=[0.25,0.75])\n",
    "\n",
    "# По задумке, изменение обеспечивает улучшение по метрике удержания в краткосрочном периоде. Но спустя 1 неделю этот эффект сходит на нет.\n",
    "# И контрольная группа обеспечивает лучшие результаты."
   ]
  },
  {
   "cell_type": "code",
   "execution_count": 34,
   "id": "67bffce6",
   "metadata": {},
   "outputs": [
    {
     "data": {
      "text/html": [
       "<div>\n",
       "<style scoped>\n",
       "    .dataframe tbody tr th:only-of-type {\n",
       "        vertical-align: middle;\n",
       "    }\n",
       "\n",
       "    .dataframe tbody tr th {\n",
       "        vertical-align: top;\n",
       "    }\n",
       "\n",
       "    .dataframe thead th {\n",
       "        text-align: right;\n",
       "    }\n",
       "</style>\n",
       "<table border=\"1\" class=\"dataframe\">\n",
       "  <thead>\n",
       "    <tr style=\"text-align: right;\">\n",
       "      <th></th>\n",
       "      <th>user_id</th>\n",
       "      <th>version</th>\n",
       "      <th>minutes_play</th>\n",
       "      <th>day_1_active</th>\n",
       "      <th>day_7_active</th>\n",
       "    </tr>\n",
       "  </thead>\n",
       "  <tbody>\n",
       "    <tr>\n",
       "      <th>0</th>\n",
       "      <td>1</td>\n",
       "      <td>control</td>\n",
       "      <td>19.143694</td>\n",
       "      <td>False</td>\n",
       "      <td>False</td>\n",
       "    </tr>\n",
       "    <tr>\n",
       "      <th>1</th>\n",
       "      <td>2</td>\n",
       "      <td>control</td>\n",
       "      <td>39.973454</td>\n",
       "      <td>True</td>\n",
       "      <td>True</td>\n",
       "    </tr>\n",
       "    <tr>\n",
       "      <th>2</th>\n",
       "      <td>3</td>\n",
       "      <td>control</td>\n",
       "      <td>32.829785</td>\n",
       "      <td>False</td>\n",
       "      <td>False</td>\n",
       "    </tr>\n",
       "    <tr>\n",
       "      <th>3</th>\n",
       "      <td>4</td>\n",
       "      <td>control</td>\n",
       "      <td>14.937053</td>\n",
       "      <td>False</td>\n",
       "      <td>False</td>\n",
       "    </tr>\n",
       "    <tr>\n",
       "      <th>4</th>\n",
       "      <td>5</td>\n",
       "      <td>control</td>\n",
       "      <td>24.213997</td>\n",
       "      <td>False</td>\n",
       "      <td>False</td>\n",
       "    </tr>\n",
       "  </tbody>\n",
       "</table>\n",
       "</div>"
      ],
      "text/plain": [
       "   user_id  version  minutes_play  day_1_active  day_7_active\n",
       "0        1  control     19.143694         False         False\n",
       "1        2  control     39.973454          True          True\n",
       "2        3  control     32.829785         False         False\n",
       "3        4  control     14.937053         False         False\n",
       "4        5  control     24.213997         False         False"
      ]
     },
     "execution_count": 34,
     "metadata": {},
     "output_type": "execute_result"
    }
   ],
   "source": [
    "# control data\n",
    "\n",
    "raw_control = {'user_id':user_id_control,\n",
    "                 'version':control_status,\n",
    "               'minutes_play':minutes_control,\n",
    "               'day_1_active':day_1_control,\n",
    "               'day_7_active':day_1_control\n",
    "                }\n",
    "\n",
    "control_group = pd.DataFrame(data = raw_control)\n",
    "control_group.head()"
   ]
  },
  {
   "cell_type": "code",
   "execution_count": 33,
   "id": "d5727d3a",
   "metadata": {},
   "outputs": [
    {
     "data": {
      "text/html": [
       "<div>\n",
       "<style scoped>\n",
       "    .dataframe tbody tr th:only-of-type {\n",
       "        vertical-align: middle;\n",
       "    }\n",
       "\n",
       "    .dataframe tbody tr th {\n",
       "        vertical-align: top;\n",
       "    }\n",
       "\n",
       "    .dataframe thead th {\n",
       "        text-align: right;\n",
       "    }\n",
       "</style>\n",
       "<table border=\"1\" class=\"dataframe\">\n",
       "  <thead>\n",
       "    <tr style=\"text-align: right;\">\n",
       "      <th></th>\n",
       "      <th>user_id</th>\n",
       "      <th>version</th>\n",
       "      <th>minutes_play</th>\n",
       "      <th>day_1_active</th>\n",
       "      <th>day_7_active</th>\n",
       "    </tr>\n",
       "  </thead>\n",
       "  <tbody>\n",
       "    <tr>\n",
       "      <th>0</th>\n",
       "      <td>1601</td>\n",
       "      <td>treatment</td>\n",
       "      <td>20.143694</td>\n",
       "      <td>False</td>\n",
       "      <td>True</td>\n",
       "    </tr>\n",
       "    <tr>\n",
       "      <th>1</th>\n",
       "      <td>1602</td>\n",
       "      <td>treatment</td>\n",
       "      <td>40.973454</td>\n",
       "      <td>True</td>\n",
       "      <td>False</td>\n",
       "    </tr>\n",
       "    <tr>\n",
       "      <th>2</th>\n",
       "      <td>1603</td>\n",
       "      <td>treatment</td>\n",
       "      <td>33.829785</td>\n",
       "      <td>True</td>\n",
       "      <td>False</td>\n",
       "    </tr>\n",
       "    <tr>\n",
       "      <th>3</th>\n",
       "      <td>1604</td>\n",
       "      <td>treatment</td>\n",
       "      <td>15.937053</td>\n",
       "      <td>False</td>\n",
       "      <td>False</td>\n",
       "    </tr>\n",
       "    <tr>\n",
       "      <th>4</th>\n",
       "      <td>1605</td>\n",
       "      <td>treatment</td>\n",
       "      <td>25.213997</td>\n",
       "      <td>False</td>\n",
       "      <td>False</td>\n",
       "    </tr>\n",
       "  </tbody>\n",
       "</table>\n",
       "</div>"
      ],
      "text/plain": [
       "   user_id    version  minutes_play  day_1_active  day_7_active\n",
       "0     1601  treatment     20.143694         False          True\n",
       "1     1602  treatment     40.973454          True         False\n",
       "2     1603  treatment     33.829785          True         False\n",
       "3     1604  treatment     15.937053         False         False\n",
       "4     1605  treatment     25.213997         False         False"
      ]
     },
     "execution_count": 33,
     "metadata": {},
     "output_type": "execute_result"
    }
   ],
   "source": [
    "# treatment data \n",
    "raw_treatment = {'user_id':user_id_treatment,\n",
    "                 'version':treatment_status,\n",
    "               'minutes_play':minutes_treat,\n",
    "               'day_1_active':day_1_treatment,\n",
    "               'day_7_active':day_7_treatment\n",
    "                }\n",
    "\n",
    "treatment_group = pd.DataFrame(data = raw_treatment)\n",
    "treatment_group.head()"
   ]
  },
  {
   "cell_type": "code",
   "execution_count": 32,
   "id": "9d13d7b3",
   "metadata": {},
   "outputs": [
    {
     "data": {
      "text/html": [
       "<div>\n",
       "<style scoped>\n",
       "    .dataframe tbody tr th:only-of-type {\n",
       "        vertical-align: middle;\n",
       "    }\n",
       "\n",
       "    .dataframe tbody tr th {\n",
       "        vertical-align: top;\n",
       "    }\n",
       "\n",
       "    .dataframe thead th {\n",
       "        text-align: right;\n",
       "    }\n",
       "</style>\n",
       "<table border=\"1\" class=\"dataframe\">\n",
       "  <thead>\n",
       "    <tr style=\"text-align: right;\">\n",
       "      <th></th>\n",
       "      <th>user_id</th>\n",
       "      <th>version</th>\n",
       "      <th>minutes_play</th>\n",
       "      <th>day_1_active</th>\n",
       "      <th>day_7_active</th>\n",
       "    </tr>\n",
       "  </thead>\n",
       "  <tbody>\n",
       "    <tr>\n",
       "      <th>1164</th>\n",
       "      <td>2765</td>\n",
       "      <td>treatment</td>\n",
       "      <td>20.477210</td>\n",
       "      <td>False</td>\n",
       "      <td>True</td>\n",
       "    </tr>\n",
       "    <tr>\n",
       "      <th>694</th>\n",
       "      <td>695</td>\n",
       "      <td>control</td>\n",
       "      <td>14.694871</td>\n",
       "      <td>True</td>\n",
       "      <td>True</td>\n",
       "    </tr>\n",
       "    <tr>\n",
       "      <th>1497</th>\n",
       "      <td>3098</td>\n",
       "      <td>treatment</td>\n",
       "      <td>30.579927</td>\n",
       "      <td>False</td>\n",
       "      <td>True</td>\n",
       "    </tr>\n",
       "    <tr>\n",
       "      <th>1187</th>\n",
       "      <td>1188</td>\n",
       "      <td>control</td>\n",
       "      <td>23.955633</td>\n",
       "      <td>False</td>\n",
       "      <td>False</td>\n",
       "    </tr>\n",
       "    <tr>\n",
       "      <th>1595</th>\n",
       "      <td>1596</td>\n",
       "      <td>control</td>\n",
       "      <td>27.154466</td>\n",
       "      <td>False</td>\n",
       "      <td>False</td>\n",
       "    </tr>\n",
       "    <tr>\n",
       "      <th>...</th>\n",
       "      <td>...</td>\n",
       "      <td>...</td>\n",
       "      <td>...</td>\n",
       "      <td>...</td>\n",
       "      <td>...</td>\n",
       "    </tr>\n",
       "    <tr>\n",
       "      <th>925</th>\n",
       "      <td>926</td>\n",
       "      <td>control</td>\n",
       "      <td>43.382205</td>\n",
       "      <td>False</td>\n",
       "      <td>False</td>\n",
       "    </tr>\n",
       "    <tr>\n",
       "      <th>1569</th>\n",
       "      <td>1570</td>\n",
       "      <td>control</td>\n",
       "      <td>13.695035</td>\n",
       "      <td>False</td>\n",
       "      <td>False</td>\n",
       "    </tr>\n",
       "    <tr>\n",
       "      <th>1556</th>\n",
       "      <td>1557</td>\n",
       "      <td>control</td>\n",
       "      <td>31.314893</td>\n",
       "      <td>False</td>\n",
       "      <td>False</td>\n",
       "    </tr>\n",
       "    <tr>\n",
       "      <th>1116</th>\n",
       "      <td>2717</td>\n",
       "      <td>treatment</td>\n",
       "      <td>17.775269</td>\n",
       "      <td>True</td>\n",
       "      <td>False</td>\n",
       "    </tr>\n",
       "    <tr>\n",
       "      <th>1321</th>\n",
       "      <td>2922</td>\n",
       "      <td>treatment</td>\n",
       "      <td>42.743782</td>\n",
       "      <td>False</td>\n",
       "      <td>False</td>\n",
       "    </tr>\n",
       "  </tbody>\n",
       "</table>\n",
       "<p>3349 rows × 5 columns</p>\n",
       "</div>"
      ],
      "text/plain": [
       "      user_id    version  minutes_play  day_1_active  day_7_active\n",
       "1164     2765  treatment     20.477210         False          True\n",
       "694       695    control     14.694871          True          True\n",
       "1497     3098  treatment     30.579927         False          True\n",
       "1187     1188    control     23.955633         False         False\n",
       "1595     1596    control     27.154466         False         False\n",
       "...       ...        ...           ...           ...           ...\n",
       "925       926    control     43.382205         False         False\n",
       "1569     1570    control     13.695035         False         False\n",
       "1556     1557    control     31.314893         False         False\n",
       "1116     2717  treatment     17.775269          True         False\n",
       "1321     2922  treatment     42.743782         False         False\n",
       "\n",
       "[3349 rows x 5 columns]"
      ]
     },
     "execution_count": 32,
     "metadata": {},
     "output_type": "execute_result"
    }
   ],
   "source": [
    "# combine these two datasets\n",
    "two_datasets = pd.concat([control_group, treatment_group])\n",
    "\n",
    "# randomize the orders using df.sample(frac=1)\n",
    "# The frac keyword argument: specifies the fraction of rows to return in the random sample\n",
    "# so frac=1 means return all rows (in random order).\n",
    "final_data = two_datasets.sample(frac=1)\n",
    "final_data"
   ]
  },
  {
   "cell_type": "markdown",
   "id": "ae7f1c8a",
   "metadata": {},
   "source": [
    "## Проведение теста"
   ]
  },
  {
   "cell_type": "code",
   "execution_count": 35,
   "id": "e5809fd9",
   "metadata": {},
   "outputs": [
    {
     "data": {
      "text/plain": [
       "version\n",
       "control      1600\n",
       "treatment    1749\n",
       "Name: user_id, dtype: int64"
      ]
     },
     "execution_count": 35,
     "metadata": {},
     "output_type": "execute_result"
    }
   ],
   "source": [
    "# calculate the number of users in each version\n",
    "final_data.groupby('version')['user_id'].count()"
   ]
  },
  {
   "cell_type": "code",
   "execution_count": 46,
   "id": "fe3b89ca",
   "metadata": {},
   "outputs": [
    {
     "data": {
      "text/plain": [
       "3349"
      ]
     },
     "execution_count": 46,
     "metadata": {},
     "output_type": "execute_result"
    }
   ],
   "source": [
    "sum([1600,1749])"
   ]
  },
  {
   "cell_type": "code",
   "execution_count": 47,
   "id": "49c721ea",
   "metadata": {},
   "outputs": [
    {
     "data": {
      "text/plain": [
       "3350"
      ]
     },
     "execution_count": 47,
     "metadata": {},
     "output_type": "execute_result"
    }
   ],
   "source": [
    "sum([1675,1675])"
   ]
  },
  {
   "cell_type": "code",
   "execution_count": 44,
   "id": "d6686680",
   "metadata": {},
   "outputs": [
    {
     "ename": "ValueError",
     "evalue": "For each axis slice, the sum of the observed frequencies must agree with the sum of the expected frequencies to a relative tolerance of 1e-08, but the percent differences are:\n0.00029859659599880563",
     "output_type": "error",
     "traceback": [
      "\u001b[1;31m---------------------------------------------------------------------------\u001b[0m",
      "\u001b[1;31mValueError\u001b[0m                                Traceback (most recent call last)",
      "Input \u001b[1;32mIn [44]\u001b[0m, in \u001b[0;36m<cell line: 3>\u001b[1;34m()\u001b[0m\n\u001b[0;32m      1\u001b[0m \u001b[38;5;28;01mfrom\u001b[39;00m \u001b[38;5;21;01mscipy\u001b[39;00m\u001b[38;5;21;01m.\u001b[39;00m\u001b[38;5;21;01mstats\u001b[39;00m \u001b[38;5;28;01mimport\u001b[39;00m chisquare \n\u001b[1;32m----> 3\u001b[0m \u001b[43mchisquare\u001b[49m\u001b[43m(\u001b[49m\u001b[43m[\u001b[49m\u001b[38;5;241;43m1600\u001b[39;49m\u001b[43m,\u001b[49m\u001b[38;5;241;43m1749\u001b[39;49m\u001b[43m]\u001b[49m\u001b[43m,\u001b[49m\u001b[43mf_exp\u001b[49m\u001b[43m \u001b[49m\u001b[38;5;241;43m=\u001b[39;49m\u001b[43m \u001b[49m\u001b[43m[\u001b[49m\u001b[38;5;241;43m1675\u001b[39;49m\u001b[43m,\u001b[49m\u001b[38;5;241;43m1675\u001b[39;49m\u001b[43m]\u001b[49m\u001b[43m)\u001b[49m\n",
      "File \u001b[1;32mD:\\Projects\\venv\\lib\\site-packages\\scipy\\stats\\_stats_py.py:6911\u001b[0m, in \u001b[0;36mchisquare\u001b[1;34m(f_obs, f_exp, ddof, axis)\u001b[0m\n\u001b[0;32m   6787\u001b[0m \u001b[38;5;28;01mdef\u001b[39;00m \u001b[38;5;21mchisquare\u001b[39m(f_obs, f_exp\u001b[38;5;241m=\u001b[39m\u001b[38;5;28;01mNone\u001b[39;00m, ddof\u001b[38;5;241m=\u001b[39m\u001b[38;5;241m0\u001b[39m, axis\u001b[38;5;241m=\u001b[39m\u001b[38;5;241m0\u001b[39m):\n\u001b[0;32m   6788\u001b[0m     \u001b[38;5;124;03m\"\"\"Calculate a one-way chi-square test.\u001b[39;00m\n\u001b[0;32m   6789\u001b[0m \n\u001b[0;32m   6790\u001b[0m \u001b[38;5;124;03m    The chi-square test tests the null hypothesis that the categorical data\u001b[39;00m\n\u001b[1;32m   (...)\u001b[0m\n\u001b[0;32m   6909\u001b[0m \n\u001b[0;32m   6910\u001b[0m \u001b[38;5;124;03m    \"\"\"\u001b[39;00m\n\u001b[1;32m-> 6911\u001b[0m     \u001b[38;5;28;01mreturn\u001b[39;00m \u001b[43mpower_divergence\u001b[49m\u001b[43m(\u001b[49m\u001b[43mf_obs\u001b[49m\u001b[43m,\u001b[49m\u001b[43m \u001b[49m\u001b[43mf_exp\u001b[49m\u001b[38;5;241;43m=\u001b[39;49m\u001b[43mf_exp\u001b[49m\u001b[43m,\u001b[49m\u001b[43m \u001b[49m\u001b[43mddof\u001b[49m\u001b[38;5;241;43m=\u001b[39;49m\u001b[43mddof\u001b[49m\u001b[43m,\u001b[49m\u001b[43m \u001b[49m\u001b[43maxis\u001b[49m\u001b[38;5;241;43m=\u001b[39;49m\u001b[43maxis\u001b[49m\u001b[43m,\u001b[49m\n\u001b[0;32m   6912\u001b[0m \u001b[43m                            \u001b[49m\u001b[43mlambda_\u001b[49m\u001b[38;5;241;43m=\u001b[39;49m\u001b[38;5;124;43m\"\u001b[39;49m\u001b[38;5;124;43mpearson\u001b[39;49m\u001b[38;5;124;43m\"\u001b[39;49m\u001b[43m)\u001b[49m\n",
      "File \u001b[1;32mD:\\Projects\\venv\\lib\\site-packages\\scipy\\stats\\_stats_py.py:6753\u001b[0m, in \u001b[0;36mpower_divergence\u001b[1;34m(f_obs, f_exp, ddof, axis, lambda_)\u001b[0m\n\u001b[0;32m   6747\u001b[0m     \u001b[38;5;28;01mif\u001b[39;00m diff_gt_tol:\n\u001b[0;32m   6748\u001b[0m         msg \u001b[38;5;241m=\u001b[39m (\u001b[38;5;124mf\u001b[39m\u001b[38;5;124m\"\u001b[39m\u001b[38;5;124mFor each axis slice, the sum of the observed \u001b[39m\u001b[38;5;124m\"\u001b[39m\n\u001b[0;32m   6749\u001b[0m                \u001b[38;5;124mf\u001b[39m\u001b[38;5;124m\"\u001b[39m\u001b[38;5;124mfrequencies must agree with the sum of the \u001b[39m\u001b[38;5;124m\"\u001b[39m\n\u001b[0;32m   6750\u001b[0m                \u001b[38;5;124mf\u001b[39m\u001b[38;5;124m\"\u001b[39m\u001b[38;5;124mexpected frequencies to a relative tolerance \u001b[39m\u001b[38;5;124m\"\u001b[39m\n\u001b[0;32m   6751\u001b[0m                \u001b[38;5;124mf\u001b[39m\u001b[38;5;124m\"\u001b[39m\u001b[38;5;124mof \u001b[39m\u001b[38;5;132;01m{\u001b[39;00mrtol\u001b[38;5;132;01m}\u001b[39;00m\u001b[38;5;124m, but the percent differences are:\u001b[39m\u001b[38;5;130;01m\\n\u001b[39;00m\u001b[38;5;124m\"\u001b[39m\n\u001b[0;32m   6752\u001b[0m                \u001b[38;5;124mf\u001b[39m\u001b[38;5;124m\"\u001b[39m\u001b[38;5;132;01m{\u001b[39;00mrelative_diff\u001b[38;5;132;01m}\u001b[39;00m\u001b[38;5;124m\"\u001b[39m)\n\u001b[1;32m-> 6753\u001b[0m         \u001b[38;5;28;01mraise\u001b[39;00m \u001b[38;5;167;01mValueError\u001b[39;00m(msg)\n\u001b[0;32m   6755\u001b[0m \u001b[38;5;28;01melse\u001b[39;00m:\n\u001b[0;32m   6756\u001b[0m     \u001b[38;5;66;03m# Ignore 'invalid' errors so the edge case of a data set with length 0\u001b[39;00m\n\u001b[0;32m   6757\u001b[0m     \u001b[38;5;66;03m# is handled without spurious warnings.\u001b[39;00m\n\u001b[0;32m   6758\u001b[0m     \u001b[38;5;28;01mwith\u001b[39;00m np\u001b[38;5;241m.\u001b[39merrstate(invalid\u001b[38;5;241m=\u001b[39m\u001b[38;5;124m'\u001b[39m\u001b[38;5;124mignore\u001b[39m\u001b[38;5;124m'\u001b[39m):\n",
      "\u001b[1;31mValueError\u001b[0m: For each axis slice, the sum of the observed frequencies must agree with the sum of the expected frequencies to a relative tolerance of 1e-08, but the percent differences are:\n0.00029859659599880563"
     ]
    }
   ],
   "source": [
    "from scipy.stats import chisquare \n",
    "\n",
    "chisquare([1600,1749],f_exp = [1675,1675])"
   ]
  },
  {
   "cell_type": "code",
   "execution_count": 49,
   "id": "817e753e",
   "metadata": {},
   "outputs": [
    {
     "data": {
      "text/plain": [
       "Text(0, 0.5, 'User Count')"
      ]
     },
     "execution_count": 49,
     "metadata": {},
     "output_type": "execute_result"
    },
    {
     "data": {
      "image/png": "[encoded data removed]",
      "text/plain": [
       "<Figure size 432x288 with 1 Axes>"
      ]
     },
     "metadata": {
      "needs_background": "light"
     },
     "output_type": "display_data"
    }
   ],
   "source": [
    "%matplotlib inline\n",
    "\n",
    "final_data['minutes_play_integers'] = round(final_data['minutes_play'])\n",
    "plot_df = final_data.groupby('minutes_play_integers')['user_id'].count()\n",
    "\n",
    "# Plot the distribution of players that played 0 to 50 minutes\n",
    "ax = plot_df.head(n=50).plot(x=\"minutes_play_integers\", y=\"user_id\", kind=\"hist\")\n",
    "ax.set_xlabel(\"Duration of Video Played in Minutes\")\n",
    "ax.set_ylabel(\"User Count\")"
   ]
  },
  {
   "cell_type": "markdown",
   "id": "0ccb688e",
   "metadata": {},
   "source": [
    "### Metric 1: 1-day retention by AB-Group"
   ]
  },
  {
   "cell_type": "code",
   "execution_count": 50,
   "id": "88f33102",
   "metadata": {},
   "outputs": [
    {
     "data": {
      "text/plain": [
       "0.32218572708271126"
      ]
     },
     "execution_count": 50,
     "metadata": {},
     "output_type": "execute_result"
    }
   ],
   "source": [
    "# 1-day retention\n",
    "final_data['day_1_active'].mean()"
   ]
  },
  {
   "cell_type": "code",
   "execution_count": 51,
   "id": "6f4b0508",
   "metadata": {},
   "outputs": [
    {
     "data": {
      "text/plain": [
       "version\n",
       "control      0.293125\n",
       "treatment    0.348771\n",
       "Name: day_1_active, dtype: float64"
      ]
     },
     "execution_count": 51,
     "metadata": {},
     "output_type": "execute_result"
    }
   ],
   "source": [
    "# 1-day retention by group\n",
    "final_data.groupby('version')['day_1_active'].mean()"
   ]
  },
  {
   "cell_type": "markdown",
   "id": "ab305038",
   "metadata": {},
   "source": [
    "#### Вопросы:\n",
    "1. У измененной группы фиксируется более высокий уровень удержания (0.35) по сравнению с контрольной группой (0.29). Эта разница значима?\n",
    "2. До какой степени мы можем доверять результату?\n",
    "3. What is the variability of the difference?\n",
    "4. Другими словами, как часто мы получаем экстремальные значения? РЕШЕНИЕ: Bootstrap (resampling, replication) and check for the variability"
   ]
  },
  {
   "cell_type": "code",
   "execution_count": 52,
   "id": "a8a9507a",
   "metadata": {},
   "outputs": [
    {
     "data": {
      "text/plain": [
       "<AxesSubplot:ylabel='Density'>"
      ]
     },
     "execution_count": 52,
     "metadata": {},
     "output_type": "execute_result"
    },
    {
     "data": {
      "image/png": "[encoded data removed]",
      "text/plain": [
       "<Figure size 432x288 with 1 Axes>"
      ]
     },
     "metadata": {
      "needs_background": "light"
     },
     "output_type": "display_data"
    }
   ],
   "source": [
    "# solution: bootstrap\n",
    "boot_means = []\n",
    "\n",
    "# run the simulation for 10k times \n",
    "for i in range(10000):\n",
    "    #frac=1 means randomize the order of all rows \n",
    "    boot_sample = final_data.sample(frac=1,replace=True).groupby('version')['day_1_active'].mean()\n",
    "    boot_means.append(boot_sample)\n",
    "\n",
    "# a Pandas DataFrame\n",
    "boot_means = pd.DataFrame(boot_means)\n",
    "\n",
    "# kernel density estimate\n",
    "boot_means.plot(kind = 'kde');"
   ]
  },
  {
   "cell_type": "code",
   "execution_count": 53,
   "id": "915f3b4f",
   "metadata": {},
   "outputs": [
    {
     "data": {
      "text/plain": [
       "day_1_active    26.592389\n",
       "day_1_active    19.140264\n",
       "day_1_active    26.364939\n",
       "day_1_active    25.685590\n",
       "day_1_active    20.500721\n",
       "                  ...    \n",
       "day_1_active    21.139168\n",
       "day_1_active    14.441930\n",
       "day_1_active    22.023041\n",
       "day_1_active    16.706841\n",
       "day_1_active    17.797644\n",
       "Name: diff, Length: 10000, dtype: float64"
      ]
     },
     "execution_count": 53,
     "metadata": {},
     "output_type": "execute_result"
    }
   ],
   "source": [
    "# create a new column, diff, which is the difference between the two variants, scaled by the control group\n",
    "boot_means['diff'] = (boot_means['treatment'] - boot_means['control'])/boot_means['control']*100\n",
    "boot_means['diff']"
   ]
  },
  {
   "cell_type": "code",
   "execution_count": 54,
   "id": "d80c0063",
   "metadata": {},
   "outputs": [
    {
     "data": {
      "image/png": "[encoded data removed]",
      "text/plain": [
       "<Figure size 432x288 with 1 Axes>"
      ]
     },
     "metadata": {
      "needs_background": "light"
     },
     "output_type": "display_data"
    }
   ],
   "source": [
    "# plot the bootstrap sample difference \n",
    "ax = boot_means['diff'].plot(kind = 'kde')\n",
    "ax.set_xlabel(\"% diff in means\");"
   ]
  },
  {
   "cell_type": "code",
   "execution_count": 55,
   "id": "ec20d3f9",
   "metadata": {},
   "outputs": [
    {
     "data": {
      "text/html": [
       "<div>\n",
       "<style scoped>\n",
       "    .dataframe tbody tr th:only-of-type {\n",
       "        vertical-align: middle;\n",
       "    }\n",
       "\n",
       "    .dataframe tbody tr th {\n",
       "        vertical-align: top;\n",
       "    }\n",
       "\n",
       "    .dataframe thead th {\n",
       "        text-align: right;\n",
       "    }\n",
       "</style>\n",
       "<table border=\"1\" class=\"dataframe\">\n",
       "  <thead>\n",
       "    <tr style=\"text-align: right;\">\n",
       "      <th>version</th>\n",
       "      <th>control</th>\n",
       "      <th>treatment</th>\n",
       "      <th>diff</th>\n",
       "    </tr>\n",
       "  </thead>\n",
       "  <tbody>\n",
       "    <tr>\n",
       "      <th>day_1_active</th>\n",
       "      <td>0.288278</td>\n",
       "      <td>0.364937</td>\n",
       "      <td>26.592389</td>\n",
       "    </tr>\n",
       "    <tr>\n",
       "      <th>day_1_active</th>\n",
       "      <td>0.292470</td>\n",
       "      <td>0.348450</td>\n",
       "      <td>19.140264</td>\n",
       "    </tr>\n",
       "    <tr>\n",
       "      <th>day_1_active</th>\n",
       "      <td>0.286718</td>\n",
       "      <td>0.362311</td>\n",
       "      <td>26.364939</td>\n",
       "    </tr>\n",
       "    <tr>\n",
       "      <th>day_1_active</th>\n",
       "      <td>0.286429</td>\n",
       "      <td>0.360000</td>\n",
       "      <td>25.685590</td>\n",
       "    </tr>\n",
       "    <tr>\n",
       "      <th>day_1_active</th>\n",
       "      <td>0.284635</td>\n",
       "      <td>0.342987</td>\n",
       "      <td>20.500721</td>\n",
       "    </tr>\n",
       "    <tr>\n",
       "      <th>...</th>\n",
       "      <td>...</td>\n",
       "      <td>...</td>\n",
       "      <td>...</td>\n",
       "    </tr>\n",
       "    <tr>\n",
       "      <th>day_1_active</th>\n",
       "      <td>0.297331</td>\n",
       "      <td>0.360184</td>\n",
       "      <td>21.139168</td>\n",
       "    </tr>\n",
       "    <tr>\n",
       "      <th>day_1_active</th>\n",
       "      <td>0.291929</td>\n",
       "      <td>0.334090</td>\n",
       "      <td>14.441930</td>\n",
       "    </tr>\n",
       "    <tr>\n",
       "      <th>day_1_active</th>\n",
       "      <td>0.292787</td>\n",
       "      <td>0.357268</td>\n",
       "      <td>22.023041</td>\n",
       "    </tr>\n",
       "    <tr>\n",
       "      <th>day_1_active</th>\n",
       "      <td>0.297264</td>\n",
       "      <td>0.346927</td>\n",
       "      <td>16.706841</td>\n",
       "    </tr>\n",
       "    <tr>\n",
       "      <th>day_1_active</th>\n",
       "      <td>0.286520</td>\n",
       "      <td>0.337514</td>\n",
       "      <td>17.797644</td>\n",
       "    </tr>\n",
       "  </tbody>\n",
       "</table>\n",
       "<p>9999 rows × 3 columns</p>\n",
       "</div>"
      ],
      "text/plain": [
       "version        control  treatment       diff\n",
       "day_1_active  0.288278   0.364937  26.592389\n",
       "day_1_active  0.292470   0.348450  19.140264\n",
       "day_1_active  0.286718   0.362311  26.364939\n",
       "day_1_active  0.286429   0.360000  25.685590\n",
       "day_1_active  0.284635   0.342987  20.500721\n",
       "...                ...        ...        ...\n",
       "day_1_active  0.297331   0.360184  21.139168\n",
       "day_1_active  0.291929   0.334090  14.441930\n",
       "day_1_active  0.292787   0.357268  22.023041\n",
       "day_1_active  0.297264   0.346927  16.706841\n",
       "day_1_active  0.286520   0.337514  17.797644\n",
       "\n",
       "[9999 rows x 3 columns]"
      ]
     },
     "execution_count": 55,
     "metadata": {},
     "output_type": "execute_result"
    }
   ],
   "source": [
    "boot_means[boot_means['diff'] > 0]"
   ]
  },
  {
   "cell_type": "code",
   "execution_count": 56,
   "id": "96072516",
   "metadata": {},
   "outputs": [
    {
     "data": {
      "text/plain": [
       "0.9999"
      ]
     },
     "execution_count": 56,
     "metadata": {},
     "output_type": "execute_result"
    }
   ],
   "source": [
    "# p value \n",
    "p = (boot_means['diff'] >0).sum()/len(boot_means)\n",
    "p"
   ]
  },
  {
   "cell_type": "markdown",
   "id": "7aaf721f",
   "metadata": {},
   "source": [
    "Conclusion 1: treatment has a better performance than the control on 1-day user retention 99.96% of the time.\n",
    "Вывод 1: Изменная группа показывает лучшие результаты, чем контрольная группа по метрике удержания спустя 1 день, в 99.96% случаев."
   ]
  },
  {
   "cell_type": "markdown",
   "id": "ca415485",
   "metadata": {},
   "source": [
    "### Metric 7: 7-day retention by AB-Group"
   ]
  },
  {
   "cell_type": "code",
   "execution_count": 57,
   "id": "ad90168f",
   "metadata": {},
   "outputs": [],
   "source": [
    "boot_7d = []\n",
    "\n",
    "for i in range(10000):\n",
    "    #set frac=1 --> sample all rows\n",
    "    boot_mean = final_data.sample(frac=1,replace=True).groupby('version')['day_7_active'].mean() \n",
    "    boot_7d.append(boot_mean)\n",
    "    \n",
    "boot_7d = pd.DataFrame(boot_7d)\n",
    "\n",
    "boot_7d['diff'] = (boot_7d['treatment'] - boot_7d['control'])/boot_7d['control'] *100"
   ]
  },
  {
   "cell_type": "code",
   "execution_count": 58,
   "id": "8645b71a",
   "metadata": {},
   "outputs": [
    {
     "data": {
      "image/png": "[encoded data removed]",
      "text/plain": [
       "<Figure size 432x288 with 1 Axes>"
      ]
     },
     "metadata": {
      "needs_background": "light"
     },
     "output_type": "display_data"
    }
   ],
   "source": [
    "# Ploting the bootstrap % difference\n",
    "ax = boot_7d['diff'].plot(kind = 'kde')\n",
    "ax.set_xlabel(\"% diff in means\");"
   ]
  },
  {
   "cell_type": "code",
   "execution_count": 59,
   "id": "ef65826e",
   "metadata": {},
   "outputs": [
    {
     "data": {
      "text/plain": [
       "0.991"
      ]
     },
     "execution_count": 59,
     "metadata": {},
     "output_type": "execute_result"
    }
   ],
   "source": [
    "# Calculating the probability that 7-day retention is greater when the gate is at level 30\n",
    "p = (boot_7d['diff']>0).sum()/len(boot_7d)\n",
    "\n",
    "1-p"
   ]
  },
  {
   "cell_type": "markdown",
   "id": "ffe1fabc",
   "metadata": {},
   "source": [
    "Conclusion 2: control has a better performance than the treatment on 7-day user retention 99.89% of the time.\n",
    "Вывод 2: Контрольная группа демонстрирует лучшие результаты чем экспериментальная группа по метрике удержания, спустя неделю, в 99.89% случаев."
   ]
  },
  {
   "cell_type": "markdown",
   "id": "b873aca9",
   "metadata": {},
   "source": [
    "## Бизнес выводы\n",
    "\n",
    "В первое время, после внедрения фильтров клиенты были заинтригованы, и активность повысилась. Однако, этот эффект был временным и не увеличил активность клиентов на постоянной основе. \n",
    "\n",
    "## Лучшие практики\n",
    "\n",
    "SRM is a real concern. We apply a chi-square test to formally test for the SRM. If the p-value is smaller than the threshold (α = 0.001), the randomization process does not work as expected.\n",
    "\n",
    "\n",
    "An SRM introduces selection bias that invalidates any test results.\n",
    "\n",
    "Three fundamental statistical concepts to master: SRM, chi-square test, and bootstrap.\n",
    "Три фундоментальные статистические концепции, которыми нужно овладеть: SRM, Хи-квадрат тест + t-Стьюдента, и bootstrap\n",
    "\n",
    "Compare short-term and long-term metrics to evaluate the novelty effect."
   ]
  }
 ],
 "metadata": {
  "kernelspec": {
   "display_name": "venv",
   "language": "python",
   "name": "venv"
  },
  "language_info": {
   "codemirror_mode": {
    "name": "ipython",
    "version": 3
   },
   "file_extension": ".py",
   "mimetype": "text/x-python",
   "name": "python",
   "nbconvert_exporter": "python",
   "pygments_lexer": "ipython3",
   "version": "3.10.2"
  }
 },
 "nbformat": 4,
 "nbformat_minor": 5
}
