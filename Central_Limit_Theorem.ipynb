{
 "cells": [
  {
   "cell_type": "markdown",
   "id": "cf251be4",
   "metadata": {},
   "source": [
    "# Настройка ноутбука"
   ]
  },
  {
   "cell_type": "code",
   "execution_count": 1,
   "id": "b354021b",
   "metadata": {},
   "outputs": [],
   "source": [
    "import pandas as pd\n",
    "import numpy as np\n",
    "import datetime as dt\n",
    "\n",
    "import seaborn as sns\n",
    "import matplotlib.pyplot as plt\n",
    "%matplotlib inline"
   ]
  },
  {
   "cell_type": "code",
   "execution_count": 2,
   "id": "5343e663",
   "metadata": {},
   "outputs": [],
   "source": [
    "import warnings\n",
    "warnings.filterwarnings('ignore')"
   ]
  },
  {
   "cell_type": "code",
   "execution_count": 3,
   "id": "261e5230",
   "metadata": {},
   "outputs": [
    {
     "data": {
      "text/html": [
       "<style>.container { width:100% !important; }</style>"
      ],
      "text/plain": [
       "<IPython.core.display.HTML object>"
      ]
     },
     "metadata": {},
     "output_type": "display_data"
    }
   ],
   "source": [
    "# Расширить рабочее поле ноутбука на весь экран\n",
    "from IPython.display import display, HTML\n",
    "display(HTML(\"<style>.container { width:100% !important; }</style>\"))"
   ]
  },
  {
   "cell_type": "markdown",
   "id": "199401aa",
   "metadata": {},
   "source": [
    "# Описание"
   ]
  },
  {
   "cell_type": "markdown",
   "id": "3cc30b0c",
   "metadata": {},
   "source": [
    "**Курс:**\n",
    "- [Stepik: Основы статистики - Центральная предельная теорема](https://stepik.org/lesson/8077?unit=1357)\n",
    "\n",
    "\n",
    "**Статьи:**\n",
    "- [MathFandom: Центральная предельная теорема](https://math.fandom.com/ru/wiki/%D0%A6%D0%B5%D0%BD%D1%82%D1%80%D0%B0%D0%BB%D1%8C%D0%BD%D0%B0%D1%8F_%D0%BF%D1%80%D0%B5%D0%B4%D0%B5%D0%BB%D1%8C%D0%BD%D0%B0%D1%8F_%D1%82%D0%B5%D0%BE%D1%80%D0%B5%D0%BC%D0%B0)\n",
    "\n",
    "**Калькуляторы:**\n",
    "- [Cимуляция данных для центральной предельной теоремы](https://gallery.shinyapps.io/CLT_mean/)\n",
    "\n",
    "**Видео:**\n",
    "- [The Central Limit Theorem, Clearly Explained!!!](https://www.youtube.com/watch?v=YAlJCEDH2uY&ab_channel=StatQuestwithJoshStarmer)\n",
    "- [The standard error, Clearly Explained!!!](https://www.youtube.com/watch?v=XNgt7F6FqDU)\n",
    "- [Standard Deviation vs Standard Error, Clearly Explained!!!](https://www.youtube.com/watch?v=A82brFpdr9g)"
   ]
  },
  {
   "cell_type": "markdown",
   "id": "876a65e1",
   "metadata": {},
   "source": [
    "# Теория"
   ]
  },
  {
   "cell_type": "markdown",
   "id": "b66d098d",
   "metadata": {},
   "source": [
    "Вне зависимости от типа распределения, значений среднего и стандартного отклонения, распределение средних, взятых в случайных выборках из Генеральной Совокупности будет распределено нормально.\n",
    "\n",
    "Среднее значение выборки \"стремиться\" к среднему значению генеральной совокупности?"
   ]
  },
  {
   "cell_type": "markdown",
   "id": "3a19ee28",
   "metadata": {},
   "source": [
    "**Стандартная ошибка среднего (Standart Error - SE)** - это среднеквадратическое отклонение распределения выборочных средних.\n",
    "\n",
    "<img src=\"data/img/SE.png\" width=\"400\">"
   ]
  },
  {
   "cell_type": "markdown",
   "id": "439ee458",
   "metadata": {},
   "source": [
    "Чем больше размер выборки, тем больше она \"приближается\" к генеральной совокупности - тем больше она похожа на генеральною совокупность.\n",
    "\n",
    "Исходное распределение может быть не нормальным (пусть, например, пуассоновским), но при этом распределение средних значений выборок будет нормальным.\n",
    "\n",
    "Если наблюдений в выборке будет больше, то все выборочные средние будут ближе к среднему ГС.\n",
    "Если элементов в нашей ГС будет больше, то изменчивость всех выборочных средних будет меньше.\n",
    "Если изменчивость исследуемых признаков ГС будет меньше, то сильные отклонения выборочных средних  от среднего в ГС будут возникать реже.\n",
    "\n",
    "Поэтому,  если число наблюдений будет больше или  если изменчивость исследуемого признака будет меньше, то стандартная ошибка среднего будет меньше\n",
    "\n",
    "\n",
    "Распределение выборочных средних является нормальным, со средним равным среднему значению признака в генеральной совокупности\n",
    "\n",
    "Стандартная ошибка среднего тем меньше, чем больше объем выборки и меньше вариативность исследуемого признака\n",
    "\n",
    "Чем меньше стандартная ошибка среднего, тем реже выборочные средние будут сильно отклоняться от среднего в генеральной совокупности"
   ]
  },
  {
   "cell_type": "markdown",
   "id": "9191818e",
   "metadata": {},
   "source": [
    "Благодаря Центральной предельной теореме мы можем, основываясь только на данных одной выборки, мы можем предположить как бы вели себя выборочные средние множества выборок при многократном повторении исследования. \n",
    "\n",
    "Это открывает нам дорогу к доверительному интервалу."
   ]
  },
  {
   "cell_type": "markdown",
   "id": "e22f2c7d",
   "metadata": {},
   "source": [
    "### Моделирование распределения средних"
   ]
  },
  {
   "cell_type": "code",
   "execution_count": 5,
   "id": "ecbc6b68",
   "metadata": {},
   "outputs": [],
   "source": [
    "mu = 3 # mean value - среднее значение\n",
    "sigma = 2 # standart deviation - стандартное отклонение\n",
    "\n",
    "# Сгенерим нашу генеральную совокупность\n",
    "genpop = pd.Series(np.random.normal(mu, sigma, 1_000_000))"
   ]
  },
  {
   "cell_type": "code",
   "execution_count": 6,
   "id": "7f38c712",
   "metadata": {},
   "outputs": [],
   "source": [
    "n_samples = 300\n",
    "sample_means = pd.Series([genpop.sample(n=300).mean() for sample in range(n_samples)])"
   ]
  },
  {
   "cell_type": "code",
   "execution_count": 8,
   "id": "678ed36b",
   "metadata": {},
   "outputs": [
    {
     "data": {
      "image/png": "[encoded data removed]",
      "text/plain": [
       "<Figure size 432x288 with 1 Axes>"
      ]
     },
     "metadata": {
      "needs_background": "light"
     },
     "output_type": "display_data"
    }
   ],
   "source": [
    "sns.histplot(x=sample_means, color='#85C1E9')\n",
    "plt.axvline(mu, color='#1A5276');"
   ]
  },
  {
   "cell_type": "markdown",
   "id": "54a4bc97",
   "metadata": {},
   "source": [
    "### Эксперимент с костями"
   ]
  },
  {
   "cell_type": "markdown",
   "id": "57c4cbd5",
   "metadata": {},
   "source": [
    "Берём две \"идеальных\" кости, кидаем и в качестве результата эксперимента берём сумму показаний обоих костей. Сумма уже не имеет равновероятного распределения. Она принимает значения от 2 до 12 и при этом количество комбинаций, при которых получается число 7 составляет 6, в то время как способов составить любые другие варианты результата получается меньше. Таким образом выпадение различных испытаний нашего испытания (которые принимают значения от 2 до 12) уже не равновероятно."
   ]
  },
  {
   "cell_type": "code",
   "execution_count": 11,
   "id": "e6292bf4",
   "metadata": {},
   "outputs": [
    {
     "data": {
      "text/html": [
       "<div>\n",
       "<style scoped>\n",
       "    .dataframe tbody tr th:only-of-type {\n",
       "        vertical-align: middle;\n",
       "    }\n",
       "\n",
       "    .dataframe tbody tr th {\n",
       "        vertical-align: top;\n",
       "    }\n",
       "\n",
       "    .dataframe thead th {\n",
       "        text-align: right;\n",
       "    }\n",
       "</style>\n",
       "<table border=\"1\" class=\"dataframe\">\n",
       "  <thead>\n",
       "    <tr style=\"text-align: right;\">\n",
       "      <th></th>\n",
       "      <th>Dice_1</th>\n",
       "      <th>Dice_2</th>\n",
       "      <th>Dice_3</th>\n",
       "      <th>Dice_4</th>\n",
       "      <th>Comb</th>\n",
       "      <th>Sum</th>\n",
       "    </tr>\n",
       "  </thead>\n",
       "  <tbody>\n",
       "    <tr>\n",
       "      <th>0</th>\n",
       "      <td>5</td>\n",
       "      <td>5</td>\n",
       "      <td>4</td>\n",
       "      <td>1</td>\n",
       "      <td>5_5_4_1</td>\n",
       "      <td>15</td>\n",
       "    </tr>\n",
       "    <tr>\n",
       "      <th>1</th>\n",
       "      <td>6</td>\n",
       "      <td>3</td>\n",
       "      <td>3</td>\n",
       "      <td>1</td>\n",
       "      <td>6_3_3_1</td>\n",
       "      <td>13</td>\n",
       "    </tr>\n",
       "    <tr>\n",
       "      <th>2</th>\n",
       "      <td>4</td>\n",
       "      <td>6</td>\n",
       "      <td>3</td>\n",
       "      <td>6</td>\n",
       "      <td>4_6_3_6</td>\n",
       "      <td>19</td>\n",
       "    </tr>\n",
       "    <tr>\n",
       "      <th>3</th>\n",
       "      <td>6</td>\n",
       "      <td>2</td>\n",
       "      <td>1</td>\n",
       "      <td>4</td>\n",
       "      <td>6_2_1_4</td>\n",
       "      <td>13</td>\n",
       "    </tr>\n",
       "    <tr>\n",
       "      <th>4</th>\n",
       "      <td>3</td>\n",
       "      <td>3</td>\n",
       "      <td>1</td>\n",
       "      <td>6</td>\n",
       "      <td>3_3_1_6</td>\n",
       "      <td>13</td>\n",
       "    </tr>\n",
       "  </tbody>\n",
       "</table>\n",
       "</div>"
      ],
      "text/plain": [
       "   Dice_1  Dice_2  Dice_3  Dice_4     Comb  Sum\n",
       "0       5       5       4       1  5_5_4_1   15\n",
       "1       6       3       3       1  6_3_3_1   13\n",
       "2       4       6       3       6  4_6_3_6   19\n",
       "3       6       2       1       4  6_2_1_4   13\n",
       "4       3       3       1       6  3_3_1_6   13"
      ]
     },
     "execution_count": 11,
     "metadata": {},
     "output_type": "execute_result"
    }
   ],
   "source": [
    "d = 1_000_000\n",
    "n_dices = 4\n",
    "results = pd.DataFrame({\n",
    "    f'Dice_{num}': np.random.randint(low=1, high=7, size=(d,)) for num in range(1, n_dices+1)\n",
    "})\n",
    "dice_cols = results.columns\n",
    "\n",
    "\n",
    "results['Comb'] = results[dice_cols].apply(lambda vals: '_'.join(list(map(str, vals))), axis=1)\n",
    "results['Sum'] = results[dice_cols].apply(sum, axis=1)\n",
    "results.head()"
   ]
  },
  {
   "cell_type": "code",
   "execution_count": 14,
   "id": "c96ade44",
   "metadata": {},
   "outputs": [
    {
     "data": {
      "text/plain": [
       "Sum  Comb   \n",
       "4    1_1_1_1    752\n",
       "5    1_1_1_2    812\n",
       "     1_1_2_1    846\n",
       "     1_2_1_1    781\n",
       "     2_1_1_1    728\n",
       "               ... \n",
       "23   5_6_6_6    753\n",
       "     6_5_6_6    723\n",
       "     6_6_5_6    758\n",
       "     6_6_6_5    772\n",
       "24   6_6_6_6    765\n",
       "Name: Count, Length: 1296, dtype: int64"
      ]
     },
     "execution_count": 14,
     "metadata": {},
     "output_type": "execute_result"
    }
   ],
   "source": [
    "results.groupby(['Sum', 'Comb']).apply(lambda gr: gr.shape[0]).rename('Count')"
   ]
  },
  {
   "cell_type": "markdown",
   "id": "7889da5c",
   "metadata": {},
   "source": [
    "\n",
    "\n",
    "Далее, усложняем наш эксперимент, многократно увеличивая число костей. В итоге, с каждым последующим увеличением числа костей мы будем  получать распределение комбинаций получения различных результатов всё более и более близким к нормальному распределению. А поскольку выпадение каждого результата на отдельной кости равновероятно, то при многократном повторении испытания при фиксированном числе костей гистограмма будет отражать частоту появления каждого результата.\n",
    "\n",
    "Именно в этом сила и смысл ЦПТ. Если на результат воздействует множество независимых мелких факторов, то результирующая величина будет иметь распределение близкое к нормальному. В этом её суть, если изложить её простым языком.\n",
    "\n",
    "(Второй её глубинной сутью является то, что при многократном повторении испытаний относительная частота появления случайной величины становится приблизительно равной её вероятности. Но это относится не к обсуждаемой сегодня теме.)\n",
    "\n",
    "Мораль: Способов добиться средних результатов гораздо больше, чем выдающихся или посредственных."
   ]
  },
  {
   "cell_type": "code",
   "execution_count": 11,
   "id": "6c694788",
   "metadata": {},
   "outputs": [
    {
     "data": {
      "text/html": [
       "<div>\n",
       "<style scoped>\n",
       "    .dataframe tbody tr th:only-of-type {\n",
       "        vertical-align: middle;\n",
       "    }\n",
       "\n",
       "    .dataframe tbody tr th {\n",
       "        vertical-align: top;\n",
       "    }\n",
       "\n",
       "    .dataframe thead th {\n",
       "        text-align: right;\n",
       "    }\n",
       "</style>\n",
       "<table border=\"1\" class=\"dataframe\">\n",
       "  <thead>\n",
       "    <tr style=\"text-align: right;\">\n",
       "      <th></th>\n",
       "      <th>Dice_1</th>\n",
       "      <th>Dice_2</th>\n",
       "      <th>Dice_3</th>\n",
       "      <th>Dice_4</th>\n",
       "      <th>Comb</th>\n",
       "      <th>Sum</th>\n",
       "    </tr>\n",
       "  </thead>\n",
       "  <tbody>\n",
       "    <tr>\n",
       "      <th>0</th>\n",
       "      <td>5</td>\n",
       "      <td>5</td>\n",
       "      <td>4</td>\n",
       "      <td>1</td>\n",
       "      <td>5_5_4_1</td>\n",
       "      <td>15</td>\n",
       "    </tr>\n",
       "    <tr>\n",
       "      <th>1</th>\n",
       "      <td>6</td>\n",
       "      <td>3</td>\n",
       "      <td>3</td>\n",
       "      <td>1</td>\n",
       "      <td>6_3_3_1</td>\n",
       "      <td>13</td>\n",
       "    </tr>\n",
       "    <tr>\n",
       "      <th>2</th>\n",
       "      <td>4</td>\n",
       "      <td>6</td>\n",
       "      <td>3</td>\n",
       "      <td>6</td>\n",
       "      <td>4_6_3_6</td>\n",
       "      <td>19</td>\n",
       "    </tr>\n",
       "    <tr>\n",
       "      <th>3</th>\n",
       "      <td>6</td>\n",
       "      <td>2</td>\n",
       "      <td>1</td>\n",
       "      <td>4</td>\n",
       "      <td>6_2_1_4</td>\n",
       "      <td>13</td>\n",
       "    </tr>\n",
       "    <tr>\n",
       "      <th>4</th>\n",
       "      <td>3</td>\n",
       "      <td>3</td>\n",
       "      <td>1</td>\n",
       "      <td>6</td>\n",
       "      <td>3_3_1_6</td>\n",
       "      <td>13</td>\n",
       "    </tr>\n",
       "  </tbody>\n",
       "</table>\n",
       "</div>"
      ],
      "text/plain": [
       "   Dice_1  Dice_2  Dice_3  Dice_4     Comb  Sum\n",
       "0       5       5       4       1  5_5_4_1   15\n",
       "1       6       3       3       1  6_3_3_1   13\n",
       "2       4       6       3       6  4_6_3_6   19\n",
       "3       6       2       1       4  6_2_1_4   13\n",
       "4       3       3       1       6  3_3_1_6   13"
      ]
     },
     "execution_count": 11,
     "metadata": {},
     "output_type": "execute_result"
    }
   ],
   "source": [
    "d = 1_000_000\n",
    "n_dices = 4\n",
    "results = pd.DataFrame({\n",
    "    f'Dice_{num}': np.random.randint(low=1, high=7, size=(d,)) for num in range(1, n_dices+1)\n",
    "})\n",
    "dice_cols = results.columns\n",
    "\n",
    "\n",
    "results['Comb'] = results[dice_cols].apply(lambda vals: '_'.join(list(map(str, vals))), axis=1)\n",
    "results['Sum'] = results[dice_cols].apply(sum, axis=1)\n",
    "results.head()"
   ]
  },
  {
   "cell_type": "code",
   "execution_count": 21,
   "id": "db1e0a69",
   "metadata": {},
   "outputs": [
    {
     "data": {
      "text/plain": [
       "Sum  Comb   \n",
       "4    1_1_1_1    752\n",
       "5    1_1_1_2    812\n",
       "     1_1_2_1    846\n",
       "     1_2_1_1    781\n",
       "     2_1_1_1    728\n",
       "               ... \n",
       "23   5_6_6_6    753\n",
       "     6_5_6_6    723\n",
       "     6_6_5_6    758\n",
       "     6_6_6_5    772\n",
       "24   6_6_6_6    765\n",
       "Name: Count, Length: 1296, dtype: int64"
      ]
     },
     "execution_count": 21,
     "metadata": {},
     "output_type": "execute_result"
    }
   ],
   "source": [
    "dist = results.groupby(['Sum', 'Comb']).apply(lambda gr: gr.shape[0]).rename('Count')\n",
    "dist"
   ]
  },
  {
   "cell_type": "code",
   "execution_count": 37,
   "id": "dfdd54c6",
   "metadata": {},
   "outputs": [
    {
     "data": {
      "text/plain": [
       "1_1_1_1    752\n",
       "1_1_1_2    812\n",
       "1_1_1_3    800\n",
       "1_1_1_4    763\n",
       "1_1_1_5    740\n",
       "          ... \n",
       "6_6_6_2    787\n",
       "6_6_6_3    808\n",
       "6_6_6_4    759\n",
       "6_6_6_5    772\n",
       "6_6_6_6    765\n",
       "Name: Comb, Length: 1296, dtype: int64"
      ]
     },
     "execution_count": 37,
     "metadata": {},
     "output_type": "execute_result"
    }
   ],
   "source": [
    "combs_dist = results.Comb.value_counts().sort_index()\n",
    "combs_dist"
   ]
  },
  {
   "cell_type": "markdown",
   "id": "8b78e299",
   "metadata": {},
   "source": [
    "Результаты подбрасывания кубика имеют равномерное распредление. Если посчитать количество уникальных комбинаций после подбрасывания 4 костей, они также будут распределены равномерно. Однако их суммы будут иметь нормальное распределение. \n",
    "\n",
    "**Почему комбинации равномерно распределенных вечилин имеют равномерное распределение?**\n",
    "\n",
    "**Почему сумма равномерно распределенных величин имеют нормальное распределение?**\n",
    "Сумма получается большим, если его слогаемые большие. Также маленькие суммы состоят из небольших слагаемых. Комбинация равнораспреде\n"
   ]
  }
 ],
 "metadata": {
  "hide_input": false,
  "kernelspec": {
   "display_name": "venv",
   "language": "python",
   "name": "venv"
  },
  "language_info": {
   "codemirror_mode": {
    "name": "ipython",
    "version": 3
   },
   "file_extension": ".py",
   "mimetype": "text/x-python",
   "name": "python",
   "nbconvert_exporter": "python",
   "pygments_lexer": "ipython3",
   "version": "3.10.2"
  },
  "toc": {
   "base_numbering": 1,
   "nav_menu": {},
   "number_sections": true,
   "sideBar": true,
   "skip_h1_title": false,
   "title_cell": "Table of Contents",
   "title_sidebar": "Contents",
   "toc_cell": false,
   "toc_position": {},
   "toc_section_display": true,
   "toc_window_display": false
  }
 },
 "nbformat": 4,
 "nbformat_minor": 5
}
