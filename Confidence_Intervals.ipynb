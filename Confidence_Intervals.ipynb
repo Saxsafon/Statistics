{
 "cells": [
  {
   "cell_type": "code",
   "execution_count": 12,
   "id": "de873afa",
   "metadata": {},
   "outputs": [],
   "source": [
    "import pandas as pd\n",
    "import numpy as np\n",
    "import scipy.stats as st\n",
    "\n",
    "from matplotlib import pyplot as plt"
   ]
  },
  {
   "cell_type": "code",
   "execution_count": 14,
   "id": "dd3ea7f2",
   "metadata": {},
   "outputs": [
    {
     "data": {
      "text/html": [
       "<style>.container { width:100% !important; }</style>"
      ],
      "text/plain": [
       "<IPython.core.display.HTML object>"
      ]
     },
     "metadata": {},
     "output_type": "display_data"
    }
   ],
   "source": [
    "from IPython.display import display, HTML\n",
    "display(HTML(\"<style>.container { width:100% !important; }</style>\"))"
   ]
  },
  {
   "cell_type": "markdown",
   "id": "a408c513",
   "metadata": {},
   "source": [
    "# Ресурсы\n",
    "https://www.geeksforgeeks.org/how-to-calculate-confidence-intervals-in-python/ - GeeksforGeeks examples\n",
    "\n",
    "https://www.geeksforgeeks.org/how-to-plot-a-confidence-interval-in-python/ - GeeksforGeeks visualization"
   ]
  },
  {
   "cell_type": "markdown",
   "id": "cd450a11",
   "metadata": {},
   "source": [
    "# Определение\n",
    "\n",
    "Confidence Interval = x(+/-)t*(s/√n)\n",
    "\n",
    "x: sample mean\n",
    "\n",
    "t: t-value that corresponds to the confidence level\n",
    "\n",
    "s: sample standard deviation\n",
    "\n",
    "n: sample size"
   ]
  },
  {
   "cell_type": "code",
   "execution_count": 13,
   "id": "f159b2dd",
   "metadata": {},
   "outputs": [
    {
     "data": {
      "image/png": "[encoded data removed]",
      "text/plain": [
       "<Figure size 432x288 with 1 Axes>"
      ]
     },
     "metadata": {
      "needs_background": "light"
     },
     "output_type": "display_data"
    }
   ],
   "source": [
    "plt.rcParams[\"figure.figsize\"] = [7.50, 3.50]\n",
    "plt.rcParams[\"figure.autolayout\"] = True\n",
    "\n",
    "x = np.arange(0, 10, 0.05)\n",
    "y = np.sin(x)\n",
    "\n",
    "# Define the confidence interval\n",
    "ci = 0.1 * np.std(y) / np.mean(y)\n",
    "\n",
    "plt.plot(x, y, color='black', lw=7)\n",
    "\n",
    "plt.fill_between(x, (y-ci), (y+ci), color='blue', alpha=0.5)\n",
    "\n",
    "plt.show()"
   ]
  },
  {
   "cell_type": "markdown",
   "id": "5eb746b4",
   "metadata": {},
   "source": [
    "## T"
   ]
  },
  {
   "cell_type": "markdown",
   "id": "8a28f242",
   "metadata": {},
   "source": [
    "### Пример 1"
   ]
  },
  {
   "cell_type": "code",
   "execution_count": 7,
   "id": "85449ab7",
   "metadata": {},
   "outputs": [
    {
     "data": {
      "text/plain": [
       "(2.962098014195961, 4.837901985804038)"
      ]
     },
     "execution_count": 7,
     "metadata": {},
     "output_type": "execute_result"
    }
   ],
   "source": [
    "# define sample data\n",
    "gfg_data = [\n",
    "    1, 1, 1, 2, 2, 2, 3, 3, 3, 3,\n",
    "    3, 4, 4, 5, 5, 5, 6, 7, 8, 10]\n",
    "\n",
    "# create 90% confidence interval\n",
    "st.t.interval(\n",
    "    alpha=0.90, \n",
    "    df=len(gfg_data)-1,\n",
    "    loc=np.mean(gfg_data),\n",
    "    scale=st.sem(gfg_data)\n",
    ")"
   ]
  },
  {
   "cell_type": "markdown",
   "id": "707f0144",
   "metadata": {},
   "source": [
    "### Пример 2"
   ]
  },
  {
   "cell_type": "code",
   "execution_count": 8,
   "id": "47482578",
   "metadata": {},
   "outputs": [
    {
     "data": {
      "text/plain": [
       "(2.3481954013214263, 5.4518045986785735)"
      ]
     },
     "execution_count": 8,
     "metadata": {},
     "output_type": "execute_result"
    }
   ],
   "source": [
    "import numpy as np\n",
    "import scipy.stats as st\n",
    "  \n",
    "# define sample data\n",
    "gfg_data = [\n",
    "    1, 1, 1, 2, 2, 2, 3, 3, 3,\n",
    "    3, 3, 4, 4, 5, 5, 5, 6,\n",
    "    7, 8, 10]\n",
    "  \n",
    "# create 99% confidence interval\n",
    "st.t.interval(\n",
    "    alpha=0.99,\n",
    "    df=len(gfg_data)-1,\n",
    "    loc=np.mean(gfg_data), \n",
    "    scale=st.sem(gfg_data)\n",
    ")"
   ]
  },
  {
   "cell_type": "markdown",
   "id": "efa8be47",
   "metadata": {},
   "source": [
    "## Norm"
   ]
  },
  {
   "cell_type": "code",
   "execution_count": 9,
   "id": "0d2628fe",
   "metadata": {},
   "outputs": [
    {
     "data": {
      "text/plain": [
       "(6.650557051936708, 7.129442948063291)"
      ]
     },
     "execution_count": 9,
     "metadata": {},
     "output_type": "execute_result"
    }
   ],
   "source": [
    "# define sample data\n",
    "gfg_data = np.random.randint(5, 10, 100)\n",
    "  \n",
    "# create 90% confidence interval\n",
    "# for population mean weight\n",
    "st.norm.interval(\n",
    "    alpha=0.90,\n",
    "    loc=np.mean(gfg_data),\n",
    "    scale=st.sem(gfg_data)\n",
    ")"
   ]
  },
  {
   "cell_type": "code",
   "execution_count": 10,
   "id": "9d4b627f",
   "metadata": {},
   "outputs": [
    {
     "data": {
      "text/plain": [
       "(6.577907690622409, 7.342092309377591)"
      ]
     },
     "execution_count": 10,
     "metadata": {},
     "output_type": "execute_result"
    }
   ],
   "source": [
    "# define sample data\n",
    "gfg_data = np.random.randint(5, 10, 100)\n",
    "  \n",
    "# create 99% confidence interval\n",
    "# for population mean weight\n",
    "st.norm.interval(\n",
    "    alpha=0.99, \n",
    "    loc=np.mean(gfg_data),\n",
    "    scale=st.sem(gfg_data)\n",
    ")"
   ]
  },
  {
   "cell_type": "code",
   "execution_count": null,
   "id": "f929d0e9",
   "metadata": {},
   "outputs": [],
   "source": []
  }
 ],
 "metadata": {
  "kernelspec": {
   "display_name": "venv",
   "language": "python",
   "name": "venv"
  },
  "language_info": {
   "codemirror_mode": {
    "name": "ipython",
    "version": 3
   },
   "file_extension": ".py",
   "mimetype": "text/x-python",
   "name": "python",
   "nbconvert_exporter": "python",
   "pygments_lexer": "ipython3",
   "version": "3.10.2"
  }
 },
 "nbformat": 4,
 "nbformat_minor": 5
}
