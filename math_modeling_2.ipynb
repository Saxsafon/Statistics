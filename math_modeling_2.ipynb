{
 "cells": [
  {
   "cell_type": "code",
   "execution_count": null,
   "id": "ea507761",
   "metadata": {},
   "outputs": [],
   "source": [
    "import pandas as pd\n",
    "import numpy as np\n",
    "from scipy import optimize\n",
    "\n",
    "import plotly.express as px\n",
    "from plotly.subplots import make_subplots\n",
    "import plotly.graph_objects as go"
   ]
  },
  {
   "cell_type": "code",
   "execution_count": null,
   "id": "a3523174",
   "metadata": {},
   "outputs": [],
   "source": [
    "t = [1,2,3,4,5,6,7,8,9,10,11,12,13,14,15,16,17,18,19,20]\n",
    "x = [35.83488772,34.31569308,34.73612749,34.98917113,32.16698793,32.76083066,31.86093498,31.85640117,28.23506211,27.0833359,26.48606139,23.62631449,23.88520323,21.34163892,20.57208069,15.25025042,14.5468144,12.52902806,8.860339343,4.799946002]"
   ]
  },
  {
   "cell_type": "markdown",
   "id": "03beea64",
   "metadata": {},
   "source": [
    "$ y=C1*exp(C2*x)+C3 $"
   ]
  },
  {
   "cell_type": "code",
   "execution_count": null,
   "id": "85d3cd2e",
   "metadata": {},
   "outputs": [],
   "source": [
    "def exp_model(x, C1, C2, C3):\n",
    "    return C1*np.exp(C2*x) + C3\n",
    "\n",
    "parameters, covariance = optimize.curve_fit(exp_model, t, x)"
   ]
  },
  {
   "cell_type": "code",
   "execution_count": null,
   "id": "ebb16331",
   "metadata": {},
   "outputs": [],
   "source": [
    "C1 = np.array([parameters[0]]*len(t))\n",
    "C2 = np.array([parameters[1]]*len(t))\n",
    "C3 = np.array([parameters[2]]*len(t))\n",
    "\n",
    "predicted_x = exp_model(t, C1, C2, C3)"
   ]
  },
  {
   "cell_type": "markdown",
   "id": "c13119ca",
   "metadata": {},
   "source": [
    "$ dx/dt = K1*x – K2 $"
   ]
  },
  {
   "cell_type": "code",
   "execution_count": null,
   "id": "5b3a6f13",
   "metadata": {},
   "outputs": [],
   "source": [
    "def differential_model():\n",
    "    return "
   ]
  },
  {
   "cell_type": "markdown",
   "id": "66835d19",
   "metadata": {},
   "source": [
    "$ x(t+1) = L1*x(t)-L2 $\n",
    "\n",
    "$ x(t) = L1*x(t-1)-L2 $"
   ]
  },
  {
   "cell_type": "code",
   "execution_count": null,
   "id": "90320ef6",
   "metadata": {},
   "outputs": [],
   "source": [
    "def difference_model(prev_func, t, L1, L2):\n",
    "    if t == 0:\n",
    "        return t\n",
    "    return L1*prev_func(t-1, L1, L2) - L2\n",
    "\n",
    "difference_model"
   ]
  },
  {
   "cell_type": "code",
   "execution_count": null,
   "id": "4ba127ba",
   "metadata": {},
   "outputs": [],
   "source": []
  }
 ],
 "metadata": {
  "kernelspec": {
   "display_name": "venv",
   "language": "python",
   "name": "venv"
  },
  "language_info": {
   "codemirror_mode": {
    "name": "ipython",
    "version": 3
   },
   "file_extension": ".py",
   "mimetype": "text/x-python",
   "name": "python",
   "nbconvert_exporter": "python",
   "pygments_lexer": "ipython3",
   "version": "3.9.7"
  }
 },
 "nbformat": 4,
 "nbformat_minor": 5
}
