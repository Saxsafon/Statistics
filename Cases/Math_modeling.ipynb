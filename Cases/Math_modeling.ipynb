{
 "cells": [
  {
   "cell_type": "code",
   "execution_count": null,
   "id": "6573a454",
   "metadata": {},
   "outputs": [],
   "source": [
    "import pandas as pd\n",
    "import numpy as np\n",
    "\n",
    "import plotly.express as px\n",
    "from plotly.subplots import make_subplots\n",
    "import plotly.graph_objects as go"
   ]
  },
  {
   "cell_type": "markdown",
   "id": "889e393e",
   "metadata": {},
   "source": [
    "## Задача 1. \n",
    "\n",
    "Колония простейших растёт с постоянной удельной интенсивностью роста 0,7 на одну особь в день. Изначально колония состоит из двух особей. Найти размер колонии через шесть дней."
   ]
  },
  {
   "cell_type": "markdown",
   "id": "bda788b4",
   "metadata": {},
   "source": [
    "$ indnum_{n} = indnum_{-1} + (indnum_{-1} * gi) $"
   ]
  },
  {
   "cell_type": "code",
   "execution_count": null,
   "id": "1855394a",
   "metadata": {},
   "outputs": [],
   "source": [
    "def process(ind_number_begin, periods_left, period_count=1):\n",
    "    \n",
    "    periods_left -= 1\n",
    "    \n",
    "    increment = ind_number_begin*process.gi\n",
    "    ind_number_end = ind_number_begin + increment\n",
    "    \n",
    "    \n",
    "    \n",
    "    process.record = process.record.append({\n",
    "        'День': period_count,\n",
    "        'Количество особей на начало дня': ind_number_begin,\n",
    "        'Прирост': increment,\n",
    "        'Количество особей на конец дня': ind_number_end\n",
    "    }, ignore_index=True)\n",
    "    \n",
    "    if periods_left == 0:\n",
    "        return  process.record\n",
    "    else:\n",
    "        return process(ind_number_end, periods_left, period_count+1)"
   ]
  },
  {
   "cell_type": "code",
   "execution_count": null,
   "id": "d6a618f8",
   "metadata": {},
   "outputs": [],
   "source": [
    "# Количество дней\n",
    "days_number = 6\n",
    "gi = 0.7\n",
    "ind_number = 2"
   ]
  },
  {
   "cell_type": "code",
   "execution_count": null,
   "id": "1bebadfc",
   "metadata": {},
   "outputs": [],
   "source": [
    "process.record = pd.DataFrame(columns=[\"День\", \"Количество особей на начало дня\",\n",
    "                                       \"Прирост\", \"Количество особей на конец дня\"])\n",
    "process.gi = gi"
   ]
  },
  {
   "cell_type": "code",
   "execution_count": null,
   "id": "44a4d233",
   "metadata": {},
   "outputs": [],
   "source": [
    "record = process(ind_number, days_number+1)\n",
    "record"
   ]
  },
  {
   "cell_type": "code",
   "execution_count": null,
   "id": "9f56721f",
   "metadata": {},
   "outputs": [],
   "source": [
    "fig = go.Figure(data=[\n",
    "    go.Bar(name='Популяция', x=record['День'], y=record['Количество особей на начало дня'], marker_color='#5DADE2'),\n",
    "    go.Bar(name='Прирост', x=record['День'], y=record['Прирост'], marker_color='#1ABC9C')\n",
    "])\n",
    "\n",
    "fig.update_layout(barmode='stack')\n",
    "fig.show()"
   ]
  },
  {
   "cell_type": "markdown",
   "id": "d17b9bb0",
   "metadata": {},
   "source": [
    "## Задача 2. \n",
    "Рассматривается популяция насекомых, биомасса которой измеряется в килограммах. Естественный прирост биомассы составляет 30% в год. Популяция также контролируется популяцией хищников, которая уничтожает 6 кг насекомых в год. \n",
    "\n",
    "Найти модель, описывающую размер популяции P в любой момент времени t; \n",
    "\n",
    "Определить численность популяции через 4 года, если начальная биомасса составляет 15 кг."
   ]
  },
  {
   "cell_type": "code",
   "execution_count": null,
   "id": "d226cf8b",
   "metadata": {},
   "outputs": [],
   "source": [
    "gi = 0.3 # groth_intensity\n",
    "\n",
    "inm = 15 # init mass\n",
    "pc = 6 # predator consumption"
   ]
  },
  {
   "cell_type": "markdown",
   "id": "98361575",
   "metadata": {},
   "source": [
    "### Построить математические модели для решения задачи в виде:"
   ]
  },
  {
   "cell_type": "markdown",
   "id": "667b619b",
   "metadata": {},
   "source": [
    "###### (a) Обыкновенное дифференциальное уравнение"
   ]
  },
  {
   "cell_type": "code",
   "execution_count": null,
   "id": "8379c407",
   "metadata": {},
   "outputs": [],
   "source": []
  },
  {
   "cell_type": "markdown",
   "id": "1ac0f55b",
   "metadata": {},
   "source": [
    "###### (б) Разностное уравнение"
   ]
  },
  {
   "cell_type": "code",
   "execution_count": null,
   "id": "f6f62cfc",
   "metadata": {},
   "outputs": [],
   "source": [
    "periods = 4"
   ]
  },
  {
   "cell_type": "code",
   "execution_count": null,
   "id": "57d0186d",
   "metadata": {},
   "outputs": [],
   "source": [
    "def process(ind_number_begin, periods_left, period_count=1):\n",
    "    periods_left -= 1\n",
    "    \n",
    "    increment = ind_number_begin*process.gi if ind_number_begin > 0 else 0\n",
    "    loss = - process.pc if ind_number_begin > 0 else 0\n",
    "    ind_number_end = ind_number_begin + increment + loss\n",
    "    \n",
    "    process.record = process.record.append({\n",
    "        'День': period_count,\n",
    "        'Количество биомассы на начало года (кг)': ind_number_begin,\n",
    "        'Прирост': increment,\n",
    "        'Убыток': loss,\n",
    "        'Количество биомассы на конец года (кг)': ind_number_end\n",
    "    }, ignore_index=True)\n",
    "    \n",
    "    \n",
    "    if periods_left == 0:\n",
    "        return  process.record\n",
    "    else:\n",
    "        return process(ind_number_end, periods_left, period_count+1)\n",
    "    \n",
    "process.gi = gi\n",
    "process.pc = pc\n",
    "process.record = pd.DataFrame(columns = ['День', \n",
    "                                         'Количество биомассы на начало года (кг)', \n",
    "                                         'Прирост',\n",
    "                                         'Убыток',\n",
    "                                         'Количество биомассы на конец года (кг)'])"
   ]
  },
  {
   "cell_type": "code",
   "execution_count": null,
   "id": "48abc5a2",
   "metadata": {},
   "outputs": [],
   "source": [
    "record = process(inm, periods)\n",
    "record"
   ]
  },
  {
   "cell_type": "code",
   "execution_count": null,
   "id": "fd23fb91",
   "metadata": {},
   "outputs": [],
   "source": [
    "fig = go.Figure(data=[\n",
    "    go.Bar(name='Популяция', x=record['День'], y=record['Количество биомассы на начало года (кг)'], marker_color='#5DADE2'),\n",
    "    go.Bar(name='Прирост', x=record['День'], y=record['Прирост'], marker_color='#1ABC9C'),\n",
    "    go.Bar(name='Убыток', x=record['День'], y=record['Убыток'], marker_color='#E74C3C')\n",
    "])\n",
    "\n",
    "fig.update_layout(barmode='relative')\n",
    "fig.show()"
   ]
  },
  {
   "cell_type": "markdown",
   "id": "0278cfe5",
   "metadata": {},
   "source": [
    "###### (в) Разностное уравнение с половинным шагом"
   ]
  },
  {
   "cell_type": "code",
   "execution_count": null,
   "id": "1a2537ea",
   "metadata": {},
   "outputs": [],
   "source": [
    "m = 2\n",
    "periods = 4"
   ]
  },
  {
   "cell_type": "code",
   "execution_count": null,
   "id": "97f5408f",
   "metadata": {},
   "outputs": [],
   "source": [
    "def process(ind_number_begin, periods_left, period_count=1):\n",
    "    periods_left -= 1\n",
    "    \n",
    "    increment = ind_number_begin*process.gi if ind_number_begin > 0 else 0\n",
    "    loss = - process.pc \n",
    "    ind_number_end = ind_number_begin + increment + loss\n",
    "    \n",
    "    process.record = process.record.append({\n",
    "        'День': period_count,\n",
    "        'Количество биомассы на начало года (кг)': ind_number_begin,\n",
    "        'Прирост': increment,\n",
    "        'Убыток': loss,\n",
    "        'Количество биомассы на конец года (кг)': ind_number_end\n",
    "    }, ignore_index=True)\n",
    "    \n",
    "    \n",
    "    if periods_left == 0:\n",
    "        return  process.record\n",
    "    else:\n",
    "        return process(ind_number_end, periods_left, period_count+1)\n",
    "    \n",
    "process.gi = gi/m\n",
    "process.pc = pc\n",
    "process.record = pd.DataFrame(columns = ['День', \n",
    "                                         'Количество биомассы на начало года (кг)', \n",
    "                                         'Прирост',\n",
    "                                         'Убыток',\n",
    "                                         'Количество биомассы на конец года (кг)'])"
   ]
  },
  {
   "cell_type": "code",
   "execution_count": null,
   "id": "111f3ea2",
   "metadata": {},
   "outputs": [],
   "source": [
    "record = process(inm, periods*m)\n",
    "record"
   ]
  },
  {
   "cell_type": "code",
   "execution_count": null,
   "id": "bca40c04",
   "metadata": {},
   "outputs": [],
   "source": [
    "fig = go.Figure(data=[\n",
    "    go.Bar(name='Популяция', x=record['День'], y=record['Количество биомассы на начало года (кг)'], marker_color='#5DADE2'),\n",
    "    go.Bar(name='Прирост', x=record['День'], y=record['Прирост'], marker_color='#1ABC9C'),\n",
    "    go.Bar(name='Убыток', x=record['День'], y=record['Убыток'], marker_color='#E74C3C')\n",
    "])\n",
    "\n",
    "fig.update_layout(barmode='relative')\n",
    "fig.show()"
   ]
  },
  {
   "cell_type": "markdown",
   "id": "16981c52",
   "metadata": {},
   "source": [
    "## Пример"
   ]
  },
  {
   "cell_type": "code",
   "execution_count": null,
   "id": "4a52b885",
   "metadata": {},
   "outputs": [],
   "source": [
    "t = [1,2,3,4,5,6,7,8,9,10,11,12,13,14,15,16,17,18,19,20]\n",
    "x = [35.83488772,34.31569308,34.73612749,34.98917113,32.16698793,32.76083066,31.86093498,31.85640117,28.23506211,27.0833359,26.48606139,23.62631449,23.88520323,21.34163892,20.57208069,15.25025042,14.5468144,12.52902806,8.860339343,4.799946002]"
   ]
  },
  {
   "cell_type": "markdown",
   "id": "856295e3",
   "metadata": {},
   "source": [
    "### Экспоненциальная модель"
   ]
  },
  {
   "cell_type": "markdown",
   "id": "65e34f8a",
   "metadata": {},
   "source": [
    "$ y=C1*exp(C2*x)+C3 $"
   ]
  },
  {
   "cell_type": "code",
   "execution_count": null,
   "id": "b22bae34",
   "metadata": {},
   "outputs": [],
   "source": [
    "def exp_model(x, C1, C2, C3):\n",
    "    return C1*np.exp(C2*x) + C3\n",
    "\n",
    "parameters, covariance = optimize.curve_fit(exp_model, t, x)"
   ]
  },
  {
   "cell_type": "code",
   "execution_count": null,
   "id": "8d693c85",
   "metadata": {},
   "outputs": [],
   "source": [
    "C1 = np.array([parameters[0]]*len(t))\n",
    "C2 = np.array([parameters[1]]*len(t))\n",
    "C3 = np.array([parameters[2]]*len(t))\n",
    "\n",
    "predicted_x = exp_model(t, C1, C2, C3)"
   ]
  },
  {
   "cell_type": "markdown",
   "id": "a5a64663",
   "metadata": {},
   "source": [
    "### Диференциальная модель"
   ]
  },
  {
   "cell_type": "markdown",
   "id": "d997962c",
   "metadata": {},
   "source": [
    "$ dx/dt = K1*x – K2 $"
   ]
  },
  {
   "cell_type": "code",
   "execution_count": null,
   "id": "fc2dd43f",
   "metadata": {},
   "outputs": [],
   "source": [
    "def differential_model():\n",
    "    return "
   ]
  },
  {
   "cell_type": "markdown",
   "id": "4c003fcd",
   "metadata": {},
   "source": [
    "$ x(t+1) = L1*x(t)-L2 $\n",
    "\n",
    "$ x(t) = L1*x(t-1)-L2 $"
   ]
  },
  {
   "cell_type": "code",
   "execution_count": null,
   "id": "0da19b7d",
   "metadata": {},
   "outputs": [],
   "source": [
    "def difference_model(prev_func, t, L1, L2):\n",
    "    if t == 0:\n",
    "        return t\n",
    "    return L1*prev_func(t-1, L1, L2) - L2\n",
    "\n",
    "difference_model"
   ]
  }
 ],
 "metadata": {
  "hide_input": false,
  "kernelspec": {
   "display_name": "venv",
   "language": "python",
   "name": "venv"
  },
  "language_info": {
   "codemirror_mode": {
    "name": "ipython",
    "version": 3
   },
   "file_extension": ".py",
   "mimetype": "text/x-python",
   "name": "python",
   "nbconvert_exporter": "python",
   "pygments_lexer": "ipython3",
   "version": "3.10.2"
  },
  "toc": {
   "base_numbering": 1,
   "nav_menu": {},
   "number_sections": true,
   "sideBar": true,
   "skip_h1_title": false,
   "title_cell": "Table of Contents",
   "title_sidebar": "Contents",
   "toc_cell": false,
   "toc_position": {},
   "toc_section_display": true,
   "toc_window_display": false
  }
 },
 "nbformat": 4,
 "nbformat_minor": 5
}
