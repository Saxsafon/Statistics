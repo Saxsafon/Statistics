{
 "cells": [
  {
   "cell_type": "markdown",
   "id": "cf251be4",
   "metadata": {},
   "source": [
    "# Настройка ноутбука"
   ]
  },
  {
   "cell_type": "code",
   "execution_count": 1,
   "id": "b354021b",
   "metadata": {},
   "outputs": [],
   "source": [
    "import pandas as pd\n",
    "import numpy as np\n",
    "import datetime as dt\n",
    "\n",
    "import scipy.stats as st\n",
    "\n",
    "import seaborn as sns\n",
    "import matplotlib.pyplot as plt\n",
    "%matplotlib inline"
   ]
  },
  {
   "cell_type": "code",
   "execution_count": 3,
   "id": "261e5230",
   "metadata": {},
   "outputs": [
    {
     "data": {
      "text/html": [
       "<style>.container { width:100% !important; }</style>"
      ],
      "text/plain": [
       "<IPython.core.display.HTML object>"
      ]
     },
     "metadata": {},
     "output_type": "display_data"
    }
   ],
   "source": [
    "# Расширить рабочее поле ноутбука на весь экран\n",
    "from IPython.display import display, HTML\n",
    "display(HTML(\"<style>.container { width:100% !important; }</style>\"))"
   ]
  },
  {
   "cell_type": "markdown",
   "id": "a408c513",
   "metadata": {},
   "source": [
    "# Описание"
   ]
  },
  {
   "cell_type": "markdown",
   "id": "66a18568",
   "metadata": {},
   "source": [
    "**Курс:**\n",
    "- [Stepik: Основы статистики - Доверительные интервалы](https://stepik.org/lesson/8079?unit=1359)\n",
    "\n",
    "\n",
    "**Видео:**\n",
    "- [Доверительный интервал за 15 мин. Биостатистика](https://youtu.be/MstzroncW28)\n",
    "- [Confidence Intervals, Clearly Explained!!!](https://www.youtube.com/watch?v=TqOeMYtOc1w&ab_channel=StatQuestwithJoshStarmer)\n",
    "- [Bootstrapping Main Ideas!!!](https://www.youtube.com/watch?v=Xz0x-8-cgaQ&ab_channel=StatQuestwithJoshStarmer)\n",
    "\n",
    "**Статьи:**\n",
    "- [GeeksforGeeks: examples](https://www.geeksforgeeks.org/how-to-calculate-confidence-intervals-in-python/) \n",
    "- [GeeksforGeeks: visualization](https://www.geeksforgeeks.org/how-to-plot-a-confidence-interval-in-python)"
   ]
  },
  {
   "cell_type": "markdown",
   "id": "cd450a11",
   "metadata": {},
   "source": [
    "# Теория"
   ]
  },
  {
   "cell_type": "markdown",
   "id": "23aefd47",
   "metadata": {},
   "source": [
    "Представим, что из генеральной совокупности нам дали выборку из 100 элементов. Всего одну выборку. И мы хотим оценить среднее генеральной совокупности. Но как это сделать, если у нас всего одна выборка? Если бы у нас было много выборок, то с помощью центральной предельной теоремы мы могли бы построить распределение средних значений таких выборок и найти среднее значение такого распределение, которое и являлось бы средним значением генеральной совокупности. \n",
    "\n",
    "Но у нас, всего одна выборка из 100 элементов. Поэтому, как бы мы ни старались, у нас слишком мало информации, чтобы дать точный ответ - чему равно среднее генеральной совокупности. Зато мы можем примерно оценить, в каком интервале относительно среднего выборки лежит среднее генеральной совокупности. \n",
    "\n",
    "Для этого и служат доверительные интервалы. Как же повезло, что средние значения воборок распределени номрально, согласно ЦПТ, так как это позволяет нам оперировать правилами сигм. Расчитав стандартное отклонение для выборочного среднего, согласно ЦПТ, мы можем воспользоваться правилом 2х сигм и утвержать что в этом пределе находится среднее генеральной совокупности с вероятностью 95%."
   ]
  },
  {
   "cell_type": "markdown",
   "id": "dcbfe70a",
   "metadata": {},
   "source": [
    "<img src=\"data/img/Confidence_interval_1.png\" width=\"380\">"
   ]
  },
  {
   "cell_type": "markdown",
   "id": "fdde80f8",
   "metadata": {},
   "source": [
    "## Формула доверительного интервала"
   ]
  },
  {
   "cell_type": "markdown",
   "id": "369673e4",
   "metadata": {},
   "source": [
    "<img src=\"data/img/Confidence_interval_formula.png\" width=\"150\">\n",
    "\n",
    "```text\n",
    "x - среднее значение выборки (sample mean)\n",
    "n - размер выборки (sample size)\n",
    "s - стандартное отклонение выборки (sample standart deviation)\n",
    "\n",
    "z - уровень доверительного интервала\n",
    "```\n",
    "\n"
   ]
  },
  {
   "cell_type": "markdown",
   "id": "bdd3ab6d",
   "metadata": {},
   "source": [
    "<img src=\"data/img/z-scores.png\" width=\"500\">"
   ]
  },
  {
   "cell_type": "markdown",
   "id": "39e345a1",
   "metadata": {},
   "source": [
    "<img src=\"data/img/Confidence_interval_2.png\" width=\"380\">"
   ]
  },
  {
   "cell_type": "markdown",
   "id": "e136cbdd",
   "metadata": {},
   "source": [
    "**Бутстрэп (Bootstrap)** — практический компьютерный метод исследования распределения статистик вероятностных распределений, основанный на многократной генерации выборок методом Монте-Карло на базе имеющейся выборки. Позволяет просто и быстро оценивать самые разные статистики для сложных моделей."
   ]
  },
  {
   "cell_type": "markdown",
   "id": "1d37e584",
   "metadata": {},
   "source": [
    "### Вопросы"
   ]
  },
  {
   "cell_type": "markdown",
   "id": "a3a37baa",
   "metadata": {},
   "source": [
    "**Почему мы берем 1,96 se, а не 2se, например?**\n",
    "По определению нормального распределения, 95% всех наблюдений лежат приблизительно в диапазоне +/- 2 sd от среднего. Так вот 1,96 - это более точная оценка."
   ]
  },
  {
   "cell_type": "markdown",
   "id": "0d794afa",
   "metadata": {},
   "source": [
    "### Тестовые вопросы:"
   ]
  },
  {
   "cell_type": "markdown",
   "id": "0a187947",
   "metadata": {},
   "source": [
    "**Если мы рассчитали 95% доверительный интервал для среднего значения, то какие из следующих утверждений являются верными?**\n",
    "\n",
    "- [X] Мы можем быть на 95% уверены, что среднее значение в генеральной совокупности принадлежит рассчитанному доверительному интервалу.\n",
    "- [ ] Если многократно повторять эксперимент, то 95 % выборочных средних значений будут принадлежать рассчитанному нами доверительному интервалу.\n",
    "- [ ] Среднее значение в генеральной совокупности точно принадлежит рассчитанному доверительному интервалу.\n",
    "- [ ] Среднее значение в генеральной совокупности точно превышает нижнюю границу 95% доверительного интервала.\n",
    "- [X] Если многократно повторять эксперимент, для каждой выборки рассчитывать свой доверительный интервал, то в 95 % случаев истинное среднее будет находиться внутри доверительного интервала."
   ]
  },
  {
   "cell_type": "markdown",
   "id": "32f8df40",
   "metadata": {},
   "source": [
    "**Если бы в нашем примере мы увеличили объем выборки в два раза (при условии, что показатель стандартного отклонения остался неизменным), то 95% доверительный интервал...**\n",
    "\n",
    "- [ ] стал более широким\n",
    "- [X] стал более узким\n",
    "- [ ] возможны оба варианта"
   ]
  },
  {
   "cell_type": "markdown",
   "id": "3c3c9317",
   "metadata": {},
   "source": [
    "# Практика"
   ]
  },
  {
   "cell_type": "markdown",
   "id": "6da8766f",
   "metadata": {},
   "source": [
    "## Рассчитать доверительный интервал"
   ]
  },
  {
   "cell_type": "code",
   "execution_count": 94,
   "id": "dd98d3af",
   "metadata": {},
   "outputs": [],
   "source": [
    "M = 3 \n",
    "sigma = 2 \n",
    "N = 10_000\n",
    "\n",
    "genpop = pd.Series(np.random.normal(M, sigma, N))"
   ]
  },
  {
   "cell_type": "markdown",
   "id": "97601354",
   "metadata": {},
   "source": [
    "#### Custom function"
   ]
  },
  {
   "cell_type": "code",
   "execution_count": 265,
   "id": "8c430f35",
   "metadata": {},
   "outputs": [
    {
     "data": {
      "text/plain": [
       "(2.96, 3.04)"
      ]
     },
     "execution_count": 265,
     "metadata": {},
     "output_type": "execute_result"
    }
   ],
   "source": [
    "def confidence_interval(n, mean_val, std_val, target_interval):\n",
    "    alpha = 1 - target_interval\n",
    "    z = abs(st.norm.ppf(alpha/2)) # 1.96\n",
    "    se = std_val / np.sqrt(n)\n",
    "    return (round(mean_val - z * se,  2),  round(mean_val + z * se,  2))\n",
    "\n",
    "\n",
    "ci = confidence_interval(N, M, genpop.std(), 0.95)\n",
    "ci"
   ]
  },
  {
   "cell_type": "markdown",
   "id": "13ea9d73",
   "metadata": {},
   "source": [
    "#### [scipy.stats.t.interval](https://docs.scipy.org/doc/scipy/reference/generated/scipy.stats.t.html)"
   ]
  },
  {
   "cell_type": "code",
   "execution_count": 289,
   "id": "b35efed1",
   "metadata": {},
   "outputs": [
    {
     "data": {
      "text/plain": [
       "(2.9505542699726566, 3.029158831310508)"
      ]
     },
     "execution_count": 289,
     "metadata": {},
     "output_type": "execute_result"
    }
   ],
   "source": [
    "st.t.interval(0.95, len(genpop)-1, loc=np.mean(genpop), scale=st.sem(genpop))"
   ]
  },
  {
   "cell_type": "code",
   "execution_count": 291,
   "id": "00a45d53",
   "metadata": {},
   "outputs": [
    {
     "data": {
      "image/png": "[encoded data removed]",
      "text/plain": [
       "<Figure size 432x288 with 2 Axes>"
      ]
     },
     "metadata": {
      "needs_background": "light"
     },
     "output_type": "display_data"
    }
   ],
   "source": [
    "f, (ax_hist, ax_intervals) = plt.subplots(2, sharex=True, gridspec_kw={\"height_ratios\": (.65, .35)})\n",
    "\n",
    "sns.histplot(x=samples_stats.mean_val, ax=ax_hist, color='#85C1E9')\n",
    "ax_hist.axvline(M,  color='#1A5276')\n",
    "\n",
    "\n",
    "interval = list()\n",
    "ax_intervals.errorbar(\n",
    "    [M], \n",
    "    [0], \n",
    "    xerr=[[0.04],[0.04]], # abs(ci - M)\n",
    "    fmt='o',\n",
    "    color='#28B463'\n",
    ");"
   ]
  },
  {
   "cell_type": "code",
   "execution_count": 270,
   "id": "2c3db1b9",
   "metadata": {},
   "outputs": [
    {
     "data": {
      "text/html": [
       "<div>\n",
       "<style scoped>\n",
       "    .dataframe tbody tr th:only-of-type {\n",
       "        vertical-align: middle;\n",
       "    }\n",
       "\n",
       "    .dataframe tbody tr th {\n",
       "        vertical-align: top;\n",
       "    }\n",
       "\n",
       "    .dataframe thead th {\n",
       "        text-align: right;\n",
       "    }\n",
       "</style>\n",
       "<table border=\"1\" class=\"dataframe\">\n",
       "  <thead>\n",
       "    <tr style=\"text-align: right;\">\n",
       "      <th></th>\n",
       "      <th>Estimate</th>\n",
       "      <th>SE</th>\n",
       "      <th>CI90</th>\n",
       "    </tr>\n",
       "  </thead>\n",
       "  <tbody>\n",
       "    <tr>\n",
       "      <th></th>\n",
       "      <td>2.99</td>\n",
       "      <td>2.0</td>\n",
       "      <td>[-0.31, 6.28]</td>\n",
       "    </tr>\n",
       "  </tbody>\n",
       "</table>\n",
       "</div>"
      ],
      "text/plain": [
       "  Estimate   SE           CI90\n",
       "      2.99  2.0  [-0.31, 6.28]"
      ]
     },
     "execution_count": 270,
     "metadata": {},
     "output_type": "execute_result"
    }
   ],
   "source": [
    "# также нашел такой вариант функции расчета\n",
    "\n",
    "def summarize(t, digits=2):\n",
    "    table = pd.DataFrame(columns=['Estimate', 'SE', 'CI90'])\n",
    "    \n",
    "    est = np.mean(t).round(digits)\n",
    "    SE = np.std(t).round(digits)\n",
    "    CI90 = np.percentile(t, [5, 95]).round(digits)\n",
    "    \n",
    "    table.loc[''] = est, SE, CI90\n",
    "    return table\n",
    "\n",
    "sumarize = summarize(genpop)\n",
    "sumarize"
   ]
  },
  {
   "cell_type": "markdown",
   "id": "4df4572a",
   "metadata": {},
   "source": [
    "### Генерация нескольких выборок"
   ]
  },
  {
   "cell_type": "code",
   "execution_count": 255,
   "id": "433582bd",
   "metadata": {},
   "outputs": [],
   "source": [
    "n_vals = 100\n",
    "n_samples = 300\n",
    "samples = pd.DataFrame([genpop.sample(n=n_vals).tolist() for sample in range(n_samples)])"
   ]
  },
  {
   "cell_type": "code",
   "execution_count": 256,
   "id": "6c197e35",
   "metadata": {},
   "outputs": [],
   "source": [
    "def confidence_interval(n, mean_val, std_val, target_interval):\n",
    "    alpha = 1 - target_interval\n",
    "    z = abs(st.norm.ppf(alpha/2)) # 1.96\n",
    "    se = std_val / np.sqrt(n)\n",
    "    return (round(mean_val - z * se,  2),  round(mean_val + z * se,  2))\n",
    "\n",
    "samples_stats = pd.DataFrame({\n",
    "    'n': samples.apply(lambda row: len(row), axis=1),\n",
    "    'mean_val': samples.apply(lambda row: row.mean(), axis=1),\n",
    "    'std_val': samples.apply(lambda row: row.std(), axis=1),\n",
    "})\n",
    "\n",
    "samples_stats[['ci_left', 'ci_right']] = samples_stats.apply(lambda row: confidence_interval(row.n, row.mean_val, row.std_val, 0.95), axis=1).apply(pd.Series)"
   ]
  },
  {
   "cell_type": "code",
   "execution_count": 257,
   "id": "ce9617a4",
   "metadata": {},
   "outputs": [
    {
     "data": {
      "text/plain": [
       "False    0.94\n",
       "True     0.06\n",
       "Name: error, dtype: float64"
      ]
     },
     "execution_count": 257,
     "metadata": {},
     "output_type": "execute_result"
    }
   ],
   "source": [
    "samples_stats['error'] = samples_stats.apply(lambda row: ((row['ci_left'] > M) | (row['ci_right'] < M)), axis=1)\n",
    "samples_stats.error.value_counts(normalize=True)"
   ]
  },
  {
   "cell_type": "code",
   "execution_count": 258,
   "id": "80bb3686",
   "metadata": {},
   "outputs": [
    {
     "data": {
      "image/png": "[encoded data removed]",
      "text/plain": [
       "<Figure size 432x288 with 2 Axes>"
      ]
     },
     "metadata": {
      "needs_background": "light"
     },
     "output_type": "display_data"
    }
   ],
   "source": [
    "f, (ax_hist, ax_intervals) = plt.subplots(2, sharex=True, gridspec_kw={\"height_ratios\": (.85, .85)})\n",
    "\n",
    "sns.histplot(x=samples_stats.mean_val, ax=ax_hist, color='#85C1E9')\n",
    "ax_hist.axvline(M,  color='#1A5276')\n",
    "ax_hist.axvline(samples_stats.mean_val.mean(),  color='#E74C3C')\n",
    "\n",
    "\n",
    "n_intervals = 10\n",
    "intervals = pd.concat([\n",
    "    samples_stats[samples_stats['ci_left'] > M].iloc[:n_intervals//3],\n",
    "    samples_stats[samples_stats['ci_right'] < M].iloc[:n_intervals//3],\n",
    "    samples_stats[~((samples_stats['ci_left'] > M) | (samples_stats['ci_right'] < M))].iloc[:n_intervals//3],\n",
    "])\n",
    "intervals['left_diff'] = intervals['mean_val'] - intervals['ci_left']\n",
    "intervals['right_diff'] = intervals['ci_right'] - intervals['mean_val']\n",
    "intervals['color'] = intervals.apply(lambda row: '#E74C3C' if ((row['ci_left'] > M) | (row['ci_right'] < M)) else '#28B463', axis=1)\n",
    "\n",
    "ax_intervals.errorbar(\n",
    "    intervals.mean_val, \n",
    "    list(range(intervals.shape[0])), \n",
    "    xerr=[intervals.left_diff, intervals.right_diff], \n",
    "    fmt='o',\n",
    "    ecolor=intervals.color.values\n",
    ")\n",
    "\n",
    "ax_intervals.axvline(M,  color='#1A5276')\n",
    "ax_intervals.axvline(samples_stats.mean_val.mean(),  color='#E74C3C');"
   ]
  },
  {
   "cell_type": "markdown",
   "id": "a33c229d",
   "metadata": {},
   "source": [
    "### Bootstrapping"
   ]
  },
  {
   "cell_type": "code",
   "execution_count": 246,
   "id": "90ad28e5",
   "metadata": {},
   "outputs": [],
   "source": [
    "n_vals = 100\n",
    "one_sample = genpop.sample(n=n_vals)"
   ]
  },
  {
   "cell_type": "code",
   "execution_count": 247,
   "id": "f2afc1c3",
   "metadata": {},
   "outputs": [],
   "source": [
    "n_bootstrap = 300\n",
    "bootstrap = pd.DataFrame([one_sample.sample(n_vals, replace=True).tolist() for b in range(n_bootstrap)])"
   ]
  },
  {
   "cell_type": "code",
   "execution_count": 248,
   "id": "7d024cb5",
   "metadata": {},
   "outputs": [],
   "source": [
    "def confidence_interval(n, mean_val, std_val, target_interval):\n",
    "    alpha = 1 - target_interval\n",
    "    z = abs(st.norm.ppf(alpha/2)) # 1.96\n",
    "    se = std_val / np.sqrt(n)\n",
    "    return (round(mean_val - z * se,  2),  round(mean_val + z * se,  2))\n",
    "\n",
    "bootstrap_stats = pd.DataFrame({\n",
    "    'n': bootstrap.apply(lambda row: len(row), axis=1),\n",
    "    'mean_val': bootstrap.apply(lambda row: row.mean(), axis=1),\n",
    "    'std_val': bootstrap.apply(lambda row: row.std(), axis=1),\n",
    "})\n",
    "\n",
    "bootstrap_stats[['ci_left', 'ci_right']] = bootstrap_stats.apply(lambda row: confidence_interval(row.n, row.mean_val, row.std_val, 0.95), axis=1).apply(pd.Series)"
   ]
  },
  {
   "cell_type": "code",
   "execution_count": 249,
   "id": "ff78b818",
   "metadata": {},
   "outputs": [
    {
     "data": {
      "text/plain": [
       "False    0.633333\n",
       "True     0.366667\n",
       "Name: error, dtype: float64"
      ]
     },
     "execution_count": 249,
     "metadata": {},
     "output_type": "execute_result"
    }
   ],
   "source": [
    "bootstrap_stats['error'] = bootstrap_stats.apply(lambda row: ((row['ci_left'] > M) | (row['ci_right'] < M)), axis=1)\n",
    "bootstrap_stats.error.value_counts(normalize=True)"
   ]
  },
  {
   "cell_type": "code",
   "execution_count": 250,
   "id": "d5c71cac",
   "metadata": {},
   "outputs": [
    {
     "data": {
      "image/png": "[encoded data removed]",
      "text/plain": [
       "<Figure size 432x288 with 2 Axes>"
      ]
     },
     "metadata": {
      "needs_background": "light"
     },
     "output_type": "display_data"
    }
   ],
   "source": [
    "f, (ax_hist, ax_intervals) = plt.subplots(2, sharex=True, gridspec_kw={\"height_ratios\": (.85, .85)})\n",
    "\n",
    "sns.histplot(x=bootstrap_stats.mean_val, ax=ax_hist, color='#85C1E9')\n",
    "ax_hist.axvline(M,  color='#1A5276')\n",
    "ax_hist.axvline(bootstrap_stats.mean_val.mean(),  color='#E74C3C')\n",
    "\n",
    "\n",
    "n_intervals = 10\n",
    "intervals = pd.concat([\n",
    "    bootstrap_stats[bootstrap_stats['ci_left'] > M].iloc[:n_intervals//3],\n",
    "    bootstrap_stats[bootstrap_stats['ci_right'] < M].iloc[:n_intervals//3],\n",
    "    bootstrap_stats[~((bootstrap_stats['ci_left'] > M) | (bootstrap_stats['ci_right'] < M))].iloc[:n_intervals//3],\n",
    "])\n",
    "intervals['left_diff'] = intervals['mean_val'] - intervals['ci_left']\n",
    "intervals['right_diff'] = intervals['ci_right'] - intervals['mean_val']\n",
    "intervals['color'] = intervals.apply(lambda row: '#E74C3C' if ((row['ci_left'] > M) | (row['ci_right'] < M)) else '#28B463', axis=1)\n",
    "\n",
    "ax_intervals.errorbar(\n",
    "    intervals.mean_val, \n",
    "    list(range(intervals.shape[0])), \n",
    "    xerr=[intervals.left_diff, intervals.right_diff], \n",
    "    fmt='o',\n",
    "    ecolor=intervals.color.values\n",
    ")\n",
    "\n",
    "ax_intervals.axvline(M,  color='#1A5276')\n",
    "ax_intervals.axvline(bootstrap_stats.mean_val.mean(),  color='#E74C3C');"
   ]
  },
  {
   "cell_type": "markdown",
   "id": "8a20cffd",
   "metadata": {},
   "source": [
    "При повторении эксперимента, точность bootstrap-выборки варьируется от 60 до 95%. В этом плане подход с несколькими выборками дает более точные, устойчивые результаты. Почему так?"
   ]
  },
  {
   "cell_type": "markdown",
   "id": "fb33e7b3",
   "metadata": {},
   "source": [
    "#### [Pandas doc: pandas.plotting.bootstrap_plot](https://pandas.pydata.org/docs/reference/api/pandas.plotting.bootstrap_plot.html)"
   ]
  },
  {
   "cell_type": "code",
   "execution_count": 263,
   "id": "c4b42565",
   "metadata": {},
   "outputs": [
    {
     "data": {
      "image/png": "[encoded data removed]",
      "text/plain": [
       "<Figure size 432x288 with 6 Axes>"
      ]
     },
     "metadata": {
      "needs_background": "light"
     },
     "output_type": "display_data"
    }
   ],
   "source": [
    "pd.plotting.bootstrap_plot(\n",
    "    one_sample, \n",
    "    size=98, # Почему-то работает странно, если добавить сюда n_vals\n",
    "    samples=500\n",
    ");"
   ]
  },
  {
   "cell_type": "markdown",
   "id": "835fc928",
   "metadata": {},
   "source": [
    "### Старые заметки"
   ]
  },
  {
   "cell_type": "markdown",
   "id": "5a0bcc2c",
   "metadata": {},
   "source": [
    "Confidence Interval = x(+/-)t*(s/√n)\n",
    "\n",
    "x: sample mean\n",
    "\n",
    "t: t-value that corresponds to the confidence level\n",
    "\n",
    "s: sample standard deviation\n",
    "\n",
    "n: sample size"
   ]
  },
  {
   "cell_type": "code",
   "execution_count": 13,
   "id": "f159b2dd",
   "metadata": {},
   "outputs": [
    {
     "data": {
      "image/png": "[encoded data removed]",
      "text/plain": [
       "<Figure size 432x288 with 1 Axes>"
      ]
     },
     "metadata": {
      "needs_background": "light"
     },
     "output_type": "display_data"
    }
   ],
   "source": [
    "plt.rcParams[\"figure.figsize\"] = [7.50, 3.50]\n",
    "plt.rcParams[\"figure.autolayout\"] = True\n",
    "\n",
    "x = np.arange(0, 10, 0.05)\n",
    "y = np.sin(x)\n",
    "\n",
    "# Define the confidence interval\n",
    "ci = 0.1 * np.std(y) / np.mean(y)\n",
    "\n",
    "plt.plot(x, y, color='black', lw=7)\n",
    "\n",
    "plt.fill_between(x, (y-ci), (y+ci), color='blue', alpha=0.5)\n",
    "\n",
    "plt.show()"
   ]
  },
  {
   "cell_type": "markdown",
   "id": "5eb746b4",
   "metadata": {},
   "source": [
    "## T"
   ]
  },
  {
   "cell_type": "markdown",
   "id": "8a28f242",
   "metadata": {},
   "source": [
    "### Пример 1"
   ]
  },
  {
   "cell_type": "code",
   "execution_count": 7,
   "id": "85449ab7",
   "metadata": {},
   "outputs": [
    {
     "data": {
      "text/plain": [
       "(2.962098014195961, 4.837901985804038)"
      ]
     },
     "execution_count": 7,
     "metadata": {},
     "output_type": "execute_result"
    }
   ],
   "source": [
    "# define sample data\n",
    "gfg_data = [\n",
    "    1, 1, 1, 2, 2, 2, 3, 3, 3, 3,\n",
    "    3, 4, 4, 5, 5, 5, 6, 7, 8, 10]\n",
    "\n",
    "# create 90% confidence interval\n",
    "st.t.interval(\n",
    "    alpha=0.90, \n",
    "    df=len(gfg_data)-1,\n",
    "    loc=np.mean(gfg_data),\n",
    "    scale=st.sem(gfg_data)\n",
    ")"
   ]
  },
  {
   "cell_type": "markdown",
   "id": "707f0144",
   "metadata": {},
   "source": [
    "### Пример 2"
   ]
  },
  {
   "cell_type": "code",
   "execution_count": 8,
   "id": "47482578",
   "metadata": {},
   "outputs": [
    {
     "data": {
      "text/plain": [
       "(2.3481954013214263, 5.4518045986785735)"
      ]
     },
     "execution_count": 8,
     "metadata": {},
     "output_type": "execute_result"
    }
   ],
   "source": [
    "import numpy as np\n",
    "import scipy.stats as st\n",
    "  \n",
    "# define sample data\n",
    "gfg_data = [\n",
    "    1, 1, 1, 2, 2, 2, 3, 3, 3,\n",
    "    3, 3, 4, 4, 5, 5, 5, 6,\n",
    "    7, 8, 10]\n",
    "  \n",
    "# create 99% confidence interval\n",
    "st.t.interval(\n",
    "    alpha=0.99,\n",
    "    df=len(gfg_data)-1,\n",
    "    loc=np.mean(gfg_data), \n",
    "    scale=st.sem(gfg_data)\n",
    ")"
   ]
  },
  {
   "cell_type": "markdown",
   "id": "efa8be47",
   "metadata": {},
   "source": [
    "## Norm"
   ]
  },
  {
   "cell_type": "code",
   "execution_count": 9,
   "id": "0d2628fe",
   "metadata": {},
   "outputs": [
    {
     "data": {
      "text/plain": [
       "(6.650557051936708, 7.129442948063291)"
      ]
     },
     "execution_count": 9,
     "metadata": {},
     "output_type": "execute_result"
    }
   ],
   "source": [
    "# define sample data\n",
    "gfg_data = np.random.randint(5, 10, 100)\n",
    "  \n",
    "# create 90% confidence interval\n",
    "# for population mean weight\n",
    "st.norm.interval(\n",
    "    alpha=0.90,\n",
    "    loc=np.mean(gfg_data),\n",
    "    scale=st.sem(gfg_data)\n",
    ")"
   ]
  },
  {
   "cell_type": "code",
   "execution_count": 10,
   "id": "9d4b627f",
   "metadata": {},
   "outputs": [
    {
     "data": {
      "text/plain": [
       "(6.577907690622409, 7.342092309377591)"
      ]
     },
     "execution_count": 10,
     "metadata": {},
     "output_type": "execute_result"
    }
   ],
   "source": [
    "# define sample data\n",
    "gfg_data = np.random.randint(5, 10, 100)\n",
    "  \n",
    "# create 99% confidence interval\n",
    "# for population mean weight\n",
    "st.norm.interval(\n",
    "    alpha=0.99, \n",
    "    loc=np.mean(gfg_data),\n",
    "    scale=st.sem(gfg_data)\n",
    ")"
   ]
  },
  {
   "cell_type": "code",
   "execution_count": 294,
   "id": "f929d0e9",
   "metadata": {},
   "outputs": [
    {
     "data": {
      "text/plain": [
       "(17.52, 19.48)"
      ]
     },
     "execution_count": 294,
     "metadata": {},
     "output_type": "execute_result"
    }
   ],
   "source": [
    "def confidence_interval(n, mean_val, std_val, target_interval):\n",
    "    alpha = 1 - target_interval\n",
    "    z = abs(st.norm.ppf(alpha/2)) # 1.96\n",
    "    se = std_val / np.sqrt(n)\n",
    "    return (round(mean_val - z * se,  2),  round(mean_val + z * se,  2))\n",
    "\n",
    "n = 64\n",
    "mean_val = 18.5\n",
    "std_val = 4\n",
    "target_interval = 0.95\n",
    "\n",
    "confidence_interval(n, mean_val, std_val, target_interval)"
   ]
  },
  {
   "cell_type": "code",
   "execution_count": 295,
   "id": "560ece1b",
   "metadata": {},
   "outputs": [
    {
     "data": {
      "text/plain": [
       "1.9599639845400545"
      ]
     },
     "execution_count": 295,
     "metadata": {},
     "output_type": "execute_result"
    }
   ],
   "source": [
    "abs(st.norm.ppf(alpha/2))"
   ]
  }
 ],
 "metadata": {
  "hide_input": false,
  "kernelspec": {
   "display_name": "venv",
   "language": "python",
   "name": "venv"
  },
  "language_info": {
   "codemirror_mode": {
    "name": "ipython",
    "version": 3
   },
   "file_extension": ".py",
   "mimetype": "text/x-python",
   "name": "python",
   "nbconvert_exporter": "python",
   "pygments_lexer": "ipython3",
   "version": "3.10.2"
  },
  "toc": {
   "base_numbering": 1,
   "nav_menu": {},
   "number_sections": true,
   "sideBar": true,
   "skip_h1_title": false,
   "title_cell": "Table of Contents",
   "title_sidebar": "Contents",
   "toc_cell": false,
   "toc_position": {
    "height": "calc(100% - 180px)",
    "left": "10px",
    "top": "150px",
    "width": "256px"
   },
   "toc_section_display": true,
   "toc_window_display": false
  }
 },
 "nbformat": 4,
 "nbformat_minor": 5
}
