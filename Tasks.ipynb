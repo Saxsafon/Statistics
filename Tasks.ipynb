{
 "cells": [
  {
   "cell_type": "markdown",
   "id": "f0d3d958",
   "metadata": {},
   "source": [
    "# Настройка ноутбука"
   ]
  },
  {
   "cell_type": "code",
   "execution_count": 1,
   "id": "b9934dea",
   "metadata": {},
   "outputs": [],
   "source": [
    "import numpy as np\n",
    "import pandas as pd\n",
    "\n",
    "import statistics as st\n",
    "from scipy import stats\n",
    "\n",
    "import seaborn as sns\n",
    "import matplotlib.pyplot as plt\n",
    "%matplotlib inline"
   ]
  },
  {
   "cell_type": "code",
   "execution_count": 2,
   "id": "97a48820",
   "metadata": {},
   "outputs": [
    {
     "data": {
      "text/html": [
       "<style>.container { width:100% !important; }</style>"
      ],
      "text/plain": [
       "<IPython.core.display.HTML object>"
      ]
     },
     "metadata": {},
     "output_type": "display_data"
    }
   ],
   "source": [
    "# Расширить рабочее поле ноутбука на весь экран\n",
    "from IPython.display import display, HTML\n",
    "display(HTML(\"<style>.container { width:100% !important; }</style>\"))"
   ]
  },
  {
   "cell_type": "markdown",
   "id": "dd11569f",
   "metadata": {},
   "source": [
    "# Описание"
   ]
  },
  {
   "cell_type": "code",
   "execution_count": null,
   "id": "ded5ca6b",
   "metadata": {},
   "outputs": [],
   "source": []
  },
  {
   "cell_type": "markdown",
   "id": "9ff8ede0",
   "metadata": {},
   "source": [
    "# Концепты"
   ]
  },
  {
   "cell_type": "code",
   "execution_count": null,
   "id": "c73b479c",
   "metadata": {},
   "outputs": [],
   "source": []
  },
  {
   "cell_type": "markdown",
   "id": "396207a4",
   "metadata": {},
   "source": [
    "# Задачи с собеседований"
   ]
  },
  {
   "cell_type": "code",
   "execution_count": null,
   "id": "1221c04e",
   "metadata": {},
   "outputs": [],
   "source": []
  },
  {
   "cell_type": "markdown",
   "id": "ff35c382",
   "metadata": {},
   "source": [
    "## Дайте определения понятиям? В чем разница между понятиями?"
   ]
  },
  {
   "cell_type": "markdown",
   "id": "c200cd82",
   "metadata": {},
   "source": [
    "### Statistics"
   ]
  },
  {
   "cell_type": "markdown",
   "id": "e4f548cc",
   "metadata": {},
   "source": [
    "- [Stratascratch: Statistical Hypothesis - Medium](https://platform.stratascratch.com/technical/2428-statistical-hypothesis/discussion)\n",
    "\n",
    "\n",
    "- [Stratascratch: Linear Regression & T-test - Medium](https://platform.stratascratch.com/technical/2395-linear-regression-t-test/discussion)\n",
    "- [Stratascratch: Right vs Left-Skewed Distributions - Medium](https://platform.stratascratch.com/technical/2385-right-vs-left-skewed-distributions/discussion)\n"
   ]
  },
  {
   "cell_type": "markdown",
   "id": "4271140a",
   "metadata": {},
   "source": [
    "### Product analysis"
   ]
  },
  {
   "cell_type": "markdown",
   "id": "0b144d7e",
   "metadata": {},
   "source": [
    "- [Stratascratch: A/B Testing - Medium](https://platform.stratascratch.com/technical/2417-ab-testing/discussion)"
   ]
  },
  {
   "cell_type": "markdown",
   "id": "8a1d8bcd",
   "metadata": {},
   "source": [
    "### ML"
   ]
  },
  {
   "cell_type": "markdown",
   "id": "d42cfcc0",
   "metadata": {},
   "source": [
    "- [Stratascratch: Heteroskedasticity - Medium](https://platform.stratascratch.com/technical/2427-heteroskedasticity)\n",
    "- [Stratascratch: Bias-Variance Tradeoff - Medium](https://platform.stratascratch.com/technical/2324-bias-variance-tradeoff)\n",
    "- [Stratascratch: Linear Discriminant Analysis - Medium](https://platform.stratascratch.com/technical/2381-linear-discriminant-analysis)"
   ]
  },
  {
   "cell_type": "markdown",
   "id": "0af7885e",
   "metadata": {},
   "source": [
    "### Типы данных"
   ]
  },
  {
   "cell_type": "markdown",
   "id": "2a331fa2",
   "metadata": {},
   "source": [
    "- [Stratascratch: Dataframe and RDD - Medium](https://platform.stratascratch.com/technical/2424-dataframe-and-rdd/discussion)"
   ]
  },
  {
   "cell_type": "markdown",
   "id": "d3b1466a",
   "metadata": {},
   "source": [
    "### Финансы"
   ]
  },
  {
   "cell_type": "markdown",
   "id": "5414d5a7",
   "metadata": {},
   "source": [
    "- [Stratascratch: Beta and Systematic Risk - Medium](https://platform.stratascratch.com/technical/2413-beta-and-systematic-risk/discussion)"
   ]
  },
  {
   "cell_type": "markdown",
   "id": "24b530f9",
   "metadata": {},
   "source": [
    "## Как бы вы сделали ...?"
   ]
  },
  {
   "cell_type": "markdown",
   "id": "8c2ec742",
   "metadata": {},
   "source": [
    "- [Stratascratch: Multi-dimensional Data - Medium](https://platform.stratascratch.com/technical/2426-multi-dimensional-data/discussion)\n",
    "- [Stratascratch: Skewed Data - Medium](https://platform.stratascratch.com/technical/2332-skewed-data)"
   ]
  },
  {
   "cell_type": "markdown",
   "id": "fa036f9d",
   "metadata": {},
   "source": [
    "Мат. ожидание:\n",
    "- [Stratascratch: Estimating D - Medium](https://platform.stratascratch.com/technical/2030-estimating-d/discussion)"
   ]
  },
  {
   "cell_type": "markdown",
   "id": "84f7e965",
   "metadata": {},
   "source": [
    "## Загадки"
   ]
  },
  {
   "cell_type": "markdown",
   "id": "524fda7b",
   "metadata": {},
   "source": [
    "### Базовые статистики"
   ]
  },
  {
   "cell_type": "markdown",
   "id": "4b1baf9d",
   "metadata": {},
   "source": [
    "- [Stratascratch: Broken Packages - Medium](https://platform.stratascratch.com/technical/2415-broken-packages)"
   ]
  },
  {
   "cell_type": "markdown",
   "id": "d79ce733",
   "metadata": {},
   "source": [
    "### Игры"
   ]
  },
  {
   "cell_type": "markdown",
   "id": "cf360772",
   "metadata": {},
   "source": [
    "- [Stratascratch: Willing To Pay To Play - Medium](https://platform.stratascratch.com/technical/2297-willing-to-pay-to-play)"
   ]
  }
 ],
 "metadata": {
  "hide_input": false,
  "kernelspec": {
   "display_name": "venv",
   "language": "python",
   "name": "venv"
  },
  "language_info": {
   "codemirror_mode": {
    "name": "ipython",
    "version": 3
   },
   "file_extension": ".py",
   "mimetype": "text/x-python",
   "name": "python",
   "nbconvert_exporter": "python",
   "pygments_lexer": "ipython3",
   "version": "3.10.2"
  },
  "toc": {
   "base_numbering": 1,
   "nav_menu": {},
   "number_sections": true,
   "sideBar": true,
   "skip_h1_title": false,
   "title_cell": "Table of Contents",
   "title_sidebar": "Contents",
   "toc_cell": false,
   "toc_position": {},
   "toc_section_display": true,
   "toc_window_display": false
  }
 },
 "nbformat": 4,
 "nbformat_minor": 5
}
