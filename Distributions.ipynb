{
 "cells": [
  {
   "cell_type": "markdown",
   "id": "cf251be4",
   "metadata": {},
   "source": [
    "# Настройка ноутбука"
   ]
  },
  {
   "cell_type": "code",
   "execution_count": 3,
   "id": "7f92299d",
   "metadata": {},
   "outputs": [],
   "source": [
    "import numpy as np\n",
    "import pandas as pd\n",
    "from scipy import stats\n",
    "\n",
    "import seaborn as sns\n",
    "import matplotlib.pyplot as plt\n",
    "%matplotlib inline"
   ]
  },
  {
   "cell_type": "code",
   "execution_count": 4,
   "id": "29d84346",
   "metadata": {},
   "outputs": [
    {
     "data": {
      "text/html": [
       "<style>.container { width:100% !important; }</style>"
      ],
      "text/plain": [
       "<IPython.core.display.HTML object>"
      ]
     },
     "metadata": {},
     "output_type": "display_data"
    }
   ],
   "source": [
    "# Расширить рабочее поле ноутбука на весь экран\n",
    "from IPython.display import display, HTML\n",
    "display(HTML(\"<style>.container { width:100% !important; }</style>\"))"
   ]
  },
  {
   "cell_type": "markdown",
   "id": "53e4a07c",
   "metadata": {},
   "source": [
    "# Описание"
   ]
  },
  {
   "cell_type": "markdown",
   "id": "519c6c8f",
   "metadata": {},
   "source": [
    "## Основная идея\n",
    "\n",
    "```terminal\n",
    "1) Собираем данные\n",
    "2) Определить как распределены данные \n",
    "3) Зная распределение, мы можем уверено утверждать и опровергать гипотезы\n",
    "```\n",
    "\n",
    "До того как что либо произошло, мы можем говорить лишь о вероятности того или иного исхода. Распределение вероятности описывает наше предположение о вероятности всех исходов исходя из опыта (собранных данных).  \n",
    "\n",
    "Каждое распределение вероятностей илюстрируется графиком Функции Плотности Распределения (ФПР).\n"
   ]
  },
  {
   "cell_type": "markdown",
   "id": "b75d6a48",
   "metadata": {},
   "source": [
    "- [Medium: Bernoulli and Binomial Random Variables with Python](https://towardsdatascience.com/bernoulli-and-binomial-random-variables-d0698288dd36)\n",
    "- [Хабр: Типичные распределения вероятностей, шпаргалка data scientist-а](https://habr.com/ru/post/331060/)\n",
    "- [3Blue1Brown - Binomial distributions | Probabilities of probabilities, part 1](https://www.youtube.com/watch?v=8idr1WZ1A7Q&t=576s&ab_channel=3Blue1Brown)"
   ]
  },
  {
   "cell_type": "markdown",
   "id": "a41b1e1a",
   "metadata": {},
   "source": [
    "# Генерация случайных величин с заданым распределением"
   ]
  },
  {
   "cell_type": "markdown",
   "id": "862cbcd6",
   "metadata": {},
   "source": [
    "<img src=\"data/img/distributions.png\" width=\"650\">"
   ]
  },
  {
   "cell_type": "markdown",
   "id": "c8f01755",
   "metadata": {},
   "source": [
    "# Функции распределений\n",
    "\n",
    "[MathProfi: Непрерывная случайная величина и её функция распределения. Функция плотности распределения\n",
    "](http://mathprofi.ru/nepreryvnaya_sluchaynaya_velichina.html)\n",
    "\n",
    "**Функция плотности вероятности (Probability Density Function, PDF)** - показывает вероятность попадания случайной величины в конкретный диапазон значений\n",
    "<img src=\"data/img/probability_density_function.png\" width=\"300\">\n",
    "\n",
    "**Кумулятивная функции распределения (Cumulutive Density Function, CDF)** - показывает вероятность того, что случайная величина меньше указанного значения либо равно ему. Она доступна только для количественных целевых значений\n",
    "<img src=\"data/img/cumulative_density_function.png\" width=\"300\">"
   ]
  },
  {
   "cell_type": "code",
   "execution_count": 5,
   "id": "2974d5dd",
   "metadata": {},
   "outputs": [
    {
     "name": "stdout",
     "output_type": "stream",
     "text": [
      "sum(n): 1.3426127507434613\n"
     ]
    },
    {
     "data": {
      "image/png": "[encoded data removed]",
      "text/plain": [
       "<Figure size 432x288 with 1 Axes>"
      ]
     },
     "metadata": {
      "needs_background": "light"
     },
     "output_type": "display_data"
    }
   ],
   "source": [
    "mean = 0\n",
    "std = 3\n",
    "\n",
    "norm = stats.norm(mean, std)\n",
    "values = pd.Series(norm.rvs(10000))\n",
    "\n",
    "n, bins, patches = plt.hist(values, density=True, bins=30);\n",
    "# print(f'n: {n}')\n",
    "print(f'sum(n): {sum(n)}')\n",
    "# print(f'bins: {bins}')"
   ]
  },
  {
   "cell_type": "markdown",
   "id": "fe08be7a",
   "metadata": {},
   "source": [
    "Как выяснилось n - это высоты bin-ов, и в сумме они не дают (и не должны давать) единицу. Вот если посчитать площадь всех столбиков и сложить, то получится единица. Мне нужно получить список площадей. Как это сделать?"
   ]
  },
  {
   "cell_type": "markdown",
   "id": "f90345f4",
   "metadata": {},
   "source": [
    "###### Можно так"
   ]
  },
  {
   "cell_type": "code",
   "execution_count": 6,
   "id": "96119a91",
   "metadata": {},
   "outputs": [
    {
     "name": "stdout",
     "output_type": "stream",
     "text": [
      "len: 30\n",
      "sum: 1.0\n"
     ]
    }
   ],
   "source": [
    "obs_areas = []\n",
    "\n",
    "for start, end, n in zip(bins[:-1], bins[1:], n):\n",
    "    area = (end-start)*n\n",
    "    obs_areas.append(area)\n",
    "    \n",
    "print(f\"len: {len(obs_areas)}\\nsum: {sum(obs_areas)}\")"
   ]
  },
  {
   "cell_type": "markdown",
   "id": "19109301",
   "metadata": {},
   "source": [
    "###### Но есть решение получше (?)"
   ]
  },
  {
   "cell_type": "code",
   "execution_count": 7,
   "id": "d69721a7",
   "metadata": {},
   "outputs": [
    {
     "name": "stdout",
     "output_type": "stream",
     "text": [
      "len: 30 \n",
      " \n",
      "sum: 0.012000000000000049\n"
     ]
    }
   ],
   "source": [
    "areas = n * np.diff(bins)\n",
    "print(f\"len: {len(areas)} \\n \\nsum: {sum(areas)}\")"
   ]
  },
  {
   "cell_type": "code",
   "execution_count": null,
   "id": "a1a15703",
   "metadata": {},
   "outputs": [],
   "source": []
  },
  {
   "cell_type": "code",
   "execution_count": 8,
   "id": "f69ca9c1",
   "metadata": {},
   "outputs": [
    {
     "name": "stdout",
     "output_type": "stream",
     "text": [
      "sum(n): 10000.0\n"
     ]
    },
    {
     "data": {
      "image/png": "[encoded data removed]",
      "text/plain": [
       "<Figure size 432x288 with 1 Axes>"
      ]
     },
     "metadata": {
      "needs_background": "light"
     },
     "output_type": "display_data"
    }
   ],
   "source": [
    "values = pd.Series(norm.rvs(10000))\n",
    "n, bins, patches = plt.hist(values, density=False, bins=30);\n",
    "# print(f'n: {n}')\n",
    "print(f'sum(n): {sum(n)}')\n",
    "# print(f'bins: {bins}')"
   ]
  },
  {
   "cell_type": "code",
   "execution_count": 10,
   "id": "be7aa8cd",
   "metadata": {},
   "outputs": [
    {
     "ename": "KeyError",
     "evalue": "-12.0",
     "output_type": "error",
     "traceback": [
      "\u001b[1;31m---------------------------------------------------------------------------\u001b[0m",
      "\u001b[1;31mKeyError\u001b[0m                                  Traceback (most recent call last)",
      "File \u001b[1;32mD:\\Projects\\venv\\lib\\site-packages\\pandas\\core\\indexes\\base.py:3621\u001b[0m, in \u001b[0;36mIndex.get_loc\u001b[1;34m(self, key, method, tolerance)\u001b[0m\n\u001b[0;32m   3620\u001b[0m \u001b[38;5;28;01mtry\u001b[39;00m:\n\u001b[1;32m-> 3621\u001b[0m     \u001b[38;5;28;01mreturn\u001b[39;00m \u001b[38;5;28;43mself\u001b[39;49m\u001b[38;5;241;43m.\u001b[39;49m\u001b[43m_engine\u001b[49m\u001b[38;5;241;43m.\u001b[39;49m\u001b[43mget_loc\u001b[49m\u001b[43m(\u001b[49m\u001b[43mcasted_key\u001b[49m\u001b[43m)\u001b[49m\n\u001b[0;32m   3622\u001b[0m \u001b[38;5;28;01mexcept\u001b[39;00m \u001b[38;5;167;01mKeyError\u001b[39;00m \u001b[38;5;28;01mas\u001b[39;00m err:\n",
      "File \u001b[1;32mD:\\Projects\\venv\\lib\\site-packages\\pandas\\_libs\\index.pyx:136\u001b[0m, in \u001b[0;36mpandas._libs.index.IndexEngine.get_loc\u001b[1;34m()\u001b[0m\n",
      "File \u001b[1;32mD:\\Projects\\venv\\lib\\site-packages\\pandas\\_libs\\index.pyx:163\u001b[0m, in \u001b[0;36mpandas._libs.index.IndexEngine.get_loc\u001b[1;34m()\u001b[0m\n",
      "File \u001b[1;32mpandas\\_libs\\hashtable_class_helper.pxi:1533\u001b[0m, in \u001b[0;36mpandas._libs.hashtable.Float64HashTable.get_item\u001b[1;34m()\u001b[0m\n",
      "File \u001b[1;32mpandas\\_libs\\hashtable_class_helper.pxi:1542\u001b[0m, in \u001b[0;36mpandas._libs.hashtable.Float64HashTable.get_item\u001b[1;34m()\u001b[0m\n",
      "\u001b[1;31mKeyError\u001b[0m: -12.0",
      "\nThe above exception was the direct cause of the following exception:\n",
      "\u001b[1;31mKeyError\u001b[0m                                  Traceback (most recent call last)",
      "Input \u001b[1;32mIn [10]\u001b[0m, in \u001b[0;36m<cell line: 6>\u001b[1;34m()\u001b[0m\n\u001b[0;32m      3\u001b[0m pdf \u001b[38;5;241m=\u001b[39m norm\u001b[38;5;241m.\u001b[39mpdf(unique)\n\u001b[0;32m      4\u001b[0m cdf \u001b[38;5;241m=\u001b[39m norm\u001b[38;5;241m.\u001b[39mcdf(unique)\n\u001b[0;32m      6\u001b[0m dist \u001b[38;5;241m=\u001b[39m pd\u001b[38;5;241m.\u001b[39mDataFrame({\n\u001b[0;32m      7\u001b[0m     \u001b[38;5;124m'\u001b[39m\u001b[38;5;124munique\u001b[39m\u001b[38;5;124m'\u001b[39m: unique,\n\u001b[1;32m----> 8\u001b[0m     \u001b[38;5;124m'\u001b[39m\u001b[38;5;124mcounts\u001b[39m\u001b[38;5;124m'\u001b[39m: [values\u001b[38;5;241m.\u001b[39mvalue_counts()\u001b[38;5;241m.\u001b[39mloc[val] \u001b[38;5;28;01mfor\u001b[39;00m val \u001b[38;5;129;01min\u001b[39;00m unique],\n\u001b[0;32m      9\u001b[0m     \u001b[38;5;124m'\u001b[39m\u001b[38;5;124mnormalize\u001b[39m\u001b[38;5;124m'\u001b[39m: [values\u001b[38;5;241m.\u001b[39mvalue_counts(normalize\u001b[38;5;241m=\u001b[39m\u001b[38;5;28;01mTrue\u001b[39;00m)\u001b[38;5;241m.\u001b[39mloc[val] \u001b[38;5;28;01mfor\u001b[39;00m val \u001b[38;5;129;01min\u001b[39;00m unique],\n\u001b[0;32m     10\u001b[0m     \u001b[38;5;124m'\u001b[39m\u001b[38;5;124mpdf\u001b[39m\u001b[38;5;124m'\u001b[39m: [norm\u001b[38;5;241m.\u001b[39mpdf(val) \u001b[38;5;28;01mfor\u001b[39;00m val \u001b[38;5;129;01min\u001b[39;00m unique],\n\u001b[0;32m     11\u001b[0m     \u001b[38;5;124m'\u001b[39m\u001b[38;5;124mcdf\u001b[39m\u001b[38;5;124m'\u001b[39m: [norm\u001b[38;5;241m.\u001b[39mcdf(val) \u001b[38;5;28;01mfor\u001b[39;00m val \u001b[38;5;129;01min\u001b[39;00m unique]\n\u001b[0;32m     12\u001b[0m })\n\u001b[0;32m     14\u001b[0m dist\n",
      "Input \u001b[1;32mIn [10]\u001b[0m, in \u001b[0;36m<listcomp>\u001b[1;34m(.0)\u001b[0m\n\u001b[0;32m      3\u001b[0m pdf \u001b[38;5;241m=\u001b[39m norm\u001b[38;5;241m.\u001b[39mpdf(unique)\n\u001b[0;32m      4\u001b[0m cdf \u001b[38;5;241m=\u001b[39m norm\u001b[38;5;241m.\u001b[39mcdf(unique)\n\u001b[0;32m      6\u001b[0m dist \u001b[38;5;241m=\u001b[39m pd\u001b[38;5;241m.\u001b[39mDataFrame({\n\u001b[0;32m      7\u001b[0m     \u001b[38;5;124m'\u001b[39m\u001b[38;5;124munique\u001b[39m\u001b[38;5;124m'\u001b[39m: unique,\n\u001b[1;32m----> 8\u001b[0m     \u001b[38;5;124m'\u001b[39m\u001b[38;5;124mcounts\u001b[39m\u001b[38;5;124m'\u001b[39m: [\u001b[43mvalues\u001b[49m\u001b[38;5;241;43m.\u001b[39;49m\u001b[43mvalue_counts\u001b[49m\u001b[43m(\u001b[49m\u001b[43m)\u001b[49m\u001b[38;5;241;43m.\u001b[39;49m\u001b[43mloc\u001b[49m\u001b[43m[\u001b[49m\u001b[43mval\u001b[49m\u001b[43m]\u001b[49m \u001b[38;5;28;01mfor\u001b[39;00m val \u001b[38;5;129;01min\u001b[39;00m unique],\n\u001b[0;32m      9\u001b[0m     \u001b[38;5;124m'\u001b[39m\u001b[38;5;124mnormalize\u001b[39m\u001b[38;5;124m'\u001b[39m: [values\u001b[38;5;241m.\u001b[39mvalue_counts(normalize\u001b[38;5;241m=\u001b[39m\u001b[38;5;28;01mTrue\u001b[39;00m)\u001b[38;5;241m.\u001b[39mloc[val] \u001b[38;5;28;01mfor\u001b[39;00m val \u001b[38;5;129;01min\u001b[39;00m unique],\n\u001b[0;32m     10\u001b[0m     \u001b[38;5;124m'\u001b[39m\u001b[38;5;124mpdf\u001b[39m\u001b[38;5;124m'\u001b[39m: [norm\u001b[38;5;241m.\u001b[39mpdf(val) \u001b[38;5;28;01mfor\u001b[39;00m val \u001b[38;5;129;01min\u001b[39;00m unique],\n\u001b[0;32m     11\u001b[0m     \u001b[38;5;124m'\u001b[39m\u001b[38;5;124mcdf\u001b[39m\u001b[38;5;124m'\u001b[39m: [norm\u001b[38;5;241m.\u001b[39mcdf(val) \u001b[38;5;28;01mfor\u001b[39;00m val \u001b[38;5;129;01min\u001b[39;00m unique]\n\u001b[0;32m     12\u001b[0m })\n\u001b[0;32m     14\u001b[0m dist\n",
      "File \u001b[1;32mD:\\Projects\\venv\\lib\\site-packages\\pandas\\core\\indexing.py:967\u001b[0m, in \u001b[0;36m_LocationIndexer.__getitem__\u001b[1;34m(self, key)\u001b[0m\n\u001b[0;32m    964\u001b[0m axis \u001b[38;5;241m=\u001b[39m \u001b[38;5;28mself\u001b[39m\u001b[38;5;241m.\u001b[39maxis \u001b[38;5;129;01mor\u001b[39;00m \u001b[38;5;241m0\u001b[39m\n\u001b[0;32m    966\u001b[0m maybe_callable \u001b[38;5;241m=\u001b[39m com\u001b[38;5;241m.\u001b[39mapply_if_callable(key, \u001b[38;5;28mself\u001b[39m\u001b[38;5;241m.\u001b[39mobj)\n\u001b[1;32m--> 967\u001b[0m \u001b[38;5;28;01mreturn\u001b[39;00m \u001b[38;5;28;43mself\u001b[39;49m\u001b[38;5;241;43m.\u001b[39;49m\u001b[43m_getitem_axis\u001b[49m\u001b[43m(\u001b[49m\u001b[43mmaybe_callable\u001b[49m\u001b[43m,\u001b[49m\u001b[43m \u001b[49m\u001b[43maxis\u001b[49m\u001b[38;5;241;43m=\u001b[39;49m\u001b[43maxis\u001b[49m\u001b[43m)\u001b[49m\n",
      "File \u001b[1;32mD:\\Projects\\venv\\lib\\site-packages\\pandas\\core\\indexing.py:1202\u001b[0m, in \u001b[0;36m_LocIndexer._getitem_axis\u001b[1;34m(self, key, axis)\u001b[0m\n\u001b[0;32m   1200\u001b[0m \u001b[38;5;66;03m# fall thru to straight lookup\u001b[39;00m\n\u001b[0;32m   1201\u001b[0m \u001b[38;5;28mself\u001b[39m\u001b[38;5;241m.\u001b[39m_validate_key(key, axis)\n\u001b[1;32m-> 1202\u001b[0m \u001b[38;5;28;01mreturn\u001b[39;00m \u001b[38;5;28;43mself\u001b[39;49m\u001b[38;5;241;43m.\u001b[39;49m\u001b[43m_get_label\u001b[49m\u001b[43m(\u001b[49m\u001b[43mkey\u001b[49m\u001b[43m,\u001b[49m\u001b[43m \u001b[49m\u001b[43maxis\u001b[49m\u001b[38;5;241;43m=\u001b[39;49m\u001b[43maxis\u001b[49m\u001b[43m)\u001b[49m\n",
      "File \u001b[1;32mD:\\Projects\\venv\\lib\\site-packages\\pandas\\core\\indexing.py:1153\u001b[0m, in \u001b[0;36m_LocIndexer._get_label\u001b[1;34m(self, label, axis)\u001b[0m\n\u001b[0;32m   1151\u001b[0m \u001b[38;5;28;01mdef\u001b[39;00m \u001b[38;5;21m_get_label\u001b[39m(\u001b[38;5;28mself\u001b[39m, label, axis: \u001b[38;5;28mint\u001b[39m):\n\u001b[0;32m   1152\u001b[0m     \u001b[38;5;66;03m# GH#5667 this will fail if the label is not present in the axis.\u001b[39;00m\n\u001b[1;32m-> 1153\u001b[0m     \u001b[38;5;28;01mreturn\u001b[39;00m \u001b[38;5;28;43mself\u001b[39;49m\u001b[38;5;241;43m.\u001b[39;49m\u001b[43mobj\u001b[49m\u001b[38;5;241;43m.\u001b[39;49m\u001b[43mxs\u001b[49m\u001b[43m(\u001b[49m\u001b[43mlabel\u001b[49m\u001b[43m,\u001b[49m\u001b[43m \u001b[49m\u001b[43maxis\u001b[49m\u001b[38;5;241;43m=\u001b[39;49m\u001b[43maxis\u001b[49m\u001b[43m)\u001b[49m\n",
      "File \u001b[1;32mD:\\Projects\\venv\\lib\\site-packages\\pandas\\core\\generic.py:3864\u001b[0m, in \u001b[0;36mNDFrame.xs\u001b[1;34m(self, key, axis, level, drop_level)\u001b[0m\n\u001b[0;32m   3862\u001b[0m             new_index \u001b[38;5;241m=\u001b[39m index[loc]\n\u001b[0;32m   3863\u001b[0m \u001b[38;5;28;01melse\u001b[39;00m:\n\u001b[1;32m-> 3864\u001b[0m     loc \u001b[38;5;241m=\u001b[39m \u001b[43mindex\u001b[49m\u001b[38;5;241;43m.\u001b[39;49m\u001b[43mget_loc\u001b[49m\u001b[43m(\u001b[49m\u001b[43mkey\u001b[49m\u001b[43m)\u001b[49m\n\u001b[0;32m   3866\u001b[0m     \u001b[38;5;28;01mif\u001b[39;00m \u001b[38;5;28misinstance\u001b[39m(loc, np\u001b[38;5;241m.\u001b[39mndarray):\n\u001b[0;32m   3867\u001b[0m         \u001b[38;5;28;01mif\u001b[39;00m loc\u001b[38;5;241m.\u001b[39mdtype \u001b[38;5;241m==\u001b[39m np\u001b[38;5;241m.\u001b[39mbool_:\n",
      "File \u001b[1;32mD:\\Projects\\venv\\lib\\site-packages\\pandas\\core\\indexes\\base.py:3623\u001b[0m, in \u001b[0;36mIndex.get_loc\u001b[1;34m(self, key, method, tolerance)\u001b[0m\n\u001b[0;32m   3621\u001b[0m     \u001b[38;5;28;01mreturn\u001b[39;00m \u001b[38;5;28mself\u001b[39m\u001b[38;5;241m.\u001b[39m_engine\u001b[38;5;241m.\u001b[39mget_loc(casted_key)\n\u001b[0;32m   3622\u001b[0m \u001b[38;5;28;01mexcept\u001b[39;00m \u001b[38;5;167;01mKeyError\u001b[39;00m \u001b[38;5;28;01mas\u001b[39;00m err:\n\u001b[1;32m-> 3623\u001b[0m     \u001b[38;5;28;01mraise\u001b[39;00m \u001b[38;5;167;01mKeyError\u001b[39;00m(key) \u001b[38;5;28;01mfrom\u001b[39;00m \u001b[38;5;21;01merr\u001b[39;00m\n\u001b[0;32m   3624\u001b[0m \u001b[38;5;28;01mexcept\u001b[39;00m \u001b[38;5;167;01mTypeError\u001b[39;00m:\n\u001b[0;32m   3625\u001b[0m     \u001b[38;5;66;03m# If we have a listlike key, _check_indexing_error will raise\u001b[39;00m\n\u001b[0;32m   3626\u001b[0m     \u001b[38;5;66;03m#  InvalidIndexError. Otherwise we fall through and re-raise\u001b[39;00m\n\u001b[0;32m   3627\u001b[0m     \u001b[38;5;66;03m#  the TypeError.\u001b[39;00m\n\u001b[0;32m   3628\u001b[0m     \u001b[38;5;28mself\u001b[39m\u001b[38;5;241m.\u001b[39m_check_indexing_error(key)\n",
      "\u001b[1;31mKeyError\u001b[0m: -12.0"
     ]
    }
   ],
   "source": [
    "unique = sorted(np.round(values).unique())\n",
    "\n",
    "pdf = norm.pdf(unique)\n",
    "cdf = norm.cdf(unique)\n",
    "\n",
    "dist = pd.DataFrame({\n",
    "    'unique': unique,\n",
    "    'counts': [values.value_counts().loc[val] for val in unique],\n",
    "    'normalize': [values.value_counts(normalize=True).loc[val] for val in unique],\n",
    "    'pdf': [norm.pdf(val) for val in unique],\n",
    "    'cdf': [norm.cdf(val) for val in unique]\n",
    "})\n",
    "\n",
    "dist"
   ]
  },
  {
   "cell_type": "code",
   "execution_count": 11,
   "id": "3160563d",
   "metadata": {},
   "outputs": [
    {
     "ename": "NameError",
     "evalue": "name 'dist' is not defined",
     "output_type": "error",
     "traceback": [
      "\u001b[1;31m---------------------------------------------------------------------------\u001b[0m",
      "\u001b[1;31mNameError\u001b[0m                                 Traceback (most recent call last)",
      "Input \u001b[1;32mIn [11]\u001b[0m, in \u001b[0;36m<cell line: 2>\u001b[1;34m()\u001b[0m\n\u001b[0;32m      1\u001b[0m n, bins, patches \u001b[38;5;241m=\u001b[39m plt\u001b[38;5;241m.\u001b[39mhist(values, bins\u001b[38;5;241m=\u001b[39m\u001b[38;5;241m75\u001b[39m, density\u001b[38;5;241m=\u001b[39m\u001b[38;5;28;01mTrue\u001b[39;00m);\n\u001b[1;32m----> 2\u001b[0m pdf_line \u001b[38;5;241m=\u001b[39m plt\u001b[38;5;241m.\u001b[39mplot(\u001b[43mdist\u001b[49m[\u001b[38;5;124m'\u001b[39m\u001b[38;5;124munique\u001b[39m\u001b[38;5;124m'\u001b[39m], dist[\u001b[38;5;124m'\u001b[39m\u001b[38;5;124mpdf\u001b[39m\u001b[38;5;124m'\u001b[39m], label\u001b[38;5;241m=\u001b[39m\u001b[38;5;124m'\u001b[39m\u001b[38;5;124mpdf\u001b[39m\u001b[38;5;124m'\u001b[39m, c\u001b[38;5;241m=\u001b[39m\u001b[38;5;124m'\u001b[39m\u001b[38;5;124mred\u001b[39m\u001b[38;5;124m'\u001b[39m)\n",
      "\u001b[1;31mNameError\u001b[0m: name 'dist' is not defined"
     ]
    },
    {
     "data": {
      "image/png": "[encoded data removed]",
      "text/plain": [
       "<Figure size 432x288 with 1 Axes>"
      ]
     },
     "metadata": {
      "needs_background": "light"
     },
     "output_type": "display_data"
    }
   ],
   "source": [
    "n, bins, patches = plt.hist(values, bins=75, density=True);\n",
    "pdf_line = plt.plot(dist['unique'], dist['pdf'], label='pdf', c='red');\n",
    "# cdf_line = plt.plot(dist['unique'], dist['cdf'], label='cdf', c='green');"
   ]
  },
  {
   "cell_type": "markdown",
   "id": "63396a5e",
   "metadata": {},
   "source": [
    "## Распределение Бернулли"
   ]
  },
  {
   "cell_type": "markdown",
   "id": "e1cb3f5b",
   "metadata": {},
   "source": [
    "**Функция плотности:**\n",
    "<img src=\"data/img/bernoulli_probability_mass_function.png\" width=\"350\">\n",
    "\n",
    "**Пример из реальности:**\n",
    "- бросок (возможно \"неправильной\") монетки"
   ]
  },
  {
   "cell_type": "code",
   "execution_count": 12,
   "id": "db239f78",
   "metadata": {},
   "outputs": [
    {
     "name": "stdout",
     "output_type": "stream",
     "text": [
      "Вероятность значения 1: 0.3\n",
      "Вероятность значения 0: 0.7\n",
      " \n"
     ]
    },
    {
     "data": {
      "image/png": "[encoded data removed]",
      "text/plain": [
       "<Figure size 432x288 with 1 Axes>"
      ]
     },
     "metadata": {
      "needs_background": "light"
     },
     "output_type": "display_data"
    }
   ],
   "source": [
    "from scipy.stats import bernoulli, binom\n",
    "\n",
    "p = 0.3\n",
    "X = bernoulli(p)\n",
    "\n",
    "# .pmf - Probability Mass Function - посчитать значение из функции плотности\n",
    "\n",
    "print(f'Вероятность значения 1: {np.round(X.pmf(1),2)}')\n",
    "print(f'Вероятность значения 0: {np.round(X.pmf(0), 2)}', end='\\n \\n')\n",
    "\n",
    "X_samples = X.rvs(100000)\n",
    "sns.histplot(X_samples, stat=\"density\", discrete=True, shrink=0.2);"
   ]
  },
  {
   "cell_type": "markdown",
   "id": "904494e6",
   "metadata": {},
   "source": [
    "**Среднее значение и стандартное отклонение:**\n",
    "<img src=\"data/img/bernoulli_mean_std_deviation.png\" width=\"400\">\n",
    "\n",
    "**Функция плотности:**\n",
    "<img src=\"data/img/bernoulli_probability_mass_function.png\" width=\"400\">\n",
    "\n",
    "**Пример из реальности:**\n",
    "- бросок (возможно \"неправильной\") монетки"
   ]
  },
  {
   "cell_type": "code",
   "execution_count": 13,
   "id": "605d356b",
   "metadata": {},
   "outputs": [
    {
     "name": "stdout",
     "output_type": "stream",
     "text": [
      "Empirically calculated mean: 0.30169\n",
      "Theoretical mean: 0.3\n",
      " \n",
      "Empirically calculated standard deviation: 0.4589914420770827\n",
      "Theoretical standard deviation: 0.458257569495584\n"
     ]
    }
   ],
   "source": [
    "print('Empirically calculated mean: {}'.format(X_samples.mean()))\n",
    "print('Theoretical mean: {}'.format(p), end='\\n \\n')\n",
    "\n",
    "print('Empirically calculated standard deviation: {}'.format(X_samples.std()))\n",
    "print('Theoretical standard deviation: {}'.format((p*(1-p))**(1/2)))"
   ]
  },
  {
   "cell_type": "markdown",
   "id": "35392efd",
   "metadata": {},
   "source": [
    "## Равномерное распределение\n",
    "\n",
    "**Функция плотности:**\n",
    "\n",
    "**Примеры из реальности:**\n",
    "- бросок \"правильного\" игрального кубика"
   ]
  },
  {
   "cell_type": "code",
   "execution_count": 14,
   "id": "50d36d2b",
   "metadata": {},
   "outputs": [
    {
     "ename": "TypeError",
     "evalue": "'list' object cannot be interpreted as an integer",
     "output_type": "error",
     "traceback": [
      "\u001b[1;31m---------------------------------------------------------------------------\u001b[0m",
      "\u001b[1;31mTypeError\u001b[0m                                 Traceback (most recent call last)",
      "Input \u001b[1;32mIn [14]\u001b[0m, in \u001b[0;36m<cell line: 4>\u001b[1;34m()\u001b[0m\n\u001b[0;32m      1\u001b[0m n_outcomes \u001b[38;5;241m=\u001b[39m \u001b[38;5;241m6\u001b[39m\n\u001b[0;32m      2\u001b[0m n_samples \u001b[38;5;241m=\u001b[39m \u001b[38;5;241m30\u001b[39m\n\u001b[1;32m----> 4\u001b[0m X_samples \u001b[38;5;241m=\u001b[39m np\u001b[38;5;241m.\u001b[39marray(\u001b[38;5;28;43msum\u001b[39;49m\u001b[43m(\u001b[49m\u001b[43m[\u001b[49m\u001b[43m[\u001b[49m\u001b[43mi\u001b[49m\u001b[43m]\u001b[49m\u001b[38;5;241;43m*\u001b[39;49m\u001b[43m(\u001b[49m\u001b[43mn_samples\u001b[49m\u001b[38;5;241;43m/\u001b[39;49m\u001b[38;5;241;43m/\u001b[39;49m\u001b[43mn_outcomes\u001b[49m\u001b[43m)\u001b[49m\u001b[43m \u001b[49m\u001b[38;5;28;43;01mfor\u001b[39;49;00m\u001b[43m \u001b[49m\u001b[43mi\u001b[49m\u001b[43m \u001b[49m\u001b[38;5;129;43;01min\u001b[39;49;00m\u001b[43m \u001b[49m\u001b[38;5;28;43mrange\u001b[39;49m\u001b[43m(\u001b[49m\u001b[43mn_outcomes\u001b[49m\u001b[43m)\u001b[49m\u001b[43m]\u001b[49m\u001b[43m,\u001b[49m\u001b[43m \u001b[49m\u001b[43m[\u001b[49m\u001b[43m]\u001b[49m\u001b[43m)\u001b[49m)\n\u001b[0;32m      5\u001b[0m \u001b[38;5;28mprint\u001b[39m(\u001b[38;5;124mf\u001b[39m\u001b[38;5;124m'\u001b[39m\u001b[38;5;124mX_samples: \u001b[39m\u001b[38;5;132;01m{\u001b[39;00mX_samples\u001b[38;5;132;01m}\u001b[39;00m\u001b[38;5;124m'\u001b[39m)\n",
      "File \u001b[1;32m<__array_function__ internals>:180\u001b[0m, in \u001b[0;36msum\u001b[1;34m(*args, **kwargs)\u001b[0m\n",
      "File \u001b[1;32mD:\\Projects\\venv\\lib\\site-packages\\numpy\\core\\fromnumeric.py:2296\u001b[0m, in \u001b[0;36msum\u001b[1;34m(a, axis, dtype, out, keepdims, initial, where)\u001b[0m\n\u001b[0;32m   2293\u001b[0m         \u001b[38;5;28;01mreturn\u001b[39;00m out\n\u001b[0;32m   2294\u001b[0m     \u001b[38;5;28;01mreturn\u001b[39;00m res\n\u001b[1;32m-> 2296\u001b[0m \u001b[38;5;28;01mreturn\u001b[39;00m \u001b[43m_wrapreduction\u001b[49m\u001b[43m(\u001b[49m\u001b[43ma\u001b[49m\u001b[43m,\u001b[49m\u001b[43m \u001b[49m\u001b[43mnp\u001b[49m\u001b[38;5;241;43m.\u001b[39;49m\u001b[43madd\u001b[49m\u001b[43m,\u001b[49m\u001b[43m \u001b[49m\u001b[38;5;124;43m'\u001b[39;49m\u001b[38;5;124;43msum\u001b[39;49m\u001b[38;5;124;43m'\u001b[39;49m\u001b[43m,\u001b[49m\u001b[43m \u001b[49m\u001b[43maxis\u001b[49m\u001b[43m,\u001b[49m\u001b[43m \u001b[49m\u001b[43mdtype\u001b[49m\u001b[43m,\u001b[49m\u001b[43m \u001b[49m\u001b[43mout\u001b[49m\u001b[43m,\u001b[49m\u001b[43m \u001b[49m\u001b[43mkeepdims\u001b[49m\u001b[38;5;241;43m=\u001b[39;49m\u001b[43mkeepdims\u001b[49m\u001b[43m,\u001b[49m\n\u001b[0;32m   2297\u001b[0m \u001b[43m                      \u001b[49m\u001b[43minitial\u001b[49m\u001b[38;5;241;43m=\u001b[39;49m\u001b[43minitial\u001b[49m\u001b[43m,\u001b[49m\u001b[43m \u001b[49m\u001b[43mwhere\u001b[49m\u001b[38;5;241;43m=\u001b[39;49m\u001b[43mwhere\u001b[49m\u001b[43m)\u001b[49m\n",
      "File \u001b[1;32mD:\\Projects\\venv\\lib\\site-packages\\numpy\\core\\fromnumeric.py:86\u001b[0m, in \u001b[0;36m_wrapreduction\u001b[1;34m(obj, ufunc, method, axis, dtype, out, **kwargs)\u001b[0m\n\u001b[0;32m     83\u001b[0m         \u001b[38;5;28;01melse\u001b[39;00m:\n\u001b[0;32m     84\u001b[0m             \u001b[38;5;28;01mreturn\u001b[39;00m reduction(axis\u001b[38;5;241m=\u001b[39maxis, out\u001b[38;5;241m=\u001b[39mout, \u001b[38;5;241m*\u001b[39m\u001b[38;5;241m*\u001b[39mpasskwargs)\n\u001b[1;32m---> 86\u001b[0m \u001b[38;5;28;01mreturn\u001b[39;00m ufunc\u001b[38;5;241m.\u001b[39mreduce(obj, axis, dtype, out, \u001b[38;5;241m*\u001b[39m\u001b[38;5;241m*\u001b[39mpasskwargs)\n",
      "\u001b[1;31mTypeError\u001b[0m: 'list' object cannot be interpreted as an integer"
     ]
    }
   ],
   "source": [
    "n_outcomes = 6\n",
    "n_samples = 30\n",
    "\n",
    "X_samples = np.array(sum([[i]*(n_samples//n_outcomes) for i in range(n_outcomes)], []))\n",
    "print(f'X_samples: {X_samples}')"
   ]
  },
  {
   "cell_type": "code",
   "execution_count": 15,
   "id": "475f75e7",
   "metadata": {},
   "outputs": [
    {
     "data": {
      "image/png": "[encoded data removed]",
      "text/plain": [
       "<Figure size 432x288 with 1 Axes>"
      ]
     },
     "metadata": {
      "needs_background": "light"
     },
     "output_type": "display_data"
    }
   ],
   "source": [
    "sns.histplot(X_samples, stat=\"density\", discrete=True, shrink=0.2);"
   ]
  },
  {
   "cell_type": "code",
   "execution_count": 16,
   "id": "af5fd44d",
   "metadata": {},
   "outputs": [
    {
     "name": "stdout",
     "output_type": "stream",
     "text": [
      "Empirically calculated mean: 0.30169\n",
      "Theoretical mean: 0.30169\n",
      " \n"
     ]
    }
   ],
   "source": [
    "print('Empirically calculated mean: {}'.format(X_samples.mean()))\n",
    "print('Theoretical mean: {}'.format(sum(X_samples)/len(X_samples)), end='\\n \\n')"
   ]
  },
  {
   "cell_type": "code",
   "execution_count": 17,
   "id": "30936ea5",
   "metadata": {},
   "outputs": [
    {
     "name": "stdout",
     "output_type": "stream",
     "text": [
      "Empirically calculated standard deviation: 0.4589914420770827\n"
     ]
    }
   ],
   "source": [
    "print('Empirically calculated standard deviation: {}'.format(X_samples.std()))\n",
    "# print('Theoretical standard deviation: {}'.format((p*(1-p))**(1/2)))"
   ]
  },
  {
   "cell_type": "markdown",
   "id": "08175eef",
   "metadata": {},
   "source": [
    "## Биноминальное распределение "
   ]
  },
  {
   "cell_type": "markdown",
   "id": "0ab2c3de",
   "metadata": {},
   "source": [
    "\n",
    "    - распределение суммы исходов тех вещей, которые следуют распределению Бернулли\n",
    "**Функция плотности:**\n",
    "<img src=\"data/img/benominall_probability_mass_function.png\" width=\"300\">\n",
    "\n",
    "\n",
    "**Примеры из реальности:**\n",
    "- Сумма выпавших орлов после подбрасывания \"правильной монеты\". \n",
    "- Количество белых шаров, после вытаскивания с возварщением из урны с одинаковым количеством белых и черных шаров"
   ]
  },
  {
   "cell_type": "code",
   "execution_count": 18,
   "id": "7a6c47ec",
   "metadata": {},
   "outputs": [],
   "source": [
    "n=6\n",
    "p = 0.3\n",
    "Y = bernoulli(p)"
   ]
  },
  {
   "cell_type": "code",
   "execution_count": 19,
   "id": "9921f022",
   "metadata": {},
   "outputs": [
    {
     "name": "stdout",
     "output_type": "stream",
     "text": [
      "Y: [array([0, 0, 0, ..., 1, 0, 1]), array([1, 0, 0, ..., 1, 0, 0]), array([0, 0, 0, ..., 0, 0, 1]), array([0, 0, 0, ..., 1, 1, 0]), array([0, 0, 1, ..., 0, 0, 1]), array([0, 0, 1, ..., 0, 0, 1])]\n",
      " \n",
      "Z: 1800335 1800335\n"
     ]
    }
   ],
   "source": [
    "Y_samples = [Y.rvs(1000000) for i in range(6)]\n",
    "Z_samples = sum(Y_samples)\n",
    "\n",
    "print(f\"Y: {Y_samples}\", end='\\n \\n')\n",
    "print(f\"Z: {Z_samples}\", Z_samples)"
   ]
  },
  {
   "cell_type": "code",
   "execution_count": 20,
   "id": "3b489e26",
   "metadata": {},
   "outputs": [
    {
     "ename": "TypeError",
     "evalue": "object of type 'numpy.int32' has no len()",
     "output_type": "error",
     "traceback": [
      "\u001b[1;31m---------------------------------------------------------------------------\u001b[0m",
      "\u001b[1;31mTypeError\u001b[0m                                 Traceback (most recent call last)",
      "Input \u001b[1;32mIn [20]\u001b[0m, in \u001b[0;36m<cell line: 1>\u001b[1;34m()\u001b[0m\n\u001b[1;32m----> 1\u001b[0m \u001b[43msns\u001b[49m\u001b[38;5;241;43m.\u001b[39;49m\u001b[43mhistplot\u001b[49m\u001b[43m(\u001b[49m\u001b[43mZ_samples\u001b[49m\u001b[43m,\u001b[49m\u001b[43m \u001b[49m\u001b[43mstat\u001b[49m\u001b[38;5;241;43m=\u001b[39;49m\u001b[38;5;124;43m\"\u001b[39;49m\u001b[38;5;124;43mdensity\u001b[39;49m\u001b[38;5;124;43m\"\u001b[39;49m\u001b[43m,\u001b[49m\u001b[43m \u001b[49m\u001b[43mdiscrete\u001b[49m\u001b[38;5;241;43m=\u001b[39;49m\u001b[38;5;28;43;01mTrue\u001b[39;49;00m\u001b[43m,\u001b[49m\u001b[43m \u001b[49m\u001b[43mshrink\u001b[49m\u001b[38;5;241;43m=\u001b[39;49m\u001b[38;5;241;43m0.3\u001b[39;49m\u001b[43m)\u001b[49m\n",
      "File \u001b[1;32mD:\\Projects\\venv\\lib\\site-packages\\seaborn\\distributions.py:1430\u001b[0m, in \u001b[0;36mhistplot\u001b[1;34m(data, x, y, hue, weights, stat, bins, binwidth, binrange, discrete, cumulative, common_bins, common_norm, multiple, element, fill, shrink, kde, kde_kws, line_kws, thresh, pthresh, pmax, cbar, cbar_ax, cbar_kws, palette, hue_order, hue_norm, color, log_scale, legend, ax, **kwargs)\u001b[0m\n\u001b[0;32m   1409\u001b[0m \u001b[38;5;28;01mdef\u001b[39;00m \u001b[38;5;21mhistplot\u001b[39m(\n\u001b[0;32m   1410\u001b[0m     data\u001b[38;5;241m=\u001b[39m\u001b[38;5;28;01mNone\u001b[39;00m, \u001b[38;5;241m*\u001b[39m,\n\u001b[0;32m   1411\u001b[0m     \u001b[38;5;66;03m# Vector variables\u001b[39;00m\n\u001b[1;32m   (...)\u001b[0m\n\u001b[0;32m   1427\u001b[0m     \u001b[38;5;241m*\u001b[39m\u001b[38;5;241m*\u001b[39mkwargs,\n\u001b[0;32m   1428\u001b[0m ):\n\u001b[1;32m-> 1430\u001b[0m     p \u001b[38;5;241m=\u001b[39m \u001b[43m_DistributionPlotter\u001b[49m\u001b[43m(\u001b[49m\n\u001b[0;32m   1431\u001b[0m \u001b[43m        \u001b[49m\u001b[43mdata\u001b[49m\u001b[38;5;241;43m=\u001b[39;49m\u001b[43mdata\u001b[49m\u001b[43m,\u001b[49m\n\u001b[0;32m   1432\u001b[0m \u001b[43m        \u001b[49m\u001b[43mvariables\u001b[49m\u001b[38;5;241;43m=\u001b[39;49m\u001b[43m_DistributionPlotter\u001b[49m\u001b[38;5;241;43m.\u001b[39;49m\u001b[43mget_semantics\u001b[49m\u001b[43m(\u001b[49m\u001b[38;5;28;43mlocals\u001b[39;49m\u001b[43m(\u001b[49m\u001b[43m)\u001b[49m\u001b[43m)\u001b[49m\n\u001b[0;32m   1433\u001b[0m \u001b[43m    \u001b[49m\u001b[43m)\u001b[49m\n\u001b[0;32m   1435\u001b[0m     p\u001b[38;5;241m.\u001b[39mmap_hue(palette\u001b[38;5;241m=\u001b[39mpalette, order\u001b[38;5;241m=\u001b[39mhue_order, norm\u001b[38;5;241m=\u001b[39mhue_norm)\n\u001b[0;32m   1437\u001b[0m     \u001b[38;5;28;01mif\u001b[39;00m ax \u001b[38;5;129;01mis\u001b[39;00m \u001b[38;5;28;01mNone\u001b[39;00m:\n",
      "File \u001b[1;32mD:\\Projects\\venv\\lib\\site-packages\\seaborn\\distributions.py:111\u001b[0m, in \u001b[0;36m_DistributionPlotter.__init__\u001b[1;34m(self, data, variables)\u001b[0m\n\u001b[0;32m    105\u001b[0m \u001b[38;5;28;01mdef\u001b[39;00m \u001b[38;5;21m__init__\u001b[39m(\n\u001b[0;32m    106\u001b[0m     \u001b[38;5;28mself\u001b[39m,\n\u001b[0;32m    107\u001b[0m     data\u001b[38;5;241m=\u001b[39m\u001b[38;5;28;01mNone\u001b[39;00m,\n\u001b[0;32m    108\u001b[0m     variables\u001b[38;5;241m=\u001b[39m{},\n\u001b[0;32m    109\u001b[0m ):\n\u001b[1;32m--> 111\u001b[0m     \u001b[38;5;28;43msuper\u001b[39;49m\u001b[43m(\u001b[49m\u001b[43m)\u001b[49m\u001b[38;5;241;43m.\u001b[39;49m\u001b[38;5;21;43m__init__\u001b[39;49m\u001b[43m(\u001b[49m\u001b[43mdata\u001b[49m\u001b[38;5;241;43m=\u001b[39;49m\u001b[43mdata\u001b[49m\u001b[43m,\u001b[49m\u001b[43m \u001b[49m\u001b[43mvariables\u001b[49m\u001b[38;5;241;43m=\u001b[39;49m\u001b[43mvariables\u001b[49m\u001b[43m)\u001b[49m\n",
      "File \u001b[1;32mD:\\Projects\\venv\\lib\\site-packages\\seaborn\\_core.py:605\u001b[0m, in \u001b[0;36mVectorPlotter.__init__\u001b[1;34m(self, data, variables)\u001b[0m\n\u001b[0;32m    603\u001b[0m \u001b[38;5;28;01mdef\u001b[39;00m \u001b[38;5;21m__init__\u001b[39m(\u001b[38;5;28mself\u001b[39m, data\u001b[38;5;241m=\u001b[39m\u001b[38;5;28;01mNone\u001b[39;00m, variables\u001b[38;5;241m=\u001b[39m{}):\n\u001b[1;32m--> 605\u001b[0m     \u001b[38;5;28;43mself\u001b[39;49m\u001b[38;5;241;43m.\u001b[39;49m\u001b[43massign_variables\u001b[49m\u001b[43m(\u001b[49m\u001b[43mdata\u001b[49m\u001b[43m,\u001b[49m\u001b[43m \u001b[49m\u001b[43mvariables\u001b[49m\u001b[43m)\u001b[49m\n\u001b[0;32m    607\u001b[0m     \u001b[38;5;28;01mfor\u001b[39;00m var, \u001b[38;5;28mcls\u001b[39m \u001b[38;5;129;01min\u001b[39;00m \u001b[38;5;28mself\u001b[39m\u001b[38;5;241m.\u001b[39m_semantic_mappings\u001b[38;5;241m.\u001b[39mitems():\n\u001b[0;32m    608\u001b[0m \n\u001b[0;32m    609\u001b[0m         \u001b[38;5;66;03m# Create the mapping function\u001b[39;00m\n\u001b[0;32m    610\u001b[0m         map_func \u001b[38;5;241m=\u001b[39m partial(\u001b[38;5;28mcls\u001b[39m\u001b[38;5;241m.\u001b[39mmap, plotter\u001b[38;5;241m=\u001b[39m\u001b[38;5;28mself\u001b[39m)\n",
      "File \u001b[1;32mD:\\Projects\\venv\\lib\\site-packages\\seaborn\\_core.py:663\u001b[0m, in \u001b[0;36mVectorPlotter.assign_variables\u001b[1;34m(self, data, variables)\u001b[0m\n\u001b[0;32m    661\u001b[0m \u001b[38;5;28;01mif\u001b[39;00m x \u001b[38;5;129;01mis\u001b[39;00m \u001b[38;5;28;01mNone\u001b[39;00m \u001b[38;5;129;01mand\u001b[39;00m y \u001b[38;5;129;01mis\u001b[39;00m \u001b[38;5;28;01mNone\u001b[39;00m:\n\u001b[0;32m    662\u001b[0m     \u001b[38;5;28mself\u001b[39m\u001b[38;5;241m.\u001b[39minput_format \u001b[38;5;241m=\u001b[39m \u001b[38;5;124m\"\u001b[39m\u001b[38;5;124mwide\u001b[39m\u001b[38;5;124m\"\u001b[39m\n\u001b[1;32m--> 663\u001b[0m     plot_data, variables \u001b[38;5;241m=\u001b[39m \u001b[38;5;28mself\u001b[39m\u001b[38;5;241m.\u001b[39m_assign_variables_wideform(\n\u001b[0;32m    664\u001b[0m         data, \u001b[38;5;241m*\u001b[39m\u001b[38;5;241m*\u001b[39mvariables,\n\u001b[0;32m    665\u001b[0m     )\n\u001b[0;32m    666\u001b[0m \u001b[38;5;28;01melse\u001b[39;00m:\n\u001b[0;32m    667\u001b[0m     \u001b[38;5;28mself\u001b[39m\u001b[38;5;241m.\u001b[39minput_format \u001b[38;5;241m=\u001b[39m \u001b[38;5;124m\"\u001b[39m\u001b[38;5;124mlong\u001b[39m\u001b[38;5;124m\"\u001b[39m\n",
      "File \u001b[1;32mD:\\Projects\\venv\\lib\\site-packages\\seaborn\\_core.py:715\u001b[0m, in \u001b[0;36mVectorPlotter._assign_variables_wideform\u001b[1;34m(self, data, **kwargs)\u001b[0m\n\u001b[0;32m    712\u001b[0m     \u001b[38;5;28;01mraise\u001b[39;00m \u001b[38;5;167;01mValueError\u001b[39;00m(err)\n\u001b[0;32m    714\u001b[0m \u001b[38;5;66;03m# Determine if the data object actually has any data in it\u001b[39;00m\n\u001b[1;32m--> 715\u001b[0m empty \u001b[38;5;241m=\u001b[39m data \u001b[38;5;129;01mis\u001b[39;00m \u001b[38;5;28;01mNone\u001b[39;00m \u001b[38;5;129;01mor\u001b[39;00m \u001b[38;5;129;01mnot\u001b[39;00m \u001b[38;5;28;43mlen\u001b[39;49m\u001b[43m(\u001b[49m\u001b[43mdata\u001b[49m\u001b[43m)\u001b[49m\n\u001b[0;32m    717\u001b[0m \u001b[38;5;66;03m# Then, determine if we have \"flat\" data (a single vector)\u001b[39;00m\n\u001b[0;32m    718\u001b[0m \u001b[38;5;28;01mif\u001b[39;00m \u001b[38;5;28misinstance\u001b[39m(data, \u001b[38;5;28mdict\u001b[39m):\n",
      "\u001b[1;31mTypeError\u001b[0m: object of type 'numpy.int32' has no len()"
     ]
    }
   ],
   "source": [
    "sns.histplot(Z_samples, stat=\"density\", discrete=True, shrink=0.3);"
   ]
  },
  {
   "cell_type": "code",
   "execution_count": null,
   "id": "98f5835b",
   "metadata": {},
   "outputs": [],
   "source": [
    "print('Empirically calculated expected value: {}'.format(Z_samples.mean()))\n",
    "print('Theoretical expected value: {}'.format(n*p), end='\\n \\n')\n",
    "\n",
    "print('Empirically calculated variance: {}'.format(Z_samples.var()))\n",
    "print('Theoretical variance: {}'.format(n*p*(1-p)))"
   ]
  },
  {
   "cell_type": "markdown",
   "id": "3c3408a9",
   "metadata": {},
   "source": [
    "## Геометрическое распределение"
   ]
  },
  {
   "cell_type": "markdown",
   "id": "760c50c0",
   "metadata": {},
   "source": [
    "\n",
    "\n",
    "**Функция плотности:**\n",
    "<img src=\"data/img/geometric_probability_mass_function.png\" width=\"300\">\n",
    "\n",
    "**Примеры из реальности:**\n",
    "- Количество белых шаров, после вытаскивания без возварщения из урны с одинаковым количеством белых и черных шаров"
   ]
  },
  {
   "cell_type": "code",
   "execution_count": 21,
   "id": "eecea4d1",
   "metadata": {},
   "outputs": [
    {
     "data": {
      "image/png": "[encoded data removed]",
      "text/plain": [
       "<Figure size 432x288 with 1 Axes>"
      ]
     },
     "metadata": {
      "needs_background": "light"
     },
     "output_type": "display_data"
    }
   ],
   "source": [
    "p=0.2\n",
    "X = np.random.geometric(p, 1000000)\n",
    "\n",
    "sns.histplot(X, stat=\"density\", discrete=True, shrink=0.3);"
   ]
  },
  {
   "cell_type": "code",
   "execution_count": 22,
   "id": "9460fcfe",
   "metadata": {},
   "outputs": [
    {
     "name": "stdout",
     "output_type": "stream",
     "text": [
      "Theoretical expected value: 4.994358\n",
      "Empirically calculated expected value: 5.0\n"
     ]
    }
   ],
   "source": [
    "print('Theoretical expected value: ' + str(X.mean()))\n",
    "print('Empirically calculated expected value: ' + str(1/p))"
   ]
  },
  {
   "cell_type": "markdown",
   "id": "1a2775f3",
   "metadata": {},
   "source": [
    "## Распределение Пуассона"
   ]
  },
  {
   "cell_type": "markdown",
   "id": "5b8ec148",
   "metadata": {},
   "source": [
    "    – распределение Бернулли при переходе на бесконечность\n",
    "    – то, о чём надо вспоминать, когда идёт речь о подсчёте событий за определённое время при постоянной заданной интенсивности.\n",
    "\n",
    "**Примеры из реальности:**\n",
    "- Количество звонков в чат поддержки в единицу времени"
   ]
  },
  {
   "cell_type": "markdown",
   "id": "39daa692",
   "metadata": {},
   "source": [
    "Одно полезное свойство распределения Пуассона заключается в том, что его параметр равен его математическому ожиданию.\n",
    "\n",
    "При увеличении параметра $\\lambda повышается вероятность принятия случайной переменной б**о**льших значений"
   ]
  },
  {
   "cell_type": "code",
   "execution_count": 23,
   "id": "6363607b",
   "metadata": {},
   "outputs": [
    {
     "data": {
      "image/png": "[encoded data removed]",
      "text/plain": [
       "<Figure size 432x288 with 1 Axes>"
      ]
     },
     "metadata": {
      "needs_background": "light"
     },
     "output_type": "display_data"
    }
   ],
   "source": [
    "a = np.arange(16)\n",
    "poi = stats.poisson\n",
    "\n",
    "lambda_ = [1.5, 4.25]\n",
    "colors = [\"#348ABD\", \"#A60628\"]\n",
    "\n",
    "\n",
    "plt.bar(a, poi.pmf(a, lambda_[0]), color=[colors[0]],\n",
    "       label=\"$\\lambda = %.1f$\" % lambda_[0], alpha=0.60,\n",
    "       edgecolor=colors[0], lw=\"3\")\n",
    "\n",
    "plt.bar(a, poi.pmf(a, lambda_[1]), color=[colors[1]],\n",
    "       label=\"$\\lambda = %.1f$\" % lambda_[1], alpha=0.60,\n",
    "       edgecolor=colors[1], lw=\"3\")\n",
    "\n",
    "plt.xticks(a + 0.5, a)\n",
    "plt.legend()\n",
    "plt.ylabel(u\"$k$\")\n",
    "plt.xlabel(u\"$k$\")\n",
    "\n",
    "plt.title(u\"Функция распределения масс пуассоновской случайной переменной\\при различных значениях $\\lambda$ values \\n\");"
   ]
  },
  {
   "cell_type": "markdown",
   "id": "95a3c4c4",
   "metadata": {},
   "source": [
    "## Нормальное распределение"
   ]
  },
  {
   "cell_type": "markdown",
   "id": "37654a51",
   "metadata": {},
   "source": [
    "<img src=\"data/img/normal_distribution.png\" width=\"600\">"
   ]
  },
  {
   "cell_type": "code",
   "execution_count": 24,
   "id": "20abae3e",
   "metadata": {},
   "outputs": [
    {
     "data": {
      "image/png": "[encoded data removed]",
      "text/plain": [
       "<Figure size 432x288 with 1 Axes>"
      ]
     },
     "metadata": {
      "needs_background": "light"
     },
     "output_type": "display_data"
    }
   ],
   "source": [
    "mu = 3 # mean value - среднее значение\n",
    "sigma = 2 # standart deviation - стандартное отклонение\n",
    "\n",
    "# Сгенерим нашу генеральную совокупность\n",
    "s = np.random.normal(mu, sigma, 10000) # сренерируем набор случайных чисел, с нормальных распределением. \n",
    "\n",
    "count, bins, ignored = plt.hist(s, 30, density=True) # нарисуем график функции плотности случайной величины\n",
    "\n",
    "plt.plot(bins, 1/(sigma * np.sqrt(2 * np.pi)) *np.exp( - (bins - mu)**2 / (2 * sigma**2) ),linewidth=2, color='r')\n",
    "plt.show()"
   ]
  },
  {
   "cell_type": "markdown",
   "id": "3fb9d1eb",
   "metadata": {},
   "source": [
    "### Эксперимент"
   ]
  },
  {
   "cell_type": "markdown",
   "id": "9657caa2",
   "metadata": {},
   "source": [
    "Почему, например, низких и высоких людей гораздо меньше чем средних? Дело в том, что рост зависит от множества факторов со сложной историей, которые можно представлять как шум. Попробуйте задать массив случайных чисел с равномерным распределением и постройте его гистограмму. Затем, приплюсуйте к нему новый рандомный массив. И еще, и еще... Тогда можно заметить, как гистограмма постепенно принимает вид нормального распределения. \n",
    "\n",
    "Это очень круто. Бывает, у некоторых возникает суеверный экстаз, когда им говорят, что для многих явлений свойственны схожие зависимости, а оказывается, что здесь работает банальная математика\n",
    "\n",
    "---"
   ]
  },
  {
   "cell_type": "markdown",
   "id": "0d5e1ac0",
   "metadata": {},
   "source": [
    "Тоесть, допустип мы сделали 1 000 000 измерений какого-нибудь процесса. Значение измерения зависит от множества факторов - тоесть равно сумме значений этих факторов. При этом каждый фактор имеет равномерное распределение, тоесть с равной вероятностью принимает любое значение от 0 до 1."
   ]
  },
  {
   "cell_type": "code",
   "execution_count": 171,
   "id": "4f873e35",
   "metadata": {},
   "outputs": [],
   "source": [
    "n = 10\n",
    "d = 1_000_000\n",
    "heights = np.array([0.0] * d)"
   ]
  },
  {
   "cell_type": "markdown",
   "id": "3e163cef",
   "metadata": {},
   "source": [
    "При выполнении следующей ячейки мы добавляем новый фактор к процессу и смотрим финальное распределение значений:"
   ]
  },
  {
   "cell_type": "code",
   "execution_count": 179,
   "id": "6964da30",
   "metadata": {},
   "outputs": [
    {
     "data": {
      "image/png": "[encoded data removed]",
      "text/plain": [
       "<Figure size 432x288 with 1 Axes>"
      ]
     },
     "metadata": {
      "needs_background": "light"
     },
     "output_type": "display_data"
    }
   ],
   "source": [
    "heights += np.random.uniform(low=0, high=1, size=(d,))\n",
    "\n",
    "# Дискретный случай\n",
    "# heights += np.random.randint(low=0, high=2, size=(d,))\n",
    "\n",
    "plt.hist(heights, bins=150, density=True)\n",
    "plt.show()"
   ]
  },
  {
   "cell_type": "markdown",
   "id": "6cda2f6c",
   "metadata": {},
   "source": [
    "Таким образом, чем больше равновероятных факторов в процессе (шумов), тем ближе его распределение к нормальному."
   ]
  },
  {
   "cell_type": "markdown",
   "id": "8726cdbe",
   "metadata": {},
   "source": [
    "## Логистическое распределение"
   ]
  },
  {
   "cell_type": "code",
   "execution_count": 10,
   "id": "2f3b0bbd",
   "metadata": {},
   "outputs": [
    {
     "data": {
      "image/png": "[encoded data removed]",
      "text/plain": [
       "<Figure size 432x288 with 1 Axes>"
      ]
     },
     "metadata": {
      "needs_background": "light"
     },
     "output_type": "display_data"
    }
   ],
   "source": [
    "mu = 3 # mean value - среднее значение\n",
    "sigma = 2 # standart deviation - стандартное отклонение\n",
    "\n",
    "\n",
    "s = np.random.logistic(mu, sigma, 10000)\n",
    "\n",
    "count, bins, ignored = plt.hist(s, 30, density=True)\n",
    "\n",
    "plt.plot(bins, 1/(sigma * np.sqrt(2 * np.pi)) *np.exp( - (bins - mu)**2 / (2 * sigma**2) ),linewidth=2, color='r')\n",
    "plt.show()"
   ]
  },
  {
   "cell_type": "markdown",
   "id": "1c9919f9",
   "metadata": {},
   "source": [
    "## Экспоненциальное распределение"
   ]
  },
  {
   "cell_type": "code",
   "execution_count": 11,
   "id": "247f1969",
   "metadata": {},
   "outputs": [
    {
     "data": {
      "image/png": "[encoded data removed]",
      "text/plain": [
       "<Figure size 432x288 with 1 Axes>"
      ]
     },
     "metadata": {
      "needs_background": "light"
     },
     "output_type": "display_data"
    }
   ],
   "source": [
    "mu = 3 # mean value - среднее значение\n",
    "sigma = 2 # standart deviation - стандартное отклонение\n",
    "\n",
    "\n",
    "s = np.random.exponential(mu, 10000)\n",
    "\n",
    "count, bins, ignored = plt.hist(s, 30, density=True)\n",
    "\n",
    "plt.plot(bins, 1/(sigma * np.sqrt(2 * np.pi)) *np.exp( - (bins - mu)**2 / (2 * sigma**2) ), linewidth=2, color='r')\n",
    "plt.show()"
   ]
  },
  {
   "cell_type": "markdown",
   "id": "56b5b358",
   "metadata": {},
   "source": [
    "## Распределение Парето"
   ]
  },
  {
   "cell_type": "code",
   "execution_count": 12,
   "id": "02fb564e",
   "metadata": {},
   "outputs": [
    {
     "data": {
      "image/png": "[encoded data removed]",
      "text/plain": [
       "<Figure size 432x288 with 1 Axes>"
      ]
     },
     "metadata": {
      "needs_background": "light"
     },
     "output_type": "display_data"
    }
   ],
   "source": [
    "mu = 3 # mean value - среднее значение\n",
    "sigma = 2 # standart deviation - стандартное отклонение\n",
    "\n",
    "\n",
    "s = np.random.pareto(mu, 10000)\n",
    "\n",
    "count, bins, ignored = plt.hist(s, 30, density=True)\n",
    "\n",
    "plt.plot(bins, 1/(sigma * np.sqrt(2 * np.pi)) *np.exp( - (bins - mu)**2 / (2 * sigma**2) ),linewidth=2, color='r')\n",
    "plt.show()"
   ]
  },
  {
   "cell_type": "code",
   "execution_count": null,
   "id": "dca41ef8",
   "metadata": {},
   "outputs": [],
   "source": []
  }
 ],
 "metadata": {
  "kernelspec": {
   "display_name": "venv",
   "language": "python",
   "name": "venv"
  },
  "language_info": {
   "codemirror_mode": {
    "name": "ipython",
    "version": 3
   },
   "file_extension": ".py",
   "mimetype": "text/x-python",
   "name": "python",
   "nbconvert_exporter": "python",
   "pygments_lexer": "ipython3",
   "version": "3.10.2"
  }
 },
 "nbformat": 4,
 "nbformat_minor": 5
}
