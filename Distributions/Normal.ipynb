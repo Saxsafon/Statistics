{
 "cells": [
  {
   "cell_type": "markdown",
   "id": "4fd72fb7",
   "metadata": {},
   "source": [
    "# Настройка ноутбука"
   ]
  },
  {
   "cell_type": "code",
   "execution_count": 47,
   "id": "c14a5665",
   "metadata": {},
   "outputs": [],
   "source": [
    "import pandas as pd\n",
    "import numpy as np\n",
    "import datetime as dt\n",
    "import random\n",
    "\n",
    "import scipy.stats as st\n",
    "\n",
    "import seaborn as sns\n",
    "import matplotlib.pyplot as plt\n",
    "%matplotlib inline"
   ]
  },
  {
   "cell_type": "code",
   "execution_count": 48,
   "id": "95830a87",
   "metadata": {},
   "outputs": [
    {
     "data": {
      "text/html": [
       "<style>.container { width:100% !important; }</style>"
      ],
      "text/plain": [
       "<IPython.core.display.HTML object>"
      ]
     },
     "metadata": {},
     "output_type": "display_data"
    }
   ],
   "source": [
    "# Расширить рабочее поле ноутбука на весь экран\n",
    "from IPython.display import display, HTML\n",
    "display(HTML(\"<style>.container { width:100% !important; }</style>\"))"
   ]
  },
  {
   "cell_type": "markdown",
   "id": "dea2f5e5",
   "metadata": {},
   "source": [
    "# Описание"
   ]
  },
  {
   "cell_type": "markdown",
   "id": "f3ee702d",
   "metadata": {},
   "source": [
    "**Курс:**\n",
    "- [Stepik: Основы статистики ч.1 - Нормальное распределение](https://stepik.org/lesson/9166?unit=1828)\n",
    "\n",
    "**Видео:**\n",
    "- [StatQuest: The Normal Distribution, Clearly Explained!!!](https://www.youtube.com/watch?v=rzFX5NWojp0&ab_channel=StatQuestwithJoshStarmer)\n",
    "- [StatQuest: Quantile-Quantile Plots (QQ plots), Clearly Explained!!!](https://www.youtube.com/watch?v=okjYjClSjOg)\n",
    "- [Основы ЦОС: Шум как случайный процесс](https://www.youtube.com/watch?v=c5mG7jv0JgA&list=PLmu_y3-DV2_kpP8oX_Uug0IbgH2T4hRPL&index=15)\n",
    "- [VitalMath: Самое нормальное распределение](https://www.youtube.com/watch?v=mul50ZplMWs&ab_channel=VitalMath)"
   ]
  },
  {
   "cell_type": "markdown",
   "id": "1c633eed",
   "metadata": {},
   "source": [
    "# Концепты"
   ]
  },
  {
   "cell_type": "markdown",
   "id": "587fac26",
   "metadata": {},
   "source": [
    "## Нормальное распределение"
   ]
  },
  {
   "cell_type": "markdown",
   "id": "8eeda57a",
   "metadata": {},
   "source": [
    "<img src=\"../data/img/normal_distribution.png\" width=\"600\">"
   ]
  },
  {
   "cell_type": "markdown",
   "id": "21ea4134",
   "metadata": {},
   "source": [
    "### Генерация распределения"
   ]
  },
  {
   "cell_type": "code",
   "execution_count": 49,
   "id": "ec6d20d9",
   "metadata": {},
   "outputs": [],
   "source": [
    "m = 3 # mean value - среднее значение\n",
    "sigma = 2 # standart deviation - стандартное отклонение\n",
    "n = 10000"
   ]
  },
  {
   "cell_type": "code",
   "execution_count": 50,
   "id": "7fdb3dbc",
   "metadata": {},
   "outputs": [],
   "source": [
    "# numpy.random\n",
    "s = np.random.normal(m, sigma, n) # сренерируем набор случайных чисел, с нормальных распределением. "
   ]
  },
  {
   "cell_type": "code",
   "execution_count": 51,
   "id": "4492a6b2",
   "metadata": {},
   "outputs": [],
   "source": [
    "# scipy.stats\n",
    "norm = st.norm(m, sigma)\n",
    "s = np.array(norm.rvs(n))"
   ]
  },
  {
   "cell_type": "code",
   "execution_count": 52,
   "id": "1af62ed9",
   "metadata": {},
   "outputs": [
    {
     "data": {
      "image/png": "[encoded data removed]",
      "text/plain": [
       "<Figure size 432x288 with 1 Axes>"
      ]
     },
     "metadata": {
      "needs_background": "light"
     },
     "output_type": "display_data"
    }
   ],
   "source": [
    "count, bins, ignored = plt.hist(s, 30, density=True) # нарисуем график функции плотности случайной величины\n",
    "\n",
    "plt.plot(bins, \n",
    "         1/(sigma * np.sqrt(2 * np.pi)) * np.exp( - (bins - m)**2 / (2 * sigma**2) ), linewidth=2, color='r')\n",
    "plt.show()"
   ]
  },
  {
   "cell_type": "code",
   "execution_count": 53,
   "id": "9e0de02a",
   "metadata": {},
   "outputs": [
    {
     "data": {
      "image/png": "[encoded data removed]",
      "text/plain": [
       "<Figure size 432x288 with 2 Axes>"
      ]
     },
     "metadata": {
      "needs_background": "light"
     },
     "output_type": "display_data"
    }
   ],
   "source": [
    "count, bins_count = np.histogram(s, bins=50)\n",
    "\n",
    "pdf = count / sum(count)\n",
    "cdf = np.cumsum(pdf)\n",
    "\n",
    "\n",
    "f, (ax_pdf, ax_cdf) = plt.subplots(2, sharex=True)\n",
    "\n",
    "ax_pdf.plot(bins_count[1:], pdf, label=\"PDF\", color='orange')\n",
    "ax_pdf.legend()\n",
    "\n",
    "ax_cdf.plot(bins_count[1:], cdf, label=\"CDF\", color='grey')\n",
    "ax_cdf.legend()\n",
    "\n",
    "plt.show()"
   ]
  },
  {
   "cell_type": "markdown",
   "id": "d49eee11",
   "metadata": {},
   "source": [
    "Если дисперсия невелика, то вероятность встретить значения, сильно отличающиеся от среднего, мала, и наоборот."
   ]
  },
  {
   "cell_type": "markdown",
   "id": "cbdbea26",
   "metadata": {},
   "source": [
    "### Наложение равновероятных величин"
   ]
  },
  {
   "cell_type": "markdown",
   "id": "efa4f05a",
   "metadata": {},
   "source": [
    "Почему, например, низких и высоких людей гораздо меньше чем средних? Дело в том, что рост зависит от множества факторов со сложной историей, которые можно представлять как шум. Попробуйте задать массив случайных чисел с равномерным распределением и постройте его гистограмму. Затем, приплюсуйте к нему новый рандомный массив. И еще, и еще... Тогда можно заметить, как гистограмма постепенно принимает вид нормального распределения. \n",
    "\n",
    "Это очень круто. Бывает, у некоторых возникает суеверный экстаз, когда им говорят, что для многих явлений свойственны схожие зависимости, а оказывается, что здесь работает банальная математика\n",
    "\n",
    "---"
   ]
  },
  {
   "cell_type": "markdown",
   "id": "6e98345f",
   "metadata": {},
   "source": [
    "Тоесть, допустип мы сделали 1 000 000 измерений какого-нибудь процесса. Значение измерения зависит от множества факторов - тоесть равно сумме значений этих факторов. При этом каждый фактор имеет равномерное распределение, тоесть с равной вероятностью принимает любое значение от 0 до 1."
   ]
  },
  {
   "cell_type": "code",
   "execution_count": 54,
   "id": "61e086a6",
   "metadata": {},
   "outputs": [],
   "source": [
    "d = 1_000_000\n",
    "heights = np.array([0.0] * d)"
   ]
  },
  {
   "cell_type": "markdown",
   "id": "83d8ae4d",
   "metadata": {},
   "source": [
    "При выполнении следующей ячейки мы добавляем новый фактор к процессу и смотрим финальное распределение значений:"
   ]
  },
  {
   "cell_type": "code",
   "execution_count": 55,
   "id": "a6c13682",
   "metadata": {},
   "outputs": [
    {
     "data": {
      "image/png": "[encoded data removed]",
      "text/plain": [
       "<Figure size 432x288 with 2 Axes>"
      ]
     },
     "metadata": {
      "needs_background": "light"
     },
     "output_type": "display_data"
    }
   ],
   "source": [
    "# Дискретные случаи\n",
    "# factor = np.random.randint(low=0, high=2, size=(d,)) # аналог подбрасывания n-го количества монеток с суммированием орлов\n",
    "factor = np.random.randint(low=1, high=7, size=(d,)) # агалог подрбрасывания n-го количества костей с суммированием очков\n",
    "\n",
    "# Непрерывные случаи\n",
    "# factor = np.random.uniform(low=0, high=1, size=(d,))\n",
    "\n",
    "heights += factor\n",
    "\n",
    "f, (ax_factors, ax_heights) = plt.subplots(2, sharex=True, gridspec_kw={\"height_ratios\": (.15, .85)})\n",
    "\n",
    "sns.histplot(x=factor, ax = ax_factors, discrete=True)\n",
    "sns.histplot(\n",
    "    x=heights, \n",
    "    ax = ax_heights,\n",
    "    discrete=True\n",
    ");"
   ]
  },
  {
   "cell_type": "markdown",
   "id": "8ddb55ac",
   "metadata": {},
   "source": [
    "Таким образом, чем больше равновероятных факторов в процессе (шумов), тем ближе его распределение к нормальному. Однако, остается вопрос - почему так происходит?"
   ]
  },
  {
   "cell_type": "markdown",
   "id": "e425f894",
   "metadata": {},
   "source": [
    "### Наложение нескольких нормально распределенных случайных величин"
   ]
  },
  {
   "cell_type": "code",
   "execution_count": 69,
   "id": "e6978190",
   "metadata": {},
   "outputs": [],
   "source": [
    "n = 100\n",
    "sum_dist = np.array([0.0] * n)"
   ]
  },
  {
   "cell_type": "code",
   "execution_count": 79,
   "id": "6ce72763",
   "metadata": {},
   "outputs": [
    {
     "data": {
      "image/png": "[encoded data removed]",
      "text/plain": [
       "<Figure size 432x288 with 2 Axes>"
      ]
     },
     "metadata": {
      "needs_background": "light"
     },
     "output_type": "display_data"
    }
   ],
   "source": [
    "m = random.randint(1, 10)\n",
    "sigma = random.randint(1, 10)\n",
    "\n",
    "add_dist = st.norm(m, sigma).rvs(n)\n",
    "sum_dist += add_dist\n",
    "\n",
    "f, (ax_add, ax_sum) = plt.subplots(2, sharex=True, gridspec_kw={\"height_ratios\": (.5, .5)})\n",
    "\n",
    "sns.histplot(x=add_dist, ax = ax_add, discrete=True)\n",
    "sns.histplot(\n",
    "    x=sum_dist, \n",
    "    ax = ax_sum,\n",
    "    discrete=True\n",
    ");"
   ]
  },
  {
   "cell_type": "markdown",
   "id": "3c468d88",
   "metadata": {},
   "source": [
    "#### Примеры задач:"
   ]
  },
  {
   "cell_type": "markdown",
   "id": "67116152",
   "metadata": {},
   "source": [
    "- [InterviewQuery: Distribution of 2X - Y](https://www.interviewquery.com/questions/distribution-of-2x---y)"
   ]
  },
  {
   "cell_type": "markdown",
   "id": "402b012e",
   "metadata": {},
   "source": [
    "## Z-значение"
   ]
  },
  {
   "cell_type": "markdown",
   "id": "852b895e",
   "metadata": {},
   "source": [
    "Z - преобразование часто используется, чтобы все наблюдения перевести в z - шкалу (M = 0, sd = 1) для упрощения работы с данными."
   ]
  },
  {
   "cell_type": "markdown",
   "id": "104925bd",
   "metadata": {},
   "source": [
    "<img src=\"../data/img/z-value_1.png\" width=\"200\">\n",
    "\n",
    "<img src=\"../data/img/z-value_2.png\" width=\"200\">"
   ]
  },
  {
   "cell_type": "markdown",
   "id": "768067a2",
   "metadata": {},
   "source": [
    "### Рассчет z-значения"
   ]
  },
  {
   "cell_type": "code",
   "execution_count": 23,
   "id": "32294d85",
   "metadata": {},
   "outputs": [
    {
     "data": {
      "text/html": [
       "<div>\n",
       "<style scoped>\n",
       "    .dataframe tbody tr th:only-of-type {\n",
       "        vertical-align: middle;\n",
       "    }\n",
       "\n",
       "    .dataframe tbody tr th {\n",
       "        vertical-align: top;\n",
       "    }\n",
       "\n",
       "    .dataframe thead th {\n",
       "        text-align: right;\n",
       "    }\n",
       "</style>\n",
       "<table border=\"1\" class=\"dataframe\">\n",
       "  <thead>\n",
       "    <tr style=\"text-align: right;\">\n",
       "      <th></th>\n",
       "      <th>A</th>\n",
       "      <th>B</th>\n",
       "      <th>C</th>\n",
       "    </tr>\n",
       "  </thead>\n",
       "  <tbody>\n",
       "    <tr>\n",
       "      <th>0</th>\n",
       "      <td>183</td>\n",
       "      <td>182</td>\n",
       "      <td>165</td>\n",
       "    </tr>\n",
       "    <tr>\n",
       "      <th>1</th>\n",
       "      <td>110</td>\n",
       "      <td>120</td>\n",
       "      <td>117</td>\n",
       "    </tr>\n",
       "    <tr>\n",
       "      <th>2</th>\n",
       "      <td>197</td>\n",
       "      <td>101</td>\n",
       "      <td>106</td>\n",
       "    </tr>\n",
       "    <tr>\n",
       "      <th>3</th>\n",
       "      <td>126</td>\n",
       "      <td>117</td>\n",
       "      <td>137</td>\n",
       "    </tr>\n",
       "    <tr>\n",
       "      <th>4</th>\n",
       "      <td>193</td>\n",
       "      <td>160</td>\n",
       "      <td>117</td>\n",
       "    </tr>\n",
       "  </tbody>\n",
       "</table>\n",
       "</div>"
      ],
      "text/plain": [
       "     A    B    C\n",
       "0  183  182  165\n",
       "1  110  120  117\n",
       "2  197  101  106\n",
       "3  126  117  137\n",
       "4  193  160  117"
      ]
     },
     "execution_count": 23,
     "metadata": {},
     "output_type": "execute_result"
    }
   ],
   "source": [
    "df = pd.DataFrame(np.random.randint(100, 200, size=(5, 3)), columns=['A', 'B', 'C'])\n",
    "df"
   ]
  },
  {
   "cell_type": "code",
   "execution_count": 28,
   "id": "b3f04dd7",
   "metadata": {},
   "outputs": [
    {
     "data": {
      "text/html": [
       "<div>\n",
       "<style scoped>\n",
       "    .dataframe tbody tr th:only-of-type {\n",
       "        vertical-align: middle;\n",
       "    }\n",
       "\n",
       "    .dataframe tbody tr th {\n",
       "        vertical-align: top;\n",
       "    }\n",
       "\n",
       "    .dataframe thead th {\n",
       "        text-align: right;\n",
       "    }\n",
       "</style>\n",
       "<table border=\"1\" class=\"dataframe\">\n",
       "  <thead>\n",
       "    <tr style=\"text-align: right;\">\n",
       "      <th></th>\n",
       "      <th>A</th>\n",
       "      <th>B</th>\n",
       "      <th>C</th>\n",
       "    </tr>\n",
       "  </thead>\n",
       "  <tbody>\n",
       "    <tr>\n",
       "      <th>0</th>\n",
       "      <td>0.582330</td>\n",
       "      <td>1.527573</td>\n",
       "      <td>1.754755</td>\n",
       "    </tr>\n",
       "    <tr>\n",
       "      <th>1</th>\n",
       "      <td>-1.422862</td>\n",
       "      <td>-0.531330</td>\n",
       "      <td>-0.546563</td>\n",
       "    </tr>\n",
       "    <tr>\n",
       "      <th>2</th>\n",
       "      <td>0.966887</td>\n",
       "      <td>-1.162284</td>\n",
       "      <td>-1.073948</td>\n",
       "    </tr>\n",
       "    <tr>\n",
       "      <th>3</th>\n",
       "      <td>-0.983368</td>\n",
       "      <td>-0.630954</td>\n",
       "      <td>0.412319</td>\n",
       "    </tr>\n",
       "    <tr>\n",
       "      <th>4</th>\n",
       "      <td>0.857014</td>\n",
       "      <td>0.796995</td>\n",
       "      <td>-0.546563</td>\n",
       "    </tr>\n",
       "  </tbody>\n",
       "</table>\n",
       "</div>"
      ],
      "text/plain": [
       "          A         B         C\n",
       "0  0.582330  1.527573  1.754755\n",
       "1 -1.422862 -0.531330 -0.546563\n",
       "2  0.966887 -1.162284 -1.073948\n",
       "3 -0.983368 -0.630954  0.412319\n",
       "4  0.857014  0.796995 -0.546563"
      ]
     },
     "execution_count": 28,
     "metadata": {},
     "output_type": "execute_result"
    }
   ],
   "source": [
    "(df - df.mean())/df.std(ddof=0)"
   ]
  },
  {
   "cell_type": "code",
   "execution_count": 24,
   "id": "b70cd38d",
   "metadata": {},
   "outputs": [
    {
     "data": {
      "text/html": [
       "<div>\n",
       "<style scoped>\n",
       "    .dataframe tbody tr th:only-of-type {\n",
       "        vertical-align: middle;\n",
       "    }\n",
       "\n",
       "    .dataframe tbody tr th {\n",
       "        vertical-align: top;\n",
       "    }\n",
       "\n",
       "    .dataframe thead th {\n",
       "        text-align: right;\n",
       "    }\n",
       "</style>\n",
       "<table border=\"1\" class=\"dataframe\">\n",
       "  <thead>\n",
       "    <tr style=\"text-align: right;\">\n",
       "      <th></th>\n",
       "      <th>A</th>\n",
       "      <th>B</th>\n",
       "      <th>C</th>\n",
       "    </tr>\n",
       "  </thead>\n",
       "  <tbody>\n",
       "    <tr>\n",
       "      <th>0</th>\n",
       "      <td>0.582330</td>\n",
       "      <td>1.527573</td>\n",
       "      <td>1.754755</td>\n",
       "    </tr>\n",
       "    <tr>\n",
       "      <th>1</th>\n",
       "      <td>-1.422862</td>\n",
       "      <td>-0.531330</td>\n",
       "      <td>-0.546563</td>\n",
       "    </tr>\n",
       "    <tr>\n",
       "      <th>2</th>\n",
       "      <td>0.966887</td>\n",
       "      <td>-1.162284</td>\n",
       "      <td>-1.073948</td>\n",
       "    </tr>\n",
       "    <tr>\n",
       "      <th>3</th>\n",
       "      <td>-0.983368</td>\n",
       "      <td>-0.630954</td>\n",
       "      <td>0.412319</td>\n",
       "    </tr>\n",
       "    <tr>\n",
       "      <th>4</th>\n",
       "      <td>0.857014</td>\n",
       "      <td>0.796995</td>\n",
       "      <td>-0.546563</td>\n",
       "    </tr>\n",
       "  </tbody>\n",
       "</table>\n",
       "</div>"
      ],
      "text/plain": [
       "          A         B         C\n",
       "0  0.582330  1.527573  1.754755\n",
       "1 -1.422862 -0.531330 -0.546563\n",
       "2  0.966887 -1.162284 -1.073948\n",
       "3 -0.983368 -0.630954  0.412319\n",
       "4  0.857014  0.796995 -0.546563"
      ]
     },
     "execution_count": 24,
     "metadata": {},
     "output_type": "execute_result"
    }
   ],
   "source": [
    "df.apply(st.zscore)"
   ]
  },
  {
   "cell_type": "markdown",
   "id": "b4c8208c",
   "metadata": {},
   "source": [
    "#### Пример задачи"
   ]
  },
  {
   "cell_type": "markdown",
   "id": "122728f4",
   "metadata": {},
   "source": [
    "Допустим, мы измерили рост 1000 человек, данное распределение оказалось нормальным со средним равным 175 и стандартным отклонением равным 8 (M = 175, sd = 8). Рост одного из испытуемых составил 186,2. Чему равняется z - значение, рассчитанное для этого испытуемого?"
   ]
  },
  {
   "cell_type": "code",
   "execution_count": 7,
   "id": "c9042104",
   "metadata": {},
   "outputs": [],
   "source": [
    "M = 175\n",
    "sd = 8\n",
    "exp = 186.2"
   ]
  },
  {
   "cell_type": "code",
   "execution_count": 9,
   "id": "a91efb61",
   "metadata": {},
   "outputs": [
    {
     "data": {
      "text/plain": [
       "1.4"
      ]
     },
     "execution_count": 9,
     "metadata": {},
     "output_type": "execute_result"
    }
   ],
   "source": [
    "round((exp-M)/sd, 2)"
   ]
  },
  {
   "cell_type": "markdown",
   "id": "0cc4a379",
   "metadata": {},
   "source": [
    "Другими словами, z-преобразование дает понять в скольких стандартных отклонениях находится отдельно взятое значение. Например, человек с ростом 186,2 находится примерно в 1.4 стандартных отклонениях от среднего (1.4*8 = 11,2, именно на столько отличается рост этого человека от среднего).\n",
    "\n",
    "Если отдельное наблюдение меньше, чем выборочное среднее, то соответствующее z - значение будет отрицательным."
   ]
  },
  {
   "cell_type": "markdown",
   "id": "bfe2d73e",
   "metadata": {},
   "source": [
    "## Правила двух и трех сигм для Нормального распределения"
   ]
  },
  {
   "cell_type": "markdown",
   "id": "53dd17ce",
   "metadata": {},
   "source": [
    "<img src=\"../data/img/3-sigma.png\" width=\"500\">"
   ]
  },
  {
   "cell_type": "markdown",
   "id": "27836905",
   "metadata": {},
   "source": [
    "Mx ± σ ≈ 68.26% наблюдений\n",
    "\n",
    "Mx ± 2σ ≈ 95.44% наблюдений\n",
    "\n",
    "Mx ± 3σ ≈ 99.72% наблюдений"
   ]
  },
  {
   "cell_type": "markdown",
   "id": "7f0b9ee7",
   "metadata": {},
   "source": [
    "- [Сайт для вычисления процента наблюдений в интересующем нас диапазоне](https://gallery.shinyapps.io/dist_calc/)\n",
    "- [Таблица процент наблюдений, не превышающий указанное z-значение](https://web.archive.org/web/20180729102938/http:/users.stat.ufl.edu/~athienit/Tables/Ztable.pdf)\n",
    "- [Таблица процент наблюдений, превышающий указанное z-значение](http://www.normaltable.com/ztable-righttailed.html)\n"
   ]
  },
  {
   "cell_type": "markdown",
   "id": "22d5af77",
   "metadata": {},
   "source": [
    "#### Примеры задач:"
   ]
  },
  {
   "cell_type": "markdown",
   "id": "ad77cb1a",
   "metadata": {},
   "source": [
    "- [InterviewQuery: Drawing Random Variable - \n",
    "Medium](https://www.interviewquery.com/questions/drawing-random-variable)"
   ]
  },
  {
   "cell_type": "markdown",
   "id": "43dc8817",
   "metadata": {},
   "source": [
    "Считается, что значение IQ (уровень интеллекта) у людей имеет нормальное распределение со средним значением равным 100 и стандартным отклонением равным 15 (M = 100, sd = 15). Какой приблизительно процент людей обладает IQ > 125?"
   ]
  },
  {
   "cell_type": "code",
   "execution_count": 15,
   "id": "8e82cf91",
   "metadata": {},
   "outputs": [
    {
     "data": {
      "text/plain": [
       "1.6666666666666667"
      ]
     },
     "metadata": {},
     "output_type": "display_data"
    },
    {
     "data": {
      "text/plain": [
       "0.047790352272814696"
      ]
     },
     "metadata": {},
     "output_type": "display_data"
    }
   ],
   "source": [
    "import scipy.stats as st\n",
    "\n",
    "M = 100\n",
    "std = 15\n",
    "point = 125\n",
    "\n",
    "z = abs(point - M) / std\n",
    "probability_of_point = 1 - st.norm.cdf(z)\n",
    "\n",
    "display(z)\n",
    "display(probability_of_point)"
   ]
  },
  {
   "cell_type": "markdown",
   "id": "708a36b4",
   "metadata": {},
   "source": [
    "Какой приблизительно процент людей обладает IQ  на промежутке от 70 до 112?"
   ]
  },
  {
   "cell_type": "code",
   "execution_count": null,
   "id": "11ac99d1",
   "metadata": {},
   "outputs": [],
   "source": []
  }
 ],
 "metadata": {
  "hide_input": false,
  "kernelspec": {
   "display_name": "venv",
   "language": "python",
   "name": "venv"
  },
  "language_info": {
   "codemirror_mode": {
    "name": "ipython",
    "version": 3
   },
   "file_extension": ".py",
   "mimetype": "text/x-python",
   "name": "python",
   "nbconvert_exporter": "python",
   "pygments_lexer": "ipython3",
   "version": "3.10.2"
  },
  "toc": {
   "base_numbering": 1,
   "nav_menu": {},
   "number_sections": true,
   "sideBar": true,
   "skip_h1_title": false,
   "title_cell": "Table of Contents",
   "title_sidebar": "Contents",
   "toc_cell": false,
   "toc_position": {},
   "toc_section_display": true,
   "toc_window_display": false
  }
 },
 "nbformat": 4,
 "nbformat_minor": 5
}
