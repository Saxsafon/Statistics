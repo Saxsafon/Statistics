{
 "cells": [
  {
   "cell_type": "markdown",
   "metadata": {},
   "source": [
    "# Настройка ноутбука"
   ]
  },
  {
   "cell_type": "code",
   "execution_count": 30,
   "metadata": {},
   "outputs": [],
   "source": [
    "import numpy as np\n",
    "import pandas as pd\n",
    "from scipy import stats as st\n",
    "\n",
    "import seaborn as sns\n",
    "import matplotlib.pyplot as plt\n",
    "%matplotlib inline"
   ]
  },
  {
   "cell_type": "code",
   "execution_count": 31,
   "metadata": {},
   "outputs": [
    {
     "data": {
      "text/html": [
       "<style>.container { width:100% !important; }</style>"
      ],
      "text/plain": [
       "<IPython.core.display.HTML object>"
      ]
     },
     "metadata": {},
     "output_type": "display_data"
    }
   ],
   "source": [
    "# Расширить рабочее поле ноутбука на весь экран\n",
    "from IPython.display import display, HTML\n",
    "display(HTML(\"<style>.container { width:100% !important; }</style>\"))"
   ]
  },
  {
   "cell_type": "markdown",
   "metadata": {},
   "source": [
    "# Описание"
   ]
  },
  {
   "cell_type": "markdown",
   "metadata": {},
   "source": [
    "## Основная идея\n",
    "\n",
    "```terminal\n",
    "1) Собираем данные\n",
    "2) Определить как распределены данные \n",
    "3) Зная распределение, мы можем уверено утверждать и опровергать гипотезы\n",
    "```\n",
    "\n",
    "До того как что либо произошло, мы можем говорить лишь о вероятности того или иного исхода. Распределение вероятности описывает наше предположение о вероятности всех исходов исходя из опыта (собранных данных).  \n",
    "\n",
    "Каждое распределение вероятностей илюстрируется графиком Функции Плотности Распределения (ФПР).\n"
   ]
  },
  {
   "cell_type": "markdown",
   "metadata": {},
   "source": [
    "**Видео:**\n",
    "- [StatQuest: Quantile-Quantile Plots (QQ plots), Clearly Explained!!!](https://www.youtube.com/watch?v=okjYjClSjOg)\n",
    "- [3Blue1Brown - Binomial distributions | Probabilities of probabilities, part 1](https://www.youtube.com/watch?v=8idr1WZ1A7Q&t=576s&ab_channel=3Blue1Brown)\n",
    "\n",
    "**Статьи:**\n",
    "- [Medium: Bernoulli and Binomial Random Variables with Python](https://towardsdatascience.com/bernoulli-and-binomial-random-variables-d0698288dd36)\n",
    "- [Хабр: Типичные распределения вероятностей, шпаргалка data scientist-а](https://habr.com/ru/post/331060/)"
   ]
  },
  {
   "cell_type": "markdown",
   "metadata": {},
   "source": [
    "# Генерация случайных величин с заданым распределением"
   ]
  },
  {
   "cell_type": "markdown",
   "metadata": {},
   "source": [
    "<img src=\"../data/img/distributions.png\" width=\"650\">"
   ]
  },
  {
   "cell_type": "markdown",
   "metadata": {},
   "source": [
    "# Функции распределений\n",
    "\n",
    "[MathProfi: Непрерывная случайная величина и её функция распределения. Функция плотности распределения\n",
    "](http://mathprofi.ru/nepreryvnaya_sluchaynaya_velichina.html)\n",
    "\n",
    "**Функция плотности вероятности (Probability Density Function, PDF)** - показывает вероятность попадания случайной величины в конкретный диапазон значений\n",
    "<img src=\"../data/img/probability_density_function.png\" width=\"300\">\n",
    "\n",
    "Вероятность - это плошадь под кривой.\n",
    "\n",
    "**Кумулятивная функции распределения (Cumulutive Density Function, CDF)** - показывает вероятность того, что случайная величина меньше указанного значения либо равно ему. Она доступна только для количественных целевых значений\n",
    "<img src=\"../data/img/cumulative_density_function.png\" width=\"300\">"
   ]
  },
  {
   "cell_type": "code",
   "execution_count": 70,
   "metadata": {},
   "outputs": [],
   "source": [
    "mean = 0\n",
    "std = 3\n",
    "\n",
    "norm = st.norm(mean, std)\n",
    "values = pd.Series(norm.rvs(10000))"
   ]
  },
  {
   "cell_type": "code",
   "execution_count": 76,
   "metadata": {},
   "outputs": [
    {
     "data": {
      "image/png": "[encoded data removed]",
      "text/plain": [
       "<Figure size 432x288 with 1 Axes>"
      ]
     },
     "metadata": {
      "needs_background": "light"
     },
     "output_type": "display_data"
    }
   ],
   "source": [
    "n, bins, patches = plt.hist(values, density=False, bins=10);"
   ]
  },
  {
   "cell_type": "code",
   "execution_count": 77,
   "metadata": {},
   "outputs": [
    {
     "name": "stdout",
     "output_type": "stream",
     "text": [
      "\n",
      "\n",
      "n: [   9.   54.  373. 1353. 2648. 2898. 1898.  639.  115.   13.]\n",
      "\n",
      "sum(n): 10000.0\n",
      "\n",
      "bins: [-12.18507113  -9.83129755  -7.47752397  -5.12375039  -2.76997681\n",
      "  -0.41620323   1.93757036   4.29134394   6.64511752   8.9988911\n",
      "  11.35266468]\n",
      "\n"
     ]
    }
   ],
   "source": [
    "print(f'''\n",
    "\\nn: {n}\n",
    "\\nsum(n): {sum(n)}\n",
    "\\nbins: {bins}\n",
    "''')"
   ]
  },
  {
   "cell_type": "code",
   "execution_count": 74,
   "metadata": {},
   "outputs": [
    {
     "data": {
      "image/png": "[encoded data removed]",
      "text/plain": [
       "<Figure size 432x288 with 1 Axes>"
      ]
     },
     "metadata": {
      "needs_background": "light"
     },
     "output_type": "display_data"
    }
   ],
   "source": [
    "n, bins, patches = plt.hist(values, density=True, bins=10);"
   ]
  },
  {
   "cell_type": "code",
   "execution_count": 75,
   "metadata": {},
   "outputs": [
    {
     "name": "stdout",
     "output_type": "stream",
     "text": [
      "\n",
      "\n",
      "n: [0.00038236 0.00229419 0.01584689 0.05748216 0.1125002  0.12312144\n",
      " 0.08063647 0.0271479  0.00488577 0.0005523 ]\n",
      "\n",
      "sum(n): 0.4248497000342857\n",
      "\n",
      "bins: [-12.18507113  -9.83129755  -7.47752397  -5.12375039  -2.76997681\n",
      "  -0.41620323   1.93757036   4.29134394   6.64511752   8.9988911\n",
      "  11.35266468]\n",
      "\n"
     ]
    }
   ],
   "source": [
    "print(f'''\n",
    "\\nn: {n}\n",
    "\\nsum(n): {sum(n)}\n",
    "\\nbins: {bins}\n",
    "''')"
   ]
  },
  {
   "cell_type": "markdown",
   "metadata": {},
   "source": [
    "Как выяснилось n - это высоты bin-ов, и в сумме они не дают (и не должны давать) единицу. Вот если посчитать площадь всех столбиков и сложить, то получится единица."
   ]
  },
  {
   "cell_type": "markdown",
   "metadata": {},
   "source": [
    "### Как получить площадь столбиков графика?"
   ]
  },
  {
   "cell_type": "markdown",
   "metadata": {},
   "source": [
    "###### variant 1"
   ]
  },
  {
   "cell_type": "code",
   "execution_count": 66,
   "metadata": {},
   "outputs": [
    {
     "name": "stdout",
     "output_type": "stream",
     "text": [
      "\n",
      "len: 30\n",
      "sum: 0.9999999999999998\n",
      "\n"
     ]
    }
   ],
   "source": [
    "obs_areas = []\n",
    "\n",
    "for start, end, n_val in zip(bins[:-1], bins[1:], n):\n",
    "    area = (end-start)*n_val\n",
    "    obs_areas.append(area)\n",
    "    \n",
    "print(f'''\n",
    "len: {len(obs_areas)}\n",
    "sum: {sum(obs_areas)}\n",
    "''')"
   ]
  },
  {
   "cell_type": "markdown",
   "metadata": {},
   "source": [
    "#### variant 2"
   ]
  },
  {
   "cell_type": "code",
   "execution_count": 67,
   "metadata": {},
   "outputs": [
    {
     "name": "stdout",
     "output_type": "stream",
     "text": [
      "\n",
      "len: 30\n",
      "sum: 0.9999999999999998\n",
      "\n"
     ]
    }
   ],
   "source": [
    "areas = n * np.diff(bins)\n",
    "print(f'''\n",
    "len: {len(areas)}\n",
    "sum: {sum(areas)}\n",
    "''')"
   ]
  },
  {
   "cell_type": "markdown",
   "metadata": {},
   "source": [
    "## Распределение Бернулли"
   ]
  },
  {
   "cell_type": "markdown",
   "metadata": {},
   "source": [
    "**Функция плотности:**\n",
    "<img src=\"../data/img/bernoulli_probability_mass_function.png\" width=\"350\">\n",
    "\n",
    "**Пример из реальности:**\n",
    "- бросок (возможно \"неправильной\") монетки"
   ]
  },
  {
   "cell_type": "code",
   "execution_count": 9,
   "metadata": {},
   "outputs": [
    {
     "name": "stdout",
     "output_type": "stream",
     "text": [
      "Вероятность значения 1: 0.3\n",
      "Вероятность значения 0: 0.7\n",
      " \n"
     ]
    },
    {
     "data": {
      "image/png": "[encoded data removed]",
      "text/plain": [
       "<Figure size 432x288 with 1 Axes>"
      ]
     },
     "metadata": {
      "needs_background": "light"
     },
     "output_type": "display_data"
    }
   ],
   "source": [
    "from scipy.stats import bernoulli, binom\n",
    "\n",
    "p = 0.3\n",
    "X = st.bernoulli(p)\n",
    "\n",
    "# .pmf - Probability Mass Function - посчитать значение из функции плотности\n",
    "\n",
    "print(f'Вероятность значения 1: {np.round(X.pmf(1),2)}')\n",
    "print(f'Вероятность значения 0: {np.round(X.pmf(0), 2)}', end='\\n \\n')\n",
    "\n",
    "X_samples = X.rvs(100000)\n",
    "sns.histplot(X_samples, stat=\"density\", discrete=True, shrink=0.2);"
   ]
  },
  {
   "cell_type": "markdown",
   "metadata": {},
   "source": [
    "**Среднее значение и стандартное отклонение:**\n",
    "<img src=\"../data/img/bernoulli_mean_std_deviation.png\" width=\"400\">\n",
    "\n",
    "**Функция плотности:**\n",
    "<img src=\"../data/img/bernoulli_probability_mass_function.png\" width=\"400\">\n",
    "\n",
    "**Пример из реальности:**\n",
    "- бросок (возможно \"неправильной\") монетки"
   ]
  },
  {
   "cell_type": "code",
   "execution_count": 10,
   "metadata": {},
   "outputs": [
    {
     "name": "stdout",
     "output_type": "stream",
     "text": [
      "Empirically calculated mean: 0.3001\n",
      "Theoretical mean: 0.3\n",
      " \n",
      "Empirically calculated standard deviation: 0.4583012000857079\n",
      "Theoretical standard deviation: 0.458257569495584\n"
     ]
    }
   ],
   "source": [
    "print('Empirically calculated mean: {}'.format(X_samples.mean()))\n",
    "print('Theoretical mean: {}'.format(p), end='\\n \\n')\n",
    "\n",
    "print('Empirically calculated standard deviation: {}'.format(X_samples.std()))\n",
    "print('Theoretical standard deviation: {}'.format((p*(1-p))**(1/2)))"
   ]
  },
  {
   "cell_type": "markdown",
   "metadata": {},
   "source": [
    "## Равномерное распределение"
   ]
  },
  {
   "cell_type": "markdown",
   "metadata": {},
   "source": [
    "- [Mathprofi: Равномерное распределение вероятностей](http://mathprofi.ru/ravnomernoe_raspredelenie_veroyatnostei.html)"
   ]
  },
  {
   "cell_type": "markdown",
   "metadata": {},
   "source": [
    "\n",
    "\n",
    "**Функция плотности:**\n",
    "\n",
    "**Примеры из реальности:**\n",
    "- бросок \"правильного\" игрального кубика"
   ]
  },
  {
   "cell_type": "code",
   "execution_count": 11,
   "metadata": {},
   "outputs": [
    {
     "name": "stdout",
     "output_type": "stream",
     "text": [
      "X_samples: [0 0 0 0 0 1 1 1 1 1 2 2 2 2 2 3 3 3 3 3 4 4 4 4 4 5 5 5 5 5]\n"
     ]
    }
   ],
   "source": [
    "n_outcomes = 6\n",
    "n_samples = 30\n",
    "\n",
    "X_samples = np.array(sum([[i]*(n_samples//n_outcomes) for i in range(n_outcomes)], []))\n",
    "print(f'X_samples: {X_samples}')"
   ]
  },
  {
   "cell_type": "code",
   "execution_count": 12,
   "metadata": {},
   "outputs": [
    {
     "data": {
      "image/png": "[encoded data removed]",
      "text/plain": [
       "<Figure size 432x288 with 1 Axes>"
      ]
     },
     "metadata": {
      "needs_background": "light"
     },
     "output_type": "display_data"
    }
   ],
   "source": [
    "sns.histplot(X_samples, stat=\"density\", discrete=True, shrink=0.2);"
   ]
  },
  {
   "cell_type": "code",
   "execution_count": 13,
   "metadata": {},
   "outputs": [
    {
     "name": "stdout",
     "output_type": "stream",
     "text": [
      "Empirically calculated mean: 2.5\n",
      "Theoretical mean: 2.5\n",
      " \n"
     ]
    }
   ],
   "source": [
    "print('Empirically calculated mean: {}'.format(X_samples.mean()))\n",
    "print('Theoretical mean: {}'.format(sum(X_samples)/len(X_samples)), end='\\n \\n')"
   ]
  },
  {
   "cell_type": "code",
   "execution_count": 14,
   "metadata": {},
   "outputs": [
    {
     "name": "stdout",
     "output_type": "stream",
     "text": [
      "Empirically calculated standard deviation: 1.707825127659933\n"
     ]
    }
   ],
   "source": [
    "print('Empirically calculated standard deviation: {}'.format(X_samples.std()))\n",
    "# print('Theoretical standard deviation: {}'.format((p*(1-p))**(1/2)))"
   ]
  },
  {
   "cell_type": "markdown",
   "metadata": {},
   "source": [
    "## Биноминальное распределение "
   ]
  },
  {
   "cell_type": "markdown",
   "metadata": {},
   "source": [
    "- [The Binomial Distribution and Test, Clearly Explained!!!](https://www.youtube.com/watch?v=J8jNoF-K8E8)"
   ]
  },
  {
   "cell_type": "markdown",
   "metadata": {},
   "source": [
    "\n",
    "    - распределение суммы исходов тех вещей, которые следуют распределению Бернулли\n",
    "**Функция плотности:**\n",
    "<img src=\"../data/img/benominall_probability_mass_function.png\" width=\"300\">\n",
    "\n",
    "\n",
    "**Примеры из реальности:**\n",
    "- Сумма выпавших орлов после подбрасывания \"правильной монеты\". \n",
    "- Количество белых шаров, после вытаскивания с возварщением из урны с одинаковым количеством белых и черных шаров"
   ]
  },
  {
   "cell_type": "code",
   "execution_count": 15,
   "metadata": {},
   "outputs": [],
   "source": [
    "n=6\n",
    "p = 0.3\n",
    "Y = st.bernoulli(p)"
   ]
  },
  {
   "cell_type": "code",
   "execution_count": 16,
   "metadata": {},
   "outputs": [
    {
     "name": "stdout",
     "output_type": "stream",
     "text": [
      "Y: [array([0, 0, 0, ..., 0, 0, 1]), array([0, 0, 1, ..., 0, 0, 1]), array([0, 0, 1, ..., 0, 1, 0]), array([0, 0, 0, ..., 0, 0, 0]), array([0, 0, 0, ..., 1, 0, 0]), array([1, 0, 0, ..., 0, 0, 0])]\n",
      " \n",
      "Z: [1 0 2 ... 1 1 2] [1 0 2 ... 1 1 2]\n"
     ]
    }
   ],
   "source": [
    "Y_samples = [Y.rvs(1000000) for i in range(6)]\n",
    "Z_samples = sum(Y_samples)\n",
    "\n",
    "print(f\"Y: {Y_samples}\", end='\\n \\n')\n",
    "print(f\"Z: {Z_samples}\", Z_samples)"
   ]
  },
  {
   "cell_type": "code",
   "execution_count": 17,
   "metadata": {},
   "outputs": [
    {
     "data": {
      "image/png": "[encoded data removed]",
      "text/plain": [
       "<Figure size 432x288 with 1 Axes>"
      ]
     },
     "metadata": {
      "needs_background": "light"
     },
     "output_type": "display_data"
    }
   ],
   "source": [
    "sns.histplot(Z_samples, stat=\"density\", discrete=True, shrink=0.3);"
   ]
  },
  {
   "cell_type": "code",
   "execution_count": 18,
   "metadata": {},
   "outputs": [
    {
     "name": "stdout",
     "output_type": "stream",
     "text": [
      "Empirically calculated expected value: 1.800757\n",
      "Theoretical expected value: 1.7999999999999998\n",
      " \n",
      "Empirically calculated variance: 1.2612212269510001\n",
      "Theoretical variance: 1.2599999999999998\n"
     ]
    }
   ],
   "source": [
    "print('Empirically calculated expected value: {}'.format(Z_samples.mean()))\n",
    "print('Theoretical expected value: {}'.format(n*p), end='\\n \\n')\n",
    "\n",
    "print('Empirically calculated variance: {}'.format(Z_samples.var()))\n",
    "print('Theoretical variance: {}'.format(n*p*(1-p)))"
   ]
  },
  {
   "cell_type": "markdown",
   "metadata": {},
   "source": [
    "## Геометрическое распределение"
   ]
  },
  {
   "cell_type": "markdown",
   "metadata": {},
   "source": [
    "\n",
    "\n",
    "**Функция плотности:**\n",
    "<img src=\"../data/img/geometric_probability_mass_function.png\" width=\"300\">\n",
    "\n",
    "**Примеры из реальности:**\n",
    "- Количество белых шаров, после вытаскивания без возварщения из урны с одинаковым количеством белых и черных шаров"
   ]
  },
  {
   "cell_type": "code",
   "execution_count": 19,
   "metadata": {},
   "outputs": [
    {
     "data": {
      "image/png": "[encoded data removed]",
      "text/plain": [
       "<Figure size 432x288 with 1 Axes>"
      ]
     },
     "metadata": {
      "needs_background": "light"
     },
     "output_type": "display_data"
    }
   ],
   "source": [
    "p=0.2\n",
    "X = np.random.geometric(p, 1000000)\n",
    "\n",
    "sns.histplot(X, stat=\"density\", discrete=True, shrink=0.3);"
   ]
  },
  {
   "cell_type": "code",
   "execution_count": 20,
   "metadata": {},
   "outputs": [
    {
     "name": "stdout",
     "output_type": "stream",
     "text": [
      "Theoretical expected value: 4.997749\n",
      "Empirically calculated expected value: 5.0\n"
     ]
    }
   ],
   "source": [
    "print('Theoretical expected value: ' + str(X.mean()))\n",
    "print('Empirically calculated expected value: ' + str(1/p))"
   ]
  },
  {
   "cell_type": "markdown",
   "metadata": {},
   "source": [
    "## Распределение Пуассона"
   ]
  },
  {
   "cell_type": "markdown",
   "metadata": {},
   "source": [
    "    – распределение Бернулли при переходе на бесконечность\n",
    "    – то, о чём надо вспоминать, когда идёт речь о подсчёте событий за определённое время при постоянной заданной интенсивности.\n",
    "\n",
    "**Примеры из реальности:**\n",
    "- Количество звонков в чат поддержки в единицу времени"
   ]
  },
  {
   "cell_type": "markdown",
   "metadata": {},
   "source": [
    "Одно полезное свойство распределения Пуассона заключается в том, что его параметр равен его математическому ожиданию.\n",
    "\n",
    "При увеличении параметра $\\lambda повышается вероятность принятия случайной переменной б**о**льших значений"
   ]
  },
  {
   "cell_type": "code",
   "execution_count": 21,
   "metadata": {},
   "outputs": [
    {
     "data": {
      "image/png": "[encoded data removed]",
      "text/plain": [
       "<Figure size 432x288 with 1 Axes>"
      ]
     },
     "metadata": {
      "needs_background": "light"
     },
     "output_type": "display_data"
    }
   ],
   "source": [
    "a = np.arange(16)\n",
    "poi = st.poisson\n",
    "\n",
    "lambda_ = [1.5, 4.25]\n",
    "colors = [\"#348ABD\", \"#A60628\"]\n",
    "\n",
    "\n",
    "plt.bar(a, poi.pmf(a, lambda_[0]), color=[colors[0]],\n",
    "       label=\"$\\lambda = %.1f$\" % lambda_[0], alpha=0.60,\n",
    "       edgecolor=colors[0], lw=\"3\")\n",
    "\n",
    "plt.bar(a, poi.pmf(a, lambda_[1]), color=[colors[1]],\n",
    "       label=\"$\\lambda = %.1f$\" % lambda_[1], alpha=0.60,\n",
    "       edgecolor=colors[1], lw=\"3\")\n",
    "\n",
    "plt.xticks(a + 0.5, a)\n",
    "plt.legend()\n",
    "plt.ylabel(u\"$k$\")\n",
    "plt.xlabel(u\"$k$\")\n",
    "plt.title(u\"Функция распределения масс пуассоновской случайной переменной\\при различных значениях $\\lambda$ values \\n\");"
   ]
  },
  {
   "cell_type": "markdown",
   "metadata": {},
   "source": [
    "## Нормальное распределение"
   ]
  },
  {
   "cell_type": "markdown",
   "metadata": {},
   "source": [
    "- [The Normal Distribution, Clearly Explained!!!](https://www.youtube.com/watch?v=rzFX5NWojp0&ab_channel=StatQuestwithJoshStarmer)"
   ]
  },
  {
   "cell_type": "code",
   "execution_count": 24,
   "metadata": {},
   "outputs": [
    {
     "data": {
      "image/png": "[encoded data removed]",
      "text/plain": [
       "<Figure size 432x288 with 1 Axes>"
      ]
     },
     "metadata": {
      "needs_background": "light"
     },
     "output_type": "display_data"
    }
   ],
   "source": [
    "m = 3 # mean value - среднее значение\n",
    "sigma = 2 # standart deviation - стандартное отклонение\n",
    "\n",
    "# Сгенерим нашу генеральную совокупность\n",
    "s = np.random.normal(m, sigma, 10000) # сренерируем набор случайных чисел, с нормальных распределением. \n",
    "\n",
    "count, bins, ignored = plt.hist(s, 30, density=True) # нарисуем график функции плотности случайной величины\n",
    "\n",
    "plt.plot(bins, 1/(sigma * np.sqrt(2 * np.pi)) *np.exp( - (bins - m)**2 / (2 * sigma**2) ),linewidth=2, color='r')\n",
    "plt.show()"
   ]
  },
  {
   "cell_type": "markdown",
   "metadata": {},
   "source": [
    "## Логистическое распределение"
   ]
  },
  {
   "cell_type": "code",
   "execution_count": 26,
   "metadata": {},
   "outputs": [
    {
     "data": {
      "image/png": "[encoded data removed]",
      "text/plain": [
       "<Figure size 432x288 with 1 Axes>"
      ]
     },
     "metadata": {
      "needs_background": "light"
     },
     "output_type": "display_data"
    }
   ],
   "source": [
    "m = 3 # mean value - среднее значение\n",
    "sigma = 2 # standart deviation - стандартное отклонение\n",
    "\n",
    "\n",
    "s = np.random.logistic(m, sigma, 10000)\n",
    "\n",
    "count, bins, ignored = plt.hist(s, 30, density=True)\n",
    "\n",
    "plt.plot(bins, 1/(sigma * np.sqrt(2 * np.pi)) *np.exp( - (bins - m)**2 / (2 * sigma**2) ),linewidth=2, color='r')\n",
    "plt.show()"
   ]
  },
  {
   "cell_type": "markdown",
   "metadata": {},
   "source": [
    "## Экспоненциальное распределение"
   ]
  },
  {
   "cell_type": "code",
   "execution_count": 27,
   "metadata": {},
   "outputs": [
    {
     "data": {
      "image/png": "[encoded data removed]",
      "text/plain": [
       "<Figure size 432x288 with 1 Axes>"
      ]
     },
     "metadata": {
      "needs_background": "light"
     },
     "output_type": "display_data"
    }
   ],
   "source": [
    "m = 3 # mean value - среднее значение\n",
    "sigma = 2 # standart deviation - стандартное отклонение\n",
    "\n",
    "\n",
    "s = np.random.exponential(m, 10000)\n",
    "\n",
    "count, bins, ignored = plt.hist(s, 30, density=True)\n",
    "\n",
    "plt.plot(bins, 1/(sigma * np.sqrt(2 * np.pi)) *np.exp( - (bins - m)**2 / (2 * sigma**2) ), linewidth=2, color='r')\n",
    "plt.show()"
   ]
  },
  {
   "cell_type": "markdown",
   "metadata": {},
   "source": [
    "## Распределение Парето"
   ]
  },
  {
   "cell_type": "code",
   "execution_count": 28,
   "metadata": {},
   "outputs": [
    {
     "data": {
      "image/png": "[encoded data removed]",
      "text/plain": [
       "<Figure size 432x288 with 1 Axes>"
      ]
     },
     "metadata": {
      "needs_background": "light"
     },
     "output_type": "display_data"
    }
   ],
   "source": [
    "m = 3 # mean value - среднее значение\n",
    "sigma = 2 # standart deviation - стандартное отклонение\n",
    "\n",
    "\n",
    "s = np.random.pareto(m, 10000)\n",
    "\n",
    "count, bins, ignored = plt.hist(s, 30, density=True)\n",
    "\n",
    "plt.plot(bins, 1/(sigma * np.sqrt(2 * np.pi)) *np.exp( - (bins - m)**2 / (2 * sigma**2) ),linewidth=2, color='r')\n",
    "plt.show()"
   ]
  }
 ],
 "metadata": {
  "hide_input": false,
  "kernelspec": {
   "display_name": "venv",
   "language": "python",
   "name": "venv"
  },
  "language_info": {
   "codemirror_mode": {
    "name": "ipython",
    "version": 3
   },
   "file_extension": ".py",
   "mimetype": "text/x-python",
   "name": "python",
   "nbconvert_exporter": "python",
   "pygments_lexer": "ipython3",
   "version": "3.7.3"
  },
  "toc": {
   "base_numbering": 1,
   "nav_menu": {},
   "number_sections": true,
   "sideBar": true,
   "skip_h1_title": false,
   "title_cell": "Table of Contents",
   "title_sidebar": "Contents",
   "toc_cell": false,
   "toc_position": {},
   "toc_section_display": true,
   "toc_window_display": false
  }
 },
 "nbformat": 4,
 "nbformat_minor": 5
}
