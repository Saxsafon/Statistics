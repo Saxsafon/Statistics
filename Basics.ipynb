{
 "cells": [
  {
   "cell_type": "markdown",
   "id": "fc0fc199",
   "metadata": {},
   "source": [
    "SD - Standart deviation - стандартное отклонение\n",
    "\n",
    "SRM - standardised response mean\n",
    "\n",
    "SEM - standard error of measurement\n",
    "\n",
    "SDC_ind - smallest detectable change ofr individuals\n",
    "\n",
    "SDC_group - smallest detectable change for groups"
   ]
  },
  {
   "cell_type": "code",
   "execution_count": null,
   "id": "3062c57f",
   "metadata": {},
   "outputs": [],
   "source": []
  }
 ],
 "metadata": {
  "kernelspec": {
   "display_name": "venv",
   "language": "python",
   "name": "venv"
  },
  "language_info": {
   "codemirror_mode": {
    "name": "ipython",
    "version": 3
   },
   "file_extension": ".py",
   "mimetype": "text/x-python",
   "name": "python",
   "nbconvert_exporter": "python",
   "pygments_lexer": "ipython3",
   "version": "3.10.2"
  }
 },
 "nbformat": 4,
 "nbformat_minor": 5
}
