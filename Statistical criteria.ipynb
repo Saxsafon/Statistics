{
 "cells": [
  {
   "cell_type": "code",
   "execution_count": 1,
   "id": "698f77af",
   "metadata": {},
   "outputs": [],
   "source": [
    "import numpy as np\n",
    "import pandas as pd\n",
    "\n",
    "import matplotlib.pyplot as plt"
   ]
  },
  {
   "cell_type": "code",
   "execution_count": 2,
   "id": "ed6de78f",
   "metadata": {},
   "outputs": [
    {
     "data": {
      "text/html": [
       "<style>.container { width:100% !important; }</style>"
      ],
      "text/plain": [
       "<IPython.core.display.HTML object>"
      ]
     },
     "metadata": {},
     "output_type": "display_data"
    }
   ],
   "source": [
    "from IPython.core.display import display, HTML\n",
    "display(HTML(\"<style>.container { width:100% !important; }</style>\"))"
   ]
  },
  {
   "cell_type": "code",
   "execution_count": null,
   "id": "bb6bb203",
   "metadata": {},
   "outputs": [],
   "source": []
  },
  {
   "cell_type": "code",
   "execution_count": null,
   "id": "0ecf23a9",
   "metadata": {},
   "outputs": [],
   "source": []
  },
  {
   "cell_type": "code",
   "execution_count": null,
   "id": "55540a83",
   "metadata": {},
   "outputs": [],
   "source": [
    "mu = 3 # mean value - среднее значение\n",
    "sigma = 2 # standart deviation - стандартное отклонение\n",
    "\n",
    "# Сгенерим нашу генеральную совокупность\n",
    "s = np.random.normal(mu, sigma, 10000) # сренерируем набор случайных чисел, с нормальных распределением. \n",
    "\n",
    "count, bins, ignored = plt.hist(s, 30, density=True) # нарисуем график функции плотности случайной величины\n",
    "\n",
    "plt.plot(bins, 1/(sigma * np.sqrt(2 * np.pi)) *np.exp( - (bins - mu)**2 / (2 * sigma**2) ),linewidth=2, color='r')\n",
    "plt.show()"
   ]
  },
  {
   "cell_type": "code",
   "execution_count": null,
   "id": "99ed1262",
   "metadata": {},
   "outputs": [],
   "source": [
    "# Теперь сгенерим выборку\n",
    "sample_mean = 60 # другое среднее\n",
    "sample_sigma = 2 # то же стандартное отклонение\n",
    "sample = np.random.normal(sample_mean, sample_sigma, 10000)"
   ]
  },
  {
   "cell_type": "code",
   "execution_count": null,
   "id": "4fb5cf11",
   "metadata": {},
   "outputs": [],
   "source": [
    "count, bins, ignored = plt.hist(s, 30, alpha=0.1, density=True)\n",
    "\n",
    "sample_count, sample_bins, sample_ignored = plt.hist(sample, 30, alpha=0.1, color='r',density=True)\n",
    "\n",
    "plt.plot(sample_bins,1/(sample_sigma * np.sqrt(2 * np.pi)) *np.exp( - (sample_bins - sample_mean)**2 / (2 * sample_sigma**2) ),\n",
    "         linewidth=2, color='r')\n",
    "plt.plot(bins,1/(sigma * np.sqrt(2 * np.pi)) *np.exp( - (bins - mu)**2 / (2 * sigma**2) ),\n",
    "         linewidth=2, color='b')\n",
    "plt.show()"
   ]
  },
  {
   "cell_type": "markdown",
   "id": "4e1e1ede",
   "metadata": {},
   "source": [
    "## Нужно проверить, является ли выборка частью генеральной совокупности? (на самом деле нет)\n",
    "### H0: \n",
    "### H1:"
   ]
  },
  {
   "cell_type": "code",
   "execution_count": null,
   "id": "c6fb9d48",
   "metadata": {},
   "outputs": [],
   "source": [
    "import scipy\n",
    "\n",
    "ci = scipy.stats.norm.interval(0.95, loc=1.5, scale=2)\n",
    "\n",
    "count, bins, ignored = plt.hist(s, 30, alpha=0.1, density=True)\n",
    "sample_count, sample_bins, sample_ignored = plt.hist(sample, 30, alpha=0.1, color='r',density=True)\n",
    "\n",
    "plt.plot(sample_bins,1/(sample_sigma * np.sqrt(2 * np.pi)) *np.exp( - (sample_bins - sample_mean)**2 / (2 * sample_sigma**2) ),\n",
    "         linewidth=2, color='r')\n",
    "plt.plot(bins,1/(sigma * np.sqrt(2 * np.pi)) *np.exp( - (bins - mu)**2 / (2 * sigma**2) ),\n",
    "         linewidth=2, color='b')\n",
    "\n",
    "plt.axvline(ci[0],color='g')\n",
    "plt.axvline(ci[1],color='g')\n",
    "\n",
    "plt.show()"
   ]
  },
  {
   "cell_type": "code",
   "execution_count": null,
   "id": "f1130d93",
   "metadata": {},
   "outputs": [],
   "source": [
    "count, bins, ignored = plt.hist(s, 30, alpha=0.1, density=True)\n",
    "\n",
    "sample_count, sample_bins, sample_ignored = plt.hist(sample, 30, alpha=0.1, color='r',density=True)\n",
    "\n",
    "plt.plot(sample_bins,1/(sample_sigma * np.sqrt(2 * np.pi)) *np.exp( - (sample_bins - sample_mean)**2 / (2 * sample_sigma**2) ),\n",
    "         linewidth=2, color='r')\n",
    "plt.plot(bins,1/(sigma * np.sqrt(2 * np.pi)) *np.exp( - (bins - mu)**2 / (2 * sigma**2) ),\n",
    "         linewidth=2, color='b')\n",
    "\n",
    "plt.axvline(ci[0],color='g')\n",
    "plt.axvline(ci[1],color='g')\n",
    "\n",
    "plt.fill_between(x=np.arange(-4, ci[0], 0.01), \n",
    "                 y1= scipy.stats.norm.pdf(np.arange(-4,ci[0],0.01), loc=1.5, scale=2) ,\n",
    "                 facecolor='red',\n",
    "                 alpha=0.35)\n",
    "\n",
    "plt.fill_between(x=np.arange(ci[1],7.5,0.01), \n",
    "                 y1= scipy.stats.norm.pdf(np.arange(ci[1],7.5,0.01), loc=1.5, scale=2) ,\n",
    "                 facecolor='red',\n",
    "                 alpha=0.5)\n",
    "\n",
    "plt.fill_between(x=np.arange(ci[0],ci[1],0.01), \n",
    "                 y1= scipy.stats.norm.pdf(np.arange(ci[0],ci[1],0.01), loc=3, scale=2) ,\n",
    "                 facecolor='blue',\n",
    "                 alpha=0.5)\n",
    "\n",
    "plt.text(x=0, y=0.18, s= \"Null Hypothesis\")\n",
    "plt.text(x=6, y=0.05, s= \"Alternative\")\n",
    "plt.text(x=-4, y=0.01, s= \"Type 1 Error\")\n",
    "plt.text(x=6.2, y=0.01, s= \"Type 1 Error\")\n",
    "plt.text(x=2, y=0.02, s= \"Type 2 Error\")\n",
    "\n",
    "plt.show()"
   ]
  },
  {
   "cell_type": "markdown",
   "id": "0a84b84f",
   "metadata": {},
   "source": [
    "### Посчитаем p-value"
   ]
  },
  {
   "cell_type": "code",
   "execution_count": null,
   "id": "1fc0b7af",
   "metadata": {},
   "outputs": [],
   "source": [
    "z_score=(sample_mean-mu)/sigma \n",
    "p_value = scipy.stats.norm.sf(abs(z_score))\n",
    "\n",
    "print(f'P-value = {p_value}')\n",
    " \n",
    "if p_value < 0.05: \n",
    "     print('P-value < alpha: reject H0') \n",
    "else: \n",
    "     print('P-value > alpha: do not reject H0')"
   ]
  },
  {
   "cell_type": "code",
   "execution_count": null,
   "id": "09f29e43",
   "metadata": {},
   "outputs": [],
   "source": [
    "# Мы не можем отвергнуть гипотезу h0\n",
    "\n",
    "# две выборки, мы их извлекли из каких то генеральных совокупностей\n",
    "# можем ли мы считать что выборки извлечены из одной генеральной совокупности?\n",
    "# ho: выборки извлечены из одной генеральной совокупности\n",
    "# p-value - близук к нулю < alpha = 0.05\n",
    "# Мы отклоняем гипотезу h0"
   ]
  },
  {
   "cell_type": "code",
   "execution_count": null,
   "id": "081c9eda",
   "metadata": {},
   "outputs": [],
   "source": []
  },
  {
   "cell_type": "code",
   "execution_count": null,
   "id": "804e717f",
   "metadata": {},
   "outputs": [],
   "source": []
  }
 ],
 "metadata": {
  "kernelspec": {
   "display_name": "venv",
   "language": "python",
   "name": "venv"
  },
  "language_info": {
   "codemirror_mode": {
    "name": "ipython",
    "version": 3
   },
   "file_extension": ".py",
   "mimetype": "text/x-python",
   "name": "python",
   "nbconvert_exporter": "python",
   "pygments_lexer": "ipython3",
   "version": "3.9.7"
  }
 },
 "nbformat": 4,
 "nbformat_minor": 5
}
