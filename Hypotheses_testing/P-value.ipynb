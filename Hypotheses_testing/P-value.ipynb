{
 "cells": [
  {
   "cell_type": "markdown",
   "metadata": {},
   "source": [
    "# Настройка ноутбука"
   ]
  },
  {
   "cell_type": "code",
   "execution_count": 1,
   "metadata": {},
   "outputs": [],
   "source": [
    "import pandas as pd\n",
    "import numpy as np\n",
    "import datetime as dt\n",
    "\n",
    "import scipy.stats as st\n",
    "\n",
    "import plotly.figure_factory as ff\n",
    "import seaborn as sns\n",
    "import matplotlib.pyplot as plt\n",
    "%matplotlib inline"
   ]
  },
  {
   "cell_type": "code",
   "execution_count": 2,
   "metadata": {},
   "outputs": [
    {
     "data": {
      "text/html": [
       "<style>.container { width:100% !important; }</style>"
      ],
      "text/plain": [
       "<IPython.core.display.HTML object>"
      ]
     },
     "metadata": {},
     "output_type": "display_data"
    }
   ],
   "source": [
    "# Расширить рабочее поле ноутбука на весь экран\n",
    "from IPython.display import display, HTML\n",
    "display(HTML(\"<style>.container { width:100% !important; }</style>\"))"
   ]
  },
  {
   "cell_type": "markdown",
   "metadata": {},
   "source": [
    "# Описание"
   ]
  },
  {
   "cell_type": "markdown",
   "metadata": {},
   "source": [
    "**Курс:**\n",
    "- [Stepik: Основы статистики - Идея статистического вывода. p-уровень значимости](https://stepik.org/lesson/8078?unit=1358)\n",
    "\n",
    "**Видео:**\n",
    "- [StatQuest: Hypothesis Testing and The Null Hypothesis, Clearly Explained!!!](https://www.youtube.com/watch?v=0oc49DyA3hU)\n",
    "- [StatQuest: Alternative Hypotheses: Main Ideas!!!](https://www.youtube.com/watch?v=5koKb5B_YWo)\n",
    "\n",
    "\n",
    "- [StatQuest: p-values: What they are and how to interpret them](https://www.youtube.com/watch?v=vemZtEM63GY&ab_channel=StatQuestwithJoshStarmer)\n",
    "- [StatQuest: How to calculate p-values](https://www.youtube.com/watch?v=JQc3yx0-Q9E)\n",
    "- [StatQuest: Using Bootstrapping to Calculate p-values!!!](https://www.youtube.com/watch?v=N4ZQQqyIf6k&t=4s)\n",
    "- [StatQuest: p-hacking: What it is and how to avoid it!](https://www.youtube.com/watch?v=HDCOUXE3HMM)\n",
    "\n",
    "\n",
    "- [StatQuest: False Discovery Rates, FDR, clearly explained](https://www.youtube.com/watch?v=K8LQSvtjcEo)\n",
    "- [StatQuest: Statistical Power, Clearly Explained!!!](https://www.youtube.com/watch?v=Rsc5znwR5FA&list=PLblh5JKOoLUK0FLuzwntyYI10UQFUhsY9&index=13)\n",
    "- [StatQuest: Power Analysis, Clearly Explained!!!](https://www.youtube.com/watch?v=VX_M3tIyiYk)\n",
    "\n",
    "**Статьи:**\n",
    "- [Shad-ml: Идея статистического вывода, p-уровень значимости](https://sultanlive.gitbook.io/shad-ml/osnovy-statistiki-chast-1/ideya-statisticheskogo-vyvoda-p-uroven-znachimosti)\n",
    "- [Хабр: Основы статистики - просто о сложных формулах](https://habr.com/ru/company/stepic/blog/250527/)"
   ]
  },
  {
   "cell_type": "markdown",
   "metadata": {},
   "source": [
    "# Основная идея"
   ]
  },
  {
   "cell_type": "markdown",
   "metadata": {},
   "source": [
    "**Статистическая гипотеза** — это предположение о каких-либо характеристиках случайной величины, тоесть ее генеральной совокупности."
   ]
  },
  {
   "cell_type": "markdown",
   "metadata": {},
   "source": [
    "После формулировки статистической гипотезы у нас есть два способа ее проверки:\n",
    "1. Построить доверительный интервал\n",
    "2. Рассчитать p-value (p-уровень значимости)"
   ]
  },
  {
   "cell_type": "markdown",
   "metadata": {},
   "source": [
    "## Доверительный интервал"
   ]
  },
  {
   "cell_type": "markdown",
   "metadata": {},
   "source": [
    "#### Задачи:"
   ]
  },
  {
   "cell_type": "markdown",
   "metadata": {},
   "source": [
    "[Stepik: Основы статистики ч.1 - вопрос 4](https://stepik.org/lesson/8078/step/13?unit=1358)"
   ]
  },
  {
   "cell_type": "markdown",
   "metadata": {},
   "source": [
    "Данные некоторого исследования сообщают нам, что средний рост детей в 10 лет составляет 136 сантиметров. Однако это лишь выборочная оценка, и исследователи рассчитали 99% доверительный интервал, который составил [130, 142]. Укажите верные утверждения"
   ]
  },
  {
   "cell_type": "markdown",
   "metadata": {},
   "source": [
    "- [ ] Доверительный интервал не может иметь такие границы, т. к. выборочное стандартное отклонение равняется 10, следовательно доверительный интервал должен быть значительно шире.\n",
    "- [X] У нас достаточно оснований отклонить нулевую гипотезу, что среднее в генеральной совокупности равняется 143\n",
    "- [ ] Вероятность того, что истинное среднее значение больше 142, составляет 0,01\n",
    "- [X] У нас достаточно оснований отклонить нулевую гипотезу, что среднее в генеральной совокупности равняется 128."
   ]
  },
  {
   "cell_type": "markdown",
   "metadata": {},
   "source": [
    "[Stepik: Основы статистки ч.1 - вопрос 5](https://stepik.org/lesson/8078/step/15?unit=1358)"
   ]
  },
  {
   "cell_type": "markdown",
   "metadata": {},
   "source": [
    "H0: Среднее значение баллов в 2015 году равняется 115"
   ]
  },
  {
   "cell_type": "code",
   "execution_count": 3,
   "metadata": {},
   "outputs": [
    {
     "data": {
      "text/plain": [
       "(116.53, 119.47)"
      ]
     },
     "execution_count": 3,
     "metadata": {},
     "output_type": "execute_result"
    }
   ],
   "source": [
    "def confidence_interval(n, mean_val, std_val, target_interval):\n",
    "    alpha = 1 - target_interval\n",
    "    z = abs(st.norm.ppf(alpha/2)) # 1.96\n",
    "    se = std_val / np.sqrt(n)\n",
    "    return (round(mean_val - z * se,  2),  round(mean_val + z * se,  2))\n",
    "\n",
    "M = 115\n",
    "m = 118\n",
    "n = 144\n",
    "std_val = 9\n",
    "target_interval = 0.95\n",
    "\n",
    "confidence_interval(n, m, std_val, target_interval)"
   ]
  },
  {
   "cell_type": "markdown",
   "metadata": {},
   "source": [
    "Среднее генеральной совокупности M = 115 не входит в доверительный интервал (116.53, 119.47) -> мы отвергаем нулевую гипотезу, значение 115 не попадает в 95%-ный доверительный интервал."
   ]
  },
  {
   "cell_type": "markdown",
   "metadata": {},
   "source": [
    "## p-value"
   ]
  },
  {
   "cell_type": "markdown",
   "metadata": {},
   "source": [
    "В случае с вероятностным подходом ученый, получивший в своих наблюдениях численные данные, задается вопросом о вероятности получить точно такие же данные в случае, когда результат на самом деле случаен (то есть искомой закономерности в данных нет)."
   ]
  },
  {
   "cell_type": "markdown",
   "metadata": {},
   "source": [
    "**Значение p-уровня значимости (p-value)**\n",
    "\n",
    "— это вероятность получить такие или более выраженные различия при условии, что в генеральной совокупности никаких различий на самом деле нет.\n",
    "\n",
    "— вероятность получить обозреваемые экстремальные данные при верной нулевой гипотезе, тоесть случайно.\n",
    "\n",
    "**α** — значение p-уровня значимости, которое выбирается, в качестве порога. Чем меньше α, тем меньше шансов отклонить достоверную нулевую гипотезу"
   ]
  },
  {
   "cell_type": "markdown",
   "metadata": {},
   "source": [
    "### Верные утверждения о p-value"
   ]
  },
  {
   "cell_type": "markdown",
   "metadata": {},
   "source": [
    "1. p-уровень значимости не позволяет нам ничего сказать о том, с какой вероятностью верна нулевая гипотеза\n",
    "\n",
    "    Если мы олучили p-value = 0.01, это **не значит**, что нулевая гипотеза верна с вероятностью 0.01.\n",
    "\n",
    "    Если подбросить монету 10 раз и все разы выпал орел. Вероятность такого события (1/2)^10 = 1/1000. Но это не вероятность того, что монетка честная и работает правильно. Одна тысячная - это не вероятность того, что монетка у нас честная и работает правильно. Это вероятность получить 10 раз подряд одинаковый результат, если допустить, что наша монетка работает правильно.\n",
    "\n",
    "2. p-уровень значимости ничего нам не сообщает о силе эффекта, о величине различий.\n",
    "\n",
    "3. Если p-уровень значимости больше 0.05 мы делаем вывод, что у нас не достаточно оснаваний отклонить нулевую гипотезу. Это не значит, что нулевая гипотеза верна.\n",
    "\n",
    "4. Сам по себе p-уровень значимости ничего не говорит о правильности, ценности или научности результатов.\n"
   ]
  },
  {
   "cell_type": "markdown",
   "metadata": {},
   "source": [
    "### Вопросы по p-value\n",
    "\n",
    "Как интерпретировать результат p-value близко к единице? Вероятность получить такие или более выраженные различия при условии, что в генеральной совокупности никаких различий близка к 100%. Такое вообще возможно?"
   ]
  },
  {
   "cell_type": "markdown",
   "metadata": {},
   "source": [
    "### Как рассчитать p-value?"
   ]
  },
  {
   "cell_type": "markdown",
   "metadata": {},
   "source": [
    "<img src=\"../data/img/p-value_comment.png\" width=\"800\">"
   ]
  },
  {
   "cell_type": "markdown",
   "metadata": {},
   "source": [
    "```text\n",
    "In summary, a p-value is composed of three parts:\n",
    "1) The probability random chance would result in the observation.\n",
    "2) The probability of observing something else that is equally rare\n",
    "3) The probability of observing something rarer or more extreme.\n",
    "```"
   ]
  },
  {
   "cell_type": "markdown",
   "metadata": {},
   "source": [
    "### Pipeline проверки гипотез"
   ]
  },
  {
   "cell_type": "markdown",
   "metadata": {},
   "source": [
    "Достоверными в области биологии, психологии и ряда иных дисциплин считаются результаты, характеризуемые вероятностью p < 0,05: эта запись означает, что **вероятность случайного результата составляет не более пяти процентов.**"
   ]
  },
  {
   "cell_type": "markdown",
   "metadata": {},
   "source": [
    "Таким образом, в формальном виде процедуру опровержения нулевой гипотезы можно представить так:\n",
    "\n",
    "1. Провести эксперимент\n",
    "2. Выдвинуть предположение, что нулевая гипотеза истинна, и обозначить символом *p* вероятность (согласно данной гипотезе) получения результатов со столь же крайними значениями, что были получены в результате наблюдений.\n",
    "3. Рассчитать значение p-value\n",
    "4. Если p-value < α (0.05 или 0.01), что ваши *результаты статистически значимы*, у вас есть основания опровергнуть нулевую гипотезу. Если p-value > α - то у вас нет оснований отвергать нулевую гипотезу.\n",
    "\n",
    "\n",
    "Проверку значимости нулевой гипотезы можно представить как несколько размытую версию доказательства от противного:\n",
    "\n",
    "1. Предположим, нулевая гипотеза H0 истинна;\n",
    "2. Из гипотезы H0 вытекает, что некий результат *O* очень маловероятен (скажем, не превышает порог Фишера 0.05);\n",
    "3. Однако результат *O* был установлен процессом наблюдений;\n",
    "4. Следовательно, вероятность H0 крайне мала;\n",
    "\n",
    "Другими словами, мы имеем здесь не доказательство от противного, а доказательство от маловероятного."
   ]
  },
  {
   "cell_type": "markdown",
   "metadata": {},
   "source": [
    "### p-hacking"
   ]
  },
  {
   "cell_type": "code",
   "execution_count": null,
   "metadata": {},
   "outputs": [],
   "source": []
  },
  {
   "cell_type": "markdown",
   "metadata": {},
   "source": [
    "### Примеры задач"
   ]
  },
  {
   "cell_type": "markdown",
   "metadata": {},
   "source": [
    "#### [Stepik: Основы статистки ч.1 - вопрос 5](https://stepik.org/lesson/8078/step/15?unit=1358)"
   ]
  },
  {
   "cell_type": "code",
   "execution_count": 4,
   "metadata": {},
   "outputs": [],
   "source": [
    "# from math import sqrt\n",
    "# import scipy.stats as st\n",
    "\n",
    "# M = 115\n",
    "# m = 118\n",
    "# n = 144\n",
    "# std_val = 9\n",
    "\n",
    "# se = std_val / sqrt(n)\n",
    "# z_value = (m - M) / se\n",
    "# p_score = st.norm.cdf(z_value)*2\n",
    "# p_score"
   ]
  },
  {
   "cell_type": "markdown",
   "metadata": {},
   "source": [
    "Как это правильно интерпретировать?"
   ]
  },
  {
   "cell_type": "markdown",
   "metadata": {},
   "source": [
    "#### Задача с монетой"
   ]
  },
  {
   "cell_type": "markdown",
   "metadata": {},
   "source": [
    "Мы проводим 4 эксперимента с монетой, подрбасывая ее 10 раз и получает такие результаты (1 - орел, 2 - решка):"
   ]
  },
  {
   "cell_type": "code",
   "execution_count": 5,
   "metadata": {},
   "outputs": [],
   "source": [
    "result_1 = [1, 0, 1, 0, 1, 0, 1, 0, 1, 0]\n",
    "result_2 = [1, 1, 1, 1, 1, 1, 1, 1, 1, 1]\n",
    "result_3 = [0, 0, 0, 0, 0, 0, 0, 0, 0, 0]\n",
    "result_4 = [1, 1, 0, 0, 0, 1, 0, 0, 1, 0]"
   ]
  },
  {
   "cell_type": "markdown",
   "metadata": {},
   "source": [
    "1. Рассчитайте теоретическую вероятность каждого исхода?\n",
    "2. Рассчитайте вероятность получить определенный результат, при предположении что наша монета самая обычная (p-value)?"
   ]
  },
  {
   "cell_type": "markdown",
   "metadata": {},
   "source": [
    "#### Задача с ростом"
   ]
  },
  {
   "cell_type": "markdown",
   "metadata": {},
   "source": [
    "Допустим у нас есть данные о росте женщин, проживающие в Бразилии."
   ]
  },
  {
   "cell_type": "code",
   "execution_count": 6,
   "metadata": {},
   "outputs": [
    {
     "data": {
      "image/png": "[encoded data removed]",
      "text/plain": [
       "<Figure size 432x288 with 1 Axes>"
      ]
     },
     "metadata": {
      "needs_background": "light"
     },
     "output_type": "display_data"
    }
   ],
   "source": [
    "m = 150\n",
    "sigma = 20\n",
    "\n",
    "heights = pd.Series(np.random.normal(m, sigma, 10000))\n",
    "heights.plot.hist(bins=200);"
   ]
  },
  {
   "cell_type": "code",
   "execution_count": 7,
   "metadata": {},
   "outputs": [
    {
     "data": {
      "image/png": "[encoded data removed]",
      "text/plain": [
       "<Figure size 432x288 with 1 Axes>"
      ]
     },
     "metadata": {
      "needs_background": "light"
     },
     "output_type": "display_data"
    }
   ],
   "source": [
    "z_score = heights.to_frame().apply(st.zscore)[0]\n",
    "z_score.plot.hist(bins=200);"
   ]
  },
  {
   "cell_type": "markdown",
   "metadata": {},
   "source": [
    "Мы измерили еще 5 девушек."
   ]
  },
  {
   "cell_type": "code",
   "execution_count": 8,
   "metadata": {},
   "outputs": [],
   "source": [
    "person_1 = 150\n",
    "person_2 = 200\n",
    "person_3 = 40\n",
    "person_4 = 188\n",
    "person_5 = 0"
   ]
  },
  {
   "cell_type": "markdown",
   "metadata": {},
   "source": [
    "1. Рассчитайте вероятность отношения выборки для каждой девушки?"
   ]
  },
  {
   "cell_type": "markdown",
   "metadata": {},
   "source": [
    "#### Задача про лекарства"
   ]
  },
  {
   "cell_type": "markdown",
   "metadata": {},
   "source": [
    "Допустим мы тестируем лекарства от болезни и хотим понять, какое из предложенных кандидатов действительно помогает пациентам лучше справлятся с болезнью."
   ]
  },
  {
   "cell_type": "code",
   "execution_count": 9,
   "metadata": {},
   "outputs": [
    {
     "data": {
      "image/png": "[encoded data removed]",
      "text/plain": [
       "<Figure size 432x288 with 1 Axes>"
      ]
     },
     "metadata": {
      "needs_background": "light"
     },
     "output_type": "display_data"
    }
   ],
   "source": [
    "results = pd.DataFrame({\n",
    "    'no_cure': [4, 4, 4, 5, 5, 5, 5, 5, 5, 6],\n",
    "    'placebo': [4, 4, 4, 4, 5, 5, 5, 5, 5, 6],\n",
    "    'cure_1': [3, 3, 3, 4, 4, 5, 5, 5, 5, 6],\n",
    "    'cure_2': [2, 3, 3, 4, 4, 4, 5, 5, 6, 6],\n",
    "    'cure_3': [2, 3, 3, 4, 4, 4, 4, 4, 5, 5],\n",
    "})\n",
    "\n",
    "results.boxplot(grid=False);"
   ]
  },
  {
   "cell_type": "markdown",
   "metadata": {},
   "source": [
    "# Старые записи"
   ]
  },
  {
   "cell_type": "markdown",
   "metadata": {},
   "source": [
    "## Умозрительный пример 1"
   ]
  },
  {
   "cell_type": "markdown",
   "metadata": {},
   "source": [
    "X = [1,2,3,4] и Y = [2,4,6,8]\n",
    "\n",
    "В общем случае гипотеза H0 гласит, что две переменные(X и Y) независимы, т. е. Изменение значений в X не повлияет на значения в Y.\n",
    "\n",
    "Если вы вычислите \"p-value\", используя любой метод для этого случая, то оно должно оказаться очень малым значением, подразумевая, что существует очень низкая вероятность того, что этот случай будет следовать гипотезе H0, т. е. очень низкая вероятность того, что X и Y независимы друг от друга.\n",
    "\n",
    "Это означает, что он никогда не будет следовать гипотезе H0 здесь, и эти две переменные зависят друг от друга в форме Y = 2X."
   ]
  },
  {
   "cell_type": "markdown",
   "metadata": {
    "heading_collapsed": true
   },
   "source": [
    "## Умозрительный пример 2"
   ]
  },
  {
   "cell_type": "markdown",
   "metadata": {
    "hidden": true
   },
   "source": [
    "Предположим, мы решили выяснить, существует ли взаимосвязь между пристрастием к кофе и агрессивностью у школьников. Для этого были случайным образом сформированы две группы школьников по 100 человек в каждой (1 группа — дети выпивающие 0.3 литра кофе, вторая группа — совсем ну употребляющие кофе). В качестве показателя агрессивности выступает, например, число драк со сверстниками. И допустим, **нам видно**, что кофеманы дерутся чаще. Как проверить что обозреваеммый результат статистически значим?\n",
    "\n",
    "В нашем случае...\n",
    "\n",
    "H0: Между выборками пьющих и не пьющих кофе школьников нет статистически значимых различий.\n",
    "\n",
    "H1: Между выборками есть статистически значимые различия.\n",
    "\n",
    "**p-value** - это вероятность того, что гипотеза H0 подтверждается на имеющихся данных. Вероятность наблюдения рассматриваемых данных при верной гипотезе H0.\n",
    "a\n",
    "\n",
    "Мы сравнили две группы школьников между собой по уровню агрессивности при помощи стандартного t-теста (или непараметрического критерия Хи — квадрат более уместного в данной ситуации) и получили, что заветный p-уровень значимости меньше 0.05 (например 0.04). \n",
    "\n",
    "**p-value = 0.04 < alpha = 0.05 => отвергаем H0**\n",
    "\n",
    "Но о чем в действительности говорит нам полученное значение p-уровня значимости?\n",
    "\n",
    "1. **Кофеин — причина агрессивного поведения с вероятностью 96%.**\n",
    "\n",
    "Это пример ошибки корреляции: факт значимой взаимосвязи двух переменных ничего не говорит нам о причинах и следствиях. Может быть, это более агрессивные дети имеют склонность к кофеину, а вовсе не кофеин делает детей агресивными.\n",
    "\n",
    "\n",
    "2. **Вероятность того, что агрессивность и употребелние кофе не связаны, равна 0.04.**\n",
    "\n",
    "Тоже нет. Все дело в том, что мы изначально принимаем за данное, что никаких различий на самом деле нет. И, держа это в уме как факт, рассчитываем значение p-value. Поэтому правильная интерпретация: **«Если предположить, что агрессивность и употребление кофе никак не связаны, то вероятность получить такие или еще более выраженные различия составила 0.04».**\n",
    "\n",
    "\n",
    "3. **Если бы мы получили p-уровень значимости больше, чем 0.05, это означало бы, что агрессивность и употребление кофе никак не связаны между собой.**\n",
    "\n",
    "Нет, это означает лишь то, что различия, может быть, и есть, но наши результаты не позволили их обнаружить.\n",
    "\n",
    "\n",
    "\n",
    "\n",
    "Итак еще раз - вывод: **Если предположить, что агрессивность и употребление кофе никак не связаны, то вероятность получить такие или еще более выраженные различия составила 0.04. Значит, кофе и уровень агрессии связаны между собой.**"
   ]
  },
  {
   "cell_type": "markdown",
   "metadata": {
    "heading_collapsed": true
   },
   "source": [
    "## Критерий Хи-квадрат"
   ]
  },
  {
   "cell_type": "markdown",
   "metadata": {
    "hidden": true
   },
   "source": [
    "**Ресурсы:**\n",
    "- [MachineLearning Wiki: Критерий хи-квадрат](http://www.machinelearning.ru/wiki/index.php?title=%D0%9A%D1%80%D0%B8%D1%82%D0%B5%D1%80%D0%B8%D0%B9_%D1%85%D0%B8-%D0%BA%D0%B2%D0%B0%D0%B4%D1%80%D0%B0%D1%82)\n"
   ]
  },
  {
   "cell_type": "markdown",
   "metadata": {
    "hidden": true
   },
   "source": [
    "**Задачи:**\n",
    "\n",
    "- **Определение распределения случайной величины** - проверка гипотезы, что рассматриваемая выборка извлечена из генеральной совокупности заданого закона распределения\n",
    "- **Определение значимой корреляции между двумя категориальными переменными** - роверка гипотезы об отсутствии связи между двумя переменными."
   ]
  },
  {
   "cell_type": "markdown",
   "metadata": {
    "hidden": true
   },
   "source": [
    "**Вопросы:**\n",
    "- **Чем отличаются критерии Хи-квадрат и Хи-квадрат-Пирсона?** Ничем"
   ]
  },
  {
   "cell_type": "markdown",
   "metadata": {
    "heading_collapsed": true,
    "hidden": true
   },
   "source": [
    "### Пример с кубиком (маленькая выборка)"
   ]
  },
  {
   "cell_type": "markdown",
   "metadata": {
    "heading_collapsed": true,
    "hidden": true
   },
   "source": [
    "#### Мы провели 4 серии экспериментов с подбрасыванием кубика и получили следующие результаты"
   ]
  },
  {
   "cell_type": "code",
   "execution_count": 47,
   "metadata": {
    "hidden": true
   },
   "outputs": [
    {
     "data": {
      "text/html": [
       "<div>\n",
       "<style scoped>\n",
       "    .dataframe tbody tr th:only-of-type {\n",
       "        vertical-align: middle;\n",
       "    }\n",
       "\n",
       "    .dataframe tbody tr th {\n",
       "        vertical-align: top;\n",
       "    }\n",
       "\n",
       "    .dataframe thead th {\n",
       "        text-align: right;\n",
       "    }\n",
       "</style>\n",
       "<table border=\"1\" class=\"dataframe\">\n",
       "  <thead>\n",
       "    <tr style=\"text-align: right;\">\n",
       "      <th></th>\n",
       "      <th>a</th>\n",
       "      <th>b</th>\n",
       "      <th>c</th>\n",
       "      <th>d</th>\n",
       "      <th>total_dist</th>\n",
       "    </tr>\n",
       "    <tr>\n",
       "      <th></th>\n",
       "      <th></th>\n",
       "      <th></th>\n",
       "      <th></th>\n",
       "      <th></th>\n",
       "      <th></th>\n",
       "    </tr>\n",
       "  </thead>\n",
       "  <tbody>\n",
       "    <tr>\n",
       "      <th>one</th>\n",
       "      <td>6</td>\n",
       "      <td>4</td>\n",
       "      <td>5</td>\n",
       "      <td>10</td>\n",
       "      <td>25</td>\n",
       "    </tr>\n",
       "    <tr>\n",
       "      <th>two</th>\n",
       "      <td>8</td>\n",
       "      <td>5</td>\n",
       "      <td>3</td>\n",
       "      <td>3</td>\n",
       "      <td>19</td>\n",
       "    </tr>\n",
       "    <tr>\n",
       "      <th>three</th>\n",
       "      <td>5</td>\n",
       "      <td>4</td>\n",
       "      <td>8</td>\n",
       "      <td>4</td>\n",
       "      <td>21</td>\n",
       "    </tr>\n",
       "    <tr>\n",
       "      <th>four</th>\n",
       "      <td>4</td>\n",
       "      <td>11</td>\n",
       "      <td>7</td>\n",
       "      <td>13</td>\n",
       "      <td>35</td>\n",
       "    </tr>\n",
       "    <tr>\n",
       "      <th>five</th>\n",
       "      <td>5</td>\n",
       "      <td>8</td>\n",
       "      <td>7</td>\n",
       "      <td>6</td>\n",
       "      <td>26</td>\n",
       "    </tr>\n",
       "    <tr>\n",
       "      <th>six</th>\n",
       "      <td>7</td>\n",
       "      <td>3</td>\n",
       "      <td>5</td>\n",
       "      <td>9</td>\n",
       "      <td>24</td>\n",
       "    </tr>\n",
       "    <tr>\n",
       "      <th>total_rolls</th>\n",
       "      <td>35</td>\n",
       "      <td>35</td>\n",
       "      <td>35</td>\n",
       "      <td>45</td>\n",
       "      <td>150</td>\n",
       "    </tr>\n",
       "  </tbody>\n",
       "</table>\n",
       "</div>"
      ],
      "text/plain": [
       "              a   b   c   d  total_dist\n",
       "                                       \n",
       "one           6   4   5  10          25\n",
       "two           8   5   3   3          19\n",
       "three         5   4   8   4          21\n",
       "four          4  11   7  13          35\n",
       "five          5   8   7   6          26\n",
       "six           7   3   5   9          24\n",
       "total_rolls  35  35  35  45         150"
      ]
     },
     "execution_count": 47,
     "metadata": {},
     "output_type": "execute_result"
    }
   ],
   "source": [
    "dice = pd.DataFrame({\n",
    "    '': ['one', 'two', 'three', 'four', 'five', 'six'],\n",
    "    'a': [6, 8, 5, 4, 5, 7],\n",
    "    'b': [4, 5, 4, 11, 8, 3],\n",
    "    'c': [5, 3, 8, 7, 7, 5],\n",
    "    'd': [10, 3, 4, 13, 6, 9]\n",
    "})\n",
    "\n",
    "dice = dice.set_index('')\n",
    "dice.loc[\"total_rolls\"] = dice.sum() # добавляем суммирующую строку\n",
    "dice['total_dist'] = dice.sum(axis=1) # добавляем суммирующую колонку\n",
    "\n",
    "dice"
   ]
  },
  {
   "cell_type": "markdown",
   "metadata": {
    "hidden": true
   },
   "source": [
    "Как видно 4 выпадала гораздо чаще остальных, а 2 и 3 наоборот реже.Свзано ли это с тем, что кубик неправильный? Или же наша выборка недостаточно большая и такие результаты случайны?"
   ]
  },
  {
   "cell_type": "markdown",
   "metadata": {
    "hidden": true
   },
   "source": [
    "#### Формулируем нулевую гипотезу H0"
   ]
  },
  {
   "cell_type": "markdown",
   "metadata": {
    "hidden": true
   },
   "source": [
    "Кубик нормальный"
   ]
  },
  {
   "cell_type": "markdown",
   "metadata": {
    "hidden": true
   },
   "source": [
    "#### Используем критерий Хи-квадрат"
   ]
  },
  {
   "cell_type": "markdown",
   "metadata": {
    "hidden": true
   },
   "source": [
    "**Вначале нужно перевести результаты в формат np.array**"
   ]
  },
  {
   "cell_type": "code",
   "execution_count": 2,
   "metadata": {
    "hidden": true
   },
   "outputs": [
    {
     "ename": "NameError",
     "evalue": "name 'np' is not defined",
     "output_type": "error",
     "traceback": [
      "\u001b[1;31m---------------------------------------------------------------------------\u001b[0m",
      "\u001b[1;31mNameError\u001b[0m                                 Traceback (most recent call last)",
      "Input \u001b[1;32mIn [2]\u001b[0m, in \u001b[0;36m<cell line: 4>\u001b[1;34m()\u001b[0m\n\u001b[0;32m      1\u001b[0m index \u001b[38;5;241m=\u001b[39m [\u001b[38;5;124m'\u001b[39m\u001b[38;5;124mone\u001b[39m\u001b[38;5;124m'\u001b[39m, \u001b[38;5;124m'\u001b[39m\u001b[38;5;124mtwo\u001b[39m\u001b[38;5;124m'\u001b[39m, \u001b[38;5;124m'\u001b[39m\u001b[38;5;124mthree\u001b[39m\u001b[38;5;124m'\u001b[39m, \u001b[38;5;124m'\u001b[39m\u001b[38;5;124mfour\u001b[39m\u001b[38;5;124m'\u001b[39m, \u001b[38;5;124m'\u001b[39m\u001b[38;5;124mfive\u001b[39m\u001b[38;5;124m'\u001b[39m, \u001b[38;5;124m'\u001b[39m\u001b[38;5;124msix\u001b[39m\u001b[38;5;124m'\u001b[39m]\n\u001b[0;32m      2\u001b[0m columns \u001b[38;5;241m=\u001b[39m [\u001b[38;5;124m'\u001b[39m\u001b[38;5;124ma\u001b[39m\u001b[38;5;124m'\u001b[39m, \u001b[38;5;124m'\u001b[39m\u001b[38;5;124mb\u001b[39m\u001b[38;5;124m'\u001b[39m, \u001b[38;5;124m'\u001b[39m\u001b[38;5;124mc\u001b[39m\u001b[38;5;124m'\u001b[39m, \u001b[38;5;124m'\u001b[39m\u001b[38;5;124md\u001b[39m\u001b[38;5;124m'\u001b[39m]\n\u001b[1;32m----> 4\u001b[0m dice \u001b[38;5;241m=\u001b[39m \u001b[43mnp\u001b[49m\u001b[38;5;241m.\u001b[39marray(dice\u001b[38;5;241m.\u001b[39mloc[index, columns])\n\u001b[0;32m      5\u001b[0m dice\n",
      "\u001b[1;31mNameError\u001b[0m: name 'np' is not defined"
     ]
    }
   ],
   "source": [
    "index = ['one', 'two', 'three', 'four', 'five', 'six']\n",
    "columns = ['a', 'b', 'c', 'd']\n",
    "\n",
    "dice = np.array(dice.loc[index, columns])\n",
    "dice"
   ]
  },
  {
   "cell_type": "markdown",
   "metadata": {
    "hidden": true
   },
   "source": [
    "**Или же просто**"
   ]
  },
  {
   "cell_type": "code",
   "execution_count": 11,
   "metadata": {
    "hidden": true
   },
   "outputs": [
    {
     "data": {
      "text/plain": [
       "array([[ 6,  4,  5, 10],\n",
       "       [ 8,  5,  3,  3],\n",
       "       [ 5,  4,  8,  4],\n",
       "       [ 4, 11,  7, 13],\n",
       "       [ 5,  8,  7,  6],\n",
       "       [ 7,  3,  5,  9]])"
      ]
     },
     "execution_count": 11,
     "metadata": {},
     "output_type": "execute_result"
    }
   ],
   "source": [
    "a1 = [6, 4, 5, 10]\n",
    "a2 = [8, 5, 3, 3]\n",
    "a3 = [5, 4, 8, 4]\n",
    "a4 = [4, 11, 7, 13]\n",
    "a5 = [5, 8, 7, 6]\n",
    "a6 = [7, 3, 5, 9]\n",
    "\n",
    "dice = np.array([a1, a2, a3, a4, a5, a6])\n",
    "dice"
   ]
  },
  {
   "cell_type": "markdown",
   "metadata": {
    "hidden": true
   },
   "source": [
    "В случае, когда у нас нет предположений о распределении случайной величины, можно использовать метод stat.chi2_contigency. Он вернет частотную таблицу, которая поможет составить некоторое представление о распределении выборки"
   ]
  },
  {
   "cell_type": "code",
   "execution_count": 7,
   "metadata": {
    "hidden": true
   },
   "outputs": [
    {
     "name": "stdout",
     "output_type": "stream",
     "text": [
      "\n",
      "\n",
      "chi_square_statistic: 16.490612061288754\n",
      "\n",
      "p_value: 0.35021521809742745\n",
      "\n",
      "degrees_of_freedom: 15\n",
      "\n",
      "\n",
      " === Contingency Table - expected_frequencies ===\n",
      "\n",
      "[[ 5.83333333  5.83333333  5.83333333  7.5       ]\n",
      " [ 4.43333333  4.43333333  4.43333333  5.7       ]\n",
      " [ 4.9         4.9         4.9         6.3       ]\n",
      " [ 8.16666667  8.16666667  8.16666667 10.5       ]\n",
      " [ 6.06666667  6.06666667  6.06666667  7.8       ]\n",
      " [ 5.6         5.6         5.6         7.2       ]]\n",
      "\n",
      "\n"
     ]
    }
   ],
   "source": [
    "chi_square_statistic, p_value, degrees_of_freedom, expected_frequencies = stats.chi2_contingency(dice)\n",
    "\n",
    "print(\n",
    "f'''\n",
    "\n",
    "chi_square_statistic: {chi_square_statistic}\n",
    "\n",
    "p_value: {p_value}\n",
    "\n",
    "degrees_of_freedom: {degrees_of_freedom}\n",
    "\n",
    "\n",
    " === Contingency Table - expected_frequencies ===\n",
    "\n",
    "{expected_frequencies}\n",
    "\n",
    "'''\n",
    ")"
   ]
  },
  {
   "cell_type": "markdown",
   "metadata": {
    "hidden": true
   },
   "source": [
    "#### Вывод:"
   ]
  },
  {
   "cell_type": "markdown",
   "metadata": {
    "hidden": true
   },
   "source": [
    "**Вероятность получить такие результаты при верной нулевой гипотезе - 0.35, что больше чем пороги ошибки 0.05 и 0.01. Следовательно, мы подверждаем нуливую гипотезу. Кубик нормальный. По крайней мере, такой вывод можно сделать исходя из наших данных.**"
   ]
  },
  {
   "cell_type": "markdown",
   "metadata": {
    "heading_collapsed": true,
    "hidden": true
   },
   "source": [
    "### Пример с кубиком (большая выборка)"
   ]
  },
  {
   "cell_type": "code",
   "execution_count": 12,
   "metadata": {
    "hidden": true
   },
   "outputs": [
    {
     "name": "stdout",
     "output_type": "stream",
     "text": [
      "\n",
      "\n",
      "chi_square_statistic: 25.344763592076397\n",
      "\n",
      "p_value: 0.18855818572374633\n",
      "\n",
      "degrees_of_freedom: 20\n",
      "\n",
      "\n",
      " === Contingency Table - expected_frequencies ===\n",
      "\n",
      "[[164.8 169.8 178.  161.4 164.8 161.2]\n",
      " [164.8 169.8 178.  161.4 164.8 161.2]\n",
      " [164.8 169.8 178.  161.4 164.8 161.2]\n",
      " [164.8 169.8 178.  161.4 164.8 161.2]\n",
      " [164.8 169.8 178.  161.4 164.8 161.2]]\n",
      "\n",
      "\n"
     ]
    }
   ],
   "source": [
    "r1 = np.random.randint(1,7,1000)\n",
    "r2 = np.random.randint(1,7,1000)\n",
    "r3 = np.random.randint(1,7,1000)\n",
    "r4 = np.random.randint(1,7,1000)\n",
    "r5 = np.random.randint(1,7,1000)\n",
    "\n",
    "unique, counts1 = np.unique(r1, return_counts=True)\n",
    "unique, counts2 = np.unique(r2, return_counts=True)\n",
    "unique, counts3 = np.unique(r3, return_counts=True)\n",
    "unique, counts4 = np.unique(r4, return_counts=True)\n",
    "unique, counts5 = np.unique(r5, return_counts=True)\n",
    "\n",
    "dice = np.array([counts1, counts2, counts3, counts4, counts5])\n",
    "\n",
    "chi_square_statistic, p_value, degrees_of_freedom, expected_frequencies = stats.chi2_contingency(dice)\n",
    "\n",
    "print(\n",
    "f'''\n",
    "\n",
    "chi_square_statistic: {chi_square_statistic}\n",
    "\n",
    "p_value: {p_value}\n",
    "\n",
    "degrees_of_freedom: {degrees_of_freedom}\n",
    "\n",
    "\n",
    " === Contingency Table - expected_frequencies ===\n",
    "\n",
    "{expected_frequencies}\n",
    "\n",
    "'''\n",
    ")"
   ]
  },
  {
   "cell_type": "markdown",
   "metadata": {
    "hidden": true
   },
   "source": [
    "Чем больше наша выборка тем больше частоты в таблице соответствуют равномерному распределению"
   ]
  },
  {
   "cell_type": "code",
   "execution_count": 13,
   "metadata": {
    "hidden": true
   },
   "outputs": [
    {
     "name": "stdout",
     "output_type": "stream",
     "text": [
      "\n",
      "\n",
      "chi_square_statistic: 12.424857791472391\n",
      "\n",
      "p_value: 0.9006770692750461\n",
      "\n",
      "degrees_of_freedom: 20\n",
      "\n",
      "\n",
      " === Contingency Table - expected_frequencies ===\n",
      "\n",
      "[[1678.6 1673.6 1658.6 1654.8 1645.6 1688.8]\n",
      " [1678.6 1673.6 1658.6 1654.8 1645.6 1688.8]\n",
      " [1678.6 1673.6 1658.6 1654.8 1645.6 1688.8]\n",
      " [1678.6 1673.6 1658.6 1654.8 1645.6 1688.8]\n",
      " [1678.6 1673.6 1658.6 1654.8 1645.6 1688.8]]\n",
      "\n",
      "1/6 * 10 000 = 1666.6666666666665\n",
      "\n"
     ]
    }
   ],
   "source": [
    "r1 = np.random.randint(1,7, 10000)\n",
    "r2 = np.random.randint(1,7, 10000)\n",
    "r3 = np.random.randint(1,7, 10000)\n",
    "r4 = np.random.randint(1,7, 10000)\n",
    "r5 = np.random.randint(1,7, 10000)\n",
    "\n",
    "unique, counts1 = np.unique(r1, return_counts=True)\n",
    "unique, counts2 = np.unique(r2, return_counts=True)\n",
    "unique, counts3 = np.unique(r3, return_counts=True)\n",
    "unique, counts4 = np.unique(r4, return_counts=True)\n",
    "unique, counts5 = np.unique(r5, return_counts=True)\n",
    "\n",
    "dice = np.array([counts1, counts2, counts3, counts4, counts5])\n",
    "\n",
    "chi_square_statistic, p_value, degrees_of_freedom, expected_frequencies = stats.chi2_contingency(dice)\n",
    "\n",
    "print(\n",
    "f'''\n",
    "\n",
    "chi_square_statistic: {chi_square_statistic}\n",
    "\n",
    "p_value: {p_value}\n",
    "\n",
    "degrees_of_freedom: {degrees_of_freedom}\n",
    "\n",
    "\n",
    " === Contingency Table - expected_frequencies ===\n",
    "\n",
    "{expected_frequencies}\n",
    "\n",
    "1/6 * 10 000 = {1/6*10000}\n",
    "'''\n",
    ")"
   ]
  },
  {
   "cell_type": "markdown",
   "metadata": {
    "hidden": true
   },
   "source": [
    "Теперь допустим, что у нас есть предположение о распределении случайной величины. Мы рассматриваем кубик - следовательно результаты должны быть распределены равномерно. Посчитав характеристики нашей выборки можно сгенерить теоретическое распределение. После чего сравнить эмпирическую и теоретическую выборки\n",
    "\n",
    "### H0: результаты распределены равномерно - кубик нормальный\n",
    "### H1: результаты распределены неравномерно - кубик бракованный"
   ]
  },
  {
   "cell_type": "code",
   "execution_count": 14,
   "metadata": {
    "hidden": true
   },
   "outputs": [
    {
     "data": {
      "text/plain": [
       "279"
      ]
     },
     "execution_count": 14,
     "metadata": {},
     "output_type": "execute_result"
    }
   ],
   "source": [
    "sum([59, 63, 37, 38, 32, 50])"
   ]
  },
  {
   "cell_type": "code",
   "execution_count": 15,
   "metadata": {
    "hidden": true
   },
   "outputs": [
    {
     "data": {
      "text/plain": [
       "46.5"
      ]
     },
     "execution_count": 15,
     "metadata": {},
     "output_type": "execute_result"
    }
   ],
   "source": [
    "sum([59, 63, 37, 38, 32, 50])/6"
   ]
  },
  {
   "cell_type": "code",
   "execution_count": 16,
   "metadata": {
    "hidden": true
   },
   "outputs": [
    {
     "data": {
      "text/plain": [
       "Power_divergenceResult(statistic=0.0, pvalue=1.0)"
      ]
     },
     "execution_count": 16,
     "metadata": {},
     "output_type": "execute_result"
    }
   ],
   "source": [
    "my_rolls_expected = [46.5, 46.5, 46.5, 46.5, 46.5, 46.5] # теоретическое ожидаемое распределение\n",
    "my_rolls_actual =  [46.5, 46.5, 46.5, 46.5, 46.5, 46.5] # эмпирическое наблюдаемое распределение\n",
    "\n",
    "stats.chisquare(my_rolls_actual, my_rolls_expected)"
   ]
  },
  {
   "cell_type": "code",
   "execution_count": 17,
   "metadata": {
    "hidden": true
   },
   "outputs": [
    {
     "data": {
      "text/plain": [
       "Power_divergenceResult(statistic=17.49462365591398, pvalue=0.003651257113910144)"
      ]
     },
     "execution_count": 17,
     "metadata": {},
     "output_type": "execute_result"
    }
   ],
   "source": [
    "my_rolls_expected = [46.5, 46.5, 46.5, 46.5, 46.5, 46.5] # теоретическое ожидаемое распределение\n",
    "my_rolls_actual =  [59, 63, 37, 38, 32, 50] # эмпирическое наблюдаемое распределение\n",
    "\n",
    "stats.chisquare(my_rolls_actual, my_rolls_expected)"
   ]
  },
  {
   "cell_type": "code",
   "execution_count": 18,
   "metadata": {
    "hidden": true
   },
   "outputs": [
    {
     "data": {
      "text/plain": [
       "Power_divergenceResult(statistic=0.06496613309977492, pvalue=0.9999440886251466)"
      ]
     },
     "execution_count": 18,
     "metadata": {},
     "output_type": "execute_result"
    }
   ],
   "source": [
    "my_rolls_expected_normalized = [1/6]*6 # теоретическое ожидаемое распределение\n",
    "my_rolls_actual_normalized =  [val/sum(my_rolls_actual) for val in my_rolls_actual] # эмпирическое наблюдаемое распределение\n",
    "\n",
    "stats.chisquare(my_rolls_expected_normalized, my_rolls_actual_normalized)"
   ]
  },
  {
   "cell_type": "code",
   "execution_count": 19,
   "metadata": {
    "hidden": true
   },
   "outputs": [],
   "source": [
    "?stats.chisquare"
   ]
  },
  {
   "cell_type": "markdown",
   "metadata": {
    "hidden": true
   },
   "source": [
    "**p-value = 0.003. Вероятность получения эмпирической выборки меньше порога ошибки, равного 0.01. Мы отвергаем нулевую гипотезу**"
   ]
  },
  {
   "cell_type": "markdown",
   "metadata": {
    "heading_collapsed": true
   },
   "source": [
    "## Игрушечный пример 1 - определить распределение случайной величины"
   ]
  },
  {
   "cell_type": "code",
   "execution_count": 20,
   "metadata": {
    "hidden": true
   },
   "outputs": [
    {
     "data": {
      "text/html": [
       "<div>\n",
       "<style scoped>\n",
       "    .dataframe tbody tr th:only-of-type {\n",
       "        vertical-align: middle;\n",
       "    }\n",
       "\n",
       "    .dataframe tbody tr th {\n",
       "        vertical-align: top;\n",
       "    }\n",
       "\n",
       "    .dataframe thead th {\n",
       "        text-align: right;\n",
       "    }\n",
       "</style>\n",
       "<table border=\"1\" class=\"dataframe\">\n",
       "  <thead>\n",
       "    <tr style=\"text-align: right;\">\n",
       "      <th></th>\n",
       "      <th>Varname</th>\n",
       "      <th>prob_dist</th>\n",
       "      <th>observed_freq</th>\n",
       "      <th>expected_freq</th>\n",
       "    </tr>\n",
       "  </thead>\n",
       "  <tbody>\n",
       "    <tr>\n",
       "      <th>0</th>\n",
       "      <td>CDU</td>\n",
       "      <td>0.415</td>\n",
       "      <td>57</td>\n",
       "      <td>51.045</td>\n",
       "    </tr>\n",
       "    <tr>\n",
       "      <th>1</th>\n",
       "      <td>SPD</td>\n",
       "      <td>0.257</td>\n",
       "      <td>26</td>\n",
       "      <td>31.611</td>\n",
       "    </tr>\n",
       "    <tr>\n",
       "      <th>2</th>\n",
       "      <td>Others</td>\n",
       "      <td>0.328</td>\n",
       "      <td>40</td>\n",
       "      <td>40.344</td>\n",
       "    </tr>\n",
       "  </tbody>\n",
       "</table>\n",
       "</div>"
      ],
      "text/plain": [
       "  Varname  prob_dist  observed_freq  expected_freq\n",
       "0     CDU      0.415             57         51.045\n",
       "1     SPD      0.257             26         31.611\n",
       "2  Others      0.328             40         40.344"
      ]
     },
     "execution_count": 20,
     "metadata": {},
     "output_type": "execute_result"
    }
   ],
   "source": [
    "data = [['CDU', 0.415, 57], \n",
    "        ['SPD', 0.257, 26], \n",
    "        ['Others', 0.328, 40]]\n",
    "\n",
    "df = pd.DataFrame(data, columns = ['Varname', 'prob_dist', 'observed_freq']) \n",
    "df['expected_freq'] = df['observed_freq'].sum() * df['prob_dist']\n",
    "df"
   ]
  },
  {
   "cell_type": "code",
   "execution_count": 21,
   "metadata": {
    "hidden": true
   },
   "outputs": [],
   "source": [
    "# significance level\n",
    "alpha = 0.05\n",
    "\n",
    "# Calcualtion of Chisquare test statistics\n",
    "chi_square = 0\n",
    "for i in range(len(df)):\n",
    "    O = df.loc[i, 'observed_freq']\n",
    "    E = df.loc[i, 'expected_freq']\n",
    "    chi_square += (O-E)**2/E"
   ]
  },
  {
   "cell_type": "code",
   "execution_count": 22,
   "metadata": {
    "hidden": true
   },
   "outputs": [
    {
     "name": "stdout",
     "output_type": "stream",
     "text": [
      "Approach 1: The p-value approach to hypothesis testing in the decision rule\n",
      "chisquare-score is: 1.693614940576721  and p value is: 0.6203442587006092\n",
      "Failed to reject the null hypothesis.\n"
     ]
    }
   ],
   "source": [
    "# The p-value approach\n",
    "print(\"Approach 1: The p-value approach to hypothesis testing in the decision rule\")\n",
    "p_value = 1 - stats.norm.cdf(chi_square, df['Varname'].nunique() - 1)\n",
    "conclusion = \"Failed to reject the null hypothesis.\"\n",
    "if p_value <= alpha:\n",
    "    conclusion = \"Null Hypothesis is rejected.\"\n",
    "        \n",
    "print(\"chisquare-score is:\", chi_square, \" and p value is:\", p_value)\n",
    "print(conclusion)"
   ]
  },
  {
   "cell_type": "code",
   "execution_count": 23,
   "metadata": {
    "hidden": true
   },
   "outputs": [
    {
     "name": "stdout",
     "output_type": "stream",
     "text": [
      "Approach 2: The critical value approach to hypothesis testing in the decision rule\n",
      "chisquare-score is: 1.693614940576721  and p value is: 5.991464547107979\n",
      "Failed to reject the null hypothesis.\n"
     ]
    }
   ],
   "source": [
    "# The critical value approach\n",
    "\n",
    "print(\"Approach 2: The critical value approach to hypothesis testing in the decision rule\")\n",
    "critical_value = stats.chi2.ppf(1-alpha, df['Varname'].nunique() - 1)\n",
    "conclusion = \"Failed to reject the null hypothesis.\"\n",
    "if chi_square > critical_value:\n",
    "    conclusion = \"Null Hypothesis is rejected.\"\n",
    "        \n",
    "print(\"chisquare-score is:\", chi_square, \" and p value is:\", critical_value)\n",
    "print(conclusion)"
   ]
  },
  {
   "cell_type": "markdown",
   "metadata": {
    "hidden": true
   },
   "source": [
    "##### Здесь я пока не понимаю"
   ]
  },
  {
   "cell_type": "markdown",
   "metadata": {
    "heading_collapsed": true
   },
   "source": [
    "## Игрушечный пример 2 - проверить наличие связи между двумя категориальными переменными"
   ]
  },
  {
   "cell_type": "markdown",
   "metadata": {
    "hidden": true
   },
   "source": [
    "### Допустим мы хотим проследить связь пола человека с его пристрастием к курению"
   ]
  },
  {
   "cell_type": "code",
   "execution_count": 24,
   "metadata": {
    "hidden": true
   },
   "outputs": [
    {
     "data": {
      "text/html": [
       "<div>\n",
       "<style scoped>\n",
       "    .dataframe tbody tr th:only-of-type {\n",
       "        vertical-align: middle;\n",
       "    }\n",
       "\n",
       "    .dataframe tbody tr th {\n",
       "        vertical-align: top;\n",
       "    }\n",
       "\n",
       "    .dataframe thead th {\n",
       "        text-align: right;\n",
       "    }\n",
       "</style>\n",
       "<table border=\"1\" class=\"dataframe\">\n",
       "  <thead>\n",
       "    <tr style=\"text-align: right;\">\n",
       "      <th></th>\n",
       "      <th>Gender</th>\n",
       "      <th>isSmoker</th>\n",
       "    </tr>\n",
       "  </thead>\n",
       "  <tbody>\n",
       "    <tr>\n",
       "      <th>0</th>\n",
       "      <td>M</td>\n",
       "      <td>Smoker</td>\n",
       "    </tr>\n",
       "    <tr>\n",
       "      <th>1</th>\n",
       "      <td>M</td>\n",
       "      <td>Smoker</td>\n",
       "    </tr>\n",
       "    <tr>\n",
       "      <th>2</th>\n",
       "      <td>M</td>\n",
       "      <td>Non-Smpoker</td>\n",
       "    </tr>\n",
       "    <tr>\n",
       "      <th>3</th>\n",
       "      <td>F</td>\n",
       "      <td>Non-Smpoker</td>\n",
       "    </tr>\n",
       "    <tr>\n",
       "      <th>4</th>\n",
       "      <td>F</td>\n",
       "      <td>Smoker</td>\n",
       "    </tr>\n",
       "  </tbody>\n",
       "</table>\n",
       "</div>"
      ],
      "text/plain": [
       "  Gender     isSmoker\n",
       "0      M       Smoker\n",
       "1      M       Smoker\n",
       "2      M  Non-Smpoker\n",
       "3      F  Non-Smpoker\n",
       "4      F       Smoker"
      ]
     },
     "execution_count": 24,
     "metadata": {},
     "output_type": "execute_result"
    }
   ],
   "source": [
    "df = pd.DataFrame({'Gender' : ['M', 'M', 'M', 'F', 'F'] * 10,\n",
    "                   'isSmoker' : ['Smoker', 'Smoker', 'Non-Smpoker', 'Non-Smpoker', 'Smoker'] * 10\n",
    "                  })\n",
    "df.head()"
   ]
  },
  {
   "cell_type": "markdown",
   "metadata": {
    "hidden": true
   },
   "source": [
    "### Для проведения теста Хи-квадрат, нужно создать частотную перекресную таблицу "
   ]
  },
  {
   "cell_type": "code",
   "execution_count": 25,
   "metadata": {
    "hidden": true
   },
   "outputs": [
    {
     "data": {
      "text/html": [
       "<div>\n",
       "<style scoped>\n",
       "    .dataframe tbody tr th:only-of-type {\n",
       "        vertical-align: middle;\n",
       "    }\n",
       "\n",
       "    .dataframe tbody tr th {\n",
       "        vertical-align: top;\n",
       "    }\n",
       "\n",
       "    .dataframe thead th {\n",
       "        text-align: right;\n",
       "    }\n",
       "</style>\n",
       "<table border=\"1\" class=\"dataframe\">\n",
       "  <thead>\n",
       "    <tr style=\"text-align: right;\">\n",
       "      <th>isSmoker</th>\n",
       "      <th>Non-Smpoker</th>\n",
       "      <th>Smoker</th>\n",
       "    </tr>\n",
       "    <tr>\n",
       "      <th>Gender</th>\n",
       "      <th></th>\n",
       "      <th></th>\n",
       "    </tr>\n",
       "  </thead>\n",
       "  <tbody>\n",
       "    <tr>\n",
       "      <th>F</th>\n",
       "      <td>10</td>\n",
       "      <td>10</td>\n",
       "    </tr>\n",
       "    <tr>\n",
       "      <th>M</th>\n",
       "      <td>10</td>\n",
       "      <td>20</td>\n",
       "    </tr>\n",
       "  </tbody>\n",
       "</table>\n",
       "</div>"
      ],
      "text/plain": [
       "isSmoker  Non-Smpoker  Smoker\n",
       "Gender                       \n",
       "F                  10      10\n",
       "M                  10      20"
      ]
     },
     "execution_count": 25,
     "metadata": {},
     "output_type": "execute_result"
    }
   ],
   "source": [
    "contigency= pd.crosstab(df['Gender'], df['isSmoker']) \n",
    "contigency"
   ]
  },
  {
   "cell_type": "code",
   "execution_count": 26,
   "metadata": {
    "hidden": true
   },
   "outputs": [
    {
     "data": {
      "text/html": [
       "<div>\n",
       "<style scoped>\n",
       "    .dataframe tbody tr th:only-of-type {\n",
       "        vertical-align: middle;\n",
       "    }\n",
       "\n",
       "    .dataframe tbody tr th {\n",
       "        vertical-align: top;\n",
       "    }\n",
       "\n",
       "    .dataframe thead th {\n",
       "        text-align: right;\n",
       "    }\n",
       "</style>\n",
       "<table border=\"1\" class=\"dataframe\">\n",
       "  <thead>\n",
       "    <tr style=\"text-align: right;\">\n",
       "      <th>isSmoker</th>\n",
       "      <th>Non-Smpoker</th>\n",
       "      <th>Smoker</th>\n",
       "    </tr>\n",
       "    <tr>\n",
       "      <th>Gender</th>\n",
       "      <th></th>\n",
       "      <th></th>\n",
       "    </tr>\n",
       "  </thead>\n",
       "  <tbody>\n",
       "    <tr>\n",
       "      <th>F</th>\n",
       "      <td>0.500000</td>\n",
       "      <td>0.500000</td>\n",
       "    </tr>\n",
       "    <tr>\n",
       "      <th>M</th>\n",
       "      <td>0.333333</td>\n",
       "      <td>0.666667</td>\n",
       "    </tr>\n",
       "  </tbody>\n",
       "</table>\n",
       "</div>"
      ],
      "text/plain": [
       "isSmoker  Non-Smpoker    Smoker\n",
       "Gender                         \n",
       "F            0.500000  0.500000\n",
       "M            0.333333  0.666667"
      ]
     },
     "execution_count": 26,
     "metadata": {},
     "output_type": "execute_result"
    }
   ],
   "source": [
    "contigency_pct = pd.crosstab(df['Gender'], df['isSmoker'], normalize='index') # normalize='column', normalize='all' \n",
    "contigency_pct"
   ]
  },
  {
   "cell_type": "markdown",
   "metadata": {
    "hidden": true
   },
   "source": [
    "### Для удобства можно построить heatmap. Пользуясь функционалом styler или seaborn "
   ]
  },
  {
   "cell_type": "code",
   "execution_count": 27,
   "metadata": {
    "hidden": true
   },
   "outputs": [
    {
     "data": {
      "text/html": [
       "<style type=\"text/css\">\n",
       "#T_e3aa8_row0_col0, #T_e3aa8_row0_col1, #T_e3aa8_row1_col0 {\n",
       "  background-color: #fff7fb;\n",
       "  color: #000000;\n",
       "}\n",
       "#T_e3aa8_row1_col1 {\n",
       "  background-color: #023858;\n",
       "  color: #f1f1f1;\n",
       "}\n",
       "</style>\n",
       "<table id=\"T_e3aa8\">\n",
       "  <thead>\n",
       "    <tr>\n",
       "      <th class=\"index_name level0\" >isSmoker</th>\n",
       "      <th id=\"T_e3aa8_level0_col0\" class=\"col_heading level0 col0\" >Non-Smpoker</th>\n",
       "      <th id=\"T_e3aa8_level0_col1\" class=\"col_heading level0 col1\" >Smoker</th>\n",
       "    </tr>\n",
       "    <tr>\n",
       "      <th class=\"index_name level0\" >Gender</th>\n",
       "      <th class=\"blank col0\" >&nbsp;</th>\n",
       "      <th class=\"blank col1\" >&nbsp;</th>\n",
       "    </tr>\n",
       "  </thead>\n",
       "  <tbody>\n",
       "    <tr>\n",
       "      <th id=\"T_e3aa8_level0_row0\" class=\"row_heading level0 row0\" >F</th>\n",
       "      <td id=\"T_e3aa8_row0_col0\" class=\"data row0 col0\" >10</td>\n",
       "      <td id=\"T_e3aa8_row0_col1\" class=\"data row0 col1\" >10</td>\n",
       "    </tr>\n",
       "    <tr>\n",
       "      <th id=\"T_e3aa8_level0_row1\" class=\"row_heading level0 row1\" >M</th>\n",
       "      <td id=\"T_e3aa8_row1_col0\" class=\"data row1 col0\" >10</td>\n",
       "      <td id=\"T_e3aa8_row1_col1\" class=\"data row1 col1\" >20</td>\n",
       "    </tr>\n",
       "  </tbody>\n",
       "</table>\n"
      ],
      "text/plain": [
       "<pandas.io.formats.style.Styler at 0x14e3c4f2a40>"
      ]
     },
     "execution_count": 27,
     "metadata": {},
     "output_type": "execute_result"
    }
   ],
   "source": [
    "contigency.style.background_gradient(axis=1)"
   ]
  },
  {
   "cell_type": "code",
   "execution_count": 32,
   "metadata": {
    "hidden": true
   },
   "outputs": [
    {
     "data": {
      "image/png": "[encoded data removed]",
      "text/plain": [
       "<Figure size 864x576 with 2 Axes>"
      ]
     },
     "metadata": {
      "needs_background": "light"
     },
     "output_type": "display_data"
    }
   ],
   "source": [
    "plt.figure(figsize=(12,8)) \n",
    "sns.heatmap(contigency, annot=True, cmap=\"YlGnBu\");"
   ]
  },
  {
   "cell_type": "markdown",
   "metadata": {
    "hidden": true
   },
   "source": [
    "### Применяем критерий Хи-квадрат\n",
    "\n",
    "- с - статистика теста\n",
    "- p - p-value\n",
    "- dof -степень свободы\n",
    "- expected - ожидаемые частоты, основанные на предельных суммах таблицы"
   ]
  },
  {
   "cell_type": "code",
   "execution_count": 33,
   "metadata": {
    "hidden": true
   },
   "outputs": [
    {
     "name": "stdout",
     "output_type": "stream",
     "text": [
      "c: 0.78125\n",
      " \n",
      "p: 0.3767591178115821 \n",
      " \n",
      "dof: 1 \n",
      " \n",
      "expected: [[ 8. 12.]\n",
      " [12. 18.]]\n"
     ]
    }
   ],
   "source": [
    "c, p, dof, expected = stats.chi2_contingency(contigency)\n",
    "\n",
    "print(f'c: {c}\\n \\np: {p} \\n \\ndof: {dof} \\n \\nexpected: {expected}')"
   ]
  },
  {
   "cell_type": "markdown",
   "metadata": {
    "hidden": true
   },
   "source": [
    "**p-value = 37.6%, это значит, что мы принимаем нулевую гипотезу о не связанности пола с пристрастием к курению с 95% уровнем уверенности**\n",
    "\n",
    "#### Можно ли в данном случае применить z-test?"
   ]
  },
  {
   "cell_type": "markdown",
   "metadata": {
    "heading_collapsed": true
   },
   "source": [
    "## Визуализация распределений"
   ]
  },
  {
   "cell_type": "code",
   "execution_count": 34,
   "metadata": {
    "hidden": true
   },
   "outputs": [],
   "source": [
    "reactions = [328,454,312,625,609,546,502,736,485,766,429,313,328,344,360,\n",
    "             453,563,343,375, 28,312,361,297,437,328,328,328,297,359,328,\n",
    "             361,703,500,344,329,312,328,547,314,328,439,359,126,408,360,\n",
    "             346,328,392,453,359]\n",
    "\n",
    "samples=np.array(reactions)\n",
    "mean=np.mean(reactions)\n",
    "var=np.var(reactions)\n",
    "std=np.sqrt(var) # квадратный корень из дисперсии"
   ]
  },
  {
   "cell_type": "code",
   "execution_count": 35,
   "metadata": {
    "hidden": true
   },
   "outputs": [
    {
     "name": "stdout",
     "output_type": "stream",
     "text": [
      "Excess kurtosis of normal distribution ( should be 0): -1.2167832167832173\n",
      "Skewness of normal distribution ( should be 0): 1.99915121504792e-16\n"
     ]
    }
   ],
   "source": [
    "x = np.linspace(min(samples), max(samples), 12)\n",
    "print(\"Excess kurtosis of normal distribution ( should be 0): {}\".format(stats.kurtosis(x)))\n",
    "print(\"Skewness of normal distribution ( should be 0): {}\".format(stats.skew(x)))"
   ]
  },
  {
   "cell_type": "code",
   "execution_count": 41,
   "metadata": {
    "hidden": true
   },
   "outputs": [],
   "source": [
    "y_pdf = stats.norm.pdf(x, mean, std)\n",
    "y_skew_pdf = stats.skewnorm.pdf(x, *stats.skewnorm.fit(samples))"
   ]
  },
  {
   "cell_type": "code",
   "execution_count": 42,
   "metadata": {
    "hidden": true
   },
   "outputs": [
    {
     "data": {
      "image/png": "[encoded data removed]",
      "text/plain": [
       "<Figure size 432x288 with 1 Axes>"
      ]
     },
     "metadata": {
      "needs_background": "light"
     },
     "output_type": "display_data"
    }
   ],
   "source": [
    "l1, = plt.plot(x, y_pdf, label='PDF')\n",
    "l2, = plt.plot(x, y_skew_pdf, label='SKEW PDF')\n",
    "\n",
    "# Compute histogram of Samples\n",
    "n, bins, patches =plt.hist(samples,\n",
    "                           bins = 12,\n",
    "                           density=True,\n",
    "                           \n",
    "                           facecolor='g',\n",
    "                           edgecolor='red', \n",
    "                           alpha=0.75)\n",
    "\n",
    "plt.axvline(label='Mean=404.2 ms',x=404.2,linestyle='dashed')\n",
    "plt.axvline(label='Mean-2sigma=158.06 ms',x=158.06,linestyle='dashed')\n",
    "plt.axvline(label='Mean+2sigma=650.34 ms',x=650.34, linestyle='dashed')\n",
    "\n",
    "plt.xlabel('My Reaction Time (ms)')\n",
    "plt.ylabel('Probability')\n",
    "plt.title('Histogram of reaction to visual stimuli')\n",
    "\n",
    "# The first plt.text arguments are coordinates x,y of the plot\n",
    "plt.text(400, 0.015,r'mean=404.2,sigma=123.07')\n",
    "plt.legend((l1,l2),(l1.get_label(), l2.get_label()), loc='upper right')\n",
    "plt.axis([126, 766, 0, 0.01])\n",
    "plt.show()"
   ]
  },
  {
   "cell_type": "markdown",
   "metadata": {
    "hidden": true
   },
   "source": [
    "### Как сделать тоже самое с plotly?\n",
    "https://plotly.com/python/distplot/ - ссылка на документацию по построению гистограмм в plotly"
   ]
  },
  {
   "cell_type": "code",
   "execution_count": 49,
   "metadata": {
    "collapsed": true,
    "hidden": true
   },
   "outputs": [
    {
     "ename": "ValueError",
     "evalue": "Mime type rendering requires nbformat>=4.2.0 but it is not installed",
     "output_type": "error",
     "traceback": [
      "\u001b[1;31m---------------------------------------------------------------------------\u001b[0m",
      "\u001b[1;31mValueError\u001b[0m                                Traceback (most recent call last)",
      "Input \u001b[1;32mIn [49]\u001b[0m, in \u001b[0;36m<cell line: 10>\u001b[1;34m()\u001b[0m\n\u001b[0;32m      6\u001b[0m fig \u001b[38;5;241m=\u001b[39m ff\u001b[38;5;241m.\u001b[39mcreate_distplot([x], [group_labels], bin_size\u001b[38;5;241m=\u001b[39m\u001b[38;5;241m.2\u001b[39m, show_rug\u001b[38;5;241m=\u001b[39m\u001b[38;5;28;01mFalse\u001b[39;00m)\n\u001b[0;32m      7\u001b[0m fig\u001b[38;5;241m.\u001b[39mupdate_layout(width\u001b[38;5;241m=\u001b[39m\u001b[38;5;241m600\u001b[39m, \n\u001b[0;32m      8\u001b[0m                   height\u001b[38;5;241m=\u001b[39m\u001b[38;5;241m400\u001b[39m,\n\u001b[0;32m      9\u001b[0m                   bargap\u001b[38;5;241m=\u001b[39m\u001b[38;5;241m0.01\u001b[39m)\n\u001b[1;32m---> 10\u001b[0m \u001b[43mfig\u001b[49m\u001b[38;5;241;43m.\u001b[39;49m\u001b[43mshow\u001b[49m\u001b[43m(\u001b[49m\u001b[43m)\u001b[49m\n",
      "File \u001b[1;32mD:\\Projects\\venv\\lib\\site-packages\\plotly\\basedatatypes.py:3398\u001b[0m, in \u001b[0;36mBaseFigure.show\u001b[1;34m(self, *args, **kwargs)\u001b[0m\n\u001b[0;32m   3365\u001b[0m \u001b[38;5;124;03m\"\"\"\u001b[39;00m\n\u001b[0;32m   3366\u001b[0m \u001b[38;5;124;03mShow a figure using either the default renderer(s) or the renderer(s)\u001b[39;00m\n\u001b[0;32m   3367\u001b[0m \u001b[38;5;124;03mspecified by the renderer argument\u001b[39;00m\n\u001b[1;32m   (...)\u001b[0m\n\u001b[0;32m   3394\u001b[0m \u001b[38;5;124;03mNone\u001b[39;00m\n\u001b[0;32m   3395\u001b[0m \u001b[38;5;124;03m\"\"\"\u001b[39;00m\n\u001b[0;32m   3396\u001b[0m \u001b[38;5;28;01mimport\u001b[39;00m \u001b[38;5;21;01mplotly\u001b[39;00m\u001b[38;5;21;01m.\u001b[39;00m\u001b[38;5;21;01mio\u001b[39;00m \u001b[38;5;28;01mas\u001b[39;00m \u001b[38;5;21;01mpio\u001b[39;00m\n\u001b[1;32m-> 3398\u001b[0m \u001b[38;5;28;01mreturn\u001b[39;00m pio\u001b[38;5;241m.\u001b[39mshow(\u001b[38;5;28mself\u001b[39m, \u001b[38;5;241m*\u001b[39margs, \u001b[38;5;241m*\u001b[39m\u001b[38;5;241m*\u001b[39mkwargs)\n",
      "File \u001b[1;32mD:\\Projects\\venv\\lib\\site-packages\\plotly\\io\\_renderers.py:396\u001b[0m, in \u001b[0;36mshow\u001b[1;34m(fig, renderer, validate, **kwargs)\u001b[0m\n\u001b[0;32m    391\u001b[0m         \u001b[38;5;28;01mraise\u001b[39;00m \u001b[38;5;167;01mValueError\u001b[39;00m(\n\u001b[0;32m    392\u001b[0m             \u001b[38;5;124m\"\u001b[39m\u001b[38;5;124mMime type rendering requires ipython but it is not installed\u001b[39m\u001b[38;5;124m\"\u001b[39m\n\u001b[0;32m    393\u001b[0m         )\n\u001b[0;32m    395\u001b[0m     \u001b[38;5;28;01mif\u001b[39;00m \u001b[38;5;129;01mnot\u001b[39;00m nbformat \u001b[38;5;129;01mor\u001b[39;00m LooseVersion(nbformat\u001b[38;5;241m.\u001b[39m__version__) \u001b[38;5;241m<\u001b[39m LooseVersion(\u001b[38;5;124m\"\u001b[39m\u001b[38;5;124m4.2.0\u001b[39m\u001b[38;5;124m\"\u001b[39m):\n\u001b[1;32m--> 396\u001b[0m         \u001b[38;5;28;01mraise\u001b[39;00m \u001b[38;5;167;01mValueError\u001b[39;00m(\n\u001b[0;32m    397\u001b[0m             \u001b[38;5;124m\"\u001b[39m\u001b[38;5;124mMime type rendering requires nbformat>=4.2.0 but it is not installed\u001b[39m\u001b[38;5;124m\"\u001b[39m\n\u001b[0;32m    398\u001b[0m         )\n\u001b[0;32m    400\u001b[0m     ipython_display\u001b[38;5;241m.\u001b[39mdisplay(bundle, raw\u001b[38;5;241m=\u001b[39m\u001b[38;5;28;01mTrue\u001b[39;00m)\n\u001b[0;32m    402\u001b[0m \u001b[38;5;66;03m# external renderers\u001b[39;00m\n",
      "\u001b[1;31mValueError\u001b[0m: Mime type rendering requires nbformat>=4.2.0 but it is not installed"
     ]
    }
   ],
   "source": [
    "np.random.seed(123)\n",
    "x = np.random.normal(loc=2.5, scale=0.85, size=300) \n",
    "group_labels = 'My sample'\n",
    "\n",
    "# Create distplot with custom bin_size, and without rug plot\n",
    "fig = ff.create_distplot([x], [group_labels], bin_size=.2, show_rug=False)\n",
    "fig.update_layout(width=600, \n",
    "                  height=400,\n",
    "                  bargap=0.01)\n",
    "fig.show()"
   ]
  },
  {
   "cell_type": "code",
   "execution_count": 50,
   "metadata": {
    "hidden": true
   },
   "outputs": [
    {
     "data": {
      "text/html": [
       "<div>\n",
       "<style scoped>\n",
       "    .dataframe tbody tr th:only-of-type {\n",
       "        vertical-align: middle;\n",
       "    }\n",
       "\n",
       "    .dataframe tbody tr th {\n",
       "        vertical-align: top;\n",
       "    }\n",
       "\n",
       "    .dataframe thead th {\n",
       "        text-align: right;\n",
       "    }\n",
       "</style>\n",
       "<table border=\"1\" class=\"dataframe\">\n",
       "  <thead>\n",
       "    <tr style=\"text-align: right;\">\n",
       "      <th></th>\n",
       "      <th>total_bill</th>\n",
       "      <th>tip</th>\n",
       "      <th>sex</th>\n",
       "      <th>smoker</th>\n",
       "      <th>day</th>\n",
       "      <th>time</th>\n",
       "      <th>size</th>\n",
       "    </tr>\n",
       "  </thead>\n",
       "  <tbody>\n",
       "    <tr>\n",
       "      <th>0</th>\n",
       "      <td>16.99</td>\n",
       "      <td>1.01</td>\n",
       "      <td>Female</td>\n",
       "      <td>No</td>\n",
       "      <td>Sun</td>\n",
       "      <td>Dinner</td>\n",
       "      <td>2</td>\n",
       "    </tr>\n",
       "    <tr>\n",
       "      <th>1</th>\n",
       "      <td>10.34</td>\n",
       "      <td>1.66</td>\n",
       "      <td>Male</td>\n",
       "      <td>No</td>\n",
       "      <td>Sun</td>\n",
       "      <td>Dinner</td>\n",
       "      <td>3</td>\n",
       "    </tr>\n",
       "    <tr>\n",
       "      <th>2</th>\n",
       "      <td>21.01</td>\n",
       "      <td>3.50</td>\n",
       "      <td>Male</td>\n",
       "      <td>No</td>\n",
       "      <td>Sun</td>\n",
       "      <td>Dinner</td>\n",
       "      <td>3</td>\n",
       "    </tr>\n",
       "    <tr>\n",
       "      <th>3</th>\n",
       "      <td>23.68</td>\n",
       "      <td>3.31</td>\n",
       "      <td>Male</td>\n",
       "      <td>No</td>\n",
       "      <td>Sun</td>\n",
       "      <td>Dinner</td>\n",
       "      <td>2</td>\n",
       "    </tr>\n",
       "    <tr>\n",
       "      <th>4</th>\n",
       "      <td>24.59</td>\n",
       "      <td>3.61</td>\n",
       "      <td>Female</td>\n",
       "      <td>No</td>\n",
       "      <td>Sun</td>\n",
       "      <td>Dinner</td>\n",
       "      <td>4</td>\n",
       "    </tr>\n",
       "  </tbody>\n",
       "</table>\n",
       "</div>"
      ],
      "text/plain": [
       "   total_bill   tip     sex smoker  day    time  size\n",
       "0       16.99  1.01  Female     No  Sun  Dinner     2\n",
       "1       10.34  1.66    Male     No  Sun  Dinner     3\n",
       "2       21.01  3.50    Male     No  Sun  Dinner     3\n",
       "3       23.68  3.31    Male     No  Sun  Dinner     2\n",
       "4       24.59  3.61  Female     No  Sun  Dinner     4"
      ]
     },
     "execution_count": 50,
     "metadata": {},
     "output_type": "execute_result"
    }
   ],
   "source": [
    "import plotly.express as px\n",
    "df = px.data.tips()\n",
    "df.head()"
   ]
  },
  {
   "cell_type": "code",
   "execution_count": 51,
   "metadata": {
    "hidden": true
   },
   "outputs": [
    {
     "ename": "ValueError",
     "evalue": "Mime type rendering requires nbformat>=4.2.0 but it is not installed",
     "output_type": "error",
     "traceback": [
      "\u001b[1;31m---------------------------------------------------------------------------\u001b[0m",
      "\u001b[1;31mValueError\u001b[0m                                Traceback (most recent call last)",
      "Input \u001b[1;32mIn [51]\u001b[0m, in \u001b[0;36m<cell line: 3>\u001b[1;34m()\u001b[0m\n\u001b[0;32m      1\u001b[0m fig \u001b[38;5;241m=\u001b[39m px\u001b[38;5;241m.\u001b[39mhistogram(df, x\u001b[38;5;241m=\u001b[39m\u001b[38;5;124m\"\u001b[39m\u001b[38;5;124mtotal_bill\u001b[39m\u001b[38;5;124m\"\u001b[39m, y\u001b[38;5;241m=\u001b[39m\u001b[38;5;124m\"\u001b[39m\u001b[38;5;124mtip\u001b[39m\u001b[38;5;124m\"\u001b[39m, color\u001b[38;5;241m=\u001b[39m\u001b[38;5;124m\"\u001b[39m\u001b[38;5;124msex\u001b[39m\u001b[38;5;124m\"\u001b[39m, marginal\u001b[38;5;241m=\u001b[39m\u001b[38;5;124m\"\u001b[39m\u001b[38;5;124mrug\u001b[39m\u001b[38;5;124m\"\u001b[39m,\n\u001b[0;32m      2\u001b[0m                    hover_data\u001b[38;5;241m=\u001b[39mdf\u001b[38;5;241m.\u001b[39mcolumns)\n\u001b[1;32m----> 3\u001b[0m \u001b[43mfig\u001b[49m\u001b[38;5;241;43m.\u001b[39;49m\u001b[43mshow\u001b[49m\u001b[43m(\u001b[49m\u001b[43m)\u001b[49m\n",
      "File \u001b[1;32mD:\\Projects\\venv\\lib\\site-packages\\plotly\\basedatatypes.py:3398\u001b[0m, in \u001b[0;36mBaseFigure.show\u001b[1;34m(self, *args, **kwargs)\u001b[0m\n\u001b[0;32m   3365\u001b[0m \u001b[38;5;124;03m\"\"\"\u001b[39;00m\n\u001b[0;32m   3366\u001b[0m \u001b[38;5;124;03mShow a figure using either the default renderer(s) or the renderer(s)\u001b[39;00m\n\u001b[0;32m   3367\u001b[0m \u001b[38;5;124;03mspecified by the renderer argument\u001b[39;00m\n\u001b[1;32m   (...)\u001b[0m\n\u001b[0;32m   3394\u001b[0m \u001b[38;5;124;03mNone\u001b[39;00m\n\u001b[0;32m   3395\u001b[0m \u001b[38;5;124;03m\"\"\"\u001b[39;00m\n\u001b[0;32m   3396\u001b[0m \u001b[38;5;28;01mimport\u001b[39;00m \u001b[38;5;21;01mplotly\u001b[39;00m\u001b[38;5;21;01m.\u001b[39;00m\u001b[38;5;21;01mio\u001b[39;00m \u001b[38;5;28;01mas\u001b[39;00m \u001b[38;5;21;01mpio\u001b[39;00m\n\u001b[1;32m-> 3398\u001b[0m \u001b[38;5;28;01mreturn\u001b[39;00m pio\u001b[38;5;241m.\u001b[39mshow(\u001b[38;5;28mself\u001b[39m, \u001b[38;5;241m*\u001b[39margs, \u001b[38;5;241m*\u001b[39m\u001b[38;5;241m*\u001b[39mkwargs)\n",
      "File \u001b[1;32mD:\\Projects\\venv\\lib\\site-packages\\plotly\\io\\_renderers.py:396\u001b[0m, in \u001b[0;36mshow\u001b[1;34m(fig, renderer, validate, **kwargs)\u001b[0m\n\u001b[0;32m    391\u001b[0m         \u001b[38;5;28;01mraise\u001b[39;00m \u001b[38;5;167;01mValueError\u001b[39;00m(\n\u001b[0;32m    392\u001b[0m             \u001b[38;5;124m\"\u001b[39m\u001b[38;5;124mMime type rendering requires ipython but it is not installed\u001b[39m\u001b[38;5;124m\"\u001b[39m\n\u001b[0;32m    393\u001b[0m         )\n\u001b[0;32m    395\u001b[0m     \u001b[38;5;28;01mif\u001b[39;00m \u001b[38;5;129;01mnot\u001b[39;00m nbformat \u001b[38;5;129;01mor\u001b[39;00m LooseVersion(nbformat\u001b[38;5;241m.\u001b[39m__version__) \u001b[38;5;241m<\u001b[39m LooseVersion(\u001b[38;5;124m\"\u001b[39m\u001b[38;5;124m4.2.0\u001b[39m\u001b[38;5;124m\"\u001b[39m):\n\u001b[1;32m--> 396\u001b[0m         \u001b[38;5;28;01mraise\u001b[39;00m \u001b[38;5;167;01mValueError\u001b[39;00m(\n\u001b[0;32m    397\u001b[0m             \u001b[38;5;124m\"\u001b[39m\u001b[38;5;124mMime type rendering requires nbformat>=4.2.0 but it is not installed\u001b[39m\u001b[38;5;124m\"\u001b[39m\n\u001b[0;32m    398\u001b[0m         )\n\u001b[0;32m    400\u001b[0m     ipython_display\u001b[38;5;241m.\u001b[39mdisplay(bundle, raw\u001b[38;5;241m=\u001b[39m\u001b[38;5;28;01mTrue\u001b[39;00m)\n\u001b[0;32m    402\u001b[0m \u001b[38;5;66;03m# external renderers\u001b[39;00m\n",
      "\u001b[1;31mValueError\u001b[0m: Mime type rendering requires nbformat>=4.2.0 but it is not installed"
     ]
    }
   ],
   "source": [
    "fig = px.histogram(df, x=\"total_bill\", y=\"tip\", color=\"sex\", marginal=\"rug\",\n",
    "                   hover_data=df.columns)\n",
    "fig.show()"
   ]
  },
  {
   "cell_type": "code",
   "execution_count": 52,
   "metadata": {
    "hidden": true
   },
   "outputs": [
    {
     "ename": "ValueError",
     "evalue": "Mime type rendering requires nbformat>=4.2.0 but it is not installed",
     "output_type": "error",
     "traceback": [
      "\u001b[1;31m---------------------------------------------------------------------------\u001b[0m",
      "\u001b[1;31mValueError\u001b[0m                                Traceback (most recent call last)",
      "Input \u001b[1;32mIn [52]\u001b[0m, in \u001b[0;36m<cell line: 4>\u001b[1;34m()\u001b[0m\n\u001b[0;32m      1\u001b[0m df \u001b[38;5;241m=\u001b[39m pd\u001b[38;5;241m.\u001b[39mDataFrame({\u001b[38;5;124m'\u001b[39m\u001b[38;5;124m2012\u001b[39m\u001b[38;5;124m'\u001b[39m: np\u001b[38;5;241m.\u001b[39mrandom\u001b[38;5;241m.\u001b[39mrandn(\u001b[38;5;241m200\u001b[39m),\n\u001b[0;32m      2\u001b[0m                    \u001b[38;5;124m'\u001b[39m\u001b[38;5;124m2013\u001b[39m\u001b[38;5;124m'\u001b[39m: np\u001b[38;5;241m.\u001b[39mrandom\u001b[38;5;241m.\u001b[39mrandn(\u001b[38;5;241m200\u001b[39m)\u001b[38;5;241m+\u001b[39m\u001b[38;5;241m1\u001b[39m})\n\u001b[0;32m      3\u001b[0m fig \u001b[38;5;241m=\u001b[39m ff\u001b[38;5;241m.\u001b[39mcreate_distplot([df[c] \u001b[38;5;28;01mfor\u001b[39;00m c \u001b[38;5;129;01min\u001b[39;00m df\u001b[38;5;241m.\u001b[39mcolumns], df\u001b[38;5;241m.\u001b[39mcolumns, bin_size\u001b[38;5;241m=\u001b[39m\u001b[38;5;241m.25\u001b[39m)\n\u001b[1;32m----> 4\u001b[0m \u001b[43mfig\u001b[49m\u001b[38;5;241;43m.\u001b[39;49m\u001b[43mshow\u001b[49m\u001b[43m(\u001b[49m\u001b[43m)\u001b[49m\n",
      "File \u001b[1;32mD:\\Projects\\venv\\lib\\site-packages\\plotly\\basedatatypes.py:3398\u001b[0m, in \u001b[0;36mBaseFigure.show\u001b[1;34m(self, *args, **kwargs)\u001b[0m\n\u001b[0;32m   3365\u001b[0m \u001b[38;5;124;03m\"\"\"\u001b[39;00m\n\u001b[0;32m   3366\u001b[0m \u001b[38;5;124;03mShow a figure using either the default renderer(s) or the renderer(s)\u001b[39;00m\n\u001b[0;32m   3367\u001b[0m \u001b[38;5;124;03mspecified by the renderer argument\u001b[39;00m\n\u001b[1;32m   (...)\u001b[0m\n\u001b[0;32m   3394\u001b[0m \u001b[38;5;124;03mNone\u001b[39;00m\n\u001b[0;32m   3395\u001b[0m \u001b[38;5;124;03m\"\"\"\u001b[39;00m\n\u001b[0;32m   3396\u001b[0m \u001b[38;5;28;01mimport\u001b[39;00m \u001b[38;5;21;01mplotly\u001b[39;00m\u001b[38;5;21;01m.\u001b[39;00m\u001b[38;5;21;01mio\u001b[39;00m \u001b[38;5;28;01mas\u001b[39;00m \u001b[38;5;21;01mpio\u001b[39;00m\n\u001b[1;32m-> 3398\u001b[0m \u001b[38;5;28;01mreturn\u001b[39;00m pio\u001b[38;5;241m.\u001b[39mshow(\u001b[38;5;28mself\u001b[39m, \u001b[38;5;241m*\u001b[39margs, \u001b[38;5;241m*\u001b[39m\u001b[38;5;241m*\u001b[39mkwargs)\n",
      "File \u001b[1;32mD:\\Projects\\venv\\lib\\site-packages\\plotly\\io\\_renderers.py:396\u001b[0m, in \u001b[0;36mshow\u001b[1;34m(fig, renderer, validate, **kwargs)\u001b[0m\n\u001b[0;32m    391\u001b[0m         \u001b[38;5;28;01mraise\u001b[39;00m \u001b[38;5;167;01mValueError\u001b[39;00m(\n\u001b[0;32m    392\u001b[0m             \u001b[38;5;124m\"\u001b[39m\u001b[38;5;124mMime type rendering requires ipython but it is not installed\u001b[39m\u001b[38;5;124m\"\u001b[39m\n\u001b[0;32m    393\u001b[0m         )\n\u001b[0;32m    395\u001b[0m     \u001b[38;5;28;01mif\u001b[39;00m \u001b[38;5;129;01mnot\u001b[39;00m nbformat \u001b[38;5;129;01mor\u001b[39;00m LooseVersion(nbformat\u001b[38;5;241m.\u001b[39m__version__) \u001b[38;5;241m<\u001b[39m LooseVersion(\u001b[38;5;124m\"\u001b[39m\u001b[38;5;124m4.2.0\u001b[39m\u001b[38;5;124m\"\u001b[39m):\n\u001b[1;32m--> 396\u001b[0m         \u001b[38;5;28;01mraise\u001b[39;00m \u001b[38;5;167;01mValueError\u001b[39;00m(\n\u001b[0;32m    397\u001b[0m             \u001b[38;5;124m\"\u001b[39m\u001b[38;5;124mMime type rendering requires nbformat>=4.2.0 but it is not installed\u001b[39m\u001b[38;5;124m\"\u001b[39m\n\u001b[0;32m    398\u001b[0m         )\n\u001b[0;32m    400\u001b[0m     ipython_display\u001b[38;5;241m.\u001b[39mdisplay(bundle, raw\u001b[38;5;241m=\u001b[39m\u001b[38;5;28;01mTrue\u001b[39;00m)\n\u001b[0;32m    402\u001b[0m \u001b[38;5;66;03m# external renderers\u001b[39;00m\n",
      "\u001b[1;31mValueError\u001b[0m: Mime type rendering requires nbformat>=4.2.0 but it is not installed"
     ]
    }
   ],
   "source": [
    "df = pd.DataFrame({'2012': np.random.randn(200),\n",
    "                   '2013': np.random.randn(200)+1})\n",
    "fig = ff.create_distplot([df[c] for c in df.columns], df.columns, bin_size=.25)\n",
    "fig.show()"
   ]
  }
 ],
 "metadata": {
  "hide_input": false,
  "kernelspec": {
   "display_name": "venv",
   "language": "python",
   "name": "venv"
  },
  "language_info": {
   "codemirror_mode": {
    "name": "ipython",
    "version": 3
   },
   "file_extension": ".py",
   "mimetype": "text/x-python",
   "name": "python",
   "nbconvert_exporter": "python",
   "pygments_lexer": "ipython3",
   "version": "3.7.3"
  },
  "toc": {
   "base_numbering": 1,
   "nav_menu": {},
   "number_sections": true,
   "sideBar": true,
   "skip_h1_title": false,
   "title_cell": "Table of Contents",
   "title_sidebar": "Contents",
   "toc_cell": false,
   "toc_position": {},
   "toc_section_display": true,
   "toc_window_display": false
  }
 },
 "nbformat": 4,
 "nbformat_minor": 5
}
