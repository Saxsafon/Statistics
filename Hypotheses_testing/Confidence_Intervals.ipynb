{
 "cells": [
  {
   "cell_type": "markdown",
   "id": "57c3e741",
   "metadata": {},
   "source": [
    "# Настройка ноутбука"
   ]
  },
  {
   "cell_type": "code",
   "execution_count": 123,
   "id": "0dfda214",
   "metadata": {},
   "outputs": [],
   "source": [
    "import pandas as pd\n",
    "import numpy as np\n",
    "import datetime as dt\n",
    "\n",
    "import scipy.stats as st\n",
    "\n",
    "import seaborn as sns\n",
    "import matplotlib.pyplot as plt\n",
    "%matplotlib inline"
   ]
  },
  {
   "cell_type": "code",
   "execution_count": 124,
   "id": "a7f80885",
   "metadata": {},
   "outputs": [
    {
     "data": {
      "text/html": [
       "<style>.container { width:100% !important; }</style>"
      ],
      "text/plain": [
       "<IPython.core.display.HTML object>"
      ]
     },
     "metadata": {},
     "output_type": "display_data"
    }
   ],
   "source": [
    "# Расширить рабочее поле ноутбука на весь экран\n",
    "from IPython.display import display, HTML\n",
    "display(HTML(\"<style>.container { width:100% !important; }</style>\"))"
   ]
  },
  {
   "cell_type": "markdown",
   "id": "6641197c",
   "metadata": {},
   "source": [
    "# Описание"
   ]
  },
  {
   "cell_type": "markdown",
   "id": "152ed8be",
   "metadata": {},
   "source": [
    "**Курс:**\n",
    "- [Stepik: Основы статистики - Доверительные интервалы](https://stepik.org/lesson/8079?unit=1359)\n",
    "\n",
    "\n",
    "**Видео:**\n",
    "- [Доверительный интервал за 15 мин. Биостатистика](https://youtu.be/MstzroncW28)\n",
    "- [Confidence Intervals, Clearly Explained!!!](https://www.youtube.com/watch?v=TqOeMYtOc1w&ab_channel=StatQuestwithJoshStarmer)\n",
    "- [Bootstrapping Main Ideas!!!](https://www.youtube.com/watch?v=Xz0x-8-cgaQ&ab_channel=StatQuestwithJoshStarmer)\n",
    "\n",
    "**Статьи:**\n",
    "- [Yandex: Что такое доверительные интервалы в статистике?](https://dzen.ru/media/id/5ee4e19276f3fc727f6774da/chto-takoe-doveritelnye-intervaly-v-statistike-6071c861aace2a335885cf10)\n",
    "- [GeeksforGeeks: examples](https://www.geeksforgeeks.org/how-to-calculate-confidence-intervals-in-python/) \n",
    "- [GeeksforGeeks: visualization](https://www.geeksforgeeks.org/how-to-plot-a-confidence-interval-in-python)\n"
   ]
  },
  {
   "cell_type": "markdown",
   "id": "d59e7022",
   "metadata": {},
   "source": [
    "# Доверительный интервал"
   ]
  },
  {
   "cell_type": "markdown",
   "id": "10c52041",
   "metadata": {},
   "source": [
    "\"Вся статистика нам говорит о том, что если у нас есть выборочные данные, мы не можем ответить на вопрос, чему на самом деле что-то равно. Но мы можем дать некоторый диапазон, в котором скорее всего это что-то лежит.\" - Анатолий Карпов"
   ]
  },
  {
   "cell_type": "markdown",
   "id": "af09d1f0",
   "metadata": {},
   "source": [
    "Представим, что из генеральной совокупности нам дали выборку из 100 элементов. Всего одну выборку. И мы хотим оценить среднее генеральной совокупности. Но как это сделать, если у нас всего одна выборка? Если бы у нас было много выборок, то с помощью центральной предельной теоремы мы могли бы построить распределение средних значений таких выборок и найти среднее значение такого распределение, которое и являлось бы средним значением генеральной совокупности. \n",
    "\n",
    "Но у нас, всего одна выборка из 100 элементов. Поэтому, как бы мы ни старались, у нас слишком мало информации, чтобы дать точный ответ - чему равно среднее генеральной совокупности. Зато мы можем примерно оценить, в каком интервале относительно среднего выборки лежит среднее генеральной совокупности. \n",
    "\n",
    "Для этого и служат доверительные интервалы. Как же повезло, что средние значения воборок распределени нормально, согласно ЦПТ, так как это позволяет нам оперировать правилами сигм. Расчитав стандартное отклонение для выборочного среднего, согласно ЦПТ, мы можем воспользоваться правилом 2х сигм и утвержать что в этом пределе находится среднее генеральной совокупности с вероятностью 95%.\n",
    "\n",
    "\n",
    "    Вообще я бы сказал, что по ЦПТ, наше выборочное среднее входит в диапазон +-2 сигмы от среднего генеральной совокупности с вероятностью 95%. Но я не уверен, что это равносильно утверждению: выборочное среднее входит в диапазон +-2 сигмы относительно выборочного среднего с вероятностью 95%.\n"
   ]
  },
  {
   "cell_type": "markdown",
   "id": "ca8c35f9",
   "metadata": {},
   "source": [
    "<img src=\"../data/img/Confidence_interval_1.png\" width=\"380\">"
   ]
  },
  {
   "cell_type": "markdown",
   "id": "1b22c84b",
   "metadata": {},
   "source": [
    "## Формула"
   ]
  },
  {
   "cell_type": "markdown",
   "id": "185ffed3",
   "metadata": {},
   "source": [
    "<img src=\"../data/img/Confidence_interval_formula.png\" width=\"150\">\n",
    "\n",
    "```text\n",
    "x - среднее значение выборки (sample mean)\n",
    "n - размер выборки (sample size)\n",
    "s - стандартное отклонение выборки (sample standart deviation)\n",
    "\n",
    "z - уровень доверительного интервала\n",
    "```\n",
    "\n"
   ]
  },
  {
   "cell_type": "markdown",
   "id": "c1a243c8",
   "metadata": {},
   "source": [
    "<img src=\"../data/img/Confidence_interval_2.png\" width=\"380\">"
   ]
  },
  {
   "cell_type": "markdown",
   "id": "9bde09bc",
   "metadata": {},
   "source": [
    "### Вопросы"
   ]
  },
  {
   "cell_type": "markdown",
   "id": "4fee9599",
   "metadata": {},
   "source": [
    "**Почему мы берем 1,96 se, а не 2se, например?**\n",
    "По определению нормального распределения, 95% всех наблюдений лежат приблизительно в диапазоне +/- 2 sd от среднего. Так вот 1,96 - это более точная оценка."
   ]
  },
  {
   "cell_type": "markdown",
   "id": "87480893",
   "metadata": {},
   "source": [
    "### Тестовые вопросы:"
   ]
  },
  {
   "cell_type": "markdown",
   "id": "923ef73c",
   "metadata": {},
   "source": [
    "**Если мы рассчитали 95% доверительный интервал для среднего значения, то какие из следующих утверждений являются верными?**\n",
    "\n",
    "- [X] Мы можем быть на 95% уверены, что среднее значение в генеральной совокупности принадлежит рассчитанному доверительному интервалу.\n",
    "- [ ] Если многократно повторять эксперимент, то 95 % выборочных средних значений будут принадлежать рассчитанному нами доверительному интервалу.\n",
    "- [ ] Среднее значение в генеральной совокупности точно принадлежит рассчитанному доверительному интервалу.\n",
    "- [ ] Среднее значение в генеральной совокупности точно превышает нижнюю границу 95% доверительного интервала.\n",
    "- [X] Если многократно повторять эксперимент, для каждой выборки рассчитывать свой доверительный интервал, то в 95 % случаев истинное среднее будет находиться внутри доверительного интервала."
   ]
  },
  {
   "cell_type": "markdown",
   "id": "3cb414e2",
   "metadata": {},
   "source": [
    "**Если бы в нашем примере мы увеличили объем выборки в два раза (при условии, что показатель стандартного отклонения остался неизменным), то 95% доверительный интервал...**\n",
    "\n",
    "- [ ] стал более широким\n",
    "- [X] стал более узким\n",
    "- [ ] возможны оба варианта"
   ]
  },
  {
   "cell_type": "markdown",
   "id": "7b4e50d3",
   "metadata": {},
   "source": [
    "## Рассчитать доверительный интервал для одной выборки"
   ]
  },
  {
   "cell_type": "code",
   "execution_count": 197,
   "id": "a8adc854",
   "metadata": {},
   "outputs": [],
   "source": [
    "M = 3 \n",
    "sigma = 2 \n",
    "N = 10_000\n",
    "\n",
    "genpop = pd.Series(np.random.normal(M, sigma, N))"
   ]
  },
  {
   "cell_type": "code",
   "execution_count": 198,
   "id": "139b6fb0",
   "metadata": {},
   "outputs": [],
   "source": [
    "n = 100\n",
    "one_sample = genpop.sample(n=n)\n",
    "\n",
    "m = np.round(one_sample.mean(), 2)\n",
    "std = one_sample.std() # Это упрощение - на самом деле здесь нужно задействовать распределение Стьюдента. Но это потом"
   ]
  },
  {
   "cell_type": "markdown",
   "id": "0be8b28c",
   "metadata": {},
   "source": [
    "#### Custom function"
   ]
  },
  {
   "cell_type": "code",
   "execution_count": 199,
   "id": "eae40301",
   "metadata": {},
   "outputs": [
    {
     "name": "stdout",
     "output_type": "stream",
     "text": [
      "3.18 +- 0.54\n"
     ]
    },
    {
     "data": {
      "text/plain": [
       "(2.64, 3.72)"
      ]
     },
     "execution_count": 199,
     "metadata": {},
     "output_type": "execute_result"
    }
   ],
   "source": [
    "def confidence_interval(n, mean_val, std_val, target_interval):\n",
    "    alpha = 1 - target_interval\n",
    "    z = abs(st.norm.ppf(alpha/2)) # 1.96\n",
    "    se = std_val / np.sqrt(n)\n",
    "    \n",
    "    conf_val = np.round(z*se, 2)\n",
    "    return conf_val, (np.round(mean_val - conf_val, 2), np.round(mean_val + conf_val, 2))\n",
    "\n",
    "\n",
    "\n",
    "z = 0.99\n",
    "cval, ci = confidence_interval(n, m, std, z) \n",
    "\n",
    "print(f'{m} +- {cval}')\n",
    "ci"
   ]
  },
  {
   "cell_type": "markdown",
   "id": "acc47762",
   "metadata": {},
   "source": [
    "#### [scipy.stats.t.interval](https://docs.scipy.org/doc/scipy/reference/generated/scipy.stats.t.html)"
   ]
  },
  {
   "cell_type": "code",
   "execution_count": 200,
   "id": "c0770268",
   "metadata": {},
   "outputs": [
    {
     "data": {
      "text/plain": [
       "(2.6297656995719385, 3.7275708614963237)"
      ]
     },
     "execution_count": 200,
     "metadata": {},
     "output_type": "execute_result"
    }
   ],
   "source": [
    "st.t.interval(z, len(one_sample)-1, loc=np.mean(one_sample), scale=st.sem(one_sample))"
   ]
  },
  {
   "cell_type": "code",
   "execution_count": 201,
   "id": "ff3c5c28",
   "metadata": {},
   "outputs": [
    {
     "data": {
      "image/png": "[encoded data removed]",
      "text/plain": [
       "<Figure size 1728x720 with 3 Axes>"
      ]
     },
     "metadata": {
      "needs_background": "light"
     },
     "output_type": "display_data"
    }
   ],
   "source": [
    "f, (ax_genpop, ax_one_sample, ax_intervals) = plt.subplots(3, sharex=True, gridspec_kw={\"height_ratios\": (.40, .40, .20)}, figsize=(24, 10))\n",
    "\n",
    "sns.histplot(x=genpop, ax=ax_genpop, color='#2471A3')\n",
    "ax_genpop.axvline(M,  color='#1A5276')\n",
    "\n",
    "sns.histplot(x=one_sample, ax=ax_one_sample, color='#85C1E9')\n",
    "ax_one_sample.axvline(m, color='#E74C3C')\n",
    "\n",
    "ax_intervals.errorbar(\n",
    "    [m], \n",
    "    [0], \n",
    "    xerr=[[cval],[cval]],\n",
    "    fmt='o',\n",
    "    color='#28B463'\n",
    ");"
   ]
  },
  {
   "cell_type": "markdown",
   "id": "fb89ad21",
   "metadata": {},
   "source": [
    "    Странно, что второй график получился таким широким. По идее он должен был быть узким, как на графике ниже"
   ]
  },
  {
   "cell_type": "markdown",
   "id": "6befb001",
   "metadata": {},
   "source": [
    "## Выделение нескольких выборок из генеральной совокупности"
   ]
  },
  {
   "cell_type": "code",
   "execution_count": 202,
   "id": "867e1725",
   "metadata": {},
   "outputs": [],
   "source": [
    "M = 3 \n",
    "sigma = 2 \n",
    "N = 10_000\n",
    "\n",
    "genpop = pd.Series(np.random.normal(M, sigma, N))"
   ]
  },
  {
   "cell_type": "code",
   "execution_count": 203,
   "id": "85e0380b",
   "metadata": {},
   "outputs": [],
   "source": [
    "n_vals = 100\n",
    "n_samples = 300\n",
    "samples = pd.DataFrame([genpop.sample(n=n_vals).tolist() for sample in range(n_samples)])"
   ]
  },
  {
   "cell_type": "code",
   "execution_count": 204,
   "id": "404531e7",
   "metadata": {},
   "outputs": [],
   "source": [
    "samples_stats = pd.DataFrame({\n",
    "    'n': samples.apply(lambda row: len(row), axis=1),\n",
    "    'mean_val': samples.apply(lambda row: row.mean(), axis=1),\n",
    "    'std_val': samples.apply(lambda row: row.std(), axis=1),\n",
    "})\n",
    "\n",
    "samples_stats['M_diff'] = samples_stats.mean_val.apply(lambda x: abs(M-x))"
   ]
  },
  {
   "cell_type": "code",
   "execution_count": 205,
   "id": "3688bdf3",
   "metadata": {},
   "outputs": [
    {
     "data": {
      "text/plain": [
       "False    0.966667\n",
       "True     0.033333\n",
       "Name: error, dtype: float64"
      ]
     },
     "execution_count": 205,
     "metadata": {},
     "output_type": "execute_result"
    }
   ],
   "source": [
    "def confidence_interval(n, mean_val, std_val, target_interval):\n",
    "    alpha = 1 - target_interval\n",
    "    z = abs(st.norm.ppf(alpha/2)) # 1.96\n",
    "    se = std_val / np.sqrt(n)\n",
    "    \n",
    "    conf_val = np.round(z*se, 2)\n",
    "    return conf_val, (np.round(mean_val - conf_val, 2), np.round(mean_val + conf_val, 2))\n",
    "\n",
    "z = 0.95\n",
    "samples_stats[['conf_val', 'interval']] = samples_stats.apply(lambda row: confidence_interval(row.n, row.mean_val, row.std_val, z), axis=1).apply(pd.Series)\n",
    "samples_stats[['ci_left', 'ci_right']] = samples_stats.interval.apply(pd.Series)\n",
    "\n",
    "samples_stats['error'] = samples_stats.apply(lambda row: ((row['ci_left'] > M) | (row['ci_right'] < M)), axis=1)\n",
    "samples_stats.error.value_counts(normalize=True)"
   ]
  },
  {
   "cell_type": "markdown",
   "id": "3daac7b2",
   "metadata": {},
   "source": [
    "Провизуализируем примеры доверительных интервалов для случаев когда среднее генеральной совокупности:\n",
    "\n",
    "1) Попадает в доверительный интервал выборки\n",
    "\n",
    "2) Не попадает и находится левее\n",
    "\n",
    "3) Не попадает и находится правее"
   ]
  },
  {
   "cell_type": "code",
   "execution_count": 206,
   "id": "71587803",
   "metadata": {},
   "outputs": [
    {
     "data": {
      "image/png": "[encoded data removed]",
      "text/plain": [
       "<Figure size 1728x720 with 3 Axes>"
      ]
     },
     "metadata": {
      "needs_background": "light"
     },
     "output_type": "display_data"
    }
   ],
   "source": [
    "f, (ax_genpop, ax_samples_means, ax_intervals) = plt.subplots(3, sharex=True, gridspec_kw={\"height_ratios\": (.20, .20, .80)}, figsize=(24, 10))\n",
    "\n",
    "\n",
    "sns.histplot(x=genpop, ax=ax_genpop, color='#2471A3')\n",
    "ax_genpop.axvline(M,  color='#1A5276')\n",
    "\n",
    "sns.histplot(x=samples_stats.mean_val, ax=ax_samples_means, color='#85C1E9')\n",
    "ax_samples_means.axvline(M, color='#1A5276')\n",
    "\n",
    "\n",
    "n_intervals = samples_stats.shape[0]\n",
    "intervals = pd.concat([\n",
    "    samples_stats[samples_stats['ci_left'] > M].iloc[:n_intervals//3],\n",
    "    samples_stats[samples_stats['ci_right'] < M].iloc[:n_intervals//3],\n",
    "    samples_stats[~((samples_stats['ci_left'] > M) | (samples_stats['ci_right'] < M))].iloc[:n_intervals//3],\n",
    "])\n",
    "intervals = intervals.sort_values('M_diff', ascending=False)\n",
    "intervals['color'] = intervals.apply(lambda row: '#E74C3C' if ((row['ci_left'] > M) | (row['ci_right'] < M)) else '#28B463', axis=1)\n",
    "\n",
    "ax_intervals.errorbar(\n",
    "    intervals.mean_val, \n",
    "    list(range(intervals.shape[0])), \n",
    "    xerr=[intervals.conf_val, intervals.conf_val], \n",
    "    fmt='o',\n",
    "    ecolor=intervals.color.values\n",
    ")\n",
    "\n",
    "ax_intervals.axvline(M,  color='#1A5276');"
   ]
  },
  {
   "cell_type": "markdown",
   "id": "4febdeab",
   "metadata": {},
   "source": [
    "Если бы мы взяли из генеральной совокупности много выборок, то по центральной предельной теореме, их средние распределились бы нормально вокруг среднего генеральной совокупности. При этом 95% средних находилсь бы в интервале +-2 стандартных отклонений..."
   ]
  },
  {
   "cell_type": "markdown",
   "id": "ad31c4fc",
   "metadata": {},
   "source": [
    "### Старые заметки"
   ]
  },
  {
   "cell_type": "markdown",
   "id": "14c44895",
   "metadata": {},
   "source": [
    "Confidence Interval = x(+/-)t*(s/√n)\n",
    "\n",
    "x: sample mean\n",
    "\n",
    "t: t-value that corresponds to the confidence level\n",
    "\n",
    "s: sample standard deviation\n",
    "\n",
    "n: sample size"
   ]
  },
  {
   "cell_type": "code",
   "execution_count": 13,
   "id": "562dcb9f",
   "metadata": {},
   "outputs": [
    {
     "data": {
      "image/png": "[encoded data removed]",
      "text/plain": [
       "<Figure size 432x288 with 1 Axes>"
      ]
     },
     "metadata": {
      "needs_background": "light"
     },
     "output_type": "display_data"
    }
   ],
   "source": [
    "plt.rcParams[\"figure.figsize\"] = [7.50, 3.50]\n",
    "plt.rcParams[\"figure.autolayout\"] = True\n",
    "\n",
    "x = np.arange(0, 10, 0.05)\n",
    "y = np.sin(x)\n",
    "\n",
    "# Define the confidence interval\n",
    "ci = 0.1 * np.std(y) / np.mean(y)\n",
    "\n",
    "plt.plot(x, y, color='black', lw=7)\n",
    "\n",
    "plt.fill_between(x, (y-ci), (y+ci), color='blue', alpha=0.5)\n",
    "\n",
    "plt.show()"
   ]
  },
  {
   "cell_type": "markdown",
   "id": "bb95c29f",
   "metadata": {},
   "source": [
    "## T"
   ]
  },
  {
   "cell_type": "markdown",
   "id": "6395770a",
   "metadata": {},
   "source": [
    "### Пример 1"
   ]
  },
  {
   "cell_type": "code",
   "execution_count": 7,
   "id": "0e0981aa",
   "metadata": {},
   "outputs": [
    {
     "data": {
      "text/plain": [
       "(2.962098014195961, 4.837901985804038)"
      ]
     },
     "execution_count": 7,
     "metadata": {},
     "output_type": "execute_result"
    }
   ],
   "source": [
    "# define sample data\n",
    "gfg_data = [\n",
    "    1, 1, 1, 2, 2, 2, 3, 3, 3, 3,\n",
    "    3, 4, 4, 5, 5, 5, 6, 7, 8, 10]\n",
    "\n",
    "# create 90% confidence interval\n",
    "st.t.interval(\n",
    "    alpha=0.90, \n",
    "    df=len(gfg_data)-1,\n",
    "    loc=np.mean(gfg_data),\n",
    "    scale=st.sem(gfg_data)\n",
    ")"
   ]
  },
  {
   "cell_type": "markdown",
   "id": "4dbfc30f",
   "metadata": {},
   "source": [
    "### Пример 2"
   ]
  },
  {
   "cell_type": "code",
   "execution_count": 8,
   "id": "4ec1f2a7",
   "metadata": {},
   "outputs": [
    {
     "data": {
      "text/plain": [
       "(2.3481954013214263, 5.4518045986785735)"
      ]
     },
     "execution_count": 8,
     "metadata": {},
     "output_type": "execute_result"
    }
   ],
   "source": [
    "import numpy as np\n",
    "import scipy.stats as st\n",
    "  \n",
    "# define sample data\n",
    "gfg_data = [\n",
    "    1, 1, 1, 2, 2, 2, 3, 3, 3,\n",
    "    3, 3, 4, 4, 5, 5, 5, 6,\n",
    "    7, 8, 10]\n",
    "  \n",
    "# create 99% confidence interval\n",
    "st.t.interval(\n",
    "    alpha=0.99,\n",
    "    df=len(gfg_data)-1,\n",
    "    loc=np.mean(gfg_data), \n",
    "    scale=st.sem(gfg_data)\n",
    ")"
   ]
  },
  {
   "cell_type": "markdown",
   "id": "89fa68b7",
   "metadata": {},
   "source": [
    "## Norm"
   ]
  },
  {
   "cell_type": "code",
   "execution_count": 9,
   "id": "0cc160d5",
   "metadata": {},
   "outputs": [
    {
     "data": {
      "text/plain": [
       "(6.650557051936708, 7.129442948063291)"
      ]
     },
     "execution_count": 9,
     "metadata": {},
     "output_type": "execute_result"
    }
   ],
   "source": [
    "# define sample data\n",
    "gfg_data = np.random.randint(5, 10, 100)\n",
    "  \n",
    "# create 90% confidence interval\n",
    "# for population mean weight\n",
    "st.norm.interval(\n",
    "    alpha=0.90,\n",
    "    loc=np.mean(gfg_data),\n",
    "    scale=st.sem(gfg_data)\n",
    ")"
   ]
  },
  {
   "cell_type": "code",
   "execution_count": 10,
   "id": "7d3a4000",
   "metadata": {},
   "outputs": [
    {
     "data": {
      "text/plain": [
       "(6.577907690622409, 7.342092309377591)"
      ]
     },
     "execution_count": 10,
     "metadata": {},
     "output_type": "execute_result"
    }
   ],
   "source": [
    "# define sample data\n",
    "gfg_data = np.random.randint(5, 10, 100)\n",
    "  \n",
    "# create 99% confidence interval\n",
    "# for population mean weight\n",
    "st.norm.interval(\n",
    "    alpha=0.99, \n",
    "    loc=np.mean(gfg_data),\n",
    "    scale=st.sem(gfg_data)\n",
    ")"
   ]
  },
  {
   "cell_type": "code",
   "execution_count": 294,
   "id": "cba4cf49",
   "metadata": {},
   "outputs": [
    {
     "data": {
      "text/plain": [
       "(17.52, 19.48)"
      ]
     },
     "execution_count": 294,
     "metadata": {},
     "output_type": "execute_result"
    }
   ],
   "source": [
    "def confidence_interval(n, mean_val, std_val, target_interval):\n",
    "    alpha = 1 - target_interval\n",
    "    z = abs(st.norm.ppf(alpha/2)) # 1.96\n",
    "    se = std_val / np.sqrt(n)\n",
    "    return (round(mean_val - z * se,  2),  round(mean_val + z * se,  2))\n",
    "\n",
    "n = 64\n",
    "mean_val = 18.5\n",
    "std_val = 4\n",
    "target_interval = 0.95\n",
    "\n",
    "confidence_interval(n, mean_val, std_val, target_interval)"
   ]
  },
  {
   "cell_type": "code",
   "execution_count": 295,
   "id": "25137220",
   "metadata": {},
   "outputs": [
    {
     "data": {
      "text/plain": [
       "1.9599639845400545"
      ]
     },
     "execution_count": 295,
     "metadata": {},
     "output_type": "execute_result"
    }
   ],
   "source": [
    "abs(st.norm.ppf(alpha/2))"
   ]
  }
 ],
 "metadata": {
  "hide_input": false,
  "kernelspec": {
   "display_name": "venv",
   "language": "python",
   "name": "venv"
  },
  "language_info": {
   "codemirror_mode": {
    "name": "ipython",
    "version": 3
   },
   "file_extension": ".py",
   "mimetype": "text/x-python",
   "name": "python",
   "nbconvert_exporter": "python",
   "pygments_lexer": "ipython3",
   "version": "3.10.2"
  },
  "toc": {
   "base_numbering": 1,
   "nav_menu": {},
   "number_sections": true,
   "sideBar": true,
   "skip_h1_title": false,
   "title_cell": "Table of Contents",
   "title_sidebar": "Contents",
   "toc_cell": false,
   "toc_position": {
    "height": "calc(100% - 180px)",
    "left": "10px",
    "top": "150px",
    "width": "256px"
   },
   "toc_section_display": true,
   "toc_window_display": false
  }
 },
 "nbformat": 4,
 "nbformat_minor": 5
}
