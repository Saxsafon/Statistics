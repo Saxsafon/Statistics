{
 "cells": [
  {
   "cell_type": "markdown",
   "metadata": {},
   "source": [
    "# Настройка ноутбука"
   ]
  },
  {
   "cell_type": "code",
   "execution_count": 3,
   "metadata": {},
   "outputs": [],
   "source": [
    "import pandas as pd\n",
    "import numpy as np\n",
    "import datetime as dt\n",
    "\n",
    "import scipy.stats as st\n",
    "\n",
    "import seaborn as sns\n",
    "import matplotlib.pyplot as plt\n",
    "%matplotlib inline"
   ]
  },
  {
   "cell_type": "code",
   "execution_count": 4,
   "metadata": {},
   "outputs": [
    {
     "data": {
      "text/html": [
       "<style>.container { width:100% !important; }</style>"
      ],
      "text/plain": [
       "<IPython.core.display.HTML object>"
      ]
     },
     "metadata": {},
     "output_type": "display_data"
    }
   ],
   "source": [
    "# Расширить рабочее поле ноутбука на весь экран\n",
    "from IPython.display import display, HTML\n",
    "display(HTML(\"<style>.container { width:100% !important; }</style>\"))"
   ]
  },
  {
   "cell_type": "markdown",
   "metadata": {},
   "source": [
    "# Описание"
   ]
  },
  {
   "cell_type": "markdown",
   "metadata": {},
   "source": [
    "**Курс:**\n",
    "- [Stepik: Основы статистики – t-распределение](https://stepik.org/lesson/8081?unit=1360)\n",
    "- [Stepik: Основы статистики – Сравнение двух средних. t-критерий Стьюдента](https://stepik.org/lesson/9249?unit=1829)\n",
    "\n",
    "**Видео:**\n",
    "\n",
    "- [Карта статистических методов - bootstrap VS t - test | Вебинар Анатолия Карпова | karpov.courses](https://www.youtube.com/watch?v=-zps6hm0nX8&ab_channel=karpov.courses)\n",
    "\n",
    "**Статьи:**\n",
    "\n"
   ]
  },
  {
   "cell_type": "markdown",
   "metadata": {},
   "source": [
    "# Концепты"
   ]
  },
  {
   "cell_type": "markdown",
   "metadata": {},
   "source": [
    "- [Сайт для рассчета p-уровня значимости](https://gallery.shinyapps.io/dist_calc/)"
   ]
  },
  {
   "cell_type": "markdown",
   "metadata": {},
   "source": [
    "## Сравнение двух средних. t-критерий Стьюдента"
   ]
  },
  {
   "cell_type": "markdown",
   "metadata": {},
   "source": [
    "<img src=\"../data/img/t_criterion.png\" width=\"1000\">"
   ]
  },
  {
   "cell_type": "markdown",
   "metadata": {},
   "source": [
    "### Эксперимент"
   ]
  },
  {
   "cell_type": "code",
   "execution_count": 5,
   "metadata": {},
   "outputs": [],
   "source": [
    "M = 3 \n",
    "sigma = 2 \n",
    "N = 10_000\n",
    "\n",
    "genpop = pd.Series(np.random.normal(M, sigma, N))"
   ]
  },
  {
   "cell_type": "code",
   "execution_count": 6,
   "metadata": {},
   "outputs": [
    {
     "data": {
      "text/html": [
       "<div>\n",
       "<style scoped>\n",
       "    .dataframe tbody tr th:only-of-type {\n",
       "        vertical-align: middle;\n",
       "    }\n",
       "\n",
       "    .dataframe tbody tr th {\n",
       "        vertical-align: top;\n",
       "    }\n",
       "\n",
       "    .dataframe thead th {\n",
       "        text-align: right;\n",
       "    }\n",
       "</style>\n",
       "<table border=\"1\" class=\"dataframe\">\n",
       "  <thead>\n",
       "    <tr style=\"text-align: right;\">\n",
       "      <th></th>\n",
       "      <th>m1</th>\n",
       "      <th>m2</th>\n",
       "      <th>sub</th>\n",
       "    </tr>\n",
       "  </thead>\n",
       "  <tbody>\n",
       "    <tr>\n",
       "      <th>0</th>\n",
       "      <td>3.018724</td>\n",
       "      <td>3.250822</td>\n",
       "      <td>-0.23</td>\n",
       "    </tr>\n",
       "    <tr>\n",
       "      <th>1</th>\n",
       "      <td>3.132862</td>\n",
       "      <td>2.994381</td>\n",
       "      <td>0.14</td>\n",
       "    </tr>\n",
       "    <tr>\n",
       "      <th>2</th>\n",
       "      <td>3.111973</td>\n",
       "      <td>2.971239</td>\n",
       "      <td>0.14</td>\n",
       "    </tr>\n",
       "    <tr>\n",
       "      <th>3</th>\n",
       "      <td>3.031685</td>\n",
       "      <td>3.156015</td>\n",
       "      <td>-0.12</td>\n",
       "    </tr>\n",
       "    <tr>\n",
       "      <th>4</th>\n",
       "      <td>3.050142</td>\n",
       "      <td>2.575363</td>\n",
       "      <td>0.47</td>\n",
       "    </tr>\n",
       "  </tbody>\n",
       "</table>\n",
       "</div>"
      ],
      "text/plain": [
       "         m1        m2   sub\n",
       "0  3.018724  3.250822 -0.23\n",
       "1  3.132862  2.994381  0.14\n",
       "2  3.111973  2.971239  0.14\n",
       "3  3.031685  3.156015 -0.12\n",
       "4  3.050142  2.575363  0.47"
      ]
     },
     "execution_count": 6,
     "metadata": {},
     "output_type": "execute_result"
    }
   ],
   "source": [
    "n = 100\n",
    "size = 10_000\n",
    "\n",
    "means = pd.DataFrame({\n",
    "    'm1': [genpop.sample(n=n).mean() for i in range(size)],\n",
    "    'm2': [genpop.sample(n=n).mean() for i in range(size)],\n",
    "})\n",
    "\n",
    "means['sub'] = np.round(means['m1'] - means['m2'], 2)\n",
    "\n",
    "means.head()"
   ]
  },
  {
   "cell_type": "code",
   "execution_count": 7,
   "metadata": {},
   "outputs": [
    {
     "data": {
      "image/png": "[encoded data removed]",
      "text/plain": [
       "<Figure size 1296x432 with 1 Axes>"
      ]
     },
     "metadata": {},
     "output_type": "display_data"
    }
   ],
   "source": [
    "sns.set(rc={'figure.figsize':(18, 6)})\n",
    "sns.histplot(x=means['sub'], color='#85C1E9');"
   ]
  },
  {
   "cell_type": "markdown",
   "metadata": {},
   "source": [
    "    Разности средних двух выборок распределены нормально"
   ]
  },
  {
   "cell_type": "markdown",
   "metadata": {},
   "source": [
    "## Примеры задач"
   ]
  },
  {
   "cell_type": "markdown",
   "metadata": {},
   "source": [
    "**Пример 1.** Первая выборка — это пациенты, которых лечили препаратом А. Вторая выборка — пациенты, которых лечили препаратом Б. Значения в выборках — это некоторая характеристика эффективности лечения (уровень метаболита в крови, температура через три дня после начала лечения, срок выздоровления, число койко-дней, и т.д.) Требуется выяснить, имеется ли значимое различие эффективности препаратов А и Б, или различия являются чисто случайными и объясняются «естественной» дисперсией выбранной характеристики.\n",
    "\n",
    "**Пример 2.** Первая выборка — это значения некоторой характеристики состояния пациентов, записанные до лечения. Вторая выборка — это значения той же характеристики состояния тех же пациентов, записанные после лечения. Объёмы обеих выборок обязаны совпадать; более того, порядок элементов (в данном случае пациентов) в выборках также обязан совпадать. Такие выборки называются связными. Требуется выяснить, имеется ли значимое отличие в состоянии пациентов до и после лечения, или различия чисто случайны.\n",
    "\n",
    "**Пример 3.** Первая выборка — это поля, обработанные агротехническим методом А. Вторая выборка — поля, обработанные агротехническим методом Б. Значения в выборках — это урожайность. Требуется выяснить, является ли один из методов эффективнее другого, или различия урожайности обусловлены случайными факторами.\n",
    "\n",
    "**Пример 4.** Первая выборка — это дни, когда в супермаркете проходила промо-акция типа А (красные ценники со скидкой). Вторая выборка — дни промо-акции типа Б (каждая пятая пачка бесплатно). Значения в выборках — это показатель эффективности промо-акции (объём продаж, либо выручка в рублях). Требуется выяснить, какой из типов промо-акции более эффективен."
   ]
  },
  {
   "cell_type": "markdown",
   "metadata": {},
   "source": [
    "### Проверить равенство средних в двух выборках"
   ]
  },
  {
   "cell_type": "code",
   "execution_count": 8,
   "metadata": {},
   "outputs": [
    {
     "data": {
      "text/html": [
       "<div>\n",
       "<style scoped>\n",
       "    .dataframe tbody tr th:only-of-type {\n",
       "        vertical-align: middle;\n",
       "    }\n",
       "\n",
       "    .dataframe tbody tr th {\n",
       "        vertical-align: top;\n",
       "    }\n",
       "\n",
       "    .dataframe thead th {\n",
       "        text-align: right;\n",
       "    }\n",
       "</style>\n",
       "<table border=\"1\" class=\"dataframe\">\n",
       "  <thead>\n",
       "    <tr style=\"text-align: right;\">\n",
       "      <th></th>\n",
       "      <th>mean</th>\n",
       "      <th>sd</th>\n",
       "      <th>n</th>\n",
       "      <th>se</th>\n",
       "      <th>interval</th>\n",
       "    </tr>\n",
       "  </thead>\n",
       "  <tbody>\n",
       "    <tr>\n",
       "      <th>Выборка 1</th>\n",
       "      <td>100.815</td>\n",
       "      <td>10.246503</td>\n",
       "      <td>20.0</td>\n",
       "      <td>2.291188</td>\n",
       "      <td>4.545754</td>\n",
       "    </tr>\n",
       "    <tr>\n",
       "      <th>Выборка 2</th>\n",
       "      <td>75.735</td>\n",
       "      <td>15.458102</td>\n",
       "      <td>20.0</td>\n",
       "      <td>3.456537</td>\n",
       "      <td>6.886174</td>\n",
       "    </tr>\n",
       "  </tbody>\n",
       "</table>\n",
       "</div>"
      ],
      "text/plain": [
       "              mean         sd     n        se  interval\n",
       "Выборка 1  100.815  10.246503  20.0  2.291188  4.545754\n",
       "Выборка 2   75.735  15.458102  20.0  3.456537  6.886174"
      ]
     },
     "execution_count": 8,
     "metadata": {},
     "output_type": "execute_result"
    }
   ],
   "source": [
    "import pandas as pd\n",
    "import numpy as np\n",
    "\n",
    "from scipy import stats as st\n",
    "import matplotlib.pyplot as plt\n",
    "\n",
    "\n",
    "array_1 = np.array([84.7, 105.0, 98.9, 97.9, 108.7, 81.3, 99.4, 89.4, 93.0,\n",
    "                   119.3, 99.2, 99.4, 97.1, 112.4, 99.8, 94.7, 114.0, 95.1, 115.5, 111.5])\n",
    "array_2 = np.array([57.2, 68.6, 104.4, 95.1, 89.9, 70.8, 83.5, 60.1, 75.7,\n",
    "                   102.0, 69.0, 79.6, 68.9, 98.6, 76.0, 74.8, 56.0, 55.6, 69.4, 59.5])\n",
    "\n",
    "# считаем количество элементов, среднее, стандартное отклонение и стандартную ошибку\n",
    "df = pd.DataFrame({'Выборка 1': array_1, 'Выборка 2': array_2}).agg(['mean','std','count','sem']).transpose()\n",
    "df.columns = ['mean','sd','n','se']\n",
    "\n",
    "# рассчитываем 95% интервал отклонения среднего\n",
    "p = 0.95\n",
    "K = st.t.ppf((1 + p)/2, df['mean']-1)\n",
    "df['interval'] = K * df['se']\n",
    "\n",
    "df"
   ]
  },
  {
   "cell_type": "markdown",
   "metadata": {},
   "source": [
    "#### Горизонтальные графики"
   ]
  },
  {
   "cell_type": "code",
   "execution_count": 9,
   "metadata": {},
   "outputs": [
    {
     "data": {
      "image/png": "[encoded data removed]",
      "text/plain": [
       "<Figure size 1512x504 with 2 Axes>"
      ]
     },
     "metadata": {},
     "output_type": "display_data"
    }
   ],
   "source": [
    "# строим графики, boxplot из изначальных данных array1, array2,  доверительные интервалы из датафрейма df\n",
    "fig, (ax1, ax2) = plt.subplots(nrows=1, ncols=2, figsize=(21, 7))\n",
    "\n",
    "# график boxplot\n",
    "bplot1 = ax1.boxplot(\n",
    "    [array_1, array_2],\n",
    "    vert=False,  # создаем горизонтальные боксы\n",
    "    patch_artist=True, # для красоты заполним цветом боксы квантилей\n",
    "    labels=['Выборка1', 'Выборка2']) # используется для задания значений выборок в случае с boxplot\n",
    "\n",
    "# график доверительных интервалов\n",
    "bplot2 = ax2.errorbar(\n",
    "    x=df['mean'], y=df.index, xerr=df['interval'],\n",
    "    color=\"black\", capsize=3, markersize=4, mfc=\"red\", mec=\"black\", fmt ='o'\n",
    ")\n",
    "\n",
    "# раскрасим boxplot  \n",
    "colors = ['pink', 'lightgreen']\n",
    "for patch, color in zip(bplot1['boxes'], colors):\n",
    "    patch.set_facecolor(color)\n",
    "    \n",
    "# добавим общие для каждого из графиков данные\n",
    "for ax in [ax1, ax2]:\n",
    "    ax.yaxis.grid(True)\n",
    "    ax.set_title('Температура плавления ДНК двух типов')\n",
    "    ax.set_xlabel('Сравнение двух выборок')\n",
    "    ax.set_ylabel('Температура F')\n",
    "    \n",
    "plt.show()"
   ]
  },
  {
   "cell_type": "markdown",
   "metadata": {},
   "source": [
    "#### Вертикальные графики"
   ]
  },
  {
   "cell_type": "code",
   "execution_count": 10,
   "metadata": {},
   "outputs": [
    {
     "data": {
      "image/png": "[encoded data removed]",
      "text/plain": [
       "<Figure size 1512x504 with 2 Axes>"
      ]
     },
     "metadata": {},
     "output_type": "display_data"
    }
   ],
   "source": [
    "# строим графики, boxplot из изначальных данных array1, array2,  доверительные интервалы из датафрейма df\n",
    "fig, (ax1, ax2) = plt.subplots(nrows=1, ncols=2, figsize=(21, 7))\n",
    "\n",
    "# график boxplot\n",
    "bplot1 = ax1.boxplot(\n",
    "    [array_1, array_2],\n",
    "    vert=True,  # создаем вертикальные боксы\n",
    "    patch_artist=True, # для красоты заполним цветом боксы квантилей\n",
    "    labels=['Выборка1', 'Выборка2']) # используется для задания значений выборок в случае с boxplot\n",
    "\n",
    "# график доверительных интервалов\n",
    "bplot2 = ax2.errorbar(\n",
    "    x=df.index, y=df['mean'], yerr=df['interval'],\n",
    "    color=\"black\", capsize=3, markersize=4, mfc=\"red\", mec=\"black\", fmt ='o'\n",
    ")\n",
    "\n",
    "# раскрасим boxplot  \n",
    "colors = ['pink', 'lightgreen']\n",
    "for patch, color in zip(bplot1['boxes'], colors):\n",
    "    patch.set_facecolor(color)\n",
    "    \n",
    "# добавим общие для каждого из графиков данные\n",
    "for ax in [ax1, ax2]:\n",
    "    ax.yaxis.grid(True)\n",
    "    ax.set_title('Температура плавления ДНК двух типов')\n",
    "    ax.set_xlabel('Сравнение двух выборок')\n",
    "    ax.set_ylabel('Температура F')\n",
    "    \n",
    "plt.show()"
   ]
  },
  {
   "cell_type": "markdown",
   "metadata": {},
   "source": [
    "### Построить доверительный интервал"
   ]
  },
  {
   "cell_type": "markdown",
   "metadata": {},
   "source": [
    "<img src=\"../data/img/DNA_exercise.png\" width=\"1000\">"
   ]
  },
  {
   "cell_type": "code",
   "execution_count": 11,
   "metadata": {},
   "outputs": [
    {
     "name": "stdout",
     "output_type": "stream",
     "text": [
      "[84.61; 95.19]\n"
     ]
    }
   ],
   "source": [
    "from scipy import stats as st\n",
    "import numpy as np\n",
    "\n",
    "mean = 89.9\n",
    "sd = 11.3\n",
    "n = 20\n",
    "# степень свободы\n",
    "degf = n - 1\n",
    "# 95% доверительный интервал\n",
    "p = 0.95\n",
    "alpha = 1-p\n",
    "# стандартная ошибка\n",
    "se = sd/np.sqrt(n)\n",
    "\n",
    "# ppf - Percent point function\n",
    "# делим на два, так как по умолчанию функция считает для одного конца, а нам надо для двух\n",
    "t_value = st.t(degf).ppf(1-(alpha/2))\n",
    "\n",
    "# доверительный интервал \n",
    "сonfidence_interval = (mean - t_value*se, mean + t_value*se)\n",
    "print('[%.2f; %.2f]' % сonfidence_interval)"
   ]
  },
  {
   "cell_type": "markdown",
   "metadata": {},
   "source": [
    "#### [Задача на рассчет 95% доверительного интервала](https://stepik.org/lesson/9249/step/12?unit=1829)"
   ]
  },
  {
   "cell_type": "code",
   "execution_count": 12,
   "metadata": {},
   "outputs": [
    {
     "name": "stdout",
     "output_type": "stream",
     "text": [
      "[84.61; 95.19]\n"
     ]
    }
   ],
   "source": [
    "from scipy import stats\n",
    "from math import sqrt\n",
    "\n",
    "mean = 89.9\n",
    "sd = 11.3\n",
    "n = 20\n",
    "# степень свободы\n",
    "df = n - 1\n",
    "# 95% доверительный интервал\n",
    "p = 0.95\n",
    "alpha = 1-p\n",
    "# стандартная ошибка\n",
    "se = sd/sqrt(n)\n",
    "\n",
    "# ppf - Percent point function\n",
    "# делим на два, так как по умолчанию функция считает для одного конца, а нам надо для двух\n",
    "t_value = stats.t(df).ppf(1-(alpha/2))\n",
    "\n",
    "# доверительный интервал \n",
    "сonfidence_interval = (mean-t_value*se, mean+t_value*se)\n",
    "print('[%.2f; %.2f]' % сonfidence_interval)"
   ]
  },
  {
   "cell_type": "markdown",
   "metadata": {},
   "source": [
    "#### [Задача про премию Оскар](https://stepik.org/lesson/9249/step/13?unit=1829)"
   ]
  },
  {
   "cell_type": "markdown",
   "metadata": {},
   "source": [
    "<img src=\"../data/img/Oscar_exercise.png\" width=\"1000\">"
   ]
  },
  {
   "cell_type": "code",
   "execution_count": 13,
   "metadata": {},
   "outputs": [
    {
     "name": "stdout",
     "output_type": "stream",
     "text": [
      "p=5.328933875539173e-13\n",
      "Мы можем отклонить нулевую гипотезу\n"
     ]
    }
   ],
   "source": [
    "from scipy import stats as st\n",
    "import numpy as np\n",
    "\n",
    "mean_m, mean_f = 45, 34\n",
    "sd_m, sd_f = 9, 10\n",
    "N = 100\n",
    "\n",
    "se = np.sqrt((sd_m ** 2)/N + (sd_f ** 2)/N)\n",
    "t_value = (mean_m - mean_f)/se\n",
    "\n",
    "p = st.t.sf(t_value, N-2)\n",
    "print(f'p={p}')\n",
    "if p >= 0.05:\n",
    "    print('Мы НЕ можем отклонить нулевую гипотезу')\n",
    "else:\n",
    "    print('Мы можем отклонить нулевую гипотезу')"
   ]
  },
  {
   "cell_type": "markdown",
   "metadata": {},
   "source": [
    "#### Задачи с собеседований:"
   ]
  },
  {
   "cell_type": "markdown",
   "metadata": {},
   "source": [
    "- [Stratascratch: Linear Regression & T-test - Medium](https://platform.stratascratch.com/technical/2395-linear-regression-t-test/discussion)"
   ]
  }
 ],
 "metadata": {
  "hide_input": false,
  "kernelspec": {
   "display_name": "venv",
   "language": "python",
   "name": "venv"
  },
  "language_info": {
   "codemirror_mode": {
    "name": "ipython",
    "version": 3
   },
   "file_extension": ".py",
   "mimetype": "text/x-python",
   "name": "python",
   "nbconvert_exporter": "python",
   "pygments_lexer": "ipython3",
   "version": "3.10.2"
  },
  "toc": {
   "base_numbering": 1,
   "nav_menu": {},
   "number_sections": true,
   "sideBar": true,
   "skip_h1_title": false,
   "title_cell": "Table of Contents",
   "title_sidebar": "Contents",
   "toc_cell": false,
   "toc_position": {},
   "toc_section_display": true,
   "toc_window_display": false
  }
 },
 "nbformat": 4,
 "nbformat_minor": 4
}
