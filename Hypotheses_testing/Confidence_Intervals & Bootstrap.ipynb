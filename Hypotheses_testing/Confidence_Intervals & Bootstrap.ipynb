{
 "cells": [
  {
   "cell_type": "markdown",
   "metadata": {},
   "source": [
    "# Настройка ноутбука"
   ]
  },
  {
   "cell_type": "code",
   "execution_count": 5,
   "metadata": {},
   "outputs": [],
   "source": [
    "import pandas as pd\n",
    "import numpy as np\n",
    "import datetime as dt\n",
    "\n",
    "import scipy.stats as st\n",
    "\n",
    "import seaborn as sns\n",
    "import matplotlib.pyplot as plt\n",
    "%matplotlib inline"
   ]
  },
  {
   "cell_type": "code",
   "execution_count": 6,
   "metadata": {},
   "outputs": [
    {
     "data": {
      "text/html": [
       "<style>.container { width:100% !important; }</style>"
      ],
      "text/plain": [
       "<IPython.core.display.HTML object>"
      ]
     },
     "metadata": {},
     "output_type": "display_data"
    }
   ],
   "source": [
    "# Расширить рабочее поле ноутбука на весь экран\n",
    "from IPython.display import display, HTML\n",
    "display(HTML(\"<style>.container { width:100% !important; }</style>\"))"
   ]
  },
  {
   "cell_type": "markdown",
   "metadata": {},
   "source": [
    "# Описание"
   ]
  },
  {
   "cell_type": "markdown",
   "metadata": {},
   "source": [
    "**Курс:**\n",
    "- [Stepik: Основы статистики - Доверительные интервалы](https://stepik.org/lesson/8079?unit=1359)\n",
    "\n",
    "\n",
    "**Видео:**\n",
    "- [Доверительный интервал за 15 мин. Биостатистика](https://youtu.be/MstzroncW28)\n",
    "- [Confidence Intervals, Clearly Explained!!!](https://www.youtube.com/watch?v=TqOeMYtOc1w&ab_channel=StatQuestwithJoshStarmer)\n",
    "- [Bootstrapping Main Ideas!!!](https://www.youtube.com/watch?v=Xz0x-8-cgaQ&ab_channel=StatQuestwithJoshStarmer)\n",
    "\n",
    "**Статьи:**\n",
    "- [Yandex: Что такое доверительные интервалы в статистике?](https://dzen.ru/media/id/5ee4e19276f3fc727f6774da/chto-takoe-doveritelnye-intervaly-v-statistike-6071c861aace2a335885cf10)\n",
    "- [GeeksforGeeks: examples](https://www.geeksforgeeks.org/how-to-calculate-confidence-intervals-in-python/) \n",
    "- [GeeksforGeeks: visualization](https://www.geeksforgeeks.org/how-to-plot-a-confidence-interval-in-python)\n"
   ]
  },
  {
   "cell_type": "markdown",
   "metadata": {},
   "source": [
    "# Доверительный интервал"
   ]
  },
  {
   "cell_type": "markdown",
   "metadata": {},
   "source": [
    "\"Вся статистика нам говорит о том, что если у нас есть выборочные данные, мы не можем ответить на вопрос, чему на самом деле что-то равно. Но мы можем дать некоторый диапазон, в котором скорее всего это что-то лежит.\" - Анатолий Карпов"
   ]
  },
  {
   "cell_type": "markdown",
   "metadata": {},
   "source": [
    "Представим, что из генеральной совокупности нам дали выборку из 100 элементов. Всего одну выборку. И мы хотим оценить среднее генеральной совокупности. Но как это сделать, если у нас всего одна выборка? Если бы у нас было много выборок, то с помощью центральной предельной теоремы мы могли бы построить распределение средних значений таких выборок и найти среднее значение такого распределение, которое и являлось бы средним значением генеральной совокупности. \n",
    "\n",
    "Но у нас, всего одна выборка из 100 элементов. Поэтому, как бы мы ни старались, у нас слишком мало информации, чтобы дать точный ответ - чему равно среднее генеральной совокупности. Зато мы можем примерно оценить, в каком интервале относительно среднего выборки лежит среднее генеральной совокупности. \n",
    "\n",
    "Для этого и служат доверительные интервалы. Как же повезло, что средние значения воборок распределени номрально, согласно ЦПТ, так как это позволяет нам оперировать правилами сигм. Расчитав стандартное отклонение для выборочного среднего, согласно ЦПТ, мы можем воспользоваться правилом 2х сигм и утвержать что в этом пределе находится среднее генеральной совокупности с вероятностью 95%."
   ]
  },
  {
   "cell_type": "markdown",
   "metadata": {},
   "source": [
    "<img src=\"../data/img/Confidence_interval_1.png\" width=\"380\">"
   ]
  },
  {
   "cell_type": "markdown",
   "metadata": {},
   "source": [
    "## Формула"
   ]
  },
  {
   "cell_type": "markdown",
   "metadata": {},
   "source": [
    "<img src=\"../data/img/Confidence_interval_formula.png\" width=\"150\">\n",
    "\n",
    "```text\n",
    "x - среднее значение выборки (sample mean)\n",
    "n - размер выборки (sample size)\n",
    "s - стандартное отклонение выборки (sample standart deviation)\n",
    "\n",
    "z - уровень доверительного интервала\n",
    "```\n",
    "\n"
   ]
  },
  {
   "cell_type": "markdown",
   "metadata": {},
   "source": [
    "<img src=\"../data/img/Confidence_interval_2.png\" width=\"380\">"
   ]
  },
  {
   "cell_type": "markdown",
   "metadata": {},
   "source": [
    "### Вопросы"
   ]
  },
  {
   "cell_type": "markdown",
   "metadata": {},
   "source": [
    "**Почему мы берем 1,96 se, а не 2se, например?**\n",
    "По определению нормального распределения, 95% всех наблюдений лежат приблизительно в диапазоне +/- 2 sd от среднего. Так вот 1,96 - это более точная оценка."
   ]
  },
  {
   "cell_type": "markdown",
   "metadata": {},
   "source": [
    "### Тестовые вопросы:"
   ]
  },
  {
   "cell_type": "markdown",
   "metadata": {},
   "source": [
    "**Если мы рассчитали 95% доверительный интервал для среднего значения, то какие из следующих утверждений являются верными?**\n",
    "\n",
    "- [X] Мы можем быть на 95% уверены, что среднее значение в генеральной совокупности принадлежит рассчитанному доверительному интервалу.\n",
    "- [ ] Если многократно повторять эксперимент, то 95 % выборочных средних значений будут принадлежать рассчитанному нами доверительному интервалу.\n",
    "- [ ] Среднее значение в генеральной совокупности точно принадлежит рассчитанному доверительному интервалу.\n",
    "- [ ] Среднее значение в генеральной совокупности точно превышает нижнюю границу 95% доверительного интервала.\n",
    "- [X] Если многократно повторять эксперимент, для каждой выборки рассчитывать свой доверительный интервал, то в 95 % случаев истинное среднее будет находиться внутри доверительного интервала."
   ]
  },
  {
   "cell_type": "markdown",
   "metadata": {},
   "source": [
    "**Если бы в нашем примере мы увеличили объем выборки в два раза (при условии, что показатель стандартного отклонения остался неизменным), то 95% доверительный интервал...**\n",
    "\n",
    "- [ ] стал более широким\n",
    "- [X] стал более узким\n",
    "- [ ] возможны оба варианта"
   ]
  },
  {
   "cell_type": "markdown",
   "metadata": {},
   "source": [
    "## Выделение нескольких выборок из генеральной совокупности"
   ]
  },
  {
   "cell_type": "code",
   "execution_count": 8,
   "metadata": {},
   "outputs": [],
   "source": [
    "M = 3 \n",
    "sigma = 2 \n",
    "N = 10_000\n",
    "\n",
    "genpop = pd.Series(np.random.normal(M, sigma, N))"
   ]
  },
  {
   "cell_type": "code",
   "execution_count": 9,
   "metadata": {},
   "outputs": [],
   "source": [
    "n_vals = 100\n",
    "n_samples = 300\n",
    "samples = pd.DataFrame([genpop.sample(n=n_vals).tolist() for sample in range(n_samples)])"
   ]
  },
  {
   "cell_type": "code",
   "execution_count": 10,
   "metadata": {},
   "outputs": [],
   "source": [
    "samples_stats = pd.DataFrame({\n",
    "    'n': samples.apply(lambda row: len(row), axis=1),\n",
    "    'mean_val': samples.apply(lambda row: row.mean(), axis=1),\n",
    "    'std_val': samples.apply(lambda row: row.std(), axis=1),\n",
    "})"
   ]
  },
  {
   "cell_type": "code",
   "execution_count": 34,
   "metadata": {},
   "outputs": [
    {
     "data": {
      "image/png": "[encoded data removed]",
      "text/plain": [
       "<Figure size 1152x432 with 2 Axes>"
      ]
     },
     "metadata": {
      "needs_background": "light"
     },
     "output_type": "display_data"
    }
   ],
   "source": [
    "f, (ax_genpop, ax_samples_means) = plt.subplots(2, sharex=True, figsize=(16, 6), gridspec_kw={\"height_ratios\": (.35, .35)})\n",
    "\n",
    "sns.histplot(x=genpop, ax=ax_genpop, color='#85C1E9')\n",
    "ax_genpop.axvline(M,  color='#1A5276')\n",
    "\n",
    "sns.histplot(x=samples_stats.mean_val, ax=ax_samples_means, color='#85C1E9')\n",
    "ax_samples_means.axvline(samples_stats.mean_val.mean(), color='#E74C3C');"
   ]
  },
  {
   "cell_type": "code",
   "execution_count": 12,
   "metadata": {},
   "outputs": [],
   "source": [
    "def confidence_interval(n, mean_val, std_val, target_interval):\n",
    "    alpha = 1 - target_interval\n",
    "    z = abs(st.norm.ppf(alpha/2)) # 1.96\n",
    "    se = std_val / np.sqrt(n)\n",
    "    \n",
    "    conf_val = np.round(z*se, 2)\n",
    "    return conf_val, (np.round(mean_val - conf_val, 2), np.round(mean_val + conf_val, 2))\n",
    "\n",
    "samples_stats[['conf_val', 'interval']] = samples_stats.apply(lambda row: confidence_interval(row.n, row.mean_val, row.std_val, 0.95), axis=1).apply(pd.Series)\n",
    "samples_stats[['ci_left', 'ci_right']] = samples_stats.interval.apply(pd.Series)"
   ]
  },
  {
   "cell_type": "code",
   "execution_count": 13,
   "metadata": {},
   "outputs": [
    {
     "data": {
      "text/plain": [
       "False    0.943333\n",
       "True     0.056667\n",
       "Name: error, dtype: float64"
      ]
     },
     "execution_count": 13,
     "metadata": {},
     "output_type": "execute_result"
    }
   ],
   "source": [
    "samples_stats['error'] = samples_stats.apply(lambda row: ((row['ci_left'] > M) | (row['ci_right'] < M)), axis=1)\n",
    "samples_stats.error.value_counts(normalize=True)"
   ]
  },
  {
   "cell_type": "markdown",
   "metadata": {},
   "source": [
    "Провизуализируем примеры доверительных интервалов для случаев когда среднее генеральной совокупности:\n",
    "1) Попадает в доверительный интервал выборки\n",
    "\n",
    "2) Не попадает и находится левее\n",
    "\n",
    "3) Не попадает и находится правее"
   ]
  },
  {
   "cell_type": "code",
   "execution_count": 14,
   "metadata": {},
   "outputs": [
    {
     "data": {
      "image/png": "[encoded data removed]",
      "text/plain": [
       "<Figure size 432x288 with 2 Axes>"
      ]
     },
     "metadata": {
      "needs_background": "light"
     },
     "output_type": "display_data"
    }
   ],
   "source": [
    "f, (ax_sample_hist, ax_intervals) = plt.subplots(2, sharex=True, gridspec_kw={\"height_ratios\": (.85, .85)})\n",
    "\n",
    "sns.histplot(x=samples_stats.mean_val, ax=ax_sample_hist, color='#85C1E9')\n",
    "ax_sample_hist.axvline(M,  color='#1A5276')\n",
    "ax_sample_hist.axvline(samples_stats.mean_val.mean(),  color='#E74C3C')\n",
    "\n",
    "\n",
    "\n",
    "n_intervals = 10\n",
    "intervals = pd.concat([\n",
    "    samples_stats[samples_stats['ci_left'] > M].iloc[:n_intervals//3],\n",
    "    samples_stats[samples_stats['ci_right'] < M].iloc[:n_intervals//3],\n",
    "    samples_stats[~((samples_stats['ci_left'] > M) | (samples_stats['ci_right'] < M))].iloc[:n_intervals//3],\n",
    "])\n",
    "intervals['color'] = intervals.apply(lambda row: '#E74C3C' if ((row['ci_left'] > M) | (row['ci_right'] < M)) else '#28B463', axis=1)\n",
    "\n",
    "ax_intervals.errorbar(\n",
    "    intervals.mean_val, \n",
    "    list(range(intervals.shape[0])), \n",
    "    xerr=[intervals.conf_val, intervals.conf_val], \n",
    "    fmt='o',\n",
    "    ecolor=intervals.color.values\n",
    ")\n",
    "\n",
    "ax_intervals.axvline(M,  color='#1A5276')\n",
    "ax_intervals.axvline(samples_stats.mean_val.mean(),  color='#E74C3C');"
   ]
  },
  {
   "cell_type": "code",
   "execution_count": 27,
   "metadata": {},
   "outputs": [
    {
     "data": {
      "image/png": "[encoded data removed]",
      "text/plain": [
       "<Figure size 1728x432 with 3 Axes>"
      ]
     },
     "metadata": {
      "needs_background": "light"
     },
     "output_type": "display_data"
    }
   ],
   "source": [
    "n_plots = 3\n",
    "fig, (ax_genpop_hist, ax_sample_means, ax_intervals) = plt.subplots(n_plots, sharex=True, figsize=(n_plots*8, n_plots*2))\n",
    "\n",
    "\n",
    "sns.histplot(x=genpop, ax=ax_genpop_hist, color='#85C1E9')\n",
    "ax_genpop_hist.axvline(M,  color='#1A5276')\n",
    "\n",
    "sns.histplot(x=samples_stats.mean_val, ax=ax_sample_means, color='#85C1E9')\n",
    "ax_sample_means.axvline(samples_stats.mean_val.mean(),  color='#E74C3C')\n",
    "\n",
    "ax_intervals.errorbar(\n",
    "    intervals.mean_val, \n",
    "    list(range(intervals.shape[0])), \n",
    "    xerr=[intervals.conf_val, intervals.conf_val], \n",
    "    fmt='o',\n",
    "    ecolor=intervals.color.values\n",
    ")\n",
    "\n",
    "ax_intervals.axvline(M,  color='#1A5276');"
   ]
  },
  {
   "cell_type": "markdown",
   "metadata": {},
   "source": [
    "Если бы мы взяли из генеральной совокупности много выборок, то по центральной предельной теореме, их средние распределились бы нормально вокруг среднего генеральной совокупности. При этом 95% средних находилсь бы в интервале +-2 стандартных отклонений..."
   ]
  },
  {
   "cell_type": "markdown",
   "metadata": {},
   "source": [
    "## Рассчитать доверительный интервал для одной выборки"
   ]
  },
  {
   "cell_type": "code",
   "execution_count": 116,
   "metadata": {},
   "outputs": [],
   "source": [
    "M = 3 \n",
    "sigma = 2 \n",
    "N = 10_000\n",
    "\n",
    "genpop = pd.Series(np.random.normal(M, sigma, N))"
   ]
  },
  {
   "cell_type": "code",
   "execution_count": 117,
   "metadata": {},
   "outputs": [],
   "source": [
    "n = 100\n",
    "sample = genpop.sample(n=n)\n",
    "\n",
    "m = sample.mean()\n",
    "std = sample.std() # Это упрощение - на самом деле здесь нужно задействовать распределение Стьюдента. Но это потом"
   ]
  },
  {
   "cell_type": "markdown",
   "metadata": {},
   "source": [
    "#### Custom function"
   ]
  },
  {
   "cell_type": "code",
   "execution_count": 146,
   "metadata": {},
   "outputs": [
    {
     "name": "stdout",
     "output_type": "stream",
     "text": [
      "3 +- 0.54\n"
     ]
    },
    {
     "data": {
      "text/plain": [
       "(2.6, 3.68)"
      ]
     },
     "execution_count": 146,
     "metadata": {},
     "output_type": "execute_result"
    }
   ],
   "source": [
    "def confidence_interval(n, mean_val, std_val, target_interval):\n",
    "    alpha = 1 - target_interval\n",
    "    z = abs(st.norm.ppf(alpha/2)) # 1.96\n",
    "    se = std_val / np.sqrt(n)\n",
    "    \n",
    "    conf_val = np.round(z*se, 2)\n",
    "    return conf_val, (np.round(mean_val - conf_val, 2), np.round(mean_val + conf_val, 2))\n",
    "\n",
    "\n",
    "\n",
    "z = 0.99\n",
    "cval, ci = confidence_interval(n, m, std, z) \n",
    "\n",
    "print(f'{M} +- {cval}')\n",
    "ci"
   ]
  },
  {
   "cell_type": "markdown",
   "metadata": {},
   "source": [
    "#### [scipy.stats.t.interval](https://docs.scipy.org/doc/scipy/reference/generated/scipy.stats.t.html)"
   ]
  },
  {
   "cell_type": "code",
   "execution_count": 147,
   "metadata": {},
   "outputs": [
    {
     "data": {
      "text/plain": [
       "(2.590875170698548, 3.697197271910188)"
      ]
     },
     "execution_count": 147,
     "metadata": {},
     "output_type": "execute_result"
    }
   ],
   "source": [
    "st.t.interval(z, len(sample)-1, loc=np.mean(sample), scale=st.sem(sample))"
   ]
  },
  {
   "cell_type": "code",
   "execution_count": 148,
   "metadata": {},
   "outputs": [
    {
     "data": {
      "image/png": "[encoded data removed]",
      "text/plain": [
       "<Figure size 432x288 with 2 Axes>"
      ]
     },
     "metadata": {
      "needs_background": "light"
     },
     "output_type": "display_data"
    }
   ],
   "source": [
    "f, (ax_hist, ax_intervals) = plt.subplots(2, sharex=True, gridspec_kw={\"height_ratios\": (.65, .35)})\n",
    "\n",
    "sns.histplot(x=genpop, ax=ax_hist, color='#85C1E9')\n",
    "ax_hist.axvline(M,  color='#1A5276')\n",
    "\n",
    "ax_intervals.errorbar(\n",
    "    [m], \n",
    "    [0], \n",
    "    xerr=[[cval],[cval]],\n",
    "    fmt='o',\n",
    "    color='#28B463'\n",
    ");"
   ]
  },
  {
   "cell_type": "markdown",
   "metadata": {},
   "source": [
    "# Bootstrapping"
   ]
  },
  {
   "cell_type": "markdown",
   "metadata": {},
   "source": [
    "- [Medium: Resampling (Bootstrapping & Permutation Testing)](https://medium.com/@mattheweparker/common-machine-learning-resampling-methods-like-bootstrapping-and-permutation-testing-attempt-to-ddc4fbbda391)"
   ]
  },
  {
   "cell_type": "markdown",
   "metadata": {},
   "source": [
    "**Bootstrap** — практический компьютерный метод исследования распределения статистик вероятностных распределений, основанный на многократной генерации выборок методом Монте-Карло на базе имеющейся выборки. Позволяет просто и быстро оценивать самые разные статистики для сложных моделей.\n",
    "\n",
    "- Если выборка репрезентативна, то ее можно рассматривать как модель генеральной совокупности.\n",
    "- Bootstrap не является спасением от маленьких выборок."
   ]
  },
  {
   "cell_type": "code",
   "execution_count": 32,
   "metadata": {},
   "outputs": [],
   "source": [
    "n_vals = 100\n",
    "one_sample = genpop.sample(n=n_vals)"
   ]
  },
  {
   "cell_type": "markdown",
   "metadata": {},
   "source": [
    "## Проверка устойчивости метода"
   ]
  },
  {
   "cell_type": "code",
   "execution_count": 88,
   "metadata": {},
   "outputs": [],
   "source": [
    "l = []\n",
    "n_bootstrap = 300\n",
    "n_iterations = 9\n",
    "\n",
    "for i in range(n_iterations):\n",
    "    l.append([one_sample.sample(n_vals, replace=True).mean() for b in range(n_bootstrap)])\n",
    "\n",
    "iterations = pd.DataFrame(l)"
   ]
  },
  {
   "cell_type": "code",
   "execution_count": 100,
   "metadata": {},
   "outputs": [],
   "source": [
    "inds = list(range(iterations.shape[0]))"
   ]
  },
  {
   "cell_type": "code",
   "execution_count": 101,
   "metadata": {},
   "outputs": [
    {
     "data": {
      "image/png": "[encoded data removed]",
      "text/plain": [
       "<Figure size 864x288 with 1 Axes>"
      ]
     },
     "metadata": {
      "needs_background": "light"
     },
     "output_type": "display_data"
    }
   ],
   "source": [
    "i = inds.pop(0) \n",
    "\n",
    "fig = plt.figure(figsize = (12, 4))\n",
    "ax = fig.gca()\n",
    "iterations.iloc[i].plot.hist(bins=50, ax = ax, label = 'Средние bootstrap-выборок')\n",
    "\n",
    "plt.axvline(M,  color='#1A5276', label='Среднее генеральной совокупности')\n",
    "plt.axvline(one_sample.mean(),  color='#28B463', label = 'Среднее первоначальной выборки')\n",
    "plt.axvline(iterations.iloc[i].mean(),  color='#E74C3C', label = 'Среднее от средних')\n",
    "plt.legend(loc='upper left');"
   ]
  },
  {
   "cell_type": "code",
   "execution_count": 109,
   "metadata": {},
   "outputs": [
    {
     "data": {
      "image/png": "[encoded data removed]",
      "text/plain": [
       "<Figure size 1296x2592 with 9 Axes>"
      ]
     },
     "metadata": {
      "needs_background": "light"
     },
     "output_type": "display_data"
    }
   ],
   "source": [
    "n = iterations.shape[0]\n",
    "\n",
    "plt.figure(figsize=(n*2, n * 4))\n",
    "for i in range(n):\n",
    "    plt.subplot(n, 3, i+1)\n",
    "    plt.axis([2, 4, 0, 4])\n",
    "    plt.hist(iterations.iloc[i], bins=50, density=True)\n",
    "    \n",
    "    plt.axvline(M,  color='#1A5276')\n",
    "    plt.axvline(one_sample.mean(),  color='#28B463')\n",
    "    plt.axvline(iterations.iloc[i].mean(),  color='#E74C3C')\n",
    "    \n",
    "plt.show()"
   ]
  },
  {
   "cell_type": "markdown",
   "metadata": {},
   "source": [
    "## Оценка среднего значения "
   ]
  },
  {
   "cell_type": "code",
   "execution_count": 110,
   "metadata": {},
   "outputs": [],
   "source": [
    "n_bootstrap = 300\n",
    "bootstrap = pd.DataFrame([one_sample.sample(n_vals, replace=True).tolist() for b in range(n_bootstrap)])"
   ]
  },
  {
   "cell_type": "code",
   "execution_count": 111,
   "metadata": {},
   "outputs": [],
   "source": [
    "def confidence_interval(n, mean_val, std_val, target_interval):\n",
    "    alpha = 1 - target_interval\n",
    "    z = abs(st.norm.ppf(alpha/2)) # 1.96\n",
    "    se = std_val / np.sqrt(n)\n",
    "    \n",
    "    conf_val = np.round(z*se, 2)\n",
    "    return conf_val, (np.round(mean_val - conf_val, 2), np.round(mean_val + conf_val, 2))\n",
    "\n",
    "bootstrap_stats = pd.DataFrame({\n",
    "    'n': bootstrap.apply(lambda row: len(row), axis=1),\n",
    "    'mean_val': bootstrap.apply(lambda row: row.mean(), axis=1),\n",
    "    'std_val': bootstrap.apply(lambda row: row.std(), axis=1),\n",
    "})\n",
    "\n",
    "bootstrap_stats[['conf_val', 'interval']] = bootstrap_stats.apply(lambda row: confidence_interval(row.n, row.mean_val, row.std_val, 0.95), axis=1).apply(pd.Series)\n",
    "bootstrap_stats[['ci_left', 'ci_right']] = bootstrap_stats.interval.apply(pd.Series)"
   ]
  },
  {
   "cell_type": "code",
   "execution_count": 112,
   "metadata": {},
   "outputs": [
    {
     "data": {
      "text/plain": [
       "False    0.816667\n",
       "True     0.183333\n",
       "Name: error, dtype: float64"
      ]
     },
     "execution_count": 112,
     "metadata": {},
     "output_type": "execute_result"
    }
   ],
   "source": [
    "bootstrap_stats['error'] = bootstrap_stats.apply(lambda row: ((row['ci_left'] > M) | (row['ci_right'] < M)), axis=1)\n",
    "bootstrap_stats.error.value_counts(normalize=True)"
   ]
  },
  {
   "cell_type": "code",
   "execution_count": 113,
   "metadata": {},
   "outputs": [
    {
     "data": {
      "image/png": "[encoded data removed]",
      "text/plain": [
       "<Figure size 432x288 with 2 Axes>"
      ]
     },
     "metadata": {
      "needs_background": "light"
     },
     "output_type": "display_data"
    }
   ],
   "source": [
    "f, (ax_hist, ax_intervals) = plt.subplots(2, sharex=True, gridspec_kw={\"height_ratios\": (.85, .85)})\n",
    "\n",
    "sns.histplot(x=bootstrap_stats.mean_val, ax=ax_hist, color='#85C1E9')\n",
    "ax_hist.axvline(M,  color='#1A5276')\n",
    "ax_hist.axvline(bootstrap_stats.mean_val.mean(),  color='#E74C3C')\n",
    "\n",
    "\n",
    "n_intervals = 10\n",
    "intervals = pd.concat([\n",
    "    bootstrap_stats[bootstrap_stats['ci_left'] > M].iloc[:n_intervals//3],\n",
    "    bootstrap_stats[bootstrap_stats['ci_right'] < M].iloc[:n_intervals//3],\n",
    "    bootstrap_stats[~((bootstrap_stats['ci_left'] > M) | (bootstrap_stats['ci_right'] < M))].iloc[:n_intervals//3],\n",
    "])\n",
    "intervals['color'] = intervals.apply(lambda row: '#E74C3C' if ((row['ci_left'] > M) | (row['ci_right'] < M)) else '#28B463', axis=1)\n",
    "\n",
    "ax_intervals.errorbar(\n",
    "    intervals.mean_val, \n",
    "    list(range(intervals.shape[0])), \n",
    "    xerr=[intervals.conf_val, intervals.conf_val], \n",
    "    fmt='o',\n",
    "    ecolor=intervals.color.values\n",
    ")\n",
    "\n",
    "ax_intervals.axvline(M,  color='#1A5276')\n",
    "ax_intervals.axvline(bootstrap_stats.mean_val.mean(),  color='#E74C3C');"
   ]
  },
  {
   "cell_type": "markdown",
   "metadata": {},
   "source": [
    "При повторении эксперимента, точность bootstrap-выборки варьируется от 60 до 95%. В этом плане подход с несколькими выборками дает более точные, устойчивые результаты. Почему так?"
   ]
  },
  {
   "cell_type": "markdown",
   "metadata": {},
   "source": [
    "#### [Pandas doc: pandas.plotting.bootstrap_plot](https://pandas.pydata.org/docs/reference/api/pandas.plotting.bootstrap_plot.html)"
   ]
  },
  {
   "cell_type": "code",
   "execution_count": 114,
   "metadata": {},
   "outputs": [
    {
     "data": {
      "image/png": "[encoded data removed]",
      "text/plain": [
       "<Figure size 432x288 with 6 Axes>"
      ]
     },
     "metadata": {
      "needs_background": "light"
     },
     "output_type": "display_data"
    }
   ],
   "source": [
    "pd.plotting.bootstrap_plot(\n",
    "    one_sample, \n",
    "    size=98, # Почему-то работает странно, если добавить сюда n_vals\n",
    "    samples=500\n",
    ");"
   ]
  },
  {
   "cell_type": "markdown",
   "metadata": {},
   "source": [
    "### Старые заметки"
   ]
  },
  {
   "cell_type": "markdown",
   "metadata": {},
   "source": [
    "Confidence Interval = x(+/-)t*(s/√n)\n",
    "\n",
    "x: sample mean\n",
    "\n",
    "t: t-value that corresponds to the confidence level\n",
    "\n",
    "s: sample standard deviation\n",
    "\n",
    "n: sample size"
   ]
  },
  {
   "cell_type": "code",
   "execution_count": 13,
   "metadata": {},
   "outputs": [
    {
     "data": {
      "image/png": "[encoded data removed]",
      "text/plain": [
       "<Figure size 432x288 with 1 Axes>"
      ]
     },
     "metadata": {
      "needs_background": "light"
     },
     "output_type": "display_data"
    }
   ],
   "source": [
    "plt.rcParams[\"figure.figsize\"] = [7.50, 3.50]\n",
    "plt.rcParams[\"figure.autolayout\"] = True\n",
    "\n",
    "x = np.arange(0, 10, 0.05)\n",
    "y = np.sin(x)\n",
    "\n",
    "# Define the confidence interval\n",
    "ci = 0.1 * np.std(y) / np.mean(y)\n",
    "\n",
    "plt.plot(x, y, color='black', lw=7)\n",
    "\n",
    "plt.fill_between(x, (y-ci), (y+ci), color='blue', alpha=0.5)\n",
    "\n",
    "plt.show()"
   ]
  },
  {
   "cell_type": "markdown",
   "metadata": {},
   "source": [
    "## T"
   ]
  },
  {
   "cell_type": "markdown",
   "metadata": {},
   "source": [
    "### Пример 1"
   ]
  },
  {
   "cell_type": "code",
   "execution_count": 7,
   "metadata": {},
   "outputs": [
    {
     "data": {
      "text/plain": [
       "(2.962098014195961, 4.837901985804038)"
      ]
     },
     "execution_count": 7,
     "metadata": {},
     "output_type": "execute_result"
    }
   ],
   "source": [
    "# define sample data\n",
    "gfg_data = [\n",
    "    1, 1, 1, 2, 2, 2, 3, 3, 3, 3,\n",
    "    3, 4, 4, 5, 5, 5, 6, 7, 8, 10]\n",
    "\n",
    "# create 90% confidence interval\n",
    "st.t.interval(\n",
    "    alpha=0.90, \n",
    "    df=len(gfg_data)-1,\n",
    "    loc=np.mean(gfg_data),\n",
    "    scale=st.sem(gfg_data)\n",
    ")"
   ]
  },
  {
   "cell_type": "markdown",
   "metadata": {},
   "source": [
    "### Пример 2"
   ]
  },
  {
   "cell_type": "code",
   "execution_count": 8,
   "metadata": {},
   "outputs": [
    {
     "data": {
      "text/plain": [
       "(2.3481954013214263, 5.4518045986785735)"
      ]
     },
     "execution_count": 8,
     "metadata": {},
     "output_type": "execute_result"
    }
   ],
   "source": [
    "import numpy as np\n",
    "import scipy.stats as st\n",
    "  \n",
    "# define sample data\n",
    "gfg_data = [\n",
    "    1, 1, 1, 2, 2, 2, 3, 3, 3,\n",
    "    3, 3, 4, 4, 5, 5, 5, 6,\n",
    "    7, 8, 10]\n",
    "  \n",
    "# create 99% confidence interval\n",
    "st.t.interval(\n",
    "    alpha=0.99,\n",
    "    df=len(gfg_data)-1,\n",
    "    loc=np.mean(gfg_data), \n",
    "    scale=st.sem(gfg_data)\n",
    ")"
   ]
  },
  {
   "cell_type": "markdown",
   "metadata": {},
   "source": [
    "## Norm"
   ]
  },
  {
   "cell_type": "code",
   "execution_count": 9,
   "metadata": {},
   "outputs": [
    {
     "data": {
      "text/plain": [
       "(6.650557051936708, 7.129442948063291)"
      ]
     },
     "execution_count": 9,
     "metadata": {},
     "output_type": "execute_result"
    }
   ],
   "source": [
    "# define sample data\n",
    "gfg_data = np.random.randint(5, 10, 100)\n",
    "  \n",
    "# create 90% confidence interval\n",
    "# for population mean weight\n",
    "st.norm.interval(\n",
    "    alpha=0.90,\n",
    "    loc=np.mean(gfg_data),\n",
    "    scale=st.sem(gfg_data)\n",
    ")"
   ]
  },
  {
   "cell_type": "code",
   "execution_count": 10,
   "metadata": {},
   "outputs": [
    {
     "data": {
      "text/plain": [
       "(6.577907690622409, 7.342092309377591)"
      ]
     },
     "execution_count": 10,
     "metadata": {},
     "output_type": "execute_result"
    }
   ],
   "source": [
    "# define sample data\n",
    "gfg_data = np.random.randint(5, 10, 100)\n",
    "  \n",
    "# create 99% confidence interval\n",
    "# for population mean weight\n",
    "st.norm.interval(\n",
    "    alpha=0.99, \n",
    "    loc=np.mean(gfg_data),\n",
    "    scale=st.sem(gfg_data)\n",
    ")"
   ]
  },
  {
   "cell_type": "code",
   "execution_count": 294,
   "metadata": {},
   "outputs": [
    {
     "data": {
      "text/plain": [
       "(17.52, 19.48)"
      ]
     },
     "execution_count": 294,
     "metadata": {},
     "output_type": "execute_result"
    }
   ],
   "source": [
    "def confidence_interval(n, mean_val, std_val, target_interval):\n",
    "    alpha = 1 - target_interval\n",
    "    z = abs(st.norm.ppf(alpha/2)) # 1.96\n",
    "    se = std_val / np.sqrt(n)\n",
    "    return (round(mean_val - z * se,  2),  round(mean_val + z * se,  2))\n",
    "\n",
    "n = 64\n",
    "mean_val = 18.5\n",
    "std_val = 4\n",
    "target_interval = 0.95\n",
    "\n",
    "confidence_interval(n, mean_val, std_val, target_interval)"
   ]
  },
  {
   "cell_type": "code",
   "execution_count": 295,
   "metadata": {},
   "outputs": [
    {
     "data": {
      "text/plain": [
       "1.9599639845400545"
      ]
     },
     "execution_count": 295,
     "metadata": {},
     "output_type": "execute_result"
    }
   ],
   "source": [
    "abs(st.norm.ppf(alpha/2))"
   ]
  }
 ],
 "metadata": {
  "hide_input": false,
  "kernelspec": {
   "display_name": "venv",
   "language": "python",
   "name": "venv"
  },
  "language_info": {
   "codemirror_mode": {
    "name": "ipython",
    "version": 3
   },
   "file_extension": ".py",
   "mimetype": "text/x-python",
   "name": "python",
   "nbconvert_exporter": "python",
   "pygments_lexer": "ipython3",
   "version": "3.7.3"
  },
  "toc": {
   "base_numbering": 1,
   "nav_menu": {},
   "number_sections": true,
   "sideBar": true,
   "skip_h1_title": false,
   "title_cell": "Table of Contents",
   "title_sidebar": "Contents",
   "toc_cell": false,
   "toc_position": {
    "height": "calc(100% - 180px)",
    "left": "10px",
    "top": "150px",
    "width": "256px"
   },
   "toc_section_display": true,
   "toc_window_display": false
  }
 },
 "nbformat": 4,
 "nbformat_minor": 5
}
