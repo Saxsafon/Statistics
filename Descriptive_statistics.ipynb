{
 "cells": [
  {
   "cell_type": "markdown",
   "metadata": {},
   "source": [
    "# Настройка ноутбука"
   ]
  },
  {
   "cell_type": "code",
   "execution_count": 18,
   "metadata": {},
   "outputs": [],
   "source": [
    "import numpy as np\n",
    "import pandas as pd\n",
    "\n",
    "import statistics as st\n",
    "from scipy import stats\n",
    "\n",
    "import seaborn as sns\n",
    "import matplotlib.pyplot as plt\n",
    "%matplotlib inline"
   ]
  },
  {
   "cell_type": "code",
   "execution_count": 19,
   "metadata": {},
   "outputs": [
    {
     "data": {
      "text/html": [
       "<style>.container { width:100% !important; }</style>"
      ],
      "text/plain": [
       "<IPython.core.display.HTML object>"
      ]
     },
     "metadata": {},
     "output_type": "display_data"
    }
   ],
   "source": [
    "# Расширить рабочее поле ноутбука на весь экран\n",
    "from IPython.display import display, HTML\n",
    "display(HTML(\"<style>.container { width:100% !important; }</style>\"))"
   ]
  },
  {
   "cell_type": "markdown",
   "metadata": {},
   "source": [
    "# Описание"
   ]
  },
  {
   "cell_type": "markdown",
   "metadata": {},
   "source": []
  },
  {
   "cell_type": "markdown",
   "metadata": {},
   "source": [
    "**Курс:**\n",
    "- [Stepik: Основы статистики ч.1 - Меры центральной тенденции](https://stepik.org/lesson/8075?unit=1355)\n",
    "- [Stepik: Основы статистики ч.1 - Меры изменчивости](https://stepik.org/lesson/8076?unit=1356)\n",
    "- [Stepik: Основы статистики ч.1 - Квартили распределения и график box-plot](https://stepik.org/lesson/9294?unit=1827)\n",
    "\n",
    "**Видео:**\n",
    "- [StatQuest: Calculating the Mean, Variance and Standard Deviation, Clearly Explained!!!](https://www.youtube.com/watch?v=SzZ6GpcfoQY)\n",
    "- [StatQuest: Why Dividing By N Underestimates the Variance](https://www.youtube.com/watch?v=sHRBg6BhKjI)\n",
    "- [StatQuest: Quantiles and Percentiles, Clearly Explained!!!](https://www.youtube.com/watch?v=IFKQLDmRK0Y)\n",
    "- [Ted: The best stats you've ever seen](https://www.ted.com/talks/hans_rosling_the_best_stats_you_ve_ever_seen)"
   ]
  },
  {
   "cell_type": "markdown",
   "metadata": {},
   "source": [
    "# Понятия"
   ]
  },
  {
   "cell_type": "markdown",
   "metadata": {},
   "source": [
    "<img src=\"data/img/statistical_notations.png\" width=\"700\">"
   ]
  },
  {
   "cell_type": "markdown",
   "metadata": {},
   "source": [
    "## Меры центральной тенденции (Measures of Central Tendency)"
   ]
  },
  {
   "cell_type": "markdown",
   "metadata": {},
   "source": [
    "**Мода (Mode)** — наиболее часто встречающееся значение.\n",
    "\n",
    "**Медиана (Median)** — значение, которое делит упорядоченные по возрастанию (убыванию) наблюдения пополам.\n",
    "\n",
    "**Арифметическое среднее (Mean)** — сумма всех наблюденных значений, делённая на их количество.\n",
    "\n",
    "Свойства средних:\n",
    "<img src=\"data/img/mean_properties.png\" width=\"500\">"
   ]
  },
  {
   "cell_type": "markdown",
   "metadata": {},
   "source": [
    "### Какую меру выбрать?"
   ]
  },
  {
   "cell_type": "markdown",
   "metadata": {},
   "source": [
    "Если распределение симметрично, унимодально (имеет одну моду) и не имеет заметных выборосов (значений которые сильно больше или меньше основной массы измерений) - можно смело использовать любую из мер центральной тенденции. Они будут примерно одинаковыми.\n",
    "\n",
    "Если у распределений наблюдается явно выраженная асиметрия (оно скошено либо в левую, либо в правую сторону), заметны выборосы или есть несколько мод - то среднее значение будет не верно охарактеризовывать выборку. В этих случаях лучше использвовать моду или медиану. Или сразу несколько мер."
   ]
  },
  {
   "cell_type": "markdown",
   "metadata": {},
   "source": [
    "### Парадокс Симпсона"
   ]
  },
  {
   "cell_type": "markdown",
   "metadata": {},
   "source": [
    "- [Хабр: Данные всех стран, не объединяйтесь](https://habr.com/ru/company/wrike/blog/503998/)"
   ]
  },
  {
   "cell_type": "markdown",
   "metadata": {},
   "source": [
    "Предположим мы провели опрос о заработной плате людей с разным образованием в 2010 и 2020 годах. И получили такие результаты:"
   ]
  },
  {
   "cell_type": "code",
   "execution_count": 20,
   "metadata": {},
   "outputs": [
    {
     "data": {
      "text/plain": [
       "Не окончили старшие классы     5\n",
       "Не окончили старшие классы     5\n",
       "Не окончили старшие классы     5\n",
       "Окончили школу                10\n",
       "Окончили школу                10\n",
       "Окончили школу                10\n",
       "Не окончили университет       15\n",
       "Не окончили университет       15\n",
       "Не окончили университет       15\n",
       "Окончили университет          20\n",
       "Окончили университет          20\n",
       "dtype: int64"
      ]
     },
     "metadata": {},
     "output_type": "display_data"
    },
    {
     "name": "stdout",
     "output_type": "stream",
     "text": [
      "mean:  11.82\n",
      "median:  10.0\n"
     ]
    }
   ],
   "source": [
    "data_2010 = pd.Series([\n",
    "    5, 5, 5,\n",
    "    10, 10, 10,\n",
    "    15, 15, 15,\n",
    "    20, 20,\n",
    "], index=[\n",
    "    'Не окончили старшие классы', 'Не окончили старшие классы', 'Не окончили старшие классы', \n",
    "    'Окончили школу', 'Окончили школу', 'Окончили школу', \n",
    "    'Не окончили университет', 'Не окончили университет', 'Не окончили университет', \n",
    "    'Окончили университет', 'Окончили университет']\n",
    ")\n",
    "\n",
    "display(data_2010)\n",
    "print('mean: ', data_2010.mean().round(2))\n",
    "print('median: ', data_2010.median().round(2))"
   ]
  },
  {
   "cell_type": "code",
   "execution_count": 21,
   "metadata": {},
   "outputs": [
    {
     "data": {
      "text/plain": [
       "Не окончили старшие классы     4\n",
       "Не окончили старшие классы     4\n",
       "Окончили школу                 9\n",
       "Окончили школу                 9\n",
       "Не окончили университет       14\n",
       "Не окончили университет       14\n",
       "Окончили университет          19\n",
       "Окончили университет          19\n",
       "Окончили университет          19\n",
       "Окончили университет          19\n",
       "Окончили университет          19\n",
       "dtype: int64"
      ]
     },
     "metadata": {},
     "output_type": "display_data"
    },
    {
     "name": "stdout",
     "output_type": "stream",
     "text": [
      "mean:  13.55\n",
      "median:  14.0\n"
     ]
    }
   ],
   "source": [
    "data_2020 = pd.Series([\n",
    "    4, 4,\n",
    "    9, 9,\n",
    "    14, 14,\n",
    "    19, 19, 19, 19, 19,\n",
    "], index=[\n",
    "    'Не окончили старшие классы', 'Не окончили старшие классы', \n",
    "    'Окончили школу', 'Окончили школу', \n",
    "    'Не окончили университет', 'Не окончили университет', \n",
    "    'Окончили университет', 'Окончили университет', 'Окончили университет', 'Окончили университет', 'Окончили университет',]\n",
    ")\n",
    "\n",
    "display(data_2020)\n",
    "print('mean: ', data_2020.mean().round(2))\n",
    "print('median: ', data_2020.median().round(2))"
   ]
  },
  {
   "cell_type": "markdown",
   "metadata": {},
   "source": [
    "В результате за 10 лет средний и медианный заработок увеличились. Но при этом, если смотреть в разрезе групп - заработок снизился. Такая ситуация называется \"Парадокс Симпсона\". \n",
    "\n",
    "Парадокс Симпсона - один из примеров более общей проблемы, навываемой \"экологической ошибкой\". Она возникает когда мы пытаемся судить об отдельных элементах выборки или о подгруппах по средним или медианным значениям выборки.\n",
    "\n",
    "Общая величина не всегда отражает реальность, а чтобы досканально разобраться в ситуации, следует копать глубже."
   ]
  },
  {
   "cell_type": "markdown",
   "metadata": {},
   "source": [
    "### Практика работы"
   ]
  },
  {
   "cell_type": "markdown",
   "metadata": {},
   "source": [
    "<img src=\"data/img/measures_of_central_tendency_test.png\" width=\"500\">"
   ]
  },
  {
   "cell_type": "markdown",
   "metadata": {},
   "source": [
    "Соотнесите линию с мерой центральной тенденции:\n",
    "\n",
    "<font color='red'>Мода</font> - самое часто встречающееся значение в выборке. Самый большой столбик.\n",
    "\n",
    "<font color='green'>Медиана</font> - размах значений разложен на целое значение условных единиц (1 у.е. - ширина столбика). По определению медиана делит размах пополам. Следовательно она может располагаться либо четко посередине столбика, либо (как в нашем случае) четко между столбиками\n",
    "\n",
    "<font color='blue'>Среднее значение</font> -  может быть дробным"
   ]
  },
  {
   "cell_type": "markdown",
   "metadata": {},
   "source": [
    "## Меры изменчивости (Measures of Variability)"
   ]
  },
  {
   "cell_type": "markdown",
   "metadata": {},
   "source": [
    "### Размах и межквартильный размах (Range & Interquartile Range)"
   ]
  },
  {
   "cell_type": "markdown",
   "metadata": {},
   "source": [
    "<img src=\"data/img/range.png\" width=\"350\">"
   ]
  },
  {
   "cell_type": "markdown",
   "metadata": {},
   "source": [
    "<img src=\"data/img/interquartile_range.png\" width=\"500\">"
   ]
  },
  {
   "cell_type": "markdown",
   "metadata": {},
   "source": [
    "### Дисперсия и стандартное отклонение (Variance & Standard Deviation)"
   ]
  },
  {
   "cell_type": "markdown",
   "metadata": {},
   "source": [
    "**Дисперсия (variance, dispersion)** - средний квадрат отклонений индивидуальных значений признака от их средней величины.\n",
    "<img src=\"data/img/variation_formula.png\" width=\"500\">\n",
    "\n",
    "**Стандартное отклонение / Среднеквадратическое отклонение (standart deviation / mean square deviation)** - квадратный корень из дисперсии. статистическая характеристика распределения случайной величины, показывающая среднюю степень разброса значений величины относительно математического ожидания (среднего значения).\n",
    "\n",
    "<img src=\"data/img/sd_formula.png\" width=\"300\">"
   ]
  },
  {
   "cell_type": "markdown",
   "metadata": {},
   "source": [
    "Дисперсия величина не относительная, а абсолютная, и если у вас в данных величины одного порядка (с одним количеством нулей) - то нужно думать, а если одна выборка на порядок или два в значения больше других - то малейшее вариативность в ней - даст значимо большее отклонение"
   ]
  },
  {
   "cell_type": "code",
   "execution_count": 22,
   "metadata": {},
   "outputs": [
    {
     "data": {
      "text/plain": [
       "formula        3.162278\n",
       "numpy          3.162278\n",
       "statistics     3.162278\n",
       "scipy_stats    3.162278\n",
       "pandas         3.162278\n",
       "dtype: float64"
      ]
     },
     "execution_count": 22,
     "metadata": {},
     "output_type": "execute_result"
    }
   ],
   "source": [
    "vals = [1, 1, 2, 3, 5, 5, 7, 8, 9, 9]\n",
    "\n",
    "pd.Series({\n",
    "    'formula': (sum((vals - np.mean(vals))**2)/(len(vals)-1))**0.5,\n",
    "    'numpy': np.std(vals, ddof=1),\n",
    "    'statistics': st.stdev(vals),\n",
    "    'scipy_stats': stats.tstd(vals),\n",
    "    'pandas': pd.Series(vals).std()\n",
    "})"
   ]
  },
  {
   "cell_type": "code",
   "execution_count": 23,
   "metadata": {},
   "outputs": [
    {
     "data": {
      "image/png": "[encoded data removed]",
      "text/plain": [
       "<Figure size 432x288 with 1 Axes>"
      ]
     },
     "metadata": {
      "needs_background": "light"
     },
     "output_type": "display_data"
    }
   ],
   "source": [
    "mn = st.mean(vals)\n",
    "sd = st.stdev(vals)\n",
    "\n",
    "x = [*range(len(vals))]\n",
    "plt.text(0, sd, \"sd\", fontsize=14)\n",
    "plt.axhline(y=sd, linewidth=3, c='red', linestyle='--')\n",
    "plt.text(0, mn, \"avg\", fontsize=14)\n",
    "plt.axhline(y=mn, linewidth=3, c='orange')\n",
    "plt.scatter(x, vals)\n",
    "plt.title('vals series', fontsize=14)\n",
    "plt.xlabel(f'0 to {len(vals)}', fontsize=10)\n",
    "plt.ylabel('vals Value', fontsize=10)\n",
    "plt.show()"
   ]
  },
  {
   "cell_type": "markdown",
   "metadata": {},
   "source": [
    "## Квантиль и квартиль"
   ]
  },
  {
   "cell_type": "markdown",
   "metadata": {},
   "source": [
    "- [Quartiles & Quantiles | Definition, Calculation & Interpretation](https://www.scribbr.com/statistics/quartiles-quantiles/#:~:text=What%20are%20quartiles%3F,falls%20below%20the%20second%20quartile.)\n",
    "- [Medium: Create and customize boxplots with Python’s Matplotlib to get lots of insights from your data](https://towardsdatascience.com/create-and-customize-boxplots-with-pythons-matplotlib-to-get-lots-of-insights-from-your-data-d561c9883643)"
   ]
  },
  {
   "cell_type": "markdown",
   "metadata": {},
   "source": [
    "<img src=\"data/img/quartile_1.png\" width=\"400\">"
   ]
  },
  {
   "cell_type": "markdown",
   "metadata": {},
   "source": [
    "Такой вид диаграммы в удобной форме показывает медиану, нижний и верхний квартили, минимальное и максимальное значение выборки и выбросы. Представьте что box plot это вид сверху на гистограмму"
   ]
  },
  {
   "cell_type": "code",
   "execution_count": 24,
   "metadata": {},
   "outputs": [],
   "source": [
    "def get_report(data):\n",
    "    '''\n",
    "    Функция рассчитывает меры центральной тенденции и меры изменчиваости для предоставленного ряда (рядов)\n",
    "    '''\n",
    "    \n",
    "    if isinstance(data, pd.Series):\n",
    "        data = data.to_frame()\n",
    "    \n",
    "    report = pd.DataFrame({\n",
    "        ('', 'count'): data.count(), \n",
    "        \n",
    "        ('Measures of Central Tendency', 'mode'): data.mode().T[0],\n",
    "        ('Measures of Central Tendency', 'median'): data.median(),\n",
    "        ('Measures of Central Tendency', 'mean'): data.mean(),\n",
    "        \n",
    "        ('Quantile', 'min'): data.min(),\n",
    "        ('Quantile', '25%'): data.quantile(q=0.25, axis=0, interpolation='linear'),\n",
    "        ('Quantile', '50%'): data.quantile(q=0.5, axis=0, interpolation='linear'),\n",
    "        ('Quantile', '75%'): data.quantile(q=0.75, axis=0, interpolation='linear'),\n",
    "        ('Quantile', 'max'): data.max(),\n",
    "        \n",
    "        ('Measures of Variability', 'range'): data.max() - data.min(),\n",
    "        ('Measures of Variability', 'variance'): data.var(),\n",
    "        ('Measures of Variability', 'std'): data.std(),  \n",
    "    })\n",
    "    report = round(report, 2)\n",
    "    \n",
    "    return report"
   ]
  },
  {
   "cell_type": "markdown",
   "metadata": {},
   "source": [
    "### Boxplot & hist"
   ]
  },
  {
   "cell_type": "code",
   "execution_count": 114,
   "metadata": {},
   "outputs": [
    {
     "data": {
      "text/html": [
       "<div>\n",
       "<style scoped>\n",
       "    .dataframe tbody tr th:only-of-type {\n",
       "        vertical-align: middle;\n",
       "    }\n",
       "\n",
       "    .dataframe tbody tr th {\n",
       "        vertical-align: top;\n",
       "    }\n",
       "\n",
       "    .dataframe thead tr th {\n",
       "        text-align: left;\n",
       "    }\n",
       "</style>\n",
       "<table border=\"1\" class=\"dataframe\">\n",
       "  <thead>\n",
       "    <tr>\n",
       "      <th></th>\n",
       "      <th></th>\n",
       "      <th colspan=\"3\" halign=\"left\">Measures of Central Tendency</th>\n",
       "      <th colspan=\"5\" halign=\"left\">Quantile</th>\n",
       "      <th colspan=\"3\" halign=\"left\">Measures of Variability</th>\n",
       "    </tr>\n",
       "    <tr>\n",
       "      <th></th>\n",
       "      <th>count</th>\n",
       "      <th>mode</th>\n",
       "      <th>median</th>\n",
       "      <th>mean</th>\n",
       "      <th>min</th>\n",
       "      <th>25%</th>\n",
       "      <th>50%</th>\n",
       "      <th>75%</th>\n",
       "      <th>max</th>\n",
       "      <th>range</th>\n",
       "      <th>variance</th>\n",
       "      <th>std</th>\n",
       "    </tr>\n",
       "  </thead>\n",
       "  <tbody>\n",
       "    <tr>\n",
       "      <th>0</th>\n",
       "      <td>40</td>\n",
       "      <td>3</td>\n",
       "      <td>6.5</td>\n",
       "      <td>5.78</td>\n",
       "      <td>1</td>\n",
       "      <td>3.0</td>\n",
       "      <td>6.5</td>\n",
       "      <td>8.0</td>\n",
       "      <td>9</td>\n",
       "      <td>8</td>\n",
       "      <td>6.38</td>\n",
       "      <td>2.53</td>\n",
       "    </tr>\n",
       "  </tbody>\n",
       "</table>\n",
       "</div>"
      ],
      "text/plain": [
       "        Measures of Central Tendency              Quantile                     \\\n",
       "  count                         mode median  mean      min  25%  50%  75% max   \n",
       "0    40                            3    6.5  5.78        1  3.0  6.5  8.0   9   \n",
       "\n",
       "  Measures of Variability                 \n",
       "                    range variance   std  \n",
       "0                       8     6.38  2.53  "
      ]
     },
     "metadata": {},
     "output_type": "display_data"
    }
   ],
   "source": [
    "import random\n",
    "\n",
    "vals = pd.Series([\n",
    "    *[1] * random.randint(1,10),\n",
    "    *[2] * random.randint(1,10),\n",
    "    *[3] * random.randint(1,10),\n",
    "    *[4] * random.randint(1,10),\n",
    "    *[5] * random.randint(1,10),\n",
    "    *[6] * random.randint(1,10),\n",
    "    *[7] * random.randint(1,10),\n",
    "    *[8] * random.randint(1,10),\n",
    "    *[9] * random.randint(1,10),\n",
    "])\n",
    "display(get_report(vals))"
   ]
  },
  {
   "cell_type": "markdown",
   "metadata": {},
   "source": [
    "#### [pandas.plotting.boxplot](https://pandas.pydata.org/docs/reference/api/pandas.plotting.boxplot.html)"
   ]
  },
  {
   "cell_type": "code",
   "execution_count": 115,
   "metadata": {},
   "outputs": [
    {
     "data": {
      "image/png": "[encoded data removed]",
      "text/plain": [
       "<Figure size 432x288 with 2 Axes>"
      ]
     },
     "metadata": {
      "needs_background": "light"
     },
     "output_type": "display_data"
    }
   ],
   "source": [
    "f, (ax_box, ax_hist) = plt.subplots(2, sharex=True, gridspec_kw={\"height_ratios\": (.40, .85)})\n",
    "\n",
    "vals.plot.box(ax=ax_box, vert=False)\n",
    "vals.plot.hist(bins=vals.nunique(), ax=ax_hist);"
   ]
  },
  {
   "cell_type": "markdown",
   "metadata": {},
   "source": [
    "#### [seaborn.boxplot](https://seaborn.pydata.org/generated/seaborn.boxplot.html)"
   ]
  },
  {
   "cell_type": "code",
   "execution_count": 116,
   "metadata": {},
   "outputs": [
    {
     "data": {
      "image/png": "[encoded data removed]",
      "text/plain": [
       "<Figure size 432x288 with 2 Axes>"
      ]
     },
     "metadata": {
      "needs_background": "light"
     },
     "output_type": "display_data"
    }
   ],
   "source": [
    "# создаем фигуру из двух объектов-осей (ax_box and ax_hist)\n",
    "f, (ax_box, ax_hist) = plt.subplots(2, sharex=True, gridspec_kw={\"height_ratios\": (.15, .85)})\n",
    " \n",
    "# добавляем график к каждой оси\n",
    "sns.boxplot(x=vals, ax=ax_box)\n",
    "sns.histplot(\n",
    "    x=vals, \n",
    "    ax=ax_hist, \n",
    "    discrete=True\n",
    ")\n",
    "\n",
    " \n",
    "# удаляем ось x для boxplot\n",
    "ax_box.set(xlabel='')\n",
    "plt.show()"
   ]
  }
 ],
 "metadata": {
  "hide_input": false,
  "kernelspec": {
   "display_name": "venv",
   "language": "python",
   "name": "venv"
  },
  "language_info": {
   "codemirror_mode": {
    "name": "ipython",
    "version": 3
   },
   "file_extension": ".py",
   "mimetype": "text/x-python",
   "name": "python",
   "nbconvert_exporter": "python",
   "pygments_lexer": "ipython3",
   "version": "3.7.3"
  },
  "toc": {
   "base_numbering": 1,
   "nav_menu": {},
   "number_sections": true,
   "sideBar": true,
   "skip_h1_title": false,
   "title_cell": "Table of Contents",
   "title_sidebar": "Contents",
   "toc_cell": false,
   "toc_position": {},
   "toc_section_display": true,
   "toc_window_display": false
  }
 },
 "nbformat": 4,
 "nbformat_minor": 5
}
