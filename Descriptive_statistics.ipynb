{
 "cells": [
  {
   "cell_type": "markdown",
   "id": "cf251be4",
   "metadata": {},
   "source": [
    "# Настройка ноутбука"
   ]
  },
  {
   "cell_type": "code",
   "execution_count": 2,
   "id": "7f92299d",
   "metadata": {},
   "outputs": [],
   "source": [
    "import numpy as np\n",
    "import pandas as pd\n",
    "\n",
    "import statistics as st\n",
    "from scipy import stats\n",
    "\n",
    "import seaborn as sns\n",
    "import matplotlib.pyplot as plt\n",
    "%matplotlib inline"
   ]
  },
  {
   "cell_type": "code",
   "execution_count": 3,
   "id": "29d84346",
   "metadata": {},
   "outputs": [
    {
     "data": {
      "text/html": [
       "<style>.container { width:100% !important; }</style>"
      ],
      "text/plain": [
       "<IPython.core.display.HTML object>"
      ]
     },
     "metadata": {},
     "output_type": "display_data"
    }
   ],
   "source": [
    "# Расширить рабочее поле ноутбука на весь экран\n",
    "from IPython.display import display, HTML\n",
    "display(HTML(\"<style>.container { width:100% !important; }</style>\"))"
   ]
  },
  {
   "cell_type": "markdown",
   "id": "09ce7530",
   "metadata": {},
   "source": [
    "# Описание"
   ]
  },
  {
   "cell_type": "markdown",
   "id": "40d2130a",
   "metadata": {},
   "source": []
  },
  {
   "cell_type": "markdown",
   "id": "233209e5",
   "metadata": {},
   "source": [
    "- [Stepik: Основы статистики ч.1 - Меры центральной тенденции](https://stepik.org/lesson/8075?unit=1355)\n",
    "- [Stepik: Основы статистики ч.1 - Меры изменчивости](https://stepik.org/lesson/8076?unit=1356)\n",
    "- [Stepik: Основы статистики ч.1 - Квартили распределения и график box-plot](https://stepik.org/lesson/9294?unit=1827)"
   ]
  },
  {
   "cell_type": "markdown",
   "id": "a9c032a5",
   "metadata": {},
   "source": [
    "# Понятия"
   ]
  },
  {
   "cell_type": "markdown",
   "id": "791f647e",
   "metadata": {},
   "source": [
    "## Меры центральной тенденции (Measures of Central Tendency)"
   ]
  },
  {
   "cell_type": "markdown",
   "id": "73152b85",
   "metadata": {},
   "source": [
    "**Мода (Mode)** — наиболее часто встречающееся значение.\n",
    "\n",
    "**Медиана (Median)** — значение, которое делит упорядоченные по возрастанию (убыванию) наблюдения пополам.\n",
    "\n",
    "**Арифметическое среднее (Mean)** — сумма всех наблюденных значений, делённая на их количество.\n",
    "\n",
    "Свойства средних:\n",
    "<img src=\"data/img/mean_properties.png\" width=\"500\">"
   ]
  },
  {
   "cell_type": "markdown",
   "id": "c3a31c54",
   "metadata": {},
   "source": [
    "### Какую меру выбрать?"
   ]
  },
  {
   "cell_type": "markdown",
   "id": "66644365",
   "metadata": {},
   "source": [
    "Если распределение симметрично, унимодально (имеет одну моду) и не имеет заметных выборосов (значений которые сильно больше или меньше основной массы измерений) - можно смело использовать любую из мер центральной тенденции. Они будут примерно одинаковыми.\n",
    "\n",
    "Если у распределений наблюдается явно выраженная асиметрия (оно скошено либо в левую, либо в правую сторону), заметны выборосы или есть несколько мод - то среднее значение будет не верно охарактеризовывать выборку. В этих случаях лучше использвовать моду или медиану. Или сразу несколько мер."
   ]
  },
  {
   "cell_type": "markdown",
   "id": "31a6f52d",
   "metadata": {},
   "source": [
    "### Парадокс Симпсона"
   ]
  },
  {
   "cell_type": "markdown",
   "id": "59f0e7e5",
   "metadata": {},
   "source": [
    "- [Хабр: Данные всех стран, не объединяйтесь](https://habr.com/ru/company/wrike/blog/503998/)"
   ]
  },
  {
   "cell_type": "markdown",
   "id": "6776f542",
   "metadata": {},
   "source": [
    "### Практика работы"
   ]
  },
  {
   "cell_type": "markdown",
   "id": "542b111f",
   "metadata": {},
   "source": [
    "<img src=\"data/img/measures_of_central_tendency.png\" width=\"500\">"
   ]
  },
  {
   "cell_type": "markdown",
   "id": "0a175ed7",
   "metadata": {},
   "source": [
    "Соотнесите линию с мерой центральной тенденции:\n",
    "\n",
    "<font color='red'>Мода</font> - самое часто встречающееся значение в выборке. Самый большой столбик.\n",
    "\n",
    "<font color='green'>Медиана</font> - размах значений разложен на целое значение условных единиц (1 у.е. - ширина столбика). По определению медиана делит размах пополам. Следовательно она может располагаться либо четко посередине столбика, либо (как в нашем случае) четко между столбиками\n",
    "\n",
    "<font color='blue'>Среднее значение</font> -  может быть дробным"
   ]
  },
  {
   "cell_type": "markdown",
   "id": "4b6ae012",
   "metadata": {},
   "source": [
    "## Меры изменчивости (Measures of Variability)"
   ]
  },
  {
   "cell_type": "markdown",
   "id": "c5c5a756",
   "metadata": {},
   "source": [
    "### Размах и межквартильный размах (Range & Interquartile Range)"
   ]
  },
  {
   "cell_type": "code",
   "execution_count": null,
   "id": "9cac7981",
   "metadata": {},
   "outputs": [],
   "source": []
  },
  {
   "cell_type": "markdown",
   "id": "1912e18f",
   "metadata": {},
   "source": [
    "### Дисперсия и стандартное отклонение (Variance & Standard Deviation)"
   ]
  },
  {
   "cell_type": "markdown",
   "id": "d421cd57",
   "metadata": {},
   "source": [
    "**Дисперсия (variance)** - средний квадрат отклонений индивидуальных значений признака от их средней величины."
   ]
  },
  {
   "cell_type": "markdown",
   "id": "fff12019",
   "metadata": {},
   "source": [
    "Дисперсия величина не относительная, а абсолютная, и если у вас в данных величины одного порядка (с одним количеством нулей) - то нужно думать, а если одна выборка на порядок или два в значения больше других - то малейшее вариативность в ней - даст значимо большее отклонение"
   ]
  },
  {
   "cell_type": "code",
   "execution_count": 5,
   "id": "5d3f3975",
   "metadata": {},
   "outputs": [
    {
     "data": {
      "text/plain": [
       "formula        3.162278\n",
       "numpy          3.162278\n",
       "statistics     3.162278\n",
       "scipy_stats    3.162278\n",
       "pandas         3.162278\n",
       "dtype: float64"
      ]
     },
     "execution_count": 5,
     "metadata": {},
     "output_type": "execute_result"
    }
   ],
   "source": [
    "vals = [1, 1, 2, 3, 5, 5, 7, 8, 9, 9]\n",
    "\n",
    "pd.Series({\n",
    "    'formula': (sum((vals - np.mean(vals))**2)/(len(vals)-1))**0.5,\n",
    "    'numpy': np.std(vals, ddof=1),\n",
    "    'statistics': st.stdev(vals),\n",
    "    'scipy_stats': stats.tstd(vals),\n",
    "    'pandas': pd.Series(vals).std()\n",
    "})"
   ]
  },
  {
   "cell_type": "code",
   "execution_count": 6,
   "id": "ce89bea7",
   "metadata": {},
   "outputs": [
    {
     "data": {
      "image/png": "[encoded data removed]",
      "text/plain": [
       "<Figure size 432x288 with 1 Axes>"
      ]
     },
     "metadata": {
      "needs_background": "light"
     },
     "output_type": "display_data"
    }
   ],
   "source": [
    "mn = st.mean(vals)\n",
    "sd = st.stdev(vals)\n",
    "\n",
    "x = [*range(len(vals))]\n",
    "plt.text(0, sd, \"sd\", fontsize=14)\n",
    "plt.axhline(y=sd, linewidth=3, c='red', linestyle='--')\n",
    "plt.text(0, mn, \"avg\", fontsize=14)\n",
    "plt.axhline(y=mn, linewidth=3, c='orange')\n",
    "plt.scatter(x, vals)\n",
    "plt.title('vals series', fontsize=14)\n",
    "plt.xlabel(f'0 to {len(vals)}', fontsize=10)\n",
    "plt.ylabel('vals Value', fontsize=10)\n",
    "plt.show()"
   ]
  },
  {
   "cell_type": "markdown",
   "id": "906e4d2e",
   "metadata": {},
   "source": [
    "### Квантиль и квартиль"
   ]
  },
  {
   "cell_type": "markdown",
   "id": "de23848b",
   "metadata": {},
   "source": [
    "- [Quartiles & Quantiles | Definition, Calculation & Interpretation](https://www.scribbr.com/statistics/quartiles-quantiles/#:~:text=What%20are%20quartiles%3F,falls%20below%20the%20second%20quartile.)\n",
    "- [Medium: Create and customize boxplots with Python’s Matplotlib to get lots of insights from your data](https://towardsdatascience.com/create-and-customize-boxplots-with-pythons-matplotlib-to-get-lots-of-insights-from-your-data-d561c9883643)"
   ]
  },
  {
   "cell_type": "markdown",
   "id": "040be479",
   "metadata": {},
   "source": [
    "<img src=\"data/img/quartile_1.png\" width=\"400\">\n",
    "<img src=\"data/img/quartile_2.png\" width=\"400\">"
   ]
  },
  {
   "cell_type": "markdown",
   "id": "9b3545a8",
   "metadata": {},
   "source": [
    "Такой вид диаграммы в удобной форме показывает медиану, нижний и верхний квартили, минимальное и максимальное значение выборки и выбросы. Представьте что box plot это вид сверху на гистограмму"
   ]
  },
  {
   "cell_type": "code",
   "execution_count": 87,
   "id": "f635fc59",
   "metadata": {},
   "outputs": [],
   "source": [
    "def get_report(data):\n",
    "    '''\n",
    "    Функция рассчитывает меры центральной тенденции и меры изменчиваости для предоставленного ряда (рядов)\n",
    "    '''\n",
    "    \n",
    "    if isinstance(data, pd.Series):\n",
    "        data = data.to_frame()\n",
    "    \n",
    "    report = pd.DataFrame({\n",
    "        ('', 'count'): data.count(), \n",
    "        \n",
    "        ('Measures of Central Tendency', 'mode'): data.mode().T[0],\n",
    "        ('Measures of Central Tendency', 'median'): data.median(),\n",
    "        ('Measures of Central Tendency', 'mean'): data.mean(),\n",
    "        \n",
    "        ('Quantile', 'min'): data.min(),\n",
    "        ('Quantile', '25%'): data.quantile(q=0.25, axis=0, interpolation='linear'),\n",
    "        ('Quantile', '50%'): data.quantile(q=0.5, axis=0, interpolation='linear'),\n",
    "        ('Quantile', '75%'): data.quantile(q=0.75, axis=0, interpolation='linear'),\n",
    "        ('Quantile', 'max'): data.max(),\n",
    "        \n",
    "        ('Measures of Variability', 'range'): data.max() - data.min(),\n",
    "        ('Measures of Variability', 'variance'): data.var(),\n",
    "        ('Measures of Variability', 'std'): data.std(),  \n",
    "    })\n",
    "    report = round(report, 2)\n",
    "    \n",
    "    return report"
   ]
  },
  {
   "cell_type": "code",
   "execution_count": 143,
   "id": "8584a865",
   "metadata": {},
   "outputs": [
    {
     "data": {
      "text/html": [
       "<div>\n",
       "<style scoped>\n",
       "    .dataframe tbody tr th:only-of-type {\n",
       "        vertical-align: middle;\n",
       "    }\n",
       "\n",
       "    .dataframe tbody tr th {\n",
       "        vertical-align: top;\n",
       "    }\n",
       "\n",
       "    .dataframe thead tr th {\n",
       "        text-align: left;\n",
       "    }\n",
       "</style>\n",
       "<table border=\"1\" class=\"dataframe\">\n",
       "  <thead>\n",
       "    <tr>\n",
       "      <th></th>\n",
       "      <th></th>\n",
       "      <th colspan=\"3\" halign=\"left\">Measures of Central Tendency</th>\n",
       "      <th colspan=\"5\" halign=\"left\">Quantile</th>\n",
       "      <th colspan=\"3\" halign=\"left\">Measures of Variability</th>\n",
       "    </tr>\n",
       "    <tr>\n",
       "      <th></th>\n",
       "      <th>count</th>\n",
       "      <th>mode</th>\n",
       "      <th>median</th>\n",
       "      <th>mean</th>\n",
       "      <th>min</th>\n",
       "      <th>25%</th>\n",
       "      <th>50%</th>\n",
       "      <th>75%</th>\n",
       "      <th>max</th>\n",
       "      <th>range</th>\n",
       "      <th>variance</th>\n",
       "      <th>std</th>\n",
       "    </tr>\n",
       "  </thead>\n",
       "  <tbody>\n",
       "    <tr>\n",
       "      <th>0</th>\n",
       "      <td>61</td>\n",
       "      <td>3</td>\n",
       "      <td>5.0</td>\n",
       "      <td>5.18</td>\n",
       "      <td>1</td>\n",
       "      <td>3.0</td>\n",
       "      <td>5.0</td>\n",
       "      <td>7.0</td>\n",
       "      <td>9</td>\n",
       "      <td>8</td>\n",
       "      <td>5.08</td>\n",
       "      <td>2.25</td>\n",
       "    </tr>\n",
       "  </tbody>\n",
       "</table>\n",
       "</div>"
      ],
      "text/plain": [
       "        Measures of Central Tendency              Quantile                     \\\n",
       "  count                         mode median  mean      min  25%  50%  75% max   \n",
       "0    61                            3    5.0  5.18        1  3.0  5.0  7.0   9   \n",
       "\n",
       "  Measures of Variability                 \n",
       "                    range variance   std  \n",
       "0                       8     5.08  2.25  "
      ]
     },
     "metadata": {},
     "output_type": "display_data"
    },
    {
     "data": {
      "image/png": "[encoded data removed]",
      "text/plain": [
       "<Figure size 432x288 with 2 Axes>"
      ]
     },
     "metadata": {
      "needs_background": "light"
     },
     "output_type": "display_data"
    }
   ],
   "source": [
    "import random\n",
    "\n",
    "vals = pd.Series([\n",
    "    *[1] * random.randint(1,10),\n",
    "    *[2] * random.randint(1,10),\n",
    "    *[3] * random.randint(1,10),\n",
    "    *[4] * random.randint(1,10),\n",
    "    *[5] * random.randint(1,10),\n",
    "    *[6] * random.randint(1,10),\n",
    "    *[7] * random.randint(1,10),\n",
    "    *[8] * random.randint(1,10),\n",
    "    *[9] * random.randint(1,10),\n",
    "])\n",
    "\n",
    "display(get_report(vals))\n",
    "\n",
    "# создаем фигуру из двух объектов-осей (ax_box and ax_hist)\n",
    "f, (ax_box, ax_hist) = plt.subplots(2, sharex=True, gridspec_kw={\"height_ratios\": (.15, .85)})\n",
    " \n",
    "# добавляем график к каждой оси\n",
    "sns.boxplot(x=vals, ax=ax_box)\n",
    "sns.histplot(\n",
    "    x=vals, \n",
    "    ax=ax_hist, \n",
    "    discrete=True\n",
    ")\n",
    "\n",
    " \n",
    "# удаляем ось x для boxplot\n",
    "ax_box.set(xlabel='')\n",
    "plt.show() "
   ]
  },
  {
   "cell_type": "code",
   "execution_count": null,
   "id": "3b64b235",
   "metadata": {},
   "outputs": [],
   "source": []
  }
 ],
 "metadata": {
  "kernelspec": {
   "display_name": "venv",
   "language": "python",
   "name": "venv"
  },
  "language_info": {
   "codemirror_mode": {
    "name": "ipython",
    "version": 3
   },
   "file_extension": ".py",
   "mimetype": "text/x-python",
   "name": "python",
   "nbconvert_exporter": "python",
   "pygments_lexer": "ipython3",
   "version": "3.10.2"
  }
 },
 "nbformat": 4,
 "nbformat_minor": 5
}
