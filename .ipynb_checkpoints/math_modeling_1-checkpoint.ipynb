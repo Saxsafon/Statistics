{
 "cells": [
  {
   "cell_type": "code",
   "execution_count": null,
   "id": "6278efd6",
   "metadata": {},
   "outputs": [],
   "source": [
    "import pandas as pd\n",
    "import numpy as np\n",
    "\n",
    "import plotly.express as px\n",
    "from plotly.subplots import make_subplots\n",
    "import plotly.graph_objects as go"
   ]
  },
  {
   "cell_type": "markdown",
   "id": "d9b74a88",
   "metadata": {},
   "source": [
    "### 1. Колония простейших растёт с постоянной удельной интенсивностью роста 0,7 на одну особь в день. Изначально колония состоит из двух особей. Найти размер колонии через шесть дней."
   ]
  },
  {
   "cell_type": "markdown",
   "id": "adf018a9",
   "metadata": {},
   "source": [
    "$ indnum_{n} = indnum_{-1} + (indnum_{-1} * gi) $"
   ]
  },
  {
   "cell_type": "code",
   "execution_count": null,
   "id": "a83e6993",
   "metadata": {},
   "outputs": [],
   "source": [
    "def process(ind_number_begin, periods_left, period_count=1):\n",
    "    \n",
    "    periods_left -= 1\n",
    "    \n",
    "    increment = ind_number_begin*process.gi\n",
    "    ind_number_end = ind_number_begin + increment\n",
    "    \n",
    "    \n",
    "    \n",
    "    process.record = process.record.append({\n",
    "        'День': period_count,\n",
    "        'Количество особей на начало дня': ind_number_begin,\n",
    "        'Прирост': increment,\n",
    "        'Количество особей на конец дня': ind_number_end\n",
    "    }, ignore_index=True)\n",
    "    \n",
    "    if periods_left == 0:\n",
    "        return  process.record\n",
    "    else:\n",
    "        return process(ind_number_end, periods_left, period_count+1)"
   ]
  },
  {
   "cell_type": "code",
   "execution_count": null,
   "id": "98432e74",
   "metadata": {},
   "outputs": [],
   "source": [
    "# Количество дней\n",
    "days_number = 6\n",
    "gi = 0.7\n",
    "ind_number = 2"
   ]
  },
  {
   "cell_type": "code",
   "execution_count": null,
   "id": "81c02f3c",
   "metadata": {},
   "outputs": [],
   "source": [
    "process.record = pd.DataFrame(columns=[\"День\", \"Количество особей на начало дня\",\n",
    "                                       \"Прирост\", \"Количество особей на конец дня\"])\n",
    "process.gi = gi"
   ]
  },
  {
   "cell_type": "code",
   "execution_count": null,
   "id": "49e876ca",
   "metadata": {},
   "outputs": [],
   "source": [
    "record = process(ind_number, days_number+1)\n",
    "record"
   ]
  },
  {
   "cell_type": "code",
   "execution_count": null,
   "id": "510053f6",
   "metadata": {},
   "outputs": [],
   "source": [
    "fig = go.Figure(data=[\n",
    "    go.Bar(name='Популяция', x=record['День'], y=record['Количество особей на начало дня'], marker_color='#5DADE2'),\n",
    "    go.Bar(name='Прирост', x=record['День'], y=record['Прирост'], marker_color='#1ABC9C')\n",
    "])\n",
    "\n",
    "fig.update_layout(barmode='stack')\n",
    "fig.show()"
   ]
  },
  {
   "cell_type": "markdown",
   "id": "becacd1d",
   "metadata": {},
   "source": [
    "### 2. Рассматривается популяция насекомых, биомасса которой измеряется в килограммах. Естественный прирост биомассы составляет 30% в год. Популяция также контролируется популяцией хищников, которая уничтожает 6 кг насекомых в год. \n",
    "### Найти модель, описывающую размер популяции P в любой момент времени t; \n",
    "\n",
    "### Определить численность популяции через 4 года, если начальная биомасса составляет 15 кг."
   ]
  },
  {
   "cell_type": "code",
   "execution_count": null,
   "id": "070e3bf3",
   "metadata": {},
   "outputs": [],
   "source": [
    "gi = 0.3 # groth_intensity\n",
    "\n",
    "inm = 15 # init mass\n",
    "pc = 6 # predator consumption"
   ]
  },
  {
   "cell_type": "markdown",
   "id": "f609a0dd",
   "metadata": {},
   "source": [
    "### Построить математические модели для решения задачи в виде:"
   ]
  },
  {
   "cell_type": "markdown",
   "id": "6b42cf11",
   "metadata": {},
   "source": [
    "###### (a) Обыкновенное дифференциальное уравнение"
   ]
  },
  {
   "cell_type": "code",
   "execution_count": null,
   "id": "9fffafb1",
   "metadata": {},
   "outputs": [],
   "source": []
  },
  {
   "cell_type": "markdown",
   "id": "4075aa8d",
   "metadata": {},
   "source": [
    "###### (б) Разностное уравнение"
   ]
  },
  {
   "cell_type": "code",
   "execution_count": null,
   "id": "16775233",
   "metadata": {},
   "outputs": [],
   "source": [
    "periods = 4"
   ]
  },
  {
   "cell_type": "code",
   "execution_count": null,
   "id": "c60452d1",
   "metadata": {},
   "outputs": [],
   "source": [
    "def process(ind_number_begin, periods_left, period_count=1):\n",
    "    periods_left -= 1\n",
    "    \n",
    "    increment = ind_number_begin*process.gi if ind_number_begin > 0 else 0\n",
    "    loss = - process.pc if ind_number_begin > 0 else 0\n",
    "    ind_number_end = ind_number_begin + increment + loss\n",
    "    \n",
    "    process.record = process.record.append({\n",
    "        'День': period_count,\n",
    "        'Количество биомассы на начало года (кг)': ind_number_begin,\n",
    "        'Прирост': increment,\n",
    "        'Убыток': loss,\n",
    "        'Количество биомассы на конец года (кг)': ind_number_end\n",
    "    }, ignore_index=True)\n",
    "    \n",
    "    \n",
    "    if periods_left == 0:\n",
    "        return  process.record\n",
    "    else:\n",
    "        return process(ind_number_end, periods_left, period_count+1)\n",
    "    \n",
    "process.gi = gi\n",
    "process.pc = pc\n",
    "process.record = pd.DataFrame(columns = ['День', \n",
    "                                         'Количество биомассы на начало года (кг)', \n",
    "                                         'Прирост',\n",
    "                                         'Убыток',\n",
    "                                         'Количество биомассы на конец года (кг)'])"
   ]
  },
  {
   "cell_type": "code",
   "execution_count": null,
   "id": "c99ab0b1",
   "metadata": {},
   "outputs": [],
   "source": [
    "record = process(inm, periods)\n",
    "record"
   ]
  },
  {
   "cell_type": "code",
   "execution_count": null,
   "id": "aceb1b00",
   "metadata": {},
   "outputs": [],
   "source": [
    "fig = go.Figure(data=[\n",
    "    go.Bar(name='Популяция', x=record['День'], y=record['Количество биомассы на начало года (кг)'], marker_color='#5DADE2'),\n",
    "    go.Bar(name='Прирост', x=record['День'], y=record['Прирост'], marker_color='#1ABC9C'),\n",
    "    go.Bar(name='Убыток', x=record['День'], y=record['Убыток'], marker_color='#E74C3C')\n",
    "])\n",
    "\n",
    "fig.update_layout(barmode='relative')\n",
    "fig.show()"
   ]
  },
  {
   "cell_type": "markdown",
   "id": "49be7cbf",
   "metadata": {},
   "source": [
    "###### (в) Разностное уравнение с половинным шагом"
   ]
  },
  {
   "cell_type": "code",
   "execution_count": null,
   "id": "83d84789",
   "metadata": {},
   "outputs": [],
   "source": [
    "m = 2\n",
    "periods = 4"
   ]
  },
  {
   "cell_type": "code",
   "execution_count": null,
   "id": "d1e7e5ba",
   "metadata": {},
   "outputs": [],
   "source": [
    "def process(ind_number_begin, periods_left, period_count=1):\n",
    "    periods_left -= 1\n",
    "    \n",
    "    increment = ind_number_begin*process.gi if ind_number_begin > 0 else 0\n",
    "    loss = - process.pc \n",
    "    ind_number_end = ind_number_begin + increment + loss\n",
    "    \n",
    "    process.record = process.record.append({\n",
    "        'День': period_count,\n",
    "        'Количество биомассы на начало года (кг)': ind_number_begin,\n",
    "        'Прирост': increment,\n",
    "        'Убыток': loss,\n",
    "        'Количество биомассы на конец года (кг)': ind_number_end\n",
    "    }, ignore_index=True)\n",
    "    \n",
    "    \n",
    "    if periods_left == 0:\n",
    "        return  process.record\n",
    "    else:\n",
    "        return process(ind_number_end, periods_left, period_count+1)\n",
    "    \n",
    "process.gi = gi/m\n",
    "process.pc = pc\n",
    "process.record = pd.DataFrame(columns = ['День', \n",
    "                                         'Количество биомассы на начало года (кг)', \n",
    "                                         'Прирост',\n",
    "                                         'Убыток',\n",
    "                                         'Количество биомассы на конец года (кг)'])"
   ]
  },
  {
   "cell_type": "code",
   "execution_count": null,
   "id": "58918ddf",
   "metadata": {},
   "outputs": [],
   "source": [
    "record = process(inm, periods*m)\n",
    "record"
   ]
  },
  {
   "cell_type": "code",
   "execution_count": null,
   "id": "dbef5c7a",
   "metadata": {},
   "outputs": [],
   "source": [
    "fig = go.Figure(data=[\n",
    "    go.Bar(name='Популяция', x=record['День'], y=record['Количество биомассы на начало года (кг)'], marker_color='#5DADE2'),\n",
    "    go.Bar(name='Прирост', x=record['День'], y=record['Прирост'], marker_color='#1ABC9C'),\n",
    "    go.Bar(name='Убыток', x=record['День'], y=record['Убыток'], marker_color='#E74C3C')\n",
    "])\n",
    "\n",
    "fig.update_layout(barmode='relative')\n",
    "fig.show()"
   ]
  },
  {
   "cell_type": "code",
   "execution_count": null,
   "id": "055cdbc1",
   "metadata": {},
   "outputs": [],
   "source": []
  }
 ],
 "metadata": {
  "kernelspec": {
   "display_name": "venv",
   "language": "python",
   "name": "venv"
  },
  "language_info": {
   "codemirror_mode": {
    "name": "ipython",
    "version": 3
   },
   "file_extension": ".py",
   "mimetype": "text/x-python",
   "name": "python",
   "nbconvert_exporter": "python",
   "pygments_lexer": "ipython3",
   "version": "3.9.7"
  }
 },
 "nbformat": 4,
 "nbformat_minor": 5
}
