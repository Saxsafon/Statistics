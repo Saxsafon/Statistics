{
 "cells": [
  {
   "cell_type": "code",
   "execution_count": null,
   "id": "ebe45294",
   "metadata": {},
   "outputs": [],
   "source": [
    "import pandas as pd\n",
    "import numpy as np\n",
    "from scipy import stats\n",
    "from sklearn.linear_model import LinearRegression\n",
    "\n",
    "import plotly.express as px\n",
    "from plotly.subplots import make_subplots\n",
    "import plotly.graph_objects as go"
   ]
  },
  {
   "cell_type": "code",
   "execution_count": null,
   "id": "a0fe954d",
   "metadata": {},
   "outputs": [],
   "source": [
    "X_list = [1,2,3,4,5,6,7,8,9,10]\n",
    "Y_list = [10, 34, 46, 55, 61, 76, 84, 99, 103, 110]"
   ]
  },
  {
   "cell_type": "markdown",
   "id": "07d098df",
   "metadata": {},
   "source": [
    "### 1.   Построить облако точек для переменных X и Y. Найти значения коэффициентов корреляции по Пирсону и по Спирмену между указанными переменными."
   ]
  },
  {
   "cell_type": "code",
   "execution_count": null,
   "id": "1aae50d9",
   "metadata": {},
   "outputs": [],
   "source": [
    "print(f\"Коэффициент корреляции по Пирсону: {stats.pearsonr(X_list, Y_list)}\", end='\\n \\n')\n",
    "print(f\"Коэффициент корреляции по Спирмену: {stats.spearmanr(X_list, Y_list)}\")"
   ]
  },
  {
   "cell_type": "code",
   "execution_count": null,
   "id": "bda60b3f",
   "metadata": {},
   "outputs": [],
   "source": [
    "fig = px.scatter(x=X, y=Y)\n",
    "fig.show()"
   ]
  },
  {
   "cell_type": "markdown",
   "id": "37814d16",
   "metadata": {},
   "source": [
    "### 2. Построить линейную регрессию Y=f(X) для приведенных ранее выборок, нарисовать её график и привести формулу. Посчитать коэффициент детерминации R2."
   ]
  },
  {
   "cell_type": "code",
   "execution_count": null,
   "id": "8d3577e1",
   "metadata": {},
   "outputs": [],
   "source": [
    "X_reshape = np.array(X_list).reshape(-1, 1)\n",
    "Y_reshape = np.array(Y_list).reshape(-1, 1)\n",
    "reg = LinearRegression().fit(X_reshape, Y_reshape)\n",
    "print(f\"Коэффициенты: {reg.coef_}\")\n",
    "print(f\"Смещение: {reg.intercept_}\")"
   ]
  },
  {
   "cell_type": "markdown",
   "id": "42c3098c",
   "metadata": {},
   "source": [
    "$ y = 10.6x + 9.46 $"
   ]
  },
  {
   "cell_type": "code",
   "execution_count": null,
   "id": "72f23fcf",
   "metadata": {},
   "outputs": [],
   "source": [
    "Predict_reshape = reg.predict(X_reshape)\n",
    "Predict_list = sum(predict_reshape.tolist(), [])"
   ]
  },
  {
   "cell_type": "code",
   "execution_count": null,
   "id": "acb9ac27",
   "metadata": {},
   "outputs": [],
   "source": [
    "fig = go.Figure(data=[\n",
    "    go.Scatter(name='Облако точек', x=X_list, y=Y_list, mode='markers'),\n",
    "    go.Scatter(name='Регрессия', x=X_list, y=Predict_list, marker_color='#E74C3C')\n",
    "])\n",
    "\n",
    "fig.show()"
   ]
  },
  {
   "cell_type": "code",
   "execution_count": null,
   "id": "be8ec8ef",
   "metadata": {},
   "outputs": [],
   "source": [
    "print(f\"Коэффициент детерминации (R-square): {reg.score(X_reshape, Y_reshape)}\")"
   ]
  },
  {
   "cell_type": "code",
   "execution_count": null,
   "id": "59851e14",
   "metadata": {},
   "outputs": [],
   "source": []
  }
 ],
 "metadata": {
  "kernelspec": {
   "display_name": "venv",
   "language": "python",
   "name": "venv"
  },
  "language_info": {
   "codemirror_mode": {
    "name": "ipython",
    "version": 3
   },
   "file_extension": ".py",
   "mimetype": "text/x-python",
   "name": "python",
   "nbconvert_exporter": "python",
   "pygments_lexer": "ipython3",
   "version": "3.9.7"
  }
 },
 "nbformat": 4,
 "nbformat_minor": 5
}
