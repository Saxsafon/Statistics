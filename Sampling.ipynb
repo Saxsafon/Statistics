{
 "cells": [
  {
   "cell_type": "markdown",
   "metadata": {},
   "source": [
    "# Настройка ноутбука"
   ]
  },
  {
   "cell_type": "code",
   "execution_count": 1,
   "metadata": {},
   "outputs": [],
   "source": [
    "import pandas as pd\n",
    "import numpy as np\n",
    "import datetime as dt\n",
    "\n",
    "import random\n",
    "import scipy.stats as st\n",
    "\n",
    "import seaborn as sns\n",
    "import matplotlib.pyplot as plt\n",
    "%matplotlib inline"
   ]
  },
  {
   "cell_type": "code",
   "execution_count": 2,
   "metadata": {},
   "outputs": [],
   "source": [
    "import warnings\n",
    "warnings.filterwarnings('ignore')"
   ]
  },
  {
   "cell_type": "code",
   "execution_count": 3,
   "metadata": {},
   "outputs": [
    {
     "data": {
      "text/html": [
       "<style>.container { width:100% !important; }</style>"
      ],
      "text/plain": [
       "<IPython.core.display.HTML object>"
      ]
     },
     "metadata": {},
     "output_type": "display_data"
    }
   ],
   "source": [
    "# Расширить рабочее поле ноутбука на весь экран\n",
    "from IPython.display import display, HTML\n",
    "display(HTML(\"<style>.container { width:100% !important; }</style>\"))"
   ]
  },
  {
   "cell_type": "markdown",
   "metadata": {},
   "source": [
    "# Описание"
   ]
  },
  {
   "cell_type": "markdown",
   "metadata": {},
   "source": [
    "Ноутбук представляет практики формирования репрезентативной выборки для исследовонания некоторой генеральной совокумности."
   ]
  },
  {
   "cell_type": "markdown",
   "metadata": {},
   "source": [
    "**Курс:**\n",
    "- [Stepik: Основы статистики ч.1 - Генеральная совокупность и выборка](https://stepik.org/lesson/8074?unit=1354)\n",
    "\n",
    "**Видео:**\n",
    "- [StatQuest: Sampling from a Distribution, Clearly Explained!!!](https://www.youtube.com/watch?v=XLCWeSVzHUU)\n",
    "- [StatQuest: Sample Size and Effective Sample Size, Clearly Explained!!!](https://www.youtube.com/watch?v=67zCIqdeXpo)\n",
    "\n",
    "**Статьи:**\n",
    "- [Medium: Mastering Random Sampling in Python](https://towardsdatascience.com/mastering-random-sampling-in-python-ac2df84b7d3f)"
   ]
  },
  {
   "cell_type": "markdown",
   "metadata": {},
   "source": [
    "# Отдельные наблюдения и выборка событий"
   ]
  },
  {
   "cell_type": "markdown",
   "metadata": {},
   "source": [
    "Значительная часть нашего жизненного опыта базируется на отдельных наблюдениях (anecdotal evidence). Если ммы прикоснулись к горячей сковородке и обожглись, то мы, опираясь на этот единственный случай, приходим к выводу, что горячие сковородки обжигают и всегда будут обжигать и их лучше не трогать. В подобных примерах можно обойтись без статистического анализа.Многие события всегда происходят одинаково (по крайней мере в пределах наблюдаемой вселенной). В статистике про такие события говорят, что они *репрезентативны для распределения событий*.\n",
    "\n",
    "Однако в жизни часто случаются ситуации, исход которых зависит от множества скрытых факторов. Природа этих процессов не ясна, а потому их исходы сложно предсказать. Если гладить собаку, она может укусить, однако это не значит, что все сабаки всегда кусаются. В подобных ситуациях мы вынуждены принимать решение основываясь ни на одном, а на множестве наблюдений. Тоесть некоторой выборке исходов события."
   ]
  },
  {
   "cell_type": "markdown",
   "metadata": {},
   "source": [
    "# Репрезентативность"
   ]
  },
  {
   "cell_type": "markdown",
   "metadata": {},
   "source": [
    "Есть события, которые всегда происходят одинаково. Если отпустить что-то тяжелое, оно непременно упадет. Это неизменно, если вы находитесь на Земле. Как событие произошло в первый раз, так оно и будет происходить всегда. В статистике про такие события говорят, что они *репрезентативны для распределения событий*. — \"Цифры врут\", Том Чиверс, Девид Чиверс"
   ]
  },
  {
   "cell_type": "markdown",
   "metadata": {},
   "source": [
    "Чем больше выборка, тем меньше вероятность, что случайные вариации повлияют на результат. Вопрос: сколько нужно сделать измерений для надежной оценки? Ответ: бывает по-разному.\n",
    "\n",
    "Это зависит от множества фактором, но один из самых главных - величина изучаемого эффекта. Чем она меньше, тем больше измерений нужно сделать — по-научному, тем большая \"статистическая мощьность\" требуется. Если вдуматься, это совершенно очевидно. Для ответа на вопрос \"Вреден ли для здоровья выстрел в голову?\" не нужна выборка из десяти тысяч человек. — \"Цифры врут\", Том Чиверс, Девид Чиверс"
   ]
  },
  {
   "cell_type": "markdown",
   "metadata": {
    "heading_collapsed": true
   },
   "source": [
    "## Методы формирования выборки"
   ]
  },
  {
   "cell_type": "markdown",
   "metadata": {
    "heading_collapsed": true,
    "hidden": true
   },
   "source": [
    "### Простая случайная выборка (simple random sample)"
   ]
  },
  {
   "cell_type": "markdown",
   "metadata": {
    "hidden": true
   },
   "source": [
    "Случайным образом выбираем примеры из генеральной совокупности."
   ]
  },
  {
   "cell_type": "markdown",
   "metadata": {
    "heading_collapsed": true,
    "hidden": true
   },
   "source": [
    "### Стратифицированная выборка (stratified sample)"
   ]
  },
  {
   "cell_type": "markdown",
   "metadata": {
    "hidden": true
   },
   "source": [
    "Перед тем как выбирать случайные примеры из генеральной совокупности, разобьем ее на несколько различной по своей природе страт (груп). Тоесть, чтобы составить репрезентативную выборку генеральной совокупности, вначале мы должны разобраться в ее устройстве.\n",
    "\n",
    "Пример: При тестировании припарата разделим испытуемых на страты в соответствии с полом и группой крови."
   ]
  },
  {
   "cell_type": "markdown",
   "metadata": {
    "hidden": true
   },
   "source": [
    "### Групповая выборка (cluster sample)"
   ]
  },
  {
   "cell_type": "markdown",
   "metadata": {
    "hidden": true
   },
   "source": [
    "Перед тем как выбирать случайныем примеры из генеральной совокупности, разобьем ее на несколько похожих друг на друга кластеров. Обычно такой метод используется, чтобы сэкономить ресурсы при сборе данных.\n",
    "\n",
    "Пример: мы хотим собрать отзывы учителей о новой образовательной программе, которая вводится одновременно во всех школах. Мы можем опросить по одному учителю из каждой школы, но это затратно. А можем опросить несколько учетелей в пределах одной школы, при этом сократив количества школ, в которых будет проводиться опрос. "
   ]
  },
  {
   "cell_type": "markdown",
   "metadata": {},
   "source": [
    "# Несмещенность"
   ]
  },
  {
   "cell_type": "markdown",
   "metadata": {},
   "source": [
    "Вред от смещенных выборок отличается от вреда маленьких. При выборе небольших групп случайным образом вы, по крайней мере, при увеличении размеров выборки приближаетесь к точному результату. А при смещенных выборках этого не происходит — будет расти лишь ваша уверенность в неверном результате. — \"Цифры врут\", Том Чиверс, Девид Чиверс"
   ]
  },
  {
   "cell_type": "markdown",
   "metadata": {},
   "source": [
    "# Инструменты для формирования выборки"
   ]
  },
  {
   "cell_type": "code",
   "execution_count": 4,
   "metadata": {},
   "outputs": [],
   "source": [
    "mu = 3 # mean value - среднее значение\n",
    "sigma = 2 # standart deviation - стандартное отклонение\n",
    "\n",
    "# Сгенерим нашу генеральную совокупность\n",
    "genpop = pd.Series(np.random.normal(mu, sigma, 10_000))"
   ]
  },
  {
   "cell_type": "markdown",
   "metadata": {},
   "source": [
    "#### Series.sample()"
   ]
  },
  {
   "cell_type": "code",
   "execution_count": 6,
   "metadata": {},
   "outputs": [
    {
     "data": {
      "text/plain": [
       "3.0800633777714443"
      ]
     },
     "execution_count": 6,
     "metadata": {},
     "output_type": "execute_result"
    }
   ],
   "source": [
    "sample = genpop.sample(n=300, random_state=1)\n",
    "sample.mean()"
   ]
  },
  {
   "cell_type": "markdown",
   "metadata": {},
   "source": [
    "#### random.sample"
   ]
  },
  {
   "cell_type": "code",
   "execution_count": 13,
   "metadata": {},
   "outputs": [
    {
     "data": {
      "text/plain": [
       "3.196529092030862"
      ]
     },
     "execution_count": 13,
     "metadata": {},
     "output_type": "execute_result"
    }
   ],
   "source": [
    "sample = random.sample(genpop.tolist(), 300)\n",
    "np.mean(sample)"
   ]
  },
  {
   "cell_type": "markdown",
   "metadata": {},
   "source": [
    "#### random.choices"
   ]
  },
  {
   "cell_type": "code",
   "execution_count": 15,
   "metadata": {},
   "outputs": [
    {
     "data": {
      "text/plain": [
       "3.1119963536376916"
      ]
     },
     "execution_count": 15,
     "metadata": {},
     "output_type": "execute_result"
    }
   ],
   "source": [
    "sample = random.choices(genpop.tolist(), k=300)\n",
    "np.mean(sample)"
   ]
  }
 ],
 "metadata": {
  "hide_input": false,
  "kernelspec": {
   "display_name": "venv",
   "language": "python",
   "name": "venv"
  },
  "language_info": {
   "codemirror_mode": {
    "name": "ipython",
    "version": 3
   },
   "file_extension": ".py",
   "mimetype": "text/x-python",
   "name": "python",
   "nbconvert_exporter": "python",
   "pygments_lexer": "ipython3",
   "version": "3.7.3"
  },
  "toc": {
   "base_numbering": 1,
   "nav_menu": {},
   "number_sections": true,
   "sideBar": true,
   "skip_h1_title": false,
   "title_cell": "Table of Contents",
   "title_sidebar": "Contents",
   "toc_cell": false,
   "toc_position": {},
   "toc_section_display": true,
   "toc_window_display": false
  }
 },
 "nbformat": 4,
 "nbformat_minor": 5
}
